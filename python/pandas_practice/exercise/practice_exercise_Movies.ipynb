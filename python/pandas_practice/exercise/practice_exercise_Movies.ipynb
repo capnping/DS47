{
 "cells": [
  {
   "cell_type": "markdown",
   "metadata": {},
   "source": [
    "## Practice Exercise 2"
   ]
  },
  {
   "cell_type": "markdown",
   "metadata": {},
   "source": [
    "In this assignment, you will try to find some interesting insights into a few movies released between 1916 and 2016, using Python. You will have to download a movie dataset, write Python code to explore the data, gain insights into the movies, actors, directors, and collections, and submit the code."
   ]
  },
  {
   "cell_type": "markdown",
   "metadata": {},
   "source": [
    "#### Some tips before starting the assignment\n",
    "\n",
    "1. Identify the task to be performed correctly, and only then proceed to write the required code. Don’t perform any incorrect analysis or look for information that isn’t required for the assignment.\n",
    "2. In some cases, the variable names have already been assigned, and you just need to write code against them. In other cases, the names to be given are mentioned in the instructions. We strongly advise you to use the mentioned names only.\n",
    "3. Always keep inspecting your data frame after you have performed a particular set of operations.\n",
    "4. There are some checkpoints given in the IPython notebook provided. They're just useful pieces of information you can use to check if the result you have obtained after performing a particular task is correct or not.\n",
    "5. Note that you will be asked to refer to documentation for solving some of the questions. That is done on purpose for you to learn new commands and also how to use the documentation."
   ]
  },
  {
   "cell_type": "code",
   "execution_count": 33,
   "metadata": {},
   "outputs": [],
   "source": [
    "# Import the numpy and pandas packages\n",
    "\n",
    "import numpy as np\n",
    "import pandas as pd"
   ]
  },
  {
   "cell_type": "markdown",
   "metadata": {},
   "source": [
    "### Task 1: Reading and Inspection\n",
    "\n",
    "**Subtask 1.1: Import and read**\n",
    "\n",
    "Import and read the movie database. Store it in a variable called `movies`."
   ]
  },
  {
   "cell_type": "code",
   "execution_count": 34,
   "metadata": {},
   "outputs": [
    {
     "data": {
      "text/plain": [
       "array([   0,    1,    2, ..., 3850, 3851, 3852], dtype=int64)"
      ]
     },
     "execution_count": 34,
     "metadata": {},
     "output_type": "execute_result"
    }
   ],
   "source": [
    "# Write your code for importing the csv file here\n",
    "movies = pd.read_csv('Movies.csv')\n",
    "movies.index.values"
   ]
  },
  {
   "cell_type": "markdown",
   "metadata": {},
   "source": [
    "**Subtask 1.2: Inspect the dataframe**\n",
    "\n",
    "Inspect the dataframe's columns, shapes, variable types etc."
   ]
  },
  {
   "cell_type": "code",
   "execution_count": 21,
   "metadata": {},
   "outputs": [],
   "source": [
    "# Write your code for inspection here\n"
   ]
  },
  {
   "cell_type": "markdown",
   "metadata": {},
   "source": [
    "#### <font color='red'>Question 1: How many rows and columns are present in the dataframe? </font>\n",
    "-  <font color='red'>(3821, 26)</font>\n",
    "-  <font color='red'>(3879, 28)</font>\n",
    "-  <font color='red'>(3853, 28)</font>\n",
    "-  <font color='red'>(3866, 26)</font>"
   ]
  },
  {
   "cell_type": "code",
   "execution_count": 22,
   "metadata": {},
   "outputs": [
    {
     "name": "stdout",
     "output_type": "stream",
     "text": [
      "(3853, 28)\n"
     ]
    },
    {
     "name": "stderr",
     "output_type": "stream",
     "text": [
      "C:\\Users\\minak\\AppData\\Local\\Temp/ipykernel_18704/742967281.py:2: FutureWarning: Dropping of nuisance columns in DataFrame reductions (with 'numeric_only=None') is deprecated; in a future version this will raise TypeError.  Select only valid columns before calling the reduction.\n",
      "  movies.sum()\n"
     ]
    },
    {
     "data": {
      "text/plain": [
       "director_name                James CameronGore VerbinskiSam MendesChristoph...\n",
       "num_critic_for_reviews                                                628057.0\n",
       "duration                                                              423416.0\n",
       "director_facebook_likes                                              3022707.0\n",
       "actor_3_facebook_likes                                               2874825.0\n",
       "actor_1_facebook_likes                                              29188627.0\n",
       "gross                                                           196369968193.0\n",
       "genres                       Action|Adventure|Fantasy|Sci-FiAction|Adventur...\n",
       "actor_1_name                 CCH PounderJohnny DeppChristoph WaltzTom Hardy...\n",
       "movie_title                  Avatar Pirates of the Caribbean: At World's En...\n",
       "num_voted_users                                                      394639691\n",
       "cast_total_facebook_likes                                             43305717\n",
       "facenumber_in_poster                                                    5302.0\n",
       "movie_imdb_link              http://www.imdb.com/title/tt0499549/?ref_=fn_t...\n",
       "num_user_for_reviews                                                 1258854.0\n",
       "country                      USAUSAUKUSAUSAUSAUSAUSAUKUSAUSAUKUSAUSAUSAUSAU...\n",
       "budget                                                          174341182781.0\n",
       "title_year                                                           7717796.0\n",
       "actor_2_facebook_likes                                               7546139.0\n",
       "imdb_score                                                             24901.5\n",
       "aspect_ratio                                                           7976.28\n",
       "movie_facebook_likes                                                  35022021\n",
       "dtype: object"
      ]
     },
     "execution_count": 22,
     "metadata": {},
     "output_type": "execute_result"
    }
   ],
   "source": [
    "print(movies.shape)\n",
    "movies.sum()"
   ]
  },
  {
   "cell_type": "markdown",
   "metadata": {},
   "source": [
    "#### <font color='red'>Question 2: How many columns have null values present in them? Try writing a code for this instead of counting them manually.</font>\n",
    "\n",
    "-  <font color='red'>3</font>\n",
    "-  <font color='red'>6</font>\n",
    "-  <font color='red'>9</font>\n",
    "-  <font color='red'>12</font>"
   ]
  },
  {
   "cell_type": "code",
   "execution_count": 36,
   "metadata": {},
   "outputs": [
    {
     "data": {
      "text/plain": [
       "12"
      ]
     },
     "execution_count": 36,
     "metadata": {},
     "output_type": "execute_result"
    }
   ],
   "source": [
    "(movies.isna().sum()>0).sum()"
   ]
  },
  {
   "cell_type": "markdown",
   "metadata": {},
   "source": [
    "### Task 2: Cleaning the Data\n",
    "\n",
    "**Subtask 2.1: Drop unecessary columns**\n",
    "\n",
    "For this assignment, you will mostly be analyzing the movies with respect to the ratings, gross collection, popularity of movies, etc. So many of the columns in this dataframe are not required. So it is advised to drop the following columns.\n",
    "-  color\n",
    "-  director_facebook_likes\n",
    "-  actor_1_facebook_likes\n",
    "-  actor_2_facebook_likes\n",
    "-  actor_3_facebook_likes\n",
    "-  actor_2_name\n",
    "-  cast_total_facebook_likes\n",
    "-  actor_3_name\n",
    "-  duration\n",
    "-  facenumber_in_poster\n",
    "-  content_rating\n",
    "-  country\n",
    "-  movie_imdb_link\n",
    "-  aspect_ratio\n",
    "-  plot_keywords"
   ]
  },
  {
   "cell_type": "code",
   "execution_count": 38,
   "metadata": {},
   "outputs": [],
   "source": [
    "# Check the 'drop' function in the Pandas library - dataframe.drop(list_of_unnecessary_columns, axis = )\n",
    "# Write your code for dropping the columns here. It is advised to keep inspecting the dataframe after each set of operations\n",
    "\n",
    "movies.drop(['color','director_facebook_likes','actor_1_facebook_likes','actor_2_facebook_likes','actor_3_facebook_likes','actor_2_name','cast_total_facebook_likes','actor_3_name','duration','facenumber_in_poster','content_rating','country','movie_imdb_link','aspect_ratio','plot_keywords'], axis=1, inplace=True)"
   ]
  },
  {
   "cell_type": "code",
   "execution_count": 39,
   "metadata": {},
   "outputs": [
    {
     "data": {
      "text/plain": [
       "13"
      ]
     },
     "execution_count": 39,
     "metadata": {},
     "output_type": "execute_result"
    }
   ],
   "source": [
    "movies.columns.size"
   ]
  },
  {
   "cell_type": "markdown",
   "metadata": {},
   "source": [
    "#### <font color='red'>Question 3: What is the count of columns in the new dataframe? </font>\n",
    "-  <font color='red'>10</font>\n",
    "-  <font color='red'>13</font>\n",
    "-  <font color='red'>15</font>\n",
    "-  <font color='red'>17</font>"
   ]
  },
  {
   "cell_type": "markdown",
   "metadata": {},
   "source": [
    "**Subtask 2.2: Inspect Null values**\n",
    "\n",
    "As you have seen above, there are null values in multiple columns of the dataframe 'movies'. Find out the percentage of null values in each column of the dataframe 'movies'. "
   ]
  },
  {
   "cell_type": "code",
   "execution_count": 40,
   "metadata": {},
   "outputs": [
    {
     "data": {
      "text/plain": [
       "director_name             0\n",
       "num_critic_for_reviews    1\n",
       "gross                     0\n",
       "genres                    0\n",
       "actor_1_name              0\n",
       "movie_title               0\n",
       "num_voted_users           0\n",
       "num_user_for_reviews      0\n",
       "language                  3\n",
       "budget                    0\n",
       "title_year                0\n",
       "imdb_score                0\n",
       "movie_facebook_likes      0\n",
       "dtype: int64"
      ]
     },
     "execution_count": 40,
     "metadata": {},
     "output_type": "execute_result"
    }
   ],
   "source": [
    "# Write you code here\n",
    "movies.isna().sum()"
   ]
  },
  {
   "cell_type": "markdown",
   "metadata": {},
   "source": [
    "#### <font color='red'>Question 4: Which column has the highest percentage of null values? </font>\n",
    "-  <font color='red'>language</font>\n",
    "-  <font color='red'>genres</font>\n",
    "-  <font color='red'>num_critic_for_reviews</font>\n",
    "-  <font color='red'>imdb_score</font>"
   ]
  },
  {
   "cell_type": "markdown",
   "metadata": {},
   "source": [
    "**Subtask 2.3: Fill NaN values**\n",
    "\n",
    "You might notice that the `language` column has some NaN values. Here, on inspection, you will see that it is safe to replace all the missing values with `'English'`."
   ]
  },
  {
   "cell_type": "code",
   "execution_count": 41,
   "metadata": {},
   "outputs": [],
   "source": [
    "# Write your code for filling the NaN values in the 'language' column here\n",
    "movies['language'] = movies['language'].fillna('English')"
   ]
  },
  {
   "cell_type": "code",
   "execution_count": 42,
   "metadata": {},
   "outputs": [
    {
     "data": {
      "text/plain": [
       "3674"
      ]
     },
     "execution_count": 42,
     "metadata": {},
     "output_type": "execute_result"
    }
   ],
   "source": [
    "(movies['language'] == 'English').sum()"
   ]
  },
  {
   "cell_type": "markdown",
   "metadata": {},
   "source": [
    "#### <font color='red'>Question 5: What is the count of movies made in English language after replacing the NaN values with English? </font>\n",
    "-  <font color='red'>3670</font>\n",
    "-  <font color='red'>3674</font>\n",
    "-  <font color='red'>3668</font>\n",
    "-  <font color='red'>3672</font>"
   ]
  },
  {
   "cell_type": "markdown",
   "metadata": {},
   "source": [
    "### Task 3: Data Analysis\n",
    "\n",
    "**Subtask 3.1: Change the unit of columns**\n",
    "\n",
    "Convert the unit of the `budget` and `gross` columns from `$` to `million $`."
   ]
  },
  {
   "cell_type": "code",
   "execution_count": 43,
   "metadata": {},
   "outputs": [
    {
     "data": {
      "text/html": [
       "<div>\n",
       "<style scoped>\n",
       "    .dataframe tbody tr th:only-of-type {\n",
       "        vertical-align: middle;\n",
       "    }\n",
       "\n",
       "    .dataframe tbody tr th {\n",
       "        vertical-align: top;\n",
       "    }\n",
       "\n",
       "    .dataframe thead th {\n",
       "        text-align: right;\n",
       "    }\n",
       "</style>\n",
       "<table border=\"1\" class=\"dataframe\">\n",
       "  <thead>\n",
       "    <tr style=\"text-align: right;\">\n",
       "      <th></th>\n",
       "      <th>budget</th>\n",
       "      <th>gross</th>\n",
       "    </tr>\n",
       "  </thead>\n",
       "  <tbody>\n",
       "    <tr>\n",
       "      <th>0</th>\n",
       "      <td>237.0000</td>\n",
       "      <td>760.505847</td>\n",
       "    </tr>\n",
       "    <tr>\n",
       "      <th>1</th>\n",
       "      <td>300.0000</td>\n",
       "      <td>309.404152</td>\n",
       "    </tr>\n",
       "    <tr>\n",
       "      <th>2</th>\n",
       "      <td>245.0000</td>\n",
       "      <td>200.074175</td>\n",
       "    </tr>\n",
       "    <tr>\n",
       "      <th>3</th>\n",
       "      <td>250.0000</td>\n",
       "      <td>448.130642</td>\n",
       "    </tr>\n",
       "    <tr>\n",
       "      <th>4</th>\n",
       "      <td>263.7000</td>\n",
       "      <td>73.058679</td>\n",
       "    </tr>\n",
       "    <tr>\n",
       "      <th>...</th>\n",
       "      <td>...</td>\n",
       "      <td>...</td>\n",
       "    </tr>\n",
       "    <tr>\n",
       "      <th>3848</th>\n",
       "      <td>0.0070</td>\n",
       "      <td>0.424760</td>\n",
       "    </tr>\n",
       "    <tr>\n",
       "      <th>3849</th>\n",
       "      <td>0.0070</td>\n",
       "      <td>0.070071</td>\n",
       "    </tr>\n",
       "    <tr>\n",
       "      <th>3850</th>\n",
       "      <td>0.0070</td>\n",
       "      <td>2.040920</td>\n",
       "    </tr>\n",
       "    <tr>\n",
       "      <th>3851</th>\n",
       "      <td>0.0090</td>\n",
       "      <td>0.004584</td>\n",
       "    </tr>\n",
       "    <tr>\n",
       "      <th>3852</th>\n",
       "      <td>0.0011</td>\n",
       "      <td>0.085222</td>\n",
       "    </tr>\n",
       "  </tbody>\n",
       "</table>\n",
       "<p>3853 rows × 2 columns</p>\n",
       "</div>"
      ],
      "text/plain": [
       "        budget       gross\n",
       "0     237.0000  760.505847\n",
       "1     300.0000  309.404152\n",
       "2     245.0000  200.074175\n",
       "3     250.0000  448.130642\n",
       "4     263.7000   73.058679\n",
       "...        ...         ...\n",
       "3848    0.0070    0.424760\n",
       "3849    0.0070    0.070071\n",
       "3850    0.0070    2.040920\n",
       "3851    0.0090    0.004584\n",
       "3852    0.0011    0.085222\n",
       "\n",
       "[3853 rows x 2 columns]"
      ]
     },
     "execution_count": 43,
     "metadata": {},
     "output_type": "execute_result"
    }
   ],
   "source": [
    "# Write your code for unit conversion here\n",
    "movies['budget'] = movies['budget'] / 1000000\n",
    "movies['gross'] = movies['gross'] / 1000000\n",
    "movies[['budget', 'gross']]"
   ]
  },
  {
   "cell_type": "markdown",
   "metadata": {},
   "source": [
    "**Subtask 3.2: Find the movies with highest profit**\n",
    "\n",
    "   1. Create a new column called `profit` which contains the difference of the two columns: `gross` and `budget`.\n",
    "   2. Sort the dataframe using the `profit` column as reference. (Find which command can be used here to sort entries from the documentation)\n",
    "   3. Extract the top ten profiting movies in descending order and store them in a new dataframe - `top10`"
   ]
  },
  {
   "cell_type": "code",
   "execution_count": 44,
   "metadata": {},
   "outputs": [
    {
     "data": {
      "text/plain": [
       "0       523.505847\n",
       "1         9.404152\n",
       "2       -44.925825\n",
       "3       198.130642\n",
       "4      -190.641321\n",
       "           ...    \n",
       "3848      0.417760\n",
       "3849      0.063071\n",
       "3850      2.033920\n",
       "3851     -0.004416\n",
       "3852      0.084122\n",
       "Name: profit, Length: 3853, dtype: float64"
      ]
     },
     "execution_count": 44,
     "metadata": {},
     "output_type": "execute_result"
    }
   ],
   "source": [
    "# Write your code for creating the profit column here\n",
    "movies['profit'] = movies['gross'] - movies['budget']\n",
    "movies['profit']"
   ]
  },
  {
   "cell_type": "code",
   "execution_count": 45,
   "metadata": {},
   "outputs": [
    {
     "data": {
      "text/html": [
       "<div>\n",
       "<style scoped>\n",
       "    .dataframe tbody tr th:only-of-type {\n",
       "        vertical-align: middle;\n",
       "    }\n",
       "\n",
       "    .dataframe tbody tr th {\n",
       "        vertical-align: top;\n",
       "    }\n",
       "\n",
       "    .dataframe thead th {\n",
       "        text-align: right;\n",
       "    }\n",
       "</style>\n",
       "<table border=\"1\" class=\"dataframe\">\n",
       "  <thead>\n",
       "    <tr style=\"text-align: right;\">\n",
       "      <th></th>\n",
       "      <th>director_name</th>\n",
       "      <th>num_critic_for_reviews</th>\n",
       "      <th>gross</th>\n",
       "      <th>genres</th>\n",
       "      <th>actor_1_name</th>\n",
       "      <th>movie_title</th>\n",
       "      <th>num_voted_users</th>\n",
       "      <th>num_user_for_reviews</th>\n",
       "      <th>language</th>\n",
       "      <th>budget</th>\n",
       "      <th>title_year</th>\n",
       "      <th>imdb_score</th>\n",
       "      <th>movie_facebook_likes</th>\n",
       "      <th>profit</th>\n",
       "    </tr>\n",
       "  </thead>\n",
       "  <tbody>\n",
       "    <tr>\n",
       "      <th>0</th>\n",
       "      <td>James Cameron</td>\n",
       "      <td>723.0</td>\n",
       "      <td>760.505847</td>\n",
       "      <td>Action|Adventure|Fantasy|Sci-Fi</td>\n",
       "      <td>CCH Pounder</td>\n",
       "      <td>Avatar</td>\n",
       "      <td>886204</td>\n",
       "      <td>3054.0</td>\n",
       "      <td>English</td>\n",
       "      <td>237.0</td>\n",
       "      <td>2009.0</td>\n",
       "      <td>7.9</td>\n",
       "      <td>33000</td>\n",
       "      <td>523.505847</td>\n",
       "    </tr>\n",
       "    <tr>\n",
       "      <th>28</th>\n",
       "      <td>Colin Trevorrow</td>\n",
       "      <td>644.0</td>\n",
       "      <td>652.177271</td>\n",
       "      <td>Action|Adventure|Sci-Fi|Thriller</td>\n",
       "      <td>Bryce Dallas Howard</td>\n",
       "      <td>Jurassic World</td>\n",
       "      <td>418214</td>\n",
       "      <td>1290.0</td>\n",
       "      <td>English</td>\n",
       "      <td>150.0</td>\n",
       "      <td>2015.0</td>\n",
       "      <td>7.0</td>\n",
       "      <td>150000</td>\n",
       "      <td>502.177271</td>\n",
       "    </tr>\n",
       "    <tr>\n",
       "      <th>25</th>\n",
       "      <td>James Cameron</td>\n",
       "      <td>315.0</td>\n",
       "      <td>658.672302</td>\n",
       "      <td>Drama|Romance</td>\n",
       "      <td>Leonardo DiCaprio</td>\n",
       "      <td>Titanic</td>\n",
       "      <td>793059</td>\n",
       "      <td>2528.0</td>\n",
       "      <td>English</td>\n",
       "      <td>200.0</td>\n",
       "      <td>1997.0</td>\n",
       "      <td>7.7</td>\n",
       "      <td>26000</td>\n",
       "      <td>458.672302</td>\n",
       "    </tr>\n",
       "    <tr>\n",
       "      <th>2704</th>\n",
       "      <td>George Lucas</td>\n",
       "      <td>282.0</td>\n",
       "      <td>460.935665</td>\n",
       "      <td>Action|Adventure|Fantasy|Sci-Fi</td>\n",
       "      <td>Harrison Ford</td>\n",
       "      <td>Star Wars: Episode IV - A New Hope</td>\n",
       "      <td>911097</td>\n",
       "      <td>1470.0</td>\n",
       "      <td>English</td>\n",
       "      <td>11.0</td>\n",
       "      <td>1977.0</td>\n",
       "      <td>8.7</td>\n",
       "      <td>33000</td>\n",
       "      <td>449.935665</td>\n",
       "    </tr>\n",
       "    <tr>\n",
       "      <th>2748</th>\n",
       "      <td>Steven Spielberg</td>\n",
       "      <td>215.0</td>\n",
       "      <td>434.949459</td>\n",
       "      <td>Family|Sci-Fi</td>\n",
       "      <td>Henry Thomas</td>\n",
       "      <td>E.T. the Extra-Terrestrial</td>\n",
       "      <td>281842</td>\n",
       "      <td>515.0</td>\n",
       "      <td>English</td>\n",
       "      <td>10.5</td>\n",
       "      <td>1982.0</td>\n",
       "      <td>7.9</td>\n",
       "      <td>34000</td>\n",
       "      <td>424.449459</td>\n",
       "    </tr>\n",
       "    <tr>\n",
       "      <th>16</th>\n",
       "      <td>Joss Whedon</td>\n",
       "      <td>703.0</td>\n",
       "      <td>623.279547</td>\n",
       "      <td>Action|Adventure|Sci-Fi</td>\n",
       "      <td>Chris Hemsworth</td>\n",
       "      <td>The Avengers</td>\n",
       "      <td>995415</td>\n",
       "      <td>1722.0</td>\n",
       "      <td>English</td>\n",
       "      <td>220.0</td>\n",
       "      <td>2012.0</td>\n",
       "      <td>8.1</td>\n",
       "      <td>123000</td>\n",
       "      <td>403.279547</td>\n",
       "    </tr>\n",
       "    <tr>\n",
       "      <th>482</th>\n",
       "      <td>Roger Allers</td>\n",
       "      <td>186.0</td>\n",
       "      <td>422.783777</td>\n",
       "      <td>Adventure|Animation|Drama|Family|Musical</td>\n",
       "      <td>Matthew Broderick</td>\n",
       "      <td>The Lion King</td>\n",
       "      <td>644348</td>\n",
       "      <td>656.0</td>\n",
       "      <td>English</td>\n",
       "      <td>45.0</td>\n",
       "      <td>1994.0</td>\n",
       "      <td>8.5</td>\n",
       "      <td>17000</td>\n",
       "      <td>377.783777</td>\n",
       "    </tr>\n",
       "    <tr>\n",
       "      <th>230</th>\n",
       "      <td>George Lucas</td>\n",
       "      <td>320.0</td>\n",
       "      <td>474.544677</td>\n",
       "      <td>Action|Adventure|Fantasy|Sci-Fi</td>\n",
       "      <td>Natalie Portman</td>\n",
       "      <td>Star Wars: Episode I - The Phantom Menace</td>\n",
       "      <td>534658</td>\n",
       "      <td>3597.0</td>\n",
       "      <td>English</td>\n",
       "      <td>115.0</td>\n",
       "      <td>1999.0</td>\n",
       "      <td>6.5</td>\n",
       "      <td>13000</td>\n",
       "      <td>359.544677</td>\n",
       "    </tr>\n",
       "    <tr>\n",
       "      <th>64</th>\n",
       "      <td>Christopher Nolan</td>\n",
       "      <td>645.0</td>\n",
       "      <td>533.316061</td>\n",
       "      <td>Action|Crime|Drama|Thriller</td>\n",
       "      <td>Christian Bale</td>\n",
       "      <td>The Dark Knight</td>\n",
       "      <td>1676169</td>\n",
       "      <td>4667.0</td>\n",
       "      <td>English</td>\n",
       "      <td>185.0</td>\n",
       "      <td>2008.0</td>\n",
       "      <td>9.0</td>\n",
       "      <td>37000</td>\n",
       "      <td>348.316061</td>\n",
       "    </tr>\n",
       "    <tr>\n",
       "      <th>419</th>\n",
       "      <td>Gary Ross</td>\n",
       "      <td>673.0</td>\n",
       "      <td>407.999255</td>\n",
       "      <td>Adventure|Drama|Sci-Fi|Thriller</td>\n",
       "      <td>Jennifer Lawrence</td>\n",
       "      <td>The Hunger Games</td>\n",
       "      <td>701607</td>\n",
       "      <td>1959.0</td>\n",
       "      <td>English</td>\n",
       "      <td>78.0</td>\n",
       "      <td>2012.0</td>\n",
       "      <td>7.3</td>\n",
       "      <td>140000</td>\n",
       "      <td>329.999255</td>\n",
       "    </tr>\n",
       "  </tbody>\n",
       "</table>\n",
       "</div>"
      ],
      "text/plain": [
       "          director_name  num_critic_for_reviews       gross  \\\n",
       "0         James Cameron                   723.0  760.505847   \n",
       "28      Colin Trevorrow                   644.0  652.177271   \n",
       "25        James Cameron                   315.0  658.672302   \n",
       "2704       George Lucas                   282.0  460.935665   \n",
       "2748   Steven Spielberg                   215.0  434.949459   \n",
       "16          Joss Whedon                   703.0  623.279547   \n",
       "482        Roger Allers                   186.0  422.783777   \n",
       "230        George Lucas                   320.0  474.544677   \n",
       "64    Christopher Nolan                   645.0  533.316061   \n",
       "419           Gary Ross                   673.0  407.999255   \n",
       "\n",
       "                                        genres         actor_1_name  \\\n",
       "0              Action|Adventure|Fantasy|Sci-Fi          CCH Pounder   \n",
       "28            Action|Adventure|Sci-Fi|Thriller  Bryce Dallas Howard   \n",
       "25                               Drama|Romance    Leonardo DiCaprio   \n",
       "2704           Action|Adventure|Fantasy|Sci-Fi        Harrison Ford   \n",
       "2748                             Family|Sci-Fi         Henry Thomas   \n",
       "16                     Action|Adventure|Sci-Fi      Chris Hemsworth   \n",
       "482   Adventure|Animation|Drama|Family|Musical    Matthew Broderick   \n",
       "230            Action|Adventure|Fantasy|Sci-Fi      Natalie Portman   \n",
       "64                 Action|Crime|Drama|Thriller       Christian Bale   \n",
       "419            Adventure|Drama|Sci-Fi|Thriller    Jennifer Lawrence   \n",
       "\n",
       "                                     movie_title  num_voted_users  \\\n",
       "0                                        Avatar            886204   \n",
       "28                               Jurassic World            418214   \n",
       "25                                      Titanic            793059   \n",
       "2704         Star Wars: Episode IV - A New Hope            911097   \n",
       "2748                 E.T. the Extra-Terrestrial            281842   \n",
       "16                                 The Avengers            995415   \n",
       "482                               The Lion King            644348   \n",
       "230   Star Wars: Episode I - The Phantom Menace            534658   \n",
       "64                              The Dark Knight           1676169   \n",
       "419                            The Hunger Games            701607   \n",
       "\n",
       "      num_user_for_reviews language  budget  title_year  imdb_score  \\\n",
       "0                   3054.0  English   237.0      2009.0         7.9   \n",
       "28                  1290.0  English   150.0      2015.0         7.0   \n",
       "25                  2528.0  English   200.0      1997.0         7.7   \n",
       "2704                1470.0  English    11.0      1977.0         8.7   \n",
       "2748                 515.0  English    10.5      1982.0         7.9   \n",
       "16                  1722.0  English   220.0      2012.0         8.1   \n",
       "482                  656.0  English    45.0      1994.0         8.5   \n",
       "230                 3597.0  English   115.0      1999.0         6.5   \n",
       "64                  4667.0  English   185.0      2008.0         9.0   \n",
       "419                 1959.0  English    78.0      2012.0         7.3   \n",
       "\n",
       "      movie_facebook_likes      profit  \n",
       "0                    33000  523.505847  \n",
       "28                  150000  502.177271  \n",
       "25                   26000  458.672302  \n",
       "2704                 33000  449.935665  \n",
       "2748                 34000  424.449459  \n",
       "16                  123000  403.279547  \n",
       "482                  17000  377.783777  \n",
       "230                  13000  359.544677  \n",
       "64                   37000  348.316061  \n",
       "419                 140000  329.999255  "
      ]
     },
     "execution_count": 45,
     "metadata": {},
     "output_type": "execute_result"
    }
   ],
   "source": [
    "# Write your code for sorting the dataframe here\n",
    "movies.sort_values('profit', ascending=False).head(10)"
   ]
  },
  {
   "cell_type": "code",
   "execution_count": 32,
   "metadata": {},
   "outputs": [
    {
     "ename": "SyntaxError",
     "evalue": "invalid syntax (Temp/ipykernel_18704/244981778.py, line 1)",
     "output_type": "error",
     "traceback": [
      "\u001b[1;36m  File \u001b[1;32m\"C:\\Users\\minak\\AppData\\Local\\Temp/ipykernel_18704/244981778.py\"\u001b[1;36m, line \u001b[1;32m1\u001b[0m\n\u001b[1;33m    top10 = # Write your code to get the top 10 profiting movies here\u001b[0m\n\u001b[1;37m            ^\u001b[0m\n\u001b[1;31mSyntaxError\u001b[0m\u001b[1;31m:\u001b[0m invalid syntax\n"
     ]
    }
   ],
   "source": [
    "top10 = # Write your code to get the top 10 profiting movies here"
   ]
  },
  {
   "cell_type": "markdown",
   "metadata": {},
   "source": [
    "**Checkpoint:** You might spot two movies directed by `James Cameron` in the list."
   ]
  },
  {
   "cell_type": "markdown",
   "metadata": {},
   "source": [
    "#### <font color='red'>Question 6: Which movie is ranked 5th from the top in the list obtained? </font>\n",
    "-  <font color='red'>E.T. the Extra-Terrestrial</font>\n",
    "-  <font color='red'>The Avengers</font>\n",
    "-  <font color='red'>The Dark Knight</font>\n",
    "-  <font color='red'>Titanic</font>"
   ]
  },
  {
   "cell_type": "markdown",
   "metadata": {},
   "source": [
    "**Subtask 3.3: Find IMDb Top 250**\n",
    "\n",
    "Create a new dataframe `IMDb_Top_250` and store the top 250 movies with the highest IMDb Rating (corresponding to the column: `imdb_score`). Also make sure that for all of these movies, the `num_voted_users` is greater than 25,000. \n",
    "\n",
    "Also add a `Rank` column containing the values 1 to 250 indicating the ranks of the corresponding films."
   ]
  },
  {
   "cell_type": "code",
   "execution_count": 46,
   "metadata": {},
   "outputs": [],
   "source": [
    "# Write your code for extracting the top 250 movies as per the IMDb score here. Make sure that you store it in a new dataframe \n",
    "# and name that dataframe as 'IMDb_Top_250'\n",
    "IMDb_Top_250 = movies.sort_values('imdb_score', ascending=False).head(250)"
   ]
  },
  {
   "cell_type": "markdown",
   "metadata": {},
   "source": [
    "#### <font color='red'>Question 7: Suppose movies are divided into 5 buckets based on the IMDb ratings: </font>\n",
    "-  <font color='red'>7.5 to 8</font>\n",
    "-  <font color='red'>8 to 8.5</font>\n",
    "-  <font color='red'>8.5 to 9</font>\n",
    "-  <font color='red'>9 to 9.5</font>\n",
    "-  <font color='red'>9.5 to 10</font>\n",
    "\n",
    "<font color = 'red'> Which bucket holds the maximum number of movies from *IMDb_Top_250*? </font>"
   ]
  },
  {
   "cell_type": "code",
   "execution_count": 47,
   "metadata": {},
   "outputs": [
    {
     "data": {
      "text/plain": [
       "(35, 14)"
      ]
     },
     "execution_count": 47,
     "metadata": {},
     "output_type": "execute_result"
    }
   ],
   "source": [
    "IMDb_Top_250[(IMDb_Top_250.imdb_score >=7.5) & (IMDb_Top_250.imdb_score < 8)].shape"
   ]
  },
  {
   "cell_type": "code",
   "execution_count": 48,
   "metadata": {},
   "outputs": [
    {
     "data": {
      "text/plain": [
       "(168, 14)"
      ]
     },
     "execution_count": 48,
     "metadata": {},
     "output_type": "execute_result"
    }
   ],
   "source": [
    "IMDb_Top_250[(IMDb_Top_250.imdb_score >=8) & (IMDb_Top_250.imdb_score < 8.5)].shape"
   ]
  },
  {
   "cell_type": "markdown",
   "metadata": {},
   "source": [
    "**Subtask 3.4: Find the critic-favorite and audience-favorite actors**\n",
    "\n",
    "   1. Create three new dataframes namely, `Meryl_Streep`, `Leo_Caprio`, and `Brad_Pitt` which contain the movies in which the actors: 'Meryl Streep', 'Leonardo DiCaprio', and 'Brad Pitt' are the lead actors. Use only the `actor_1_name` column for extraction. Also, make sure that you use the names 'Meryl Streep', 'Leonardo DiCaprio', and 'Brad Pitt' for the said extraction.\n",
    "   2. Append the rows of all these dataframes and store them in a new dataframe named `Combined`.\n",
    "   3. Group the combined dataframe using the `actor_1_name` column.\n",
    "   4. Find the mean of the `num_critic_for_reviews` and `num_user_for_review` and identify the actors which have the highest mean."
   ]
  },
  {
   "cell_type": "code",
   "execution_count": 49,
   "metadata": {},
   "outputs": [
    {
     "ename": "SyntaxError",
     "evalue": "invalid syntax (Temp/ipykernel_18704/3236433462.py, line 1)",
     "output_type": "error",
     "traceback": [
      "\u001b[1;36m  File \u001b[1;32m\"C:\\Users\\minak\\AppData\\Local\\Temp/ipykernel_18704/3236433462.py\"\u001b[1;36m, line \u001b[1;32m1\u001b[0m\n\u001b[1;33m    Meryl_Streep =\u001b[0m\n\u001b[1;37m                   ^\u001b[0m\n\u001b[1;31mSyntaxError\u001b[0m\u001b[1;31m:\u001b[0m invalid syntax\n"
     ]
    }
   ],
   "source": [
    "Meryl_Streep = \n",
    "Leo_Caprio = IMDb_Top_250[IMDb_Top_250.actor_1_name == 'Leonardo DiCaprio']\n",
    "Brad_Pitt = IMDb_Top_250[IMDb_Top_250.actor_1_name == 'Brad Pitt']"
   ]
  },
  {
   "cell_type": "code",
   "execution_count": 50,
   "metadata": {},
   "outputs": [],
   "source": [
    "# Write your code for creating three new dataframes here\n",
    "Meryl_Streep = IMDb_Top_250[IMDb_Top_250.actor_1_name == 'Meryl Streep']"
   ]
  },
  {
   "cell_type": "code",
   "execution_count": 51,
   "metadata": {},
   "outputs": [],
   "source": [
    "Leo_Caprio = IMDb_Top_250[IMDb_Top_250.actor_1_name == 'Leonardo DiCaprio']"
   ]
  },
  {
   "cell_type": "code",
   "execution_count": 52,
   "metadata": {},
   "outputs": [],
   "source": [
    "Brad_Pitt = IMDb_Top_250[IMDb_Top_250.actor_1_name == 'Brad Pitt']"
   ]
  },
  {
   "cell_type": "code",
   "execution_count": 53,
   "metadata": {},
   "outputs": [
    {
     "data": {
      "text/html": [
       "<div>\n",
       "<style scoped>\n",
       "    .dataframe tbody tr th:only-of-type {\n",
       "        vertical-align: middle;\n",
       "    }\n",
       "\n",
       "    .dataframe tbody tr th {\n",
       "        vertical-align: top;\n",
       "    }\n",
       "\n",
       "    .dataframe thead th {\n",
       "        text-align: right;\n",
       "    }\n",
       "</style>\n",
       "<table border=\"1\" class=\"dataframe\">\n",
       "  <thead>\n",
       "    <tr style=\"text-align: right;\">\n",
       "      <th></th>\n",
       "      <th>director_name</th>\n",
       "      <th>num_critic_for_reviews</th>\n",
       "      <th>gross</th>\n",
       "      <th>genres</th>\n",
       "      <th>actor_1_name</th>\n",
       "      <th>movie_title</th>\n",
       "      <th>num_voted_users</th>\n",
       "      <th>num_user_for_reviews</th>\n",
       "      <th>language</th>\n",
       "      <th>budget</th>\n",
       "      <th>title_year</th>\n",
       "      <th>imdb_score</th>\n",
       "      <th>movie_facebook_likes</th>\n",
       "      <th>profit</th>\n",
       "    </tr>\n",
       "  </thead>\n",
       "  <tbody>\n",
       "    <tr>\n",
       "      <th>94</th>\n",
       "      <td>Christopher Nolan</td>\n",
       "      <td>642.0</td>\n",
       "      <td>292.568851</td>\n",
       "      <td>Action|Adventure|Sci-Fi|Thriller</td>\n",
       "      <td>Leonardo DiCaprio</td>\n",
       "      <td>Inception</td>\n",
       "      <td>1468200</td>\n",
       "      <td>2803.0</td>\n",
       "      <td>English</td>\n",
       "      <td>160.0</td>\n",
       "      <td>2010.0</td>\n",
       "      <td>8.8</td>\n",
       "      <td>175000</td>\n",
       "      <td>132.568851</td>\n",
       "    </tr>\n",
       "    <tr>\n",
       "      <th>347</th>\n",
       "      <td>Martin Scorsese</td>\n",
       "      <td>352.0</td>\n",
       "      <td>132.373442</td>\n",
       "      <td>Crime|Drama|Thriller</td>\n",
       "      <td>Leonardo DiCaprio</td>\n",
       "      <td>The Departed</td>\n",
       "      <td>873649</td>\n",
       "      <td>2054.0</td>\n",
       "      <td>English</td>\n",
       "      <td>90.0</td>\n",
       "      <td>2006.0</td>\n",
       "      <td>8.5</td>\n",
       "      <td>29000</td>\n",
       "      <td>42.373442</td>\n",
       "    </tr>\n",
       "    <tr>\n",
       "      <th>283</th>\n",
       "      <td>Quentin Tarantino</td>\n",
       "      <td>765.0</td>\n",
       "      <td>162.804648</td>\n",
       "      <td>Drama|Western</td>\n",
       "      <td>Leonardo DiCaprio</td>\n",
       "      <td>Django Unchained</td>\n",
       "      <td>955174</td>\n",
       "      <td>1193.0</td>\n",
       "      <td>English</td>\n",
       "      <td>100.0</td>\n",
       "      <td>2012.0</td>\n",
       "      <td>8.5</td>\n",
       "      <td>199000</td>\n",
       "      <td>62.804648</td>\n",
       "    </tr>\n",
       "    <tr>\n",
       "      <th>294</th>\n",
       "      <td>Martin Scorsese</td>\n",
       "      <td>606.0</td>\n",
       "      <td>116.866727</td>\n",
       "      <td>Biography|Comedy|Crime|Drama</td>\n",
       "      <td>Leonardo DiCaprio</td>\n",
       "      <td>The Wolf of Wall Street</td>\n",
       "      <td>780588</td>\n",
       "      <td>1138.0</td>\n",
       "      <td>English</td>\n",
       "      <td>100.0</td>\n",
       "      <td>2013.0</td>\n",
       "      <td>8.2</td>\n",
       "      <td>138000</td>\n",
       "      <td>16.866727</td>\n",
       "    </tr>\n",
       "    <tr>\n",
       "      <th>173</th>\n",
       "      <td>Alejandro G. Iñárritu</td>\n",
       "      <td>556.0</td>\n",
       "      <td>183.635922</td>\n",
       "      <td>Adventure|Drama|Thriller|Western</td>\n",
       "      <td>Leonardo DiCaprio</td>\n",
       "      <td>The Revenant</td>\n",
       "      <td>406020</td>\n",
       "      <td>1188.0</td>\n",
       "      <td>English</td>\n",
       "      <td>135.0</td>\n",
       "      <td>2015.0</td>\n",
       "      <td>8.1</td>\n",
       "      <td>190000</td>\n",
       "      <td>48.635922</td>\n",
       "    </tr>\n",
       "    <tr>\n",
       "      <th>431</th>\n",
       "      <td>Martin Scorsese</td>\n",
       "      <td>490.0</td>\n",
       "      <td>127.968405</td>\n",
       "      <td>Mystery|Thriller</td>\n",
       "      <td>Leonardo DiCaprio</td>\n",
       "      <td>Shutter Island</td>\n",
       "      <td>786092</td>\n",
       "      <td>964.0</td>\n",
       "      <td>English</td>\n",
       "      <td>80.0</td>\n",
       "      <td>2010.0</td>\n",
       "      <td>8.1</td>\n",
       "      <td>53000</td>\n",
       "      <td>47.968405</td>\n",
       "    </tr>\n",
       "    <tr>\n",
       "      <th>859</th>\n",
       "      <td>Steven Spielberg</td>\n",
       "      <td>194.0</td>\n",
       "      <td>164.435221</td>\n",
       "      <td>Biography|Crime|Drama</td>\n",
       "      <td>Leonardo DiCaprio</td>\n",
       "      <td>Catch Me If You Can</td>\n",
       "      <td>525801</td>\n",
       "      <td>667.0</td>\n",
       "      <td>English</td>\n",
       "      <td>52.0</td>\n",
       "      <td>2002.0</td>\n",
       "      <td>8.0</td>\n",
       "      <td>15000</td>\n",
       "      <td>112.435221</td>\n",
       "    </tr>\n",
       "    <tr>\n",
       "      <th>293</th>\n",
       "      <td>Edward Zwick</td>\n",
       "      <td>166.0</td>\n",
       "      <td>57.366262</td>\n",
       "      <td>Adventure|Drama|Thriller</td>\n",
       "      <td>Leonardo DiCaprio</td>\n",
       "      <td>Blood Diamond</td>\n",
       "      <td>400292</td>\n",
       "      <td>657.0</td>\n",
       "      <td>English</td>\n",
       "      <td>100.0</td>\n",
       "      <td>2006.0</td>\n",
       "      <td>8.0</td>\n",
       "      <td>14000</td>\n",
       "      <td>-42.633738</td>\n",
       "    </tr>\n",
       "    <tr>\n",
       "      <th>646</th>\n",
       "      <td>David Fincher</td>\n",
       "      <td>315.0</td>\n",
       "      <td>37.023395</td>\n",
       "      <td>Drama</td>\n",
       "      <td>Brad Pitt</td>\n",
       "      <td>Fight Club</td>\n",
       "      <td>1347461</td>\n",
       "      <td>2968.0</td>\n",
       "      <td>English</td>\n",
       "      <td>63.0</td>\n",
       "      <td>1999.0</td>\n",
       "      <td>8.8</td>\n",
       "      <td>48000</td>\n",
       "      <td>-25.976605</td>\n",
       "    </tr>\n",
       "    <tr>\n",
       "      <th>2602</th>\n",
       "      <td>Tony Scott</td>\n",
       "      <td>122.0</td>\n",
       "      <td>12.281500</td>\n",
       "      <td>Action|Crime|Drama|Romance|Thriller</td>\n",
       "      <td>Brad Pitt</td>\n",
       "      <td>True Romance</td>\n",
       "      <td>163492</td>\n",
       "      <td>460.0</td>\n",
       "      <td>English</td>\n",
       "      <td>13.0</td>\n",
       "      <td>1993.0</td>\n",
       "      <td>8.0</td>\n",
       "      <td>15000</td>\n",
       "      <td>-0.718500</td>\n",
       "    </tr>\n",
       "  </tbody>\n",
       "</table>\n",
       "</div>"
      ],
      "text/plain": [
       "              director_name  num_critic_for_reviews       gross  \\\n",
       "94        Christopher Nolan                   642.0  292.568851   \n",
       "347         Martin Scorsese                   352.0  132.373442   \n",
       "283       Quentin Tarantino                   765.0  162.804648   \n",
       "294         Martin Scorsese                   606.0  116.866727   \n",
       "173   Alejandro G. Iñárritu                   556.0  183.635922   \n",
       "431         Martin Scorsese                   490.0  127.968405   \n",
       "859        Steven Spielberg                   194.0  164.435221   \n",
       "293            Edward Zwick                   166.0   57.366262   \n",
       "646           David Fincher                   315.0   37.023395   \n",
       "2602             Tony Scott                   122.0   12.281500   \n",
       "\n",
       "                                   genres       actor_1_name  \\\n",
       "94       Action|Adventure|Sci-Fi|Thriller  Leonardo DiCaprio   \n",
       "347                  Crime|Drama|Thriller  Leonardo DiCaprio   \n",
       "283                         Drama|Western  Leonardo DiCaprio   \n",
       "294          Biography|Comedy|Crime|Drama  Leonardo DiCaprio   \n",
       "173      Adventure|Drama|Thriller|Western  Leonardo DiCaprio   \n",
       "431                      Mystery|Thriller  Leonardo DiCaprio   \n",
       "859                 Biography|Crime|Drama  Leonardo DiCaprio   \n",
       "293              Adventure|Drama|Thriller  Leonardo DiCaprio   \n",
       "646                                 Drama          Brad Pitt   \n",
       "2602  Action|Crime|Drama|Romance|Thriller          Brad Pitt   \n",
       "\n",
       "                   movie_title  num_voted_users  num_user_for_reviews  \\\n",
       "94                  Inception           1468200                2803.0   \n",
       "347              The Departed            873649                2054.0   \n",
       "283          Django Unchained            955174                1193.0   \n",
       "294   The Wolf of Wall Street            780588                1138.0   \n",
       "173              The Revenant            406020                1188.0   \n",
       "431            Shutter Island            786092                 964.0   \n",
       "859       Catch Me If You Can            525801                 667.0   \n",
       "293             Blood Diamond            400292                 657.0   \n",
       "646                Fight Club           1347461                2968.0   \n",
       "2602             True Romance            163492                 460.0   \n",
       "\n",
       "     language  budget  title_year  imdb_score  movie_facebook_likes  \\\n",
       "94    English   160.0      2010.0         8.8                175000   \n",
       "347   English    90.0      2006.0         8.5                 29000   \n",
       "283   English   100.0      2012.0         8.5                199000   \n",
       "294   English   100.0      2013.0         8.2                138000   \n",
       "173   English   135.0      2015.0         8.1                190000   \n",
       "431   English    80.0      2010.0         8.1                 53000   \n",
       "859   English    52.0      2002.0         8.0                 15000   \n",
       "293   English   100.0      2006.0         8.0                 14000   \n",
       "646   English    63.0      1999.0         8.8                 48000   \n",
       "2602  English    13.0      1993.0         8.0                 15000   \n",
       "\n",
       "          profit  \n",
       "94    132.568851  \n",
       "347    42.373442  \n",
       "283    62.804648  \n",
       "294    16.866727  \n",
       "173    48.635922  \n",
       "431    47.968405  \n",
       "859   112.435221  \n",
       "293   -42.633738  \n",
       "646   -25.976605  \n",
       "2602   -0.718500  "
      ]
     },
     "execution_count": 53,
     "metadata": {},
     "output_type": "execute_result"
    }
   ],
   "source": [
    "# Write your code for combining the three dataframes here\n",
    "Combined = pd.concat([Meryl_Streep,Leo_Caprio,Brad_Pitt])\n",
    "Combined"
   ]
  },
  {
   "cell_type": "code",
   "execution_count": 57,
   "metadata": {},
   "outputs": [
    {
     "data": {
      "text/plain": [
       "num_critic_for_reviews       218.500000\n",
       "gross                         24.652448\n",
       "num_voted_users           755476.500000\n",
       "num_user_for_reviews        1714.000000\n",
       "budget                        38.000000\n",
       "title_year                  1996.000000\n",
       "imdb_score                     8.400000\n",
       "movie_facebook_likes       31500.000000\n",
       "profit                       -13.347552\n",
       "Name: Brad Pitt, dtype: float64"
      ]
     },
     "execution_count": 57,
     "metadata": {},
     "output_type": "execute_result"
    }
   ],
   "source": [
    "# Write your code for grouping the combined dataframe here\n",
    "comb_group = Combined.groupby(['actor_1_name'])\n",
    "comb_group.mean().loc['Brad Pitt']"
   ]
  },
  {
   "cell_type": "code",
   "execution_count": null,
   "metadata": {},
   "outputs": [],
   "source": [
    "# Write the code for finding the mean of critic reviews and audience reviews here\n",
    "comb_group.mean()[['num_critic_for_reviews', 'num_voted_users']]"
   ]
  },
  {
   "cell_type": "markdown",
   "metadata": {},
   "source": [
    "#### <font color='red'>Question 8: Which actor is highest rated among the three actors according to the user reviews? </font>\n",
    "-  <font color='red'>Meryl Streep</font>\n",
    "-  <font color='red'>Leonardo DiCaprio</font>\n",
    "-  <font color='red'>Brad Pitt</font>"
   ]
  },
  {
   "cell_type": "markdown",
   "metadata": {},
   "source": [
    "#### <font color='red'>Question 9: Which actor is highest rated among the three actors according to the critics?</font>\n",
    "-  <font color='red'>Meryl Streep</font>\n",
    "-  <font color='red'>Leonardo DiCaprio</font>\n",
    "-  <font color='red'>Brad Pitt</font>"
   ]
  },
  {
   "cell_type": "code",
   "execution_count": null,
   "metadata": {},
   "outputs": [],
   "source": [
    "IMDb_Top_250.columns = [col.capitalize() for col in IMDb_Top_250.columns]\n",
    "IMDb_Top_250.columns"
   ]
  },
  {
   "cell_type": "code",
   "execution_count": 65,
   "metadata": {},
   "outputs": [
    {
     "name": "stdout",
     "output_type": "stream",
     "text": [
      "Index(['Unnamed: 0', 'color', 'director_name', 'num_critic_for_reviews',\n",
      "       'duration', 'director_facebook_likes', 'actor_3_facebook_likes',\n",
      "       'actor_2_name', 'actor_1_facebook_likes', 'gross', 'genres',\n",
      "       'actor_1_name', 'movie_title', 'num_voted_users',\n",
      "       'cast_total_facebook_likes', 'actor_3_name', 'facenumber_in_poster',\n",
      "       'plot_keywords', 'movie_imdb_link', 'num_user_for_reviews', 'language',\n",
      "       'country', 'content_rating', 'budget', 'title_year',\n",
      "       'actor_2_facebook_likes', 'imdb_score', 'aspect_ratio',\n",
      "       'movie_facebook_likes'],\n",
      "      dtype='object')\n"
     ]
    }
   ],
   "source": [
    "movies_final = pd.read_csv('movies_final (2).csv', sep='\\t')\n",
    "print(movies_final.columns)\n",
    "movies_final = movies_final.loc[:,['actor_1_name','actor_1_facebook_likes','actor_2_name', 'actor_2_facebook_likes', 'actor_3_name', 'actor_3_facebook_likes']]"
   ]
  },
  {
   "cell_type": "code",
   "execution_count": 66,
   "metadata": {},
   "outputs": [
    {
     "name": "stdout",
     "output_type": "stream",
     "text": [
      "         actor_1_name  actor_1_facebook_likes     actor_2_name  \\\n",
      "1766    Darcy Donavan                640000.0     Will Ferrell   \n",
      "1155     Krista Allen                164000.0  Andrew Fiscella   \n",
      "3601     Matthew Ziff                260000.0      Randy Wayne   \n",
      "2641  Andrew Fiscella                137000.0    Jay Hernandez   \n",
      "2086  Andrew Fiscella                137000.0        Fred Ward   \n",
      "\n",
      "      actor_2_facebook_likes           actor_3_name  actor_3_facebook_likes  \\\n",
      "1766                  8000.0           Steve Carell                  7000.0   \n",
      "1155                137000.0      Shantel VanSanten                   748.0   \n",
      "3601                   984.0  Raquel Elizabeth Ames                   891.0   \n",
      "2641                  1000.0          Dania Ramirez                  1000.0   \n",
      "2086                   459.0            Lorna Raver                   163.0   \n",
      "\n",
      "      total_votes  \n",
      "1766     648000.0  \n",
      "1155     301000.0  \n",
      "3601     260984.0  \n",
      "2641     138000.0  \n",
      "2086     137459.0  \n"
     ]
    }
   ],
   "source": [
    "movies_final['total_votes'] = movies_final['actor_1_facebook_likes'] + movies_final['actor_2_facebook_likes']\n",
    "+ movies_final['actor_3_facebook_likes']\n",
    "\n",
    "movies_final.sort_values('total_votes', ascending=False, inplace=True)\n",
    "print(movies_final.head())"
   ]
  },
  {
   "cell_type": "code",
   "execution_count": 78,
   "metadata": {},
   "outputs": [
    {
     "ename": "ValueError",
     "evalue": "The truth value of a Series is ambiguous. Use a.empty, a.bool(), a.item(), a.any() or a.all().",
     "output_type": "error",
     "traceback": [
      "\u001b[1;31m---------------------------------------------------------------------------\u001b[0m",
      "\u001b[1;31mValueError\u001b[0m                                Traceback (most recent call last)",
      "\u001b[1;32m~\\AppData\\Local\\Temp/ipykernel_18704/3861772961.py\u001b[0m in \u001b[0;36m<module>\u001b[1;34m\u001b[0m\n\u001b[1;32m----> 1\u001b[1;33m movies_final[((2*(min(movies_final['actor_3_facebook_likes'], movies_final['actor_2_facebook_likes'], \n\u001b[0m\u001b[0;32m      2\u001b[0m         movies_final['actor_1_facebook_likes']))) > (max(movies_final['actor_3_facebook_likes'], movies_final['actor_2_facebook_likes'], \n\u001b[0;32m      3\u001b[0m         movies_final['actor_1_facebook_likes'])))]\n",
      "\u001b[1;32m~\\anaconda3\\lib\\site-packages\\pandas\\core\\generic.py\u001b[0m in \u001b[0;36m__nonzero__\u001b[1;34m(self)\u001b[0m\n\u001b[0;32m   1535\u001b[0m     \u001b[1;33m@\u001b[0m\u001b[0mfinal\u001b[0m\u001b[1;33m\u001b[0m\u001b[1;33m\u001b[0m\u001b[0m\n\u001b[0;32m   1536\u001b[0m     \u001b[1;32mdef\u001b[0m \u001b[0m__nonzero__\u001b[0m\u001b[1;33m(\u001b[0m\u001b[0mself\u001b[0m\u001b[1;33m)\u001b[0m\u001b[1;33m:\u001b[0m\u001b[1;33m\u001b[0m\u001b[1;33m\u001b[0m\u001b[0m\n\u001b[1;32m-> 1537\u001b[1;33m         raise ValueError(\n\u001b[0m\u001b[0;32m   1538\u001b[0m             \u001b[1;34mf\"The truth value of a {type(self).__name__} is ambiguous. \"\u001b[0m\u001b[1;33m\u001b[0m\u001b[1;33m\u001b[0m\u001b[0m\n\u001b[0;32m   1539\u001b[0m             \u001b[1;34m\"Use a.empty, a.bool(), a.item(), a.any() or a.all().\"\u001b[0m\u001b[1;33m\u001b[0m\u001b[1;33m\u001b[0m\u001b[0m\n",
      "\u001b[1;31mValueError\u001b[0m: The truth value of a Series is ambiguous. Use a.empty, a.bool(), a.item(), a.any() or a.all()."
     ]
    }
   ],
   "source": [
    "movies_final[((2*(min(movies_final['actor_3_facebook_likes'], movies_final['actor_2_facebook_likes'], \n",
    "        movies_final['actor_1_facebook_likes']))) > (max(movies_final['actor_3_facebook_likes'], movies_final['actor_2_facebook_likes'], \n",
    "        movies_final['actor_1_facebook_likes'])))]"
   ]
  },
  {
   "cell_type": "code",
   "execution_count": 1,
   "metadata": {},
   "outputs": [],
   "source": [
    "import pandas as pd\n",
    "movies_final = pd.read_csv('movies_final (2).csv', sep='\\t')"
   ]
  },
  {
   "cell_type": "code",
   "execution_count": 3,
   "metadata": {},
   "outputs": [
    {
     "data": {
      "text/html": [
       "<div>\n",
       "<style scoped>\n",
       "    .dataframe tbody tr th:only-of-type {\n",
       "        vertical-align: middle;\n",
       "    }\n",
       "\n",
       "    .dataframe tbody tr th {\n",
       "        vertical-align: top;\n",
       "    }\n",
       "\n",
       "    .dataframe thead th {\n",
       "        text-align: right;\n",
       "    }\n",
       "</style>\n",
       "<table border=\"1\" class=\"dataframe\">\n",
       "  <thead>\n",
       "    <tr style=\"text-align: right;\">\n",
       "      <th></th>\n",
       "      <th>Unnamed: 0</th>\n",
       "      <th>color</th>\n",
       "      <th>director_name</th>\n",
       "      <th>num_critic_for_reviews</th>\n",
       "      <th>duration</th>\n",
       "      <th>director_facebook_likes</th>\n",
       "      <th>actor_3_facebook_likes</th>\n",
       "      <th>actor_2_name</th>\n",
       "      <th>actor_1_facebook_likes</th>\n",
       "      <th>gross</th>\n",
       "      <th>...</th>\n",
       "      <th>num_user_for_reviews</th>\n",
       "      <th>language</th>\n",
       "      <th>country</th>\n",
       "      <th>content_rating</th>\n",
       "      <th>budget</th>\n",
       "      <th>title_year</th>\n",
       "      <th>actor_2_facebook_likes</th>\n",
       "      <th>imdb_score</th>\n",
       "      <th>aspect_ratio</th>\n",
       "      <th>movie_facebook_likes</th>\n",
       "    </tr>\n",
       "  </thead>\n",
       "  <tbody>\n",
       "  </tbody>\n",
       "</table>\n",
       "<p>0 rows × 29 columns</p>\n",
       "</div>"
      ],
      "text/plain": [
       "Empty DataFrame\n",
       "Columns: [Unnamed: 0, color, director_name, num_critic_for_reviews, duration, director_facebook_likes, actor_3_facebook_likes, actor_2_name, actor_1_facebook_likes, gross, genres, actor_1_name, movie_title, num_voted_users, cast_total_facebook_likes, actor_3_name, facenumber_in_poster, plot_keywords, movie_imdb_link, num_user_for_reviews, language, country, content_rating, budget, title_year, actor_2_facebook_likes, imdb_score, aspect_ratio, movie_facebook_likes]\n",
       "Index: []\n",
       "\n",
       "[0 rows x 29 columns]"
      ]
     },
     "execution_count": 3,
     "metadata": {},
     "output_type": "execute_result"
    }
   ],
   "source": [
    "movies_final[movies_final['actor_1_facebook_likes'].isna()]"
   ]
  },
  {
   "cell_type": "code",
   "execution_count": 5,
   "metadata": {},
   "outputs": [
    {
     "data": {
      "text/html": [
       "<div>\n",
       "<style scoped>\n",
       "    .dataframe tbody tr th:only-of-type {\n",
       "        vertical-align: middle;\n",
       "    }\n",
       "\n",
       "    .dataframe tbody tr th {\n",
       "        vertical-align: top;\n",
       "    }\n",
       "\n",
       "    .dataframe thead th {\n",
       "        text-align: right;\n",
       "    }\n",
       "</style>\n",
       "<table border=\"1\" class=\"dataframe\">\n",
       "  <thead>\n",
       "    <tr style=\"text-align: right;\">\n",
       "      <th></th>\n",
       "      <th></th>\n",
       "      <th></th>\n",
       "      <th>actor_1_facebook_likes</th>\n",
       "      <th>actor_2_facebook_likes</th>\n",
       "      <th>actor_3_facebook_likes</th>\n",
       "    </tr>\n",
       "    <tr>\n",
       "      <th>actor_1_name</th>\n",
       "      <th>actor_2_name</th>\n",
       "      <th>actor_3_name</th>\n",
       "      <th></th>\n",
       "      <th></th>\n",
       "      <th></th>\n",
       "    </tr>\n",
       "  </thead>\n",
       "  <tbody>\n",
       "    <tr>\n",
       "      <th>50 Cent</th>\n",
       "      <th>Bill Duke</th>\n",
       "      <th>Marc John Jefferies</th>\n",
       "      <td>1000.0</td>\n",
       "      <td>1000.0</td>\n",
       "      <td>441.0</td>\n",
       "    </tr>\n",
       "    <tr>\n",
       "      <th>Aaliyah</th>\n",
       "      <th>Lena Olin</th>\n",
       "      <th>Bruce Spence</th>\n",
       "      <td>775.0</td>\n",
       "      <td>541.0</td>\n",
       "      <td>531.0</td>\n",
       "    </tr>\n",
       "    <tr>\n",
       "      <th>Aasif Mandvi</th>\n",
       "      <th>Dequina Moore</th>\n",
       "      <th>Jordan Carlos</th>\n",
       "      <td>346.0</td>\n",
       "      <td>41.0</td>\n",
       "      <td>31.0</td>\n",
       "    </tr>\n",
       "    <tr>\n",
       "      <th rowspan=\"2\" valign=\"top\">Abbie Cornish</th>\n",
       "      <th>Gabourey Sidibe</th>\n",
       "      <th>Michael Stuhlbarg</th>\n",
       "      <td>2000.0</td>\n",
       "      <td>906.0</td>\n",
       "      <td>816.0</td>\n",
       "    </tr>\n",
       "    <tr>\n",
       "      <th>Paul Schneider</th>\n",
       "      <th>Samuel Roukin</th>\n",
       "      <td>2000.0</td>\n",
       "      <td>552.0</td>\n",
       "      <td>179.0</td>\n",
       "    </tr>\n",
       "    <tr>\n",
       "      <th>...</th>\n",
       "      <th>...</th>\n",
       "      <th>...</th>\n",
       "      <td>...</td>\n",
       "      <td>...</td>\n",
       "      <td>...</td>\n",
       "    </tr>\n",
       "    <tr>\n",
       "      <th rowspan=\"2\" valign=\"top\">Zooey Deschanel</th>\n",
       "      <th>Rip Torn</th>\n",
       "      <th>Kelly Preston</th>\n",
       "      <td>11000.0</td>\n",
       "      <td>826.0</td>\n",
       "      <td>742.0</td>\n",
       "    </tr>\n",
       "    <tr>\n",
       "      <th>Will Ferrell</th>\n",
       "      <th>Dallas Roberts</th>\n",
       "      <td>11000.0</td>\n",
       "      <td>8000.0</td>\n",
       "      <td>405.0</td>\n",
       "    </tr>\n",
       "    <tr>\n",
       "      <th rowspan=\"2\" valign=\"top\">Zoë Kravitz</th>\n",
       "      <th>Jeremy Davies</th>\n",
       "      <th>Jim Gaffigan</th>\n",
       "      <td>943.0</td>\n",
       "      <td>769.0</td>\n",
       "      <td>472.0</td>\n",
       "    </tr>\n",
       "    <tr>\n",
       "      <th>Lily Rabe</th>\n",
       "      <th>Bob Balaban</th>\n",
       "      <td>943.0</td>\n",
       "      <td>763.0</td>\n",
       "      <td>559.0</td>\n",
       "    </tr>\n",
       "    <tr>\n",
       "      <th>Óscar Jaenada</th>\n",
       "      <th>Brett Cullen</th>\n",
       "      <th>Sedona Legge</th>\n",
       "      <td>619.0</td>\n",
       "      <td>350.0</td>\n",
       "      <td>2.0</td>\n",
       "    </tr>\n",
       "  </tbody>\n",
       "</table>\n",
       "<p>3631 rows × 3 columns</p>\n",
       "</div>"
      ],
      "text/plain": [
       "                                                     actor_1_facebook_likes  \\\n",
       "actor_1_name    actor_2_name    actor_3_name                                  \n",
       "50 Cent         Bill Duke       Marc John Jefferies                  1000.0   \n",
       "Aaliyah         Lena Olin       Bruce Spence                          775.0   \n",
       "Aasif Mandvi    Dequina Moore   Jordan Carlos                         346.0   \n",
       "Abbie Cornish   Gabourey Sidibe Michael Stuhlbarg                    2000.0   \n",
       "                Paul Schneider  Samuel Roukin                        2000.0   \n",
       "...                                                                     ...   \n",
       "Zooey Deschanel Rip Torn        Kelly Preston                       11000.0   \n",
       "                Will Ferrell    Dallas Roberts                      11000.0   \n",
       "Zoë Kravitz     Jeremy Davies   Jim Gaffigan                          943.0   \n",
       "                Lily Rabe       Bob Balaban                           943.0   \n",
       "Óscar Jaenada   Brett Cullen    Sedona Legge                          619.0   \n",
       "\n",
       "                                                     actor_2_facebook_likes  \\\n",
       "actor_1_name    actor_2_name    actor_3_name                                  \n",
       "50 Cent         Bill Duke       Marc John Jefferies                  1000.0   \n",
       "Aaliyah         Lena Olin       Bruce Spence                          541.0   \n",
       "Aasif Mandvi    Dequina Moore   Jordan Carlos                          41.0   \n",
       "Abbie Cornish   Gabourey Sidibe Michael Stuhlbarg                     906.0   \n",
       "                Paul Schneider  Samuel Roukin                         552.0   \n",
       "...                                                                     ...   \n",
       "Zooey Deschanel Rip Torn        Kelly Preston                         826.0   \n",
       "                Will Ferrell    Dallas Roberts                       8000.0   \n",
       "Zoë Kravitz     Jeremy Davies   Jim Gaffigan                          769.0   \n",
       "                Lily Rabe       Bob Balaban                           763.0   \n",
       "Óscar Jaenada   Brett Cullen    Sedona Legge                          350.0   \n",
       "\n",
       "                                                     actor_3_facebook_likes  \n",
       "actor_1_name    actor_2_name    actor_3_name                                 \n",
       "50 Cent         Bill Duke       Marc John Jefferies                   441.0  \n",
       "Aaliyah         Lena Olin       Bruce Spence                          531.0  \n",
       "Aasif Mandvi    Dequina Moore   Jordan Carlos                          31.0  \n",
       "Abbie Cornish   Gabourey Sidibe Michael Stuhlbarg                     816.0  \n",
       "                Paul Schneider  Samuel Roukin                         179.0  \n",
       "...                                                                     ...  \n",
       "Zooey Deschanel Rip Torn        Kelly Preston                         742.0  \n",
       "                Will Ferrell    Dallas Roberts                        405.0  \n",
       "Zoë Kravitz     Jeremy Davies   Jim Gaffigan                          472.0  \n",
       "                Lily Rabe       Bob Balaban                           559.0  \n",
       "Óscar Jaenada   Brett Cullen    Sedona Legge                            2.0  \n",
       "\n",
       "[3631 rows x 3 columns]"
      ]
     },
     "execution_count": 5,
     "metadata": {},
     "output_type": "execute_result"
    }
   ],
   "source": [
    "# Importing the pandas package\n",
    "import pandas as pd\n",
    "\n",
    "# Reading the movies file\n",
    "movies = pd.read_csv('https://media-doselect.s3.amazonaws.com/generic/pLLQowB8OYx0oBWdMbY4gp4wb/movies_final (2).csv', sep='\\t')\n",
    "\n",
    "# Group the dataframe using the actor names as indices and facebook likes as values\n",
    "group = movies.pivot_table(values = ['actor_1_facebook_likes', 'actor_2_facebook_likes', 'actor_3_facebook_likes'],\n",
    "                           index = ['actor_1_name', 'actor_2_name', 'actor_3_name'], aggfunc='sum')\n",
    "                           \n"
   ]
  },
  {
   "cell_type": "code",
   "execution_count": 6,
   "metadata": {},
   "outputs": [],
   "source": [
    "# Create a new column 'Total likes' which will contain the sum of likes of all three actors \n",
    "group['Total likes'] = group['actor_1_facebook_likes'] + group['actor_2_facebook_likes'] + group['actor_3_facebook_likes']"
   ]
  },
  {
   "cell_type": "code",
   "execution_count": 7,
   "metadata": {},
   "outputs": [],
   "source": [
    "# Sort the dataframe using the 'Total likes' column\n",
    "group.sort_values(by=['Total likes'], inplace=True, ascending = False)"
   ]
  },
  {
   "cell_type": "code",
   "execution_count": 11,
   "metadata": {},
   "outputs": [
    {
     "data": {
      "text/plain": [
       "0       655000.0\n",
       "1       301748.0\n",
       "2       261875.0\n",
       "3       228000.0\n",
       "4       198000.0\n",
       "          ...   \n",
       "3626         2.0\n",
       "3627         2.0\n",
       "3628         2.0\n",
       "3629         2.0\n",
       "3630         0.0\n",
       "Name: Total likes, Length: 3631, dtype: float64"
      ]
     },
     "execution_count": 11,
     "metadata": {},
     "output_type": "execute_result"
    }
   ],
   "source": [
    "# Reset the index of the grouped dataframe so you can access the indices as columns easily\n",
    "group.reset_index(inplace=True)\n",
    "group['Total likes']"
   ]
  },
  {
   "cell_type": "code",
   "execution_count": 9,
   "metadata": {},
   "outputs": [
    {
     "name": "stdout",
     "output_type": "stream",
     "text": [
      "['Chris Hemsworth', 'Robert Downey Jr.', 'Scarlett Johansson']\n",
      "['Chris Hemsworth', 'Robert Downey Jr.', 'Scarlett Johansson']\n"
     ]
    }
   ],
   "source": [
    "# Initialise the value of a variable 'j' to 0. This variable will be used to keep\n",
    "# a track of the rows during the loop iteration\n",
    "j = 0\n",
    "\n",
    "# Run a loop through the length of the column 'Total likes'\n",
    "for i in group['Total likes']:\n",
    "# Sort the facebook likes of three actors and store them in a variable 'temp'    \n",
    "    temp = sorted([group.loc[j,'actor_1_facebook_likes'], group.loc[j,'actor_2_facebook_likes'], group.loc[j,'actor_3_facebook_likes']])\n",
    "\n",
    "# Check if the smallest value in temp is greater than half the value of the other two\n",
    "# And also check if the middle value is greater than half the value of the max value\n",
    "    if temp[0] >= temp[1]/2 and temp[0] >= temp[2]/2 and temp[1] >= temp[2]/2:\n",
    "# If the above condition satisfies, print the correspoding actor names as a sorted list \n",
    "# and break the loop\n",
    "        print(sorted([group.loc[j, 'actor_1_name'], group.loc[j, 'actor_2_name'], group.loc[j, 'actor_3_name']]))\n",
    "        break\n",
    "# Keep incrementing the value of j with every loop interation    \n",
    "    j += 1 # Initialise the value of a variable 'j' to 0. This variable will be used to keep\n",
    "# a track of the rows during the loop iteration\n",
    "j = 0\n",
    "\n",
    "# Run a loop through the length of the column 'Total likes'\n",
    "for i in group['Total likes']:\n",
    "# Sort the facebook likes of three actors and store them in a variable 'temp'    \n",
    "    temp = sorted([group.loc[j,'actor_1_facebook_likes'], group.loc[j,'actor_2_facebook_likes'], group.loc[j,'actor_3_facebook_likes']])\n",
    "\n",
    "# Check if the smallest value in temp is greater than half the value of the other two\n",
    "# And also check if the middle value is greater than half the value of the max value\n",
    "    if temp[0] >= temp[1]/2 and temp[0] >= temp[2]/2 and temp[1] >= temp[2]/2:\n",
    "# If the above condition satisfies, print the correspoding actor names as a sorted list \n",
    "# and break the loop\n",
    "        print(sorted([group.loc[j, 'actor_1_name'], group.loc[j, 'actor_2_name'], group.loc[j, 'actor_3_name']]))\n",
    "        break\n",
    "# Keep incrementing the value of j with every loop interation    \n",
    "    j += 1 "
   ]
  },
  {
   "cell_type": "code",
   "execution_count": null,
   "metadata": {},
   "outputs": [],
   "source": []
  }
 ],
 "metadata": {
  "kernelspec": {
   "display_name": "Python 3 (ipykernel)",
   "language": "python",
   "name": "python3"
  },
  "language_info": {
   "codemirror_mode": {
    "name": "ipython",
    "version": 3
   },
   "file_extension": ".py",
   "mimetype": "text/x-python",
   "name": "python",
   "nbconvert_exporter": "python",
   "pygments_lexer": "ipython3",
   "version": "3.9.7"
  }
 },
 "nbformat": 4,
 "nbformat_minor": 2
}
