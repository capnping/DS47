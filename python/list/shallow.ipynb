{
 "cells": [
  {
   "cell_type": "code",
   "execution_count": 2,
   "id": "d215b49f",
   "metadata": {},
   "outputs": [],
   "source": [
    "final = [0,[1,2], 0, 0]"
   ]
  },
  {
   "cell_type": "code",
   "execution_count": 5,
   "id": "26836b90",
   "metadata": {},
   "outputs": [
    {
     "data": {
      "text/plain": [
       "True"
      ]
     },
     "execution_count": 5,
     "metadata": {},
     "output_type": "execute_result"
    }
   ],
   "source": [
    "#shallow copy\n",
    "id((final)[1]) == id(list(final)[1])"
   ]
  },
  {
   "cell_type": "code",
   "execution_count": 9,
   "id": "a0fcc502",
   "metadata": {},
   "outputs": [
    {
     "name": "stdout",
     "output_type": "stream",
     "text": [
      "(1, 1)\n",
      "(1, 1)\n",
      "(1, 1)\n",
      "(1, 1)\n",
      "(1, 1)\n",
      "(1, 1)\n",
      "(1, 1)\n",
      "(1, 1)\n",
      "(1, 1)\n",
      "(1, 1)\n"
     ]
    }
   ],
   "source": [
    "from itertools import combinations\n",
    "\n",
    "comb = combinations([1,1,1,1,1], 2)\n",
    "\n",
    "for i in list(comb):\n",
    "    print(i)"
   ]
  },
  {
   "cell_type": "code",
   "execution_count": 8,
   "id": "53396a5a",
   "metadata": {},
   "outputs": [
    {
     "name": "stdout",
     "output_type": "stream",
     "text": [
      "4\n",
      "1\t[()]\n",
      "4\t[(1,), (1,), (1,), (1,)]\n",
      "6\t[(1, 1), (1, 1), (1, 1), (1, 1), (1, 1), (1, 1)]\n",
      "4\t[(1, 1, 1), (1, 1, 1), (1, 1, 1), (1, 1, 1)]\n",
      "1\t[(1, 1, 1, 1)]\n"
     ]
    }
   ],
   "source": [
    "from itertools import combinations\n",
    "n=int(input())\n",
    "l = [1]*n\n",
    "for i in range(n+1):\n",
    "    comb = combinations(l,i)\n",
    "    item = list(comb)\n",
    "    print(len(item), list(item), sep='\\t')\n",
    "    "
   ]
  },
  {
   "cell_type": "code",
   "execution_count": null,
   "id": "6fe029a8",
   "metadata": {},
   "outputs": [],
   "source": []
  },
  {
   "cell_type": "code",
   "execution_count": 9,
   "id": "7e5dcc2f",
   "metadata": {},
   "outputs": [
    {
     "name": "stdout",
     "output_type": "stream",
     "text": [
      "3\n"
     ]
    }
   ],
   "source": [
    "print(chr(51))"
   ]
  },
  {
   "cell_type": "code",
   "execution_count": 14,
   "id": "820adb53",
   "metadata": {},
   "outputs": [],
   "source": [
    "s='aabupGradaab'.strip('a').strip('b')"
   ]
  },
  {
   "cell_type": "code",
   "execution_count": 15,
   "id": "737cceef",
   "metadata": {},
   "outputs": [
    {
     "data": {
      "text/plain": [
       "'upGradaa'"
      ]
     },
     "execution_count": 15,
     "metadata": {},
     "output_type": "execute_result"
    }
   ],
   "source": [
    "s"
   ]
  },
  {
   "cell_type": "code",
   "execution_count": 16,
   "id": "441123b7",
   "metadata": {},
   "outputs": [
    {
     "data": {
      "text/plain": [
       "'Data'"
      ]
     },
     "execution_count": 16,
     "metadata": {},
     "output_type": "execute_result"
    }
   ],
   "source": [
    "'data'.title()"
   ]
  },
  {
   "cell_type": "code",
   "execution_count": null,
   "id": "8c2cbd5e",
   "metadata": {},
   "outputs": [],
   "source": []
  }
 ],
 "metadata": {
  "kernelspec": {
   "display_name": "Python 3 (ipykernel)",
   "language": "python",
   "name": "python3"
  },
  "language_info": {
   "codemirror_mode": {
    "name": "ipython",
    "version": 3
   },
   "file_extension": ".py",
   "mimetype": "text/x-python",
   "name": "python",
   "nbconvert_exporter": "python",
   "pygments_lexer": "ipython3",
   "version": "3.9.7"
  }
 },
 "nbformat": 4,
 "nbformat_minor": 5
}
