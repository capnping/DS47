{
 "cells": [
  {
   "cell_type": "code",
   "execution_count": 1,
   "id": "57e96b15",
   "metadata": {},
   "outputs": [],
   "source": [
    "import pandas as pd\n",
    "import numpy as np\n",
    "import matplotlib.pyplot as plt\n",
    "import seaborn as sns\n",
    "\n",
    "import warnings\n",
    "warnings.filterwarnings('ignore')"
   ]
  },
  {
   "cell_type": "code",
   "execution_count": 2,
   "id": "bde8d6ab",
   "metadata": {},
   "outputs": [],
   "source": [
    "telecom = pd.read_csv('telecom_churn_data.csv')"
   ]
  },
  {
   "cell_type": "code",
   "execution_count": 3,
   "id": "8dd8fa84",
   "metadata": {},
   "outputs": [
    {
     "data": {
      "text/plain": [
       "(99999, 226)"
      ]
     },
     "execution_count": 3,
     "metadata": {},
     "output_type": "execute_result"
    }
   ],
   "source": [
    "telecom.shape"
   ]
  },
  {
   "cell_type": "code",
   "execution_count": 4,
   "id": "7a8ea9d8",
   "metadata": {},
   "outputs": [
    {
     "data": {
      "text/html": [
       "<div>\n",
       "<style scoped>\n",
       "    .dataframe tbody tr th:only-of-type {\n",
       "        vertical-align: middle;\n",
       "    }\n",
       "\n",
       "    .dataframe tbody tr th {\n",
       "        vertical-align: top;\n",
       "    }\n",
       "\n",
       "    .dataframe thead th {\n",
       "        text-align: right;\n",
       "    }\n",
       "</style>\n",
       "<table border=\"1\" class=\"dataframe\">\n",
       "  <thead>\n",
       "    <tr style=\"text-align: right;\">\n",
       "      <th></th>\n",
       "      <th>mobile_number</th>\n",
       "      <th>circle_id</th>\n",
       "      <th>loc_og_t2o_mou</th>\n",
       "      <th>std_og_t2o_mou</th>\n",
       "      <th>loc_ic_t2o_mou</th>\n",
       "      <th>arpu_6</th>\n",
       "      <th>arpu_7</th>\n",
       "      <th>arpu_8</th>\n",
       "      <th>arpu_9</th>\n",
       "      <th>onnet_mou_6</th>\n",
       "      <th>...</th>\n",
       "      <th>sachet_3g_9</th>\n",
       "      <th>fb_user_6</th>\n",
       "      <th>fb_user_7</th>\n",
       "      <th>fb_user_8</th>\n",
       "      <th>fb_user_9</th>\n",
       "      <th>aon</th>\n",
       "      <th>aug_vbc_3g</th>\n",
       "      <th>jul_vbc_3g</th>\n",
       "      <th>jun_vbc_3g</th>\n",
       "      <th>sep_vbc_3g</th>\n",
       "    </tr>\n",
       "  </thead>\n",
       "  <tbody>\n",
       "    <tr>\n",
       "      <th>count</th>\n",
       "      <td>9.999900e+04</td>\n",
       "      <td>99999.0</td>\n",
       "      <td>98981.0</td>\n",
       "      <td>98981.0</td>\n",
       "      <td>98981.0</td>\n",
       "      <td>99999.000000</td>\n",
       "      <td>99999.000000</td>\n",
       "      <td>99999.000000</td>\n",
       "      <td>99999.000000</td>\n",
       "      <td>96062.000000</td>\n",
       "      <td>...</td>\n",
       "      <td>99999.000000</td>\n",
       "      <td>25153.000000</td>\n",
       "      <td>25571.000000</td>\n",
       "      <td>26339.000000</td>\n",
       "      <td>25922.000000</td>\n",
       "      <td>99999.000000</td>\n",
       "      <td>99999.000000</td>\n",
       "      <td>99999.000000</td>\n",
       "      <td>99999.000000</td>\n",
       "      <td>99999.000000</td>\n",
       "    </tr>\n",
       "    <tr>\n",
       "      <th>mean</th>\n",
       "      <td>7.001207e+09</td>\n",
       "      <td>109.0</td>\n",
       "      <td>0.0</td>\n",
       "      <td>0.0</td>\n",
       "      <td>0.0</td>\n",
       "      <td>282.987358</td>\n",
       "      <td>278.536648</td>\n",
       "      <td>279.154731</td>\n",
       "      <td>261.645069</td>\n",
       "      <td>132.395875</td>\n",
       "      <td>...</td>\n",
       "      <td>0.084581</td>\n",
       "      <td>0.914404</td>\n",
       "      <td>0.908764</td>\n",
       "      <td>0.890808</td>\n",
       "      <td>0.860968</td>\n",
       "      <td>1219.854749</td>\n",
       "      <td>68.170248</td>\n",
       "      <td>66.839062</td>\n",
       "      <td>60.021204</td>\n",
       "      <td>3.299373</td>\n",
       "    </tr>\n",
       "    <tr>\n",
       "      <th>std</th>\n",
       "      <td>6.956694e+05</td>\n",
       "      <td>0.0</td>\n",
       "      <td>0.0</td>\n",
       "      <td>0.0</td>\n",
       "      <td>0.0</td>\n",
       "      <td>328.439770</td>\n",
       "      <td>338.156291</td>\n",
       "      <td>344.474791</td>\n",
       "      <td>341.998630</td>\n",
       "      <td>297.207406</td>\n",
       "      <td>...</td>\n",
       "      <td>0.650457</td>\n",
       "      <td>0.279772</td>\n",
       "      <td>0.287950</td>\n",
       "      <td>0.311885</td>\n",
       "      <td>0.345987</td>\n",
       "      <td>954.733842</td>\n",
       "      <td>267.580450</td>\n",
       "      <td>271.201856</td>\n",
       "      <td>253.938223</td>\n",
       "      <td>32.408353</td>\n",
       "    </tr>\n",
       "    <tr>\n",
       "      <th>min</th>\n",
       "      <td>7.000000e+09</td>\n",
       "      <td>109.0</td>\n",
       "      <td>0.0</td>\n",
       "      <td>0.0</td>\n",
       "      <td>0.0</td>\n",
       "      <td>-2258.709000</td>\n",
       "      <td>-2014.045000</td>\n",
       "      <td>-945.808000</td>\n",
       "      <td>-1899.505000</td>\n",
       "      <td>0.000000</td>\n",
       "      <td>...</td>\n",
       "      <td>0.000000</td>\n",
       "      <td>0.000000</td>\n",
       "      <td>0.000000</td>\n",
       "      <td>0.000000</td>\n",
       "      <td>0.000000</td>\n",
       "      <td>180.000000</td>\n",
       "      <td>0.000000</td>\n",
       "      <td>0.000000</td>\n",
       "      <td>0.000000</td>\n",
       "      <td>0.000000</td>\n",
       "    </tr>\n",
       "    <tr>\n",
       "      <th>25%</th>\n",
       "      <td>7.000606e+09</td>\n",
       "      <td>109.0</td>\n",
       "      <td>0.0</td>\n",
       "      <td>0.0</td>\n",
       "      <td>0.0</td>\n",
       "      <td>93.411500</td>\n",
       "      <td>86.980500</td>\n",
       "      <td>84.126000</td>\n",
       "      <td>62.685000</td>\n",
       "      <td>7.380000</td>\n",
       "      <td>...</td>\n",
       "      <td>0.000000</td>\n",
       "      <td>1.000000</td>\n",
       "      <td>1.000000</td>\n",
       "      <td>1.000000</td>\n",
       "      <td>1.000000</td>\n",
       "      <td>467.000000</td>\n",
       "      <td>0.000000</td>\n",
       "      <td>0.000000</td>\n",
       "      <td>0.000000</td>\n",
       "      <td>0.000000</td>\n",
       "    </tr>\n",
       "    <tr>\n",
       "      <th>50%</th>\n",
       "      <td>7.001205e+09</td>\n",
       "      <td>109.0</td>\n",
       "      <td>0.0</td>\n",
       "      <td>0.0</td>\n",
       "      <td>0.0</td>\n",
       "      <td>197.704000</td>\n",
       "      <td>191.640000</td>\n",
       "      <td>192.080000</td>\n",
       "      <td>176.849000</td>\n",
       "      <td>34.310000</td>\n",
       "      <td>...</td>\n",
       "      <td>0.000000</td>\n",
       "      <td>1.000000</td>\n",
       "      <td>1.000000</td>\n",
       "      <td>1.000000</td>\n",
       "      <td>1.000000</td>\n",
       "      <td>863.000000</td>\n",
       "      <td>0.000000</td>\n",
       "      <td>0.000000</td>\n",
       "      <td>0.000000</td>\n",
       "      <td>0.000000</td>\n",
       "    </tr>\n",
       "    <tr>\n",
       "      <th>75%</th>\n",
       "      <td>7.001812e+09</td>\n",
       "      <td>109.0</td>\n",
       "      <td>0.0</td>\n",
       "      <td>0.0</td>\n",
       "      <td>0.0</td>\n",
       "      <td>371.060000</td>\n",
       "      <td>365.344500</td>\n",
       "      <td>369.370500</td>\n",
       "      <td>353.466500</td>\n",
       "      <td>118.740000</td>\n",
       "      <td>...</td>\n",
       "      <td>0.000000</td>\n",
       "      <td>1.000000</td>\n",
       "      <td>1.000000</td>\n",
       "      <td>1.000000</td>\n",
       "      <td>1.000000</td>\n",
       "      <td>1807.500000</td>\n",
       "      <td>0.000000</td>\n",
       "      <td>0.000000</td>\n",
       "      <td>0.000000</td>\n",
       "      <td>0.000000</td>\n",
       "    </tr>\n",
       "    <tr>\n",
       "      <th>max</th>\n",
       "      <td>7.002411e+09</td>\n",
       "      <td>109.0</td>\n",
       "      <td>0.0</td>\n",
       "      <td>0.0</td>\n",
       "      <td>0.0</td>\n",
       "      <td>27731.088000</td>\n",
       "      <td>35145.834000</td>\n",
       "      <td>33543.624000</td>\n",
       "      <td>38805.617000</td>\n",
       "      <td>7376.710000</td>\n",
       "      <td>...</td>\n",
       "      <td>49.000000</td>\n",
       "      <td>1.000000</td>\n",
       "      <td>1.000000</td>\n",
       "      <td>1.000000</td>\n",
       "      <td>1.000000</td>\n",
       "      <td>4337.000000</td>\n",
       "      <td>12916.220000</td>\n",
       "      <td>9165.600000</td>\n",
       "      <td>11166.210000</td>\n",
       "      <td>2618.570000</td>\n",
       "    </tr>\n",
       "  </tbody>\n",
       "</table>\n",
       "<p>8 rows × 214 columns</p>\n",
       "</div>"
      ],
      "text/plain": [
       "       mobile_number  circle_id  loc_og_t2o_mou  std_og_t2o_mou  \\\n",
       "count   9.999900e+04    99999.0         98981.0         98981.0   \n",
       "mean    7.001207e+09      109.0             0.0             0.0   \n",
       "std     6.956694e+05        0.0             0.0             0.0   \n",
       "min     7.000000e+09      109.0             0.0             0.0   \n",
       "25%     7.000606e+09      109.0             0.0             0.0   \n",
       "50%     7.001205e+09      109.0             0.0             0.0   \n",
       "75%     7.001812e+09      109.0             0.0             0.0   \n",
       "max     7.002411e+09      109.0             0.0             0.0   \n",
       "\n",
       "       loc_ic_t2o_mou        arpu_6        arpu_7        arpu_8        arpu_9  \\\n",
       "count         98981.0  99999.000000  99999.000000  99999.000000  99999.000000   \n",
       "mean              0.0    282.987358    278.536648    279.154731    261.645069   \n",
       "std               0.0    328.439770    338.156291    344.474791    341.998630   \n",
       "min               0.0  -2258.709000  -2014.045000   -945.808000  -1899.505000   \n",
       "25%               0.0     93.411500     86.980500     84.126000     62.685000   \n",
       "50%               0.0    197.704000    191.640000    192.080000    176.849000   \n",
       "75%               0.0    371.060000    365.344500    369.370500    353.466500   \n",
       "max               0.0  27731.088000  35145.834000  33543.624000  38805.617000   \n",
       "\n",
       "        onnet_mou_6  ...   sachet_3g_9     fb_user_6     fb_user_7  \\\n",
       "count  96062.000000  ...  99999.000000  25153.000000  25571.000000   \n",
       "mean     132.395875  ...      0.084581      0.914404      0.908764   \n",
       "std      297.207406  ...      0.650457      0.279772      0.287950   \n",
       "min        0.000000  ...      0.000000      0.000000      0.000000   \n",
       "25%        7.380000  ...      0.000000      1.000000      1.000000   \n",
       "50%       34.310000  ...      0.000000      1.000000      1.000000   \n",
       "75%      118.740000  ...      0.000000      1.000000      1.000000   \n",
       "max     7376.710000  ...     49.000000      1.000000      1.000000   \n",
       "\n",
       "          fb_user_8     fb_user_9           aon    aug_vbc_3g    jul_vbc_3g  \\\n",
       "count  26339.000000  25922.000000  99999.000000  99999.000000  99999.000000   \n",
       "mean       0.890808      0.860968   1219.854749     68.170248     66.839062   \n",
       "std        0.311885      0.345987    954.733842    267.580450    271.201856   \n",
       "min        0.000000      0.000000    180.000000      0.000000      0.000000   \n",
       "25%        1.000000      1.000000    467.000000      0.000000      0.000000   \n",
       "50%        1.000000      1.000000    863.000000      0.000000      0.000000   \n",
       "75%        1.000000      1.000000   1807.500000      0.000000      0.000000   \n",
       "max        1.000000      1.000000   4337.000000  12916.220000   9165.600000   \n",
       "\n",
       "         jun_vbc_3g    sep_vbc_3g  \n",
       "count  99999.000000  99999.000000  \n",
       "mean      60.021204      3.299373  \n",
       "std      253.938223     32.408353  \n",
       "min        0.000000      0.000000  \n",
       "25%        0.000000      0.000000  \n",
       "50%        0.000000      0.000000  \n",
       "75%        0.000000      0.000000  \n",
       "max    11166.210000   2618.570000  \n",
       "\n",
       "[8 rows x 214 columns]"
      ]
     },
     "execution_count": 4,
     "metadata": {},
     "output_type": "execute_result"
    }
   ],
   "source": [
    "telecom.describe()"
   ]
  },
  {
   "cell_type": "code",
   "execution_count": 5,
   "id": "1d550db8",
   "metadata": {},
   "outputs": [
    {
     "name": "stdout",
     "output_type": "stream",
     "text": [
      "<class 'pandas.core.frame.DataFrame'>\n",
      "RangeIndex: 99999 entries, 0 to 99998\n",
      "Columns: 226 entries, mobile_number to sep_vbc_3g\n",
      "dtypes: float64(179), int64(35), object(12)\n",
      "memory usage: 172.4+ MB\n"
     ]
    }
   ],
   "source": [
    "telecom.info()"
   ]
  },
  {
   "cell_type": "markdown",
   "id": "1cf6ba8d",
   "metadata": {},
   "source": [
    "### Data Treatment"
   ]
  },
  {
   "cell_type": "markdown",
   "id": "96b0f901",
   "metadata": {},
   "source": [
    "#### do we need to convert the data?"
   ]
  },
  {
   "cell_type": "code",
   "execution_count": 6,
   "id": "890637db",
   "metadata": {},
   "outputs": [
    {
     "data": {
      "text/html": [
       "<div>\n",
       "<style scoped>\n",
       "    .dataframe tbody tr th:only-of-type {\n",
       "        vertical-align: middle;\n",
       "    }\n",
       "\n",
       "    .dataframe tbody tr th {\n",
       "        vertical-align: top;\n",
       "    }\n",
       "\n",
       "    .dataframe thead th {\n",
       "        text-align: right;\n",
       "    }\n",
       "</style>\n",
       "<table border=\"1\" class=\"dataframe\">\n",
       "  <thead>\n",
       "    <tr style=\"text-align: right;\">\n",
       "      <th></th>\n",
       "      <th>last_date_of_month_6</th>\n",
       "      <th>last_date_of_month_7</th>\n",
       "      <th>last_date_of_month_8</th>\n",
       "      <th>last_date_of_month_9</th>\n",
       "      <th>date_of_last_rech_6</th>\n",
       "      <th>date_of_last_rech_7</th>\n",
       "      <th>date_of_last_rech_8</th>\n",
       "      <th>date_of_last_rech_9</th>\n",
       "      <th>date_of_last_rech_data_6</th>\n",
       "      <th>date_of_last_rech_data_7</th>\n",
       "      <th>date_of_last_rech_data_8</th>\n",
       "      <th>date_of_last_rech_data_9</th>\n",
       "    </tr>\n",
       "  </thead>\n",
       "  <tbody>\n",
       "    <tr>\n",
       "      <th>0</th>\n",
       "      <td>6/30/2014</td>\n",
       "      <td>7/31/2014</td>\n",
       "      <td>8/31/2014</td>\n",
       "      <td>9/30/2014</td>\n",
       "      <td>6/21/2014</td>\n",
       "      <td>7/16/2014</td>\n",
       "      <td>8/8/2014</td>\n",
       "      <td>9/28/2014</td>\n",
       "      <td>6/21/2014</td>\n",
       "      <td>7/16/2014</td>\n",
       "      <td>8/8/2014</td>\n",
       "      <td>NaN</td>\n",
       "    </tr>\n",
       "    <tr>\n",
       "      <th>1</th>\n",
       "      <td>6/30/2014</td>\n",
       "      <td>7/31/2014</td>\n",
       "      <td>8/31/2014</td>\n",
       "      <td>9/30/2014</td>\n",
       "      <td>6/29/2014</td>\n",
       "      <td>7/31/2014</td>\n",
       "      <td>8/28/2014</td>\n",
       "      <td>9/30/2014</td>\n",
       "      <td>NaN</td>\n",
       "      <td>7/25/2014</td>\n",
       "      <td>8/10/2014</td>\n",
       "      <td>NaN</td>\n",
       "    </tr>\n",
       "    <tr>\n",
       "      <th>2</th>\n",
       "      <td>6/30/2014</td>\n",
       "      <td>7/31/2014</td>\n",
       "      <td>8/31/2014</td>\n",
       "      <td>9/30/2014</td>\n",
       "      <td>6/17/2014</td>\n",
       "      <td>7/24/2014</td>\n",
       "      <td>8/14/2014</td>\n",
       "      <td>9/29/2014</td>\n",
       "      <td>NaN</td>\n",
       "      <td>NaN</td>\n",
       "      <td>NaN</td>\n",
       "      <td>9/17/2014</td>\n",
       "    </tr>\n",
       "    <tr>\n",
       "      <th>3</th>\n",
       "      <td>6/30/2014</td>\n",
       "      <td>7/31/2014</td>\n",
       "      <td>8/31/2014</td>\n",
       "      <td>9/30/2014</td>\n",
       "      <td>6/28/2014</td>\n",
       "      <td>7/31/2014</td>\n",
       "      <td>8/31/2014</td>\n",
       "      <td>9/30/2014</td>\n",
       "      <td>NaN</td>\n",
       "      <td>NaN</td>\n",
       "      <td>NaN</td>\n",
       "      <td>NaN</td>\n",
       "    </tr>\n",
       "    <tr>\n",
       "      <th>4</th>\n",
       "      <td>6/30/2014</td>\n",
       "      <td>7/31/2014</td>\n",
       "      <td>8/31/2014</td>\n",
       "      <td>9/30/2014</td>\n",
       "      <td>6/26/2014</td>\n",
       "      <td>7/28/2014</td>\n",
       "      <td>8/9/2014</td>\n",
       "      <td>9/28/2014</td>\n",
       "      <td>6/4/2014</td>\n",
       "      <td>NaN</td>\n",
       "      <td>NaN</td>\n",
       "      <td>NaN</td>\n",
       "    </tr>\n",
       "    <tr>\n",
       "      <th>...</th>\n",
       "      <td>...</td>\n",
       "      <td>...</td>\n",
       "      <td>...</td>\n",
       "      <td>...</td>\n",
       "      <td>...</td>\n",
       "      <td>...</td>\n",
       "      <td>...</td>\n",
       "      <td>...</td>\n",
       "      <td>...</td>\n",
       "      <td>...</td>\n",
       "      <td>...</td>\n",
       "      <td>...</td>\n",
       "    </tr>\n",
       "    <tr>\n",
       "      <th>99994</th>\n",
       "      <td>6/30/2014</td>\n",
       "      <td>7/31/2014</td>\n",
       "      <td>8/31/2014</td>\n",
       "      <td>9/30/2014</td>\n",
       "      <td>6/3/2014</td>\n",
       "      <td>7/20/2014</td>\n",
       "      <td>8/26/2014</td>\n",
       "      <td>9/25/2014</td>\n",
       "      <td>NaN</td>\n",
       "      <td>NaN</td>\n",
       "      <td>NaN</td>\n",
       "      <td>NaN</td>\n",
       "    </tr>\n",
       "    <tr>\n",
       "      <th>99995</th>\n",
       "      <td>6/30/2014</td>\n",
       "      <td>7/31/2014</td>\n",
       "      <td>8/31/2014</td>\n",
       "      <td>9/30/2014</td>\n",
       "      <td>6/17/2014</td>\n",
       "      <td>7/17/2014</td>\n",
       "      <td>8/24/2014</td>\n",
       "      <td>9/26/2014</td>\n",
       "      <td>NaN</td>\n",
       "      <td>NaN</td>\n",
       "      <td>NaN</td>\n",
       "      <td>NaN</td>\n",
       "    </tr>\n",
       "    <tr>\n",
       "      <th>99996</th>\n",
       "      <td>6/30/2014</td>\n",
       "      <td>7/31/2014</td>\n",
       "      <td>8/31/2014</td>\n",
       "      <td>9/30/2014</td>\n",
       "      <td>6/13/2014</td>\n",
       "      <td>7/26/2014</td>\n",
       "      <td>NaN</td>\n",
       "      <td>9/2/2014</td>\n",
       "      <td>6/13/2014</td>\n",
       "      <td>NaN</td>\n",
       "      <td>NaN</td>\n",
       "      <td>NaN</td>\n",
       "    </tr>\n",
       "    <tr>\n",
       "      <th>99997</th>\n",
       "      <td>6/30/2014</td>\n",
       "      <td>7/31/2014</td>\n",
       "      <td>8/31/2014</td>\n",
       "      <td>9/30/2014</td>\n",
       "      <td>6/17/2014</td>\n",
       "      <td>7/19/2014</td>\n",
       "      <td>8/20/2014</td>\n",
       "      <td>9/17/2014</td>\n",
       "      <td>6/17/2014</td>\n",
       "      <td>7/19/2014</td>\n",
       "      <td>8/20/2014</td>\n",
       "      <td>9/17/2014</td>\n",
       "    </tr>\n",
       "    <tr>\n",
       "      <th>99998</th>\n",
       "      <td>6/30/2014</td>\n",
       "      <td>7/31/2014</td>\n",
       "      <td>8/31/2014</td>\n",
       "      <td>9/30/2014</td>\n",
       "      <td>6/16/2014</td>\n",
       "      <td>NaN</td>\n",
       "      <td>NaN</td>\n",
       "      <td>NaN</td>\n",
       "      <td>6/11/2014</td>\n",
       "      <td>NaN</td>\n",
       "      <td>NaN</td>\n",
       "      <td>NaN</td>\n",
       "    </tr>\n",
       "  </tbody>\n",
       "</table>\n",
       "<p>99999 rows × 12 columns</p>\n",
       "</div>"
      ],
      "text/plain": [
       "      last_date_of_month_6 last_date_of_month_7 last_date_of_month_8  \\\n",
       "0                6/30/2014            7/31/2014            8/31/2014   \n",
       "1                6/30/2014            7/31/2014            8/31/2014   \n",
       "2                6/30/2014            7/31/2014            8/31/2014   \n",
       "3                6/30/2014            7/31/2014            8/31/2014   \n",
       "4                6/30/2014            7/31/2014            8/31/2014   \n",
       "...                    ...                  ...                  ...   \n",
       "99994            6/30/2014            7/31/2014            8/31/2014   \n",
       "99995            6/30/2014            7/31/2014            8/31/2014   \n",
       "99996            6/30/2014            7/31/2014            8/31/2014   \n",
       "99997            6/30/2014            7/31/2014            8/31/2014   \n",
       "99998            6/30/2014            7/31/2014            8/31/2014   \n",
       "\n",
       "      last_date_of_month_9 date_of_last_rech_6 date_of_last_rech_7  \\\n",
       "0                9/30/2014           6/21/2014           7/16/2014   \n",
       "1                9/30/2014           6/29/2014           7/31/2014   \n",
       "2                9/30/2014           6/17/2014           7/24/2014   \n",
       "3                9/30/2014           6/28/2014           7/31/2014   \n",
       "4                9/30/2014           6/26/2014           7/28/2014   \n",
       "...                    ...                 ...                 ...   \n",
       "99994            9/30/2014            6/3/2014           7/20/2014   \n",
       "99995            9/30/2014           6/17/2014           7/17/2014   \n",
       "99996            9/30/2014           6/13/2014           7/26/2014   \n",
       "99997            9/30/2014           6/17/2014           7/19/2014   \n",
       "99998            9/30/2014           6/16/2014                 NaN   \n",
       "\n",
       "      date_of_last_rech_8 date_of_last_rech_9 date_of_last_rech_data_6  \\\n",
       "0                8/8/2014           9/28/2014                6/21/2014   \n",
       "1               8/28/2014           9/30/2014                      NaN   \n",
       "2               8/14/2014           9/29/2014                      NaN   \n",
       "3               8/31/2014           9/30/2014                      NaN   \n",
       "4                8/9/2014           9/28/2014                 6/4/2014   \n",
       "...                   ...                 ...                      ...   \n",
       "99994           8/26/2014           9/25/2014                      NaN   \n",
       "99995           8/24/2014           9/26/2014                      NaN   \n",
       "99996                 NaN            9/2/2014                6/13/2014   \n",
       "99997           8/20/2014           9/17/2014                6/17/2014   \n",
       "99998                 NaN                 NaN                6/11/2014   \n",
       "\n",
       "      date_of_last_rech_data_7 date_of_last_rech_data_8  \\\n",
       "0                    7/16/2014                 8/8/2014   \n",
       "1                    7/25/2014                8/10/2014   \n",
       "2                          NaN                      NaN   \n",
       "3                          NaN                      NaN   \n",
       "4                          NaN                      NaN   \n",
       "...                        ...                      ...   \n",
       "99994                      NaN                      NaN   \n",
       "99995                      NaN                      NaN   \n",
       "99996                      NaN                      NaN   \n",
       "99997                7/19/2014                8/20/2014   \n",
       "99998                      NaN                      NaN   \n",
       "\n",
       "      date_of_last_rech_data_9  \n",
       "0                          NaN  \n",
       "1                          NaN  \n",
       "2                    9/17/2014  \n",
       "3                          NaN  \n",
       "4                          NaN  \n",
       "...                        ...  \n",
       "99994                      NaN  \n",
       "99995                      NaN  \n",
       "99996                      NaN  \n",
       "99997                9/17/2014  \n",
       "99998                      NaN  \n",
       "\n",
       "[99999 rows x 12 columns]"
      ]
     },
     "execution_count": 6,
     "metadata": {},
     "output_type": "execute_result"
    }
   ],
   "source": [
    "numerics = ['int64', 'float64']\n",
    "telecom.select_dtypes(exclude=numerics)"
   ]
  },
  {
   "cell_type": "markdown",
   "id": "ec4b1b7e",
   "metadata": {},
   "source": [
    "columns which are not numeric are date and those date columns are not useful.\n",
    "- deleting the columns"
   ]
  },
  {
   "cell_type": "code",
   "execution_count": 7,
   "id": "c633cbcb",
   "metadata": {},
   "outputs": [],
   "source": [
    "date_cols = telecom.select_dtypes(exclude=numerics).columns"
   ]
  },
  {
   "cell_type": "code",
   "execution_count": 8,
   "id": "cffdfb13",
   "metadata": {},
   "outputs": [
    {
     "data": {
      "text/plain": [
       "Index(['last_date_of_month_6', 'last_date_of_month_7', 'last_date_of_month_8',\n",
       "       'last_date_of_month_9', 'date_of_last_rech_6', 'date_of_last_rech_7',\n",
       "       'date_of_last_rech_8', 'date_of_last_rech_9',\n",
       "       'date_of_last_rech_data_6', 'date_of_last_rech_data_7',\n",
       "       'date_of_last_rech_data_8', 'date_of_last_rech_data_9'],\n",
       "      dtype='object')"
      ]
     },
     "execution_count": 8,
     "metadata": {},
     "output_type": "execute_result"
    }
   ],
   "source": [
    "date_cols"
   ]
  },
  {
   "cell_type": "code",
   "execution_count": 9,
   "id": "476d9769",
   "metadata": {},
   "outputs": [],
   "source": [
    "telecom.drop(date_cols, axis=1, inplace=True)"
   ]
  },
  {
   "cell_type": "markdown",
   "id": "a7675c5b",
   "metadata": {},
   "source": [
    "#### No Variance in Data means no Info for model!"
   ]
  },
  {
   "cell_type": "code",
   "execution_count": 10,
   "id": "df12d038",
   "metadata": {},
   "outputs": [
    {
     "name": "stdout",
     "output_type": "stream",
     "text": [
      "circle_id:      0.0 \n",
      "loc_og_t2o_mou:      0.0 \n",
      "std_og_t2o_mou:      0.0 \n",
      "loc_ic_t2o_mou:      0.0 \n",
      "std_og_t2c_mou_6:      0.0 \n",
      "std_og_t2c_mou_7:      0.0 \n",
      "std_og_t2c_mou_8:      0.0 \n",
      "std_og_t2c_mou_9:      0.0 \n",
      "std_ic_t2o_mou_6:      0.0 \n",
      "std_ic_t2o_mou_7:      0.0 \n",
      "std_ic_t2o_mou_8:      0.0 \n",
      "std_ic_t2o_mou_9:      0.0 \n"
     ]
    }
   ],
   "source": [
    "for col in telecom.select_dtypes(include=numerics).columns:\n",
    "    std = np.std(telecom[col])\n",
    "    if not std:\n",
    "        print(f'{col}:      {std} ')"
   ]
  },
  {
   "cell_type": "code",
   "execution_count": 11,
   "id": "2ac5f0b1",
   "metadata": {},
   "outputs": [],
   "source": [
    "non_info_column = ['circle_id', 'loc_og_t2o_mou', 'std_og_t2o_mou', 'loc_ic_t2o_mou',\\\n",
    "                   'std_og_t2c_mou_6', 'std_og_t2c_mou_7', \n",
    "'std_og_t2c_mou_8','std_og_t2c_mou_9','std_ic_t2o_mou_6','std_ic_t2o_mou_7','std_ic_t2o_mou_8','std_ic_t2o_mou_9']"
   ]
  },
  {
   "cell_type": "code",
   "execution_count": 12,
   "id": "7e9e41da",
   "metadata": {},
   "outputs": [],
   "source": [
    "telecom = telecom.drop(non_info_column, axis = 1)"
   ]
  },
  {
   "cell_type": "code",
   "execution_count": 13,
   "id": "7078448d",
   "metadata": {},
   "outputs": [
    {
     "data": {
      "text/plain": [
       "(99999, 202)"
      ]
     },
     "execution_count": 13,
     "metadata": {},
     "output_type": "execute_result"
    }
   ],
   "source": [
    "telecom.shape"
   ]
  },
  {
   "cell_type": "markdown",
   "id": "925af2c7",
   "metadata": {},
   "source": [
    "### MIssing value"
   ]
  },
  {
   "cell_type": "code",
   "execution_count": 14,
   "id": "3c3ea74c",
   "metadata": {},
   "outputs": [
    {
     "data": {
      "text/plain": [
       "36"
      ]
     },
     "execution_count": 14,
     "metadata": {},
     "output_type": "execute_result"
    }
   ],
   "source": [
    "# Cheking percent of missing values in columns\n",
    "df_missing_columns = (round(((telecom.isnull().sum()/len(telecom.index))*100),2).to_frame('%')).sort_values('%', ascending=False)\n",
    "len(df_missing_columns[df_missing_columns['%'] > 40])"
   ]
  },
  {
   "cell_type": "markdown",
   "id": "a24e3ca9",
   "metadata": {},
   "source": [
    "#### columns with missing values more than 40%  == 40 columns"
   ]
  },
  {
   "cell_type": "code",
   "execution_count": 15,
   "id": "dae7229a",
   "metadata": {},
   "outputs": [
    {
     "data": {
      "text/plain": [
       "['count_rech_3g_6',\n",
       " 'fb_user_6',\n",
       " 'total_rech_data_6',\n",
       " 'max_rech_data_6',\n",
       " 'count_rech_2g_6',\n",
       " 'av_rech_amt_data_6',\n",
       " 'arpu_3g_6',\n",
       " 'night_pck_user_6',\n",
       " 'arpu_2g_6',\n",
       " 'arpu_3g_7',\n",
       " 'total_rech_data_7',\n",
       " 'fb_user_7',\n",
       " 'max_rech_data_7',\n",
       " 'count_rech_3g_7',\n",
       " 'arpu_2g_7',\n",
       " 'count_rech_2g_7',\n",
       " 'av_rech_amt_data_7',\n",
       " 'night_pck_user_7',\n",
       " 'count_rech_3g_9',\n",
       " 'fb_user_9',\n",
       " 'total_rech_data_9',\n",
       " 'arpu_3g_9',\n",
       " 'max_rech_data_9',\n",
       " 'count_rech_2g_9',\n",
       " 'av_rech_amt_data_9',\n",
       " 'arpu_2g_9',\n",
       " 'night_pck_user_9',\n",
       " 'total_rech_data_8',\n",
       " 'night_pck_user_8',\n",
       " 'max_rech_data_8',\n",
       " 'arpu_3g_8',\n",
       " 'count_rech_2g_8',\n",
       " 'count_rech_3g_8',\n",
       " 'av_rech_amt_data_8',\n",
       " 'arpu_2g_8',\n",
       " 'fb_user_8']"
      ]
     },
     "execution_count": 15,
     "metadata": {},
     "output_type": "execute_result"
    }
   ],
   "source": [
    "missing_columns = list(df_missing_columns[df_missing_columns['%'] > 40].index)\n",
    "missing_columns"
   ]
  },
  {
   "cell_type": "code",
   "execution_count": 16,
   "id": "b36a6c82",
   "metadata": {},
   "outputs": [],
   "source": [
    "telecom.drop(missing_columns, axis=1, inplace= True)"
   ]
  },
  {
   "cell_type": "code",
   "execution_count": 17,
   "id": "ddb784e7",
   "metadata": {},
   "outputs": [
    {
     "data": {
      "text/plain": [
       "(99999, 166)"
      ]
     },
     "execution_count": 17,
     "metadata": {},
     "output_type": "execute_result"
    }
   ],
   "source": [
    "telecom.shape"
   ]
  },
  {
   "cell_type": "markdown",
   "id": "d2992550",
   "metadata": {},
   "source": [
    "### filtering High Value customers\n",
    "-recharged with an amount more than or equal to X, where X is the 70th percentile of the average recharge amount in the first two months"
   ]
  },
  {
   "cell_type": "code",
   "execution_count": 18,
   "id": "629f2c6e",
   "metadata": {},
   "outputs": [],
   "source": [
    "month_6_7_avg = (telecom['total_rech_amt_6'] + telecom['total_rech_amt_7'])/2"
   ]
  },
  {
   "cell_type": "code",
   "execution_count": 19,
   "id": "a3ca0544",
   "metadata": {},
   "outputs": [],
   "source": [
    "recharge_70_quantile = month_6_7_avg.quantile(.7)"
   ]
  },
  {
   "cell_type": "code",
   "execution_count": 20,
   "id": "01dca2cb",
   "metadata": {},
   "outputs": [],
   "source": [
    "telecom =  telecom[month_6_7_avg >= recharge_70_quantile]"
   ]
  },
  {
   "cell_type": "code",
   "execution_count": 21,
   "id": "37f9052c",
   "metadata": {},
   "outputs": [
    {
     "data": {
      "text/plain": [
       "(30011, 166)"
      ]
     },
     "execution_count": 21,
     "metadata": {},
     "output_type": "execute_result"
    }
   ],
   "source": [
    "telecom.shape"
   ]
  },
  {
   "cell_type": "markdown",
   "id": "4e649556",
   "metadata": {},
   "source": [
    "### MOU Null data treatment"
   ]
  },
  {
   "cell_type": "code",
   "execution_count": 22,
   "id": "c7751557",
   "metadata": {},
   "outputs": [
    {
     "data": {
      "text/html": [
       "<div>\n",
       "<style scoped>\n",
       "    .dataframe tbody tr th:only-of-type {\n",
       "        vertical-align: middle;\n",
       "    }\n",
       "\n",
       "    .dataframe tbody tr th {\n",
       "        vertical-align: top;\n",
       "    }\n",
       "\n",
       "    .dataframe thead th {\n",
       "        text-align: right;\n",
       "    }\n",
       "</style>\n",
       "<table border=\"1\" class=\"dataframe\">\n",
       "  <thead>\n",
       "    <tr style=\"text-align: right;\">\n",
       "      <th></th>\n",
       "      <th>%</th>\n",
       "    </tr>\n",
       "  </thead>\n",
       "  <tbody>\n",
       "    <tr>\n",
       "      <th>og_others_9</th>\n",
       "      <td>0.056779</td>\n",
       "    </tr>\n",
       "    <tr>\n",
       "      <th>roam_ic_mou_9</th>\n",
       "      <td>0.056779</td>\n",
       "    </tr>\n",
       "    <tr>\n",
       "      <th>loc_og_t2f_mou_9</th>\n",
       "      <td>0.056779</td>\n",
       "    </tr>\n",
       "    <tr>\n",
       "      <th>loc_og_t2m_mou_9</th>\n",
       "      <td>0.056779</td>\n",
       "    </tr>\n",
       "    <tr>\n",
       "      <th>isd_og_mou_9</th>\n",
       "      <td>0.056779</td>\n",
       "    </tr>\n",
       "    <tr>\n",
       "      <th>...</th>\n",
       "      <td>...</td>\n",
       "    </tr>\n",
       "    <tr>\n",
       "      <th>max_rech_amt_8</th>\n",
       "      <td>0.000000</td>\n",
       "    </tr>\n",
       "    <tr>\n",
       "      <th>max_rech_amt_9</th>\n",
       "      <td>0.000000</td>\n",
       "    </tr>\n",
       "    <tr>\n",
       "      <th>last_day_rch_amt_6</th>\n",
       "      <td>0.000000</td>\n",
       "    </tr>\n",
       "    <tr>\n",
       "      <th>last_day_rch_amt_7</th>\n",
       "      <td>0.000000</td>\n",
       "    </tr>\n",
       "    <tr>\n",
       "      <th>sep_vbc_3g</th>\n",
       "      <td>0.000000</td>\n",
       "    </tr>\n",
       "  </tbody>\n",
       "</table>\n",
       "<p>166 rows × 1 columns</p>\n",
       "</div>"
      ],
      "text/plain": [
       "                           %\n",
       "og_others_9         0.056779\n",
       "roam_ic_mou_9       0.056779\n",
       "loc_og_t2f_mou_9    0.056779\n",
       "loc_og_t2m_mou_9    0.056779\n",
       "isd_og_mou_9        0.056779\n",
       "...                      ...\n",
       "max_rech_amt_8      0.000000\n",
       "max_rech_amt_9      0.000000\n",
       "last_day_rch_amt_6  0.000000\n",
       "last_day_rch_amt_7  0.000000\n",
       "sep_vbc_3g          0.000000\n",
       "\n",
       "[166 rows x 1 columns]"
      ]
     },
     "execution_count": 22,
     "metadata": {},
     "output_type": "execute_result"
    }
   ],
   "source": [
    "(telecom.isnull().sum()/telecom.shape[0]).to_frame('%').sort_values('%', ascending=False)"
   ]
  },
  {
   "cell_type": "code",
   "execution_count": 23,
   "id": "90d1aca3",
   "metadata": {},
   "outputs": [
    {
     "data": {
      "text/html": [
       "<div>\n",
       "<style scoped>\n",
       "    .dataframe tbody tr th:only-of-type {\n",
       "        vertical-align: middle;\n",
       "    }\n",
       "\n",
       "    .dataframe tbody tr th {\n",
       "        vertical-align: top;\n",
       "    }\n",
       "\n",
       "    .dataframe thead th {\n",
       "        text-align: right;\n",
       "    }\n",
       "</style>\n",
       "<table border=\"1\" class=\"dataframe\">\n",
       "  <thead>\n",
       "    <tr style=\"text-align: right;\">\n",
       "      <th></th>\n",
       "      <th>mobile_number</th>\n",
       "      <th>arpu_6</th>\n",
       "      <th>arpu_7</th>\n",
       "      <th>arpu_8</th>\n",
       "      <th>arpu_9</th>\n",
       "      <th>onnet_mou_6</th>\n",
       "      <th>onnet_mou_7</th>\n",
       "      <th>onnet_mou_8</th>\n",
       "      <th>onnet_mou_9</th>\n",
       "      <th>offnet_mou_6</th>\n",
       "      <th>...</th>\n",
       "      <th>monthly_3g_9</th>\n",
       "      <th>sachet_3g_6</th>\n",
       "      <th>sachet_3g_7</th>\n",
       "      <th>sachet_3g_8</th>\n",
       "      <th>sachet_3g_9</th>\n",
       "      <th>aon</th>\n",
       "      <th>aug_vbc_3g</th>\n",
       "      <th>jul_vbc_3g</th>\n",
       "      <th>jun_vbc_3g</th>\n",
       "      <th>sep_vbc_3g</th>\n",
       "    </tr>\n",
       "  </thead>\n",
       "  <tbody>\n",
       "    <tr>\n",
       "      <th>7</th>\n",
       "      <td>7000701601</td>\n",
       "      <td>1069.180</td>\n",
       "      <td>1349.850</td>\n",
       "      <td>3171.480</td>\n",
       "      <td>500.0</td>\n",
       "      <td>57.84</td>\n",
       "      <td>54.68</td>\n",
       "      <td>52.29</td>\n",
       "      <td>NaN</td>\n",
       "      <td>453.43</td>\n",
       "      <td>...</td>\n",
       "      <td>0</td>\n",
       "      <td>0</td>\n",
       "      <td>0</td>\n",
       "      <td>0</td>\n",
       "      <td>0</td>\n",
       "      <td>802</td>\n",
       "      <td>57.74</td>\n",
       "      <td>19.38</td>\n",
       "      <td>18.74</td>\n",
       "      <td>0.0</td>\n",
       "    </tr>\n",
       "    <tr>\n",
       "      <th>97</th>\n",
       "      <td>7000589828</td>\n",
       "      <td>374.863</td>\n",
       "      <td>294.023</td>\n",
       "      <td>183.043</td>\n",
       "      <td>0.0</td>\n",
       "      <td>433.59</td>\n",
       "      <td>415.66</td>\n",
       "      <td>221.06</td>\n",
       "      <td>NaN</td>\n",
       "      <td>74.54</td>\n",
       "      <td>...</td>\n",
       "      <td>0</td>\n",
       "      <td>0</td>\n",
       "      <td>0</td>\n",
       "      <td>0</td>\n",
       "      <td>0</td>\n",
       "      <td>502</td>\n",
       "      <td>0.00</td>\n",
       "      <td>0.00</td>\n",
       "      <td>0.00</td>\n",
       "      <td>0.0</td>\n",
       "    </tr>\n",
       "    <tr>\n",
       "      <th>111</th>\n",
       "      <td>7001300706</td>\n",
       "      <td>596.301</td>\n",
       "      <td>146.073</td>\n",
       "      <td>0.000</td>\n",
       "      <td>0.0</td>\n",
       "      <td>55.19</td>\n",
       "      <td>3.26</td>\n",
       "      <td>NaN</td>\n",
       "      <td>NaN</td>\n",
       "      <td>45.51</td>\n",
       "      <td>...</td>\n",
       "      <td>0</td>\n",
       "      <td>1</td>\n",
       "      <td>0</td>\n",
       "      <td>0</td>\n",
       "      <td>0</td>\n",
       "      <td>332</td>\n",
       "      <td>0.00</td>\n",
       "      <td>0.00</td>\n",
       "      <td>0.00</td>\n",
       "      <td>0.0</td>\n",
       "    </tr>\n",
       "    <tr>\n",
       "      <th>143</th>\n",
       "      <td>7000106299</td>\n",
       "      <td>695.609</td>\n",
       "      <td>39.981</td>\n",
       "      <td>0.000</td>\n",
       "      <td>0.0</td>\n",
       "      <td>1325.91</td>\n",
       "      <td>28.61</td>\n",
       "      <td>NaN</td>\n",
       "      <td>NaN</td>\n",
       "      <td>13.91</td>\n",
       "      <td>...</td>\n",
       "      <td>0</td>\n",
       "      <td>0</td>\n",
       "      <td>0</td>\n",
       "      <td>0</td>\n",
       "      <td>0</td>\n",
       "      <td>264</td>\n",
       "      <td>0.00</td>\n",
       "      <td>0.00</td>\n",
       "      <td>0.00</td>\n",
       "      <td>0.0</td>\n",
       "    </tr>\n",
       "    <tr>\n",
       "      <th>188</th>\n",
       "      <td>7000340381</td>\n",
       "      <td>734.641</td>\n",
       "      <td>183.668</td>\n",
       "      <td>0.000</td>\n",
       "      <td>0.0</td>\n",
       "      <td>4.38</td>\n",
       "      <td>0.98</td>\n",
       "      <td>NaN</td>\n",
       "      <td>NaN</td>\n",
       "      <td>105.16</td>\n",
       "      <td>...</td>\n",
       "      <td>0</td>\n",
       "      <td>0</td>\n",
       "      <td>0</td>\n",
       "      <td>0</td>\n",
       "      <td>0</td>\n",
       "      <td>244</td>\n",
       "      <td>0.00</td>\n",
       "      <td>831.48</td>\n",
       "      <td>1223.04</td>\n",
       "      <td>0.0</td>\n",
       "    </tr>\n",
       "  </tbody>\n",
       "</table>\n",
       "<p>5 rows × 166 columns</p>\n",
       "</div>"
      ],
      "text/plain": [
       "     mobile_number    arpu_6    arpu_7    arpu_8  arpu_9  onnet_mou_6  \\\n",
       "7       7000701601  1069.180  1349.850  3171.480   500.0        57.84   \n",
       "97      7000589828   374.863   294.023   183.043     0.0       433.59   \n",
       "111     7001300706   596.301   146.073     0.000     0.0        55.19   \n",
       "143     7000106299   695.609    39.981     0.000     0.0      1325.91   \n",
       "188     7000340381   734.641   183.668     0.000     0.0         4.38   \n",
       "\n",
       "     onnet_mou_7  onnet_mou_8  onnet_mou_9  offnet_mou_6  ...  monthly_3g_9  \\\n",
       "7          54.68        52.29          NaN        453.43  ...             0   \n",
       "97        415.66       221.06          NaN         74.54  ...             0   \n",
       "111         3.26          NaN          NaN         45.51  ...             0   \n",
       "143        28.61          NaN          NaN         13.91  ...             0   \n",
       "188         0.98          NaN          NaN        105.16  ...             0   \n",
       "\n",
       "     sachet_3g_6  sachet_3g_7  sachet_3g_8  sachet_3g_9  aon  aug_vbc_3g  \\\n",
       "7              0            0            0            0  802       57.74   \n",
       "97             0            0            0            0  502        0.00   \n",
       "111            1            0            0            0  332        0.00   \n",
       "143            0            0            0            0  264        0.00   \n",
       "188            0            0            0            0  244        0.00   \n",
       "\n",
       "     jul_vbc_3g  jun_vbc_3g  sep_vbc_3g  \n",
       "7         19.38       18.74         0.0  \n",
       "97         0.00        0.00         0.0  \n",
       "111        0.00        0.00         0.0  \n",
       "143        0.00        0.00         0.0  \n",
       "188      831.48     1223.04         0.0  \n",
       "\n",
       "[5 rows x 166 columns]"
      ]
     },
     "execution_count": 23,
     "metadata": {},
     "output_type": "execute_result"
    }
   ],
   "source": [
    "# Creating a dataframe with the condition, in which MOU for Sep(9) are null\n",
    "telecom_null_mou_9 = telecom[(telecom['loc_og_t2m_mou_9'].isnull()) & (telecom['loc_ic_t2f_mou_9'].isnull()) & (telecom['roam_og_mou_9'].isnull()) & (telecom['std_ic_t2m_mou_9'].isnull()) &\n",
    "  (telecom['loc_og_t2t_mou_9'].isnull()) & (telecom['std_ic_t2t_mou_9'].isnull()) & (telecom['loc_og_t2f_mou_9'].isnull()) & (telecom['loc_ic_mou_9'].isnull()) &\n",
    "  (telecom['loc_og_t2c_mou_9'].isnull()) & (telecom['loc_og_mou_9'].isnull()) & (telecom['std_og_t2t_mou_9'].isnull()) & (telecom['roam_ic_mou_9'].isnull()) &\n",
    "  (telecom['loc_ic_t2m_mou_9'].isnull()) & (telecom['std_og_t2m_mou_9'].isnull()) & (telecom['loc_ic_t2t_mou_9'].isnull()) & (telecom['std_og_t2f_mou_9'].isnull()) & \n",
    "  (telecom['og_others_9'].isnull()) & (telecom['std_og_mou_9'].isnull()) & (telecom['spl_og_mou_9'].isnull()) & \n",
    "  (telecom['std_ic_t2f_mou_9'].isnull()) & (telecom['isd_og_mou_9'].isnull()) & (telecom['std_ic_mou_9'].isnull()) & (telecom['offnet_mou_9'].isnull()) & \n",
    "  (telecom['isd_ic_mou_9'].isnull()) & (telecom['ic_others_9'].isnull()) & (telecom['onnet_mou_9'].isnull()) & \n",
    "  (telecom['spl_ic_mou_9'].isnull())]\n",
    "\n",
    "telecom_null_mou_9.head()"
   ]
  },
  {
   "cell_type": "code",
   "execution_count": 24,
   "id": "79fc698c",
   "metadata": {},
   "outputs": [
    {
     "data": {
      "text/plain": [
       "(1704, 166)"
      ]
     },
     "execution_count": 24,
     "metadata": {},
     "output_type": "execute_result"
    }
   ],
   "source": [
    "telecom_null_mou_9.shape"
   ]
  },
  {
   "cell_type": "code",
   "execution_count": 25,
   "id": "c583579a",
   "metadata": {},
   "outputs": [],
   "source": [
    "# drop the rows where we don't have actual outcome\n",
    "telecom.drop(telecom_null_mou_9.index, inplace=True)"
   ]
  },
  {
   "cell_type": "markdown",
   "id": "8ae24886",
   "metadata": {},
   "source": [
    "#### Month #8"
   ]
  },
  {
   "cell_type": "code",
   "execution_count": 26,
   "id": "15fb27aa",
   "metadata": {},
   "outputs": [
    {
     "data": {
      "text/html": [
       "<div>\n",
       "<style scoped>\n",
       "    .dataframe tbody tr th:only-of-type {\n",
       "        vertical-align: middle;\n",
       "    }\n",
       "\n",
       "    .dataframe tbody tr th {\n",
       "        vertical-align: top;\n",
       "    }\n",
       "\n",
       "    .dataframe thead th {\n",
       "        text-align: right;\n",
       "    }\n",
       "</style>\n",
       "<table border=\"1\" class=\"dataframe\">\n",
       "  <thead>\n",
       "    <tr style=\"text-align: right;\">\n",
       "      <th></th>\n",
       "      <th>%</th>\n",
       "    </tr>\n",
       "  </thead>\n",
       "  <tbody>\n",
       "    <tr>\n",
       "      <th>loc_ic_t2f_mou_8</th>\n",
       "      <td>0.55</td>\n",
       "    </tr>\n",
       "    <tr>\n",
       "      <th>loc_og_t2f_mou_8</th>\n",
       "      <td>0.55</td>\n",
       "    </tr>\n",
       "    <tr>\n",
       "      <th>spl_og_mou_8</th>\n",
       "      <td>0.55</td>\n",
       "    </tr>\n",
       "    <tr>\n",
       "      <th>loc_og_t2m_mou_8</th>\n",
       "      <td>0.55</td>\n",
       "    </tr>\n",
       "    <tr>\n",
       "      <th>loc_ic_t2t_mou_8</th>\n",
       "      <td>0.55</td>\n",
       "    </tr>\n",
       "    <tr>\n",
       "      <th>...</th>\n",
       "      <td>...</td>\n",
       "    </tr>\n",
       "    <tr>\n",
       "      <th>arpu_6</th>\n",
       "      <td>0.00</td>\n",
       "    </tr>\n",
       "    <tr>\n",
       "      <th>loc_ic_t2m_mou_9</th>\n",
       "      <td>0.00</td>\n",
       "    </tr>\n",
       "    <tr>\n",
       "      <th>loc_ic_t2t_mou_9</th>\n",
       "      <td>0.00</td>\n",
       "    </tr>\n",
       "    <tr>\n",
       "      <th>total_og_mou_9</th>\n",
       "      <td>0.00</td>\n",
       "    </tr>\n",
       "    <tr>\n",
       "      <th>sep_vbc_3g</th>\n",
       "      <td>0.00</td>\n",
       "    </tr>\n",
       "  </tbody>\n",
       "</table>\n",
       "<p>166 rows × 1 columns</p>\n",
       "</div>"
      ],
      "text/plain": [
       "                     %\n",
       "loc_ic_t2f_mou_8  0.55\n",
       "loc_og_t2f_mou_8  0.55\n",
       "spl_og_mou_8      0.55\n",
       "loc_og_t2m_mou_8  0.55\n",
       "loc_ic_t2t_mou_8  0.55\n",
       "...                ...\n",
       "arpu_6            0.00\n",
       "loc_ic_t2m_mou_9  0.00\n",
       "loc_ic_t2t_mou_9  0.00\n",
       "total_og_mou_9    0.00\n",
       "sep_vbc_3g        0.00\n",
       "\n",
       "[166 rows x 1 columns]"
      ]
     },
     "execution_count": 26,
     "metadata": {},
     "output_type": "execute_result"
    }
   ],
   "source": [
    "telecom_missing_columns = (round(((telecom.isnull().sum()/len(telecom.index))*100),2).to_frame('%')).sort_values('%', ascending=False)\n",
    "telecom_missing_columns"
   ]
  },
  {
   "cell_type": "code",
   "execution_count": 27,
   "id": "8a06d6cf",
   "metadata": {},
   "outputs": [],
   "source": [
    "missing_8_month_col = telecom_missing_columns[telecom_missing_columns['%'] == 0.55].index.to_list()"
   ]
  },
  {
   "cell_type": "code",
   "execution_count": 28,
   "id": "ac06c585",
   "metadata": {},
   "outputs": [
    {
     "data": {
      "text/html": [
       "<div>\n",
       "<style scoped>\n",
       "    .dataframe tbody tr th:only-of-type {\n",
       "        vertical-align: middle;\n",
       "    }\n",
       "\n",
       "    .dataframe tbody tr th {\n",
       "        vertical-align: top;\n",
       "    }\n",
       "\n",
       "    .dataframe thead th {\n",
       "        text-align: right;\n",
       "    }\n",
       "</style>\n",
       "<table border=\"1\" class=\"dataframe\">\n",
       "  <thead>\n",
       "    <tr style=\"text-align: right;\">\n",
       "      <th></th>\n",
       "      <th>mobile_number</th>\n",
       "      <th>arpu_6</th>\n",
       "      <th>arpu_7</th>\n",
       "      <th>arpu_8</th>\n",
       "      <th>arpu_9</th>\n",
       "      <th>onnet_mou_6</th>\n",
       "      <th>onnet_mou_7</th>\n",
       "      <th>onnet_mou_8</th>\n",
       "      <th>onnet_mou_9</th>\n",
       "      <th>offnet_mou_6</th>\n",
       "      <th>...</th>\n",
       "      <th>monthly_3g_9</th>\n",
       "      <th>sachet_3g_6</th>\n",
       "      <th>sachet_3g_7</th>\n",
       "      <th>sachet_3g_8</th>\n",
       "      <th>sachet_3g_9</th>\n",
       "      <th>aon</th>\n",
       "      <th>aug_vbc_3g</th>\n",
       "      <th>jul_vbc_3g</th>\n",
       "      <th>jun_vbc_3g</th>\n",
       "      <th>sep_vbc_3g</th>\n",
       "    </tr>\n",
       "  </thead>\n",
       "  <tbody>\n",
       "    <tr>\n",
       "      <th>375</th>\n",
       "      <td>7002252754</td>\n",
       "      <td>580.477</td>\n",
       "      <td>111.878</td>\n",
       "      <td>0.0</td>\n",
       "      <td>378.881</td>\n",
       "      <td>249.43</td>\n",
       "      <td>39.64</td>\n",
       "      <td>NaN</td>\n",
       "      <td>245.06</td>\n",
       "      <td>62.24</td>\n",
       "      <td>...</td>\n",
       "      <td>0</td>\n",
       "      <td>0</td>\n",
       "      <td>0</td>\n",
       "      <td>0</td>\n",
       "      <td>0</td>\n",
       "      <td>1102</td>\n",
       "      <td>0.0</td>\n",
       "      <td>0.0</td>\n",
       "      <td>0.0</td>\n",
       "      <td>0.0</td>\n",
       "    </tr>\n",
       "    <tr>\n",
       "      <th>578</th>\n",
       "      <td>7000248548</td>\n",
       "      <td>569.612</td>\n",
       "      <td>237.289</td>\n",
       "      <td>0.0</td>\n",
       "      <td>4.440</td>\n",
       "      <td>718.01</td>\n",
       "      <td>212.73</td>\n",
       "      <td>NaN</td>\n",
       "      <td>0.00</td>\n",
       "      <td>487.06</td>\n",
       "      <td>...</td>\n",
       "      <td>0</td>\n",
       "      <td>0</td>\n",
       "      <td>0</td>\n",
       "      <td>0</td>\n",
       "      <td>0</td>\n",
       "      <td>274</td>\n",
       "      <td>0.0</td>\n",
       "      <td>0.0</td>\n",
       "      <td>0.0</td>\n",
       "      <td>0.0</td>\n",
       "    </tr>\n",
       "    <tr>\n",
       "      <th>788</th>\n",
       "      <td>7000636808</td>\n",
       "      <td>532.742</td>\n",
       "      <td>546.756</td>\n",
       "      <td>0.0</td>\n",
       "      <td>269.274</td>\n",
       "      <td>1173.39</td>\n",
       "      <td>891.83</td>\n",
       "      <td>NaN</td>\n",
       "      <td>149.34</td>\n",
       "      <td>61.59</td>\n",
       "      <td>...</td>\n",
       "      <td>0</td>\n",
       "      <td>0</td>\n",
       "      <td>0</td>\n",
       "      <td>0</td>\n",
       "      <td>0</td>\n",
       "      <td>936</td>\n",
       "      <td>0.0</td>\n",
       "      <td>0.0</td>\n",
       "      <td>0.0</td>\n",
       "      <td>0.0</td>\n",
       "    </tr>\n",
       "    <tr>\n",
       "      <th>1802</th>\n",
       "      <td>7000516213</td>\n",
       "      <td>810.455</td>\n",
       "      <td>0.000</td>\n",
       "      <td>0.0</td>\n",
       "      <td>0.000</td>\n",
       "      <td>91.33</td>\n",
       "      <td>NaN</td>\n",
       "      <td>NaN</td>\n",
       "      <td>0.00</td>\n",
       "      <td>1371.04</td>\n",
       "      <td>...</td>\n",
       "      <td>0</td>\n",
       "      <td>0</td>\n",
       "      <td>0</td>\n",
       "      <td>0</td>\n",
       "      <td>0</td>\n",
       "      <td>755</td>\n",
       "      <td>0.0</td>\n",
       "      <td>0.0</td>\n",
       "      <td>0.0</td>\n",
       "      <td>0.0</td>\n",
       "    </tr>\n",
       "    <tr>\n",
       "      <th>4837</th>\n",
       "      <td>7002192662</td>\n",
       "      <td>649.150</td>\n",
       "      <td>149.572</td>\n",
       "      <td>0.0</td>\n",
       "      <td>0.250</td>\n",
       "      <td>1354.24</td>\n",
       "      <td>85.13</td>\n",
       "      <td>NaN</td>\n",
       "      <td>0.43</td>\n",
       "      <td>50.63</td>\n",
       "      <td>...</td>\n",
       "      <td>0</td>\n",
       "      <td>0</td>\n",
       "      <td>0</td>\n",
       "      <td>0</td>\n",
       "      <td>0</td>\n",
       "      <td>520</td>\n",
       "      <td>0.0</td>\n",
       "      <td>0.0</td>\n",
       "      <td>0.0</td>\n",
       "      <td>0.0</td>\n",
       "    </tr>\n",
       "  </tbody>\n",
       "</table>\n",
       "<p>5 rows × 166 columns</p>\n",
       "</div>"
      ],
      "text/plain": [
       "      mobile_number   arpu_6   arpu_7  arpu_8   arpu_9  onnet_mou_6  \\\n",
       "375      7002252754  580.477  111.878     0.0  378.881       249.43   \n",
       "578      7000248548  569.612  237.289     0.0    4.440       718.01   \n",
       "788      7000636808  532.742  546.756     0.0  269.274      1173.39   \n",
       "1802     7000516213  810.455    0.000     0.0    0.000        91.33   \n",
       "4837     7002192662  649.150  149.572     0.0    0.250      1354.24   \n",
       "\n",
       "      onnet_mou_7  onnet_mou_8  onnet_mou_9  offnet_mou_6  ...  monthly_3g_9  \\\n",
       "375         39.64          NaN       245.06         62.24  ...             0   \n",
       "578        212.73          NaN         0.00        487.06  ...             0   \n",
       "788        891.83          NaN       149.34         61.59  ...             0   \n",
       "1802          NaN          NaN         0.00       1371.04  ...             0   \n",
       "4837        85.13          NaN         0.43         50.63  ...             0   \n",
       "\n",
       "      sachet_3g_6  sachet_3g_7  sachet_3g_8  sachet_3g_9   aon  aug_vbc_3g  \\\n",
       "375             0            0            0            0  1102         0.0   \n",
       "578             0            0            0            0   274         0.0   \n",
       "788             0            0            0            0   936         0.0   \n",
       "1802            0            0            0            0   755         0.0   \n",
       "4837            0            0            0            0   520         0.0   \n",
       "\n",
       "      jul_vbc_3g  jun_vbc_3g  sep_vbc_3g  \n",
       "375          0.0         0.0         0.0  \n",
       "578          0.0         0.0         0.0  \n",
       "788          0.0         0.0         0.0  \n",
       "1802         0.0         0.0         0.0  \n",
       "4837         0.0         0.0         0.0  \n",
       "\n",
       "[5 rows x 166 columns]"
      ]
     },
     "execution_count": 28,
     "metadata": {},
     "output_type": "execute_result"
    }
   ],
   "source": [
    "telecom_8_month_missing = telecom['loc_og_t2m_mou_8'].isnull()\n",
    "for col in missing_8_month_col:\n",
    "    telecom_8_month_missing = telecom[col].isnull() & telecom_8_month_missing\n",
    "    \n",
    "    \n",
    "telecom[telecom_8_month_missing].head()\n",
    "    "
   ]
  },
  {
   "cell_type": "code",
   "execution_count": 29,
   "id": "73dd944b",
   "metadata": {},
   "outputs": [
    {
     "data": {
      "text/plain": [
       "Int64Index([  375,   578,   788,  1802,  4837,  5111,  5221,  6520,  7057,\n",
       "             7229,\n",
       "            ...\n",
       "            94155, 94628, 95327, 95493, 95894, 96165, 96376, 98317, 98635,\n",
       "            99059],\n",
       "           dtype='int64', length=157)"
      ]
     },
     "execution_count": 29,
     "metadata": {},
     "output_type": "execute_result"
    }
   ],
   "source": [
    "telecom[telecom_8_month_missing].index"
   ]
  },
  {
   "cell_type": "code",
   "execution_count": 30,
   "id": "2ba7eee0",
   "metadata": {},
   "outputs": [],
   "source": [
    "telecom = telecom.drop(telecom[telecom_8_month_missing].index)"
   ]
  },
  {
   "cell_type": "markdown",
   "id": "2fd79854",
   "metadata": {},
   "source": [
    "#### Month #6"
   ]
  },
  {
   "cell_type": "code",
   "execution_count": 31,
   "id": "9f849c4c",
   "metadata": {},
   "outputs": [
    {
     "data": {
      "text/html": [
       "<div>\n",
       "<style scoped>\n",
       "    .dataframe tbody tr th:only-of-type {\n",
       "        vertical-align: middle;\n",
       "    }\n",
       "\n",
       "    .dataframe tbody tr th {\n",
       "        vertical-align: top;\n",
       "    }\n",
       "\n",
       "    .dataframe thead th {\n",
       "        text-align: right;\n",
       "    }\n",
       "</style>\n",
       "<table border=\"1\" class=\"dataframe\">\n",
       "  <thead>\n",
       "    <tr style=\"text-align: right;\">\n",
       "      <th></th>\n",
       "      <th>%</th>\n",
       "    </tr>\n",
       "  </thead>\n",
       "  <tbody>\n",
       "    <tr>\n",
       "      <th>std_og_mou_6</th>\n",
       "      <td>0.44</td>\n",
       "    </tr>\n",
       "    <tr>\n",
       "      <th>std_ic_t2f_mou_6</th>\n",
       "      <td>0.44</td>\n",
       "    </tr>\n",
       "    <tr>\n",
       "      <th>loc_ic_mou_6</th>\n",
       "      <td>0.44</td>\n",
       "    </tr>\n",
       "    <tr>\n",
       "      <th>std_og_t2t_mou_6</th>\n",
       "      <td>0.44</td>\n",
       "    </tr>\n",
       "    <tr>\n",
       "      <th>loc_og_t2c_mou_6</th>\n",
       "      <td>0.44</td>\n",
       "    </tr>\n",
       "    <tr>\n",
       "      <th>...</th>\n",
       "      <td>...</td>\n",
       "    </tr>\n",
       "    <tr>\n",
       "      <th>og_others_8</th>\n",
       "      <td>0.00</td>\n",
       "    </tr>\n",
       "    <tr>\n",
       "      <th>spl_og_mou_9</th>\n",
       "      <td>0.00</td>\n",
       "    </tr>\n",
       "    <tr>\n",
       "      <th>spl_og_mou_8</th>\n",
       "      <td>0.00</td>\n",
       "    </tr>\n",
       "    <tr>\n",
       "      <th>isd_og_mou_9</th>\n",
       "      <td>0.00</td>\n",
       "    </tr>\n",
       "    <tr>\n",
       "      <th>sep_vbc_3g</th>\n",
       "      <td>0.00</td>\n",
       "    </tr>\n",
       "  </tbody>\n",
       "</table>\n",
       "<p>166 rows × 1 columns</p>\n",
       "</div>"
      ],
      "text/plain": [
       "                     %\n",
       "std_og_mou_6      0.44\n",
       "std_ic_t2f_mou_6  0.44\n",
       "loc_ic_mou_6      0.44\n",
       "std_og_t2t_mou_6  0.44\n",
       "loc_og_t2c_mou_6  0.44\n",
       "...                ...\n",
       "og_others_8       0.00\n",
       "spl_og_mou_9      0.00\n",
       "spl_og_mou_8      0.00\n",
       "isd_og_mou_9      0.00\n",
       "sep_vbc_3g        0.00\n",
       "\n",
       "[166 rows x 1 columns]"
      ]
     },
     "execution_count": 31,
     "metadata": {},
     "output_type": "execute_result"
    }
   ],
   "source": [
    "telecom_missing_columns = (round(((telecom.isnull().sum()/len(telecom.index))*100),2).to_frame('%')).sort_values('%', ascending=False)\n",
    "telecom_missing_columns"
   ]
  },
  {
   "cell_type": "code",
   "execution_count": 32,
   "id": "c8ffa2d8",
   "metadata": {},
   "outputs": [],
   "source": [
    "missing_6_month_col = telecom_missing_columns[telecom_missing_columns['%'] == 0.44].index.to_list()"
   ]
  },
  {
   "cell_type": "code",
   "execution_count": 33,
   "id": "7af69d4c",
   "metadata": {},
   "outputs": [
    {
     "data": {
      "text/plain": [
       "['std_og_mou_6',\n",
       " 'std_ic_t2f_mou_6',\n",
       " 'loc_ic_mou_6',\n",
       " 'std_og_t2t_mou_6',\n",
       " 'loc_og_t2c_mou_6',\n",
       " 'std_ic_t2t_mou_6',\n",
       " 'std_og_t2m_mou_6',\n",
       " 'loc_og_t2f_mou_6',\n",
       " 'ic_others_6',\n",
       " 'loc_ic_t2f_mou_6',\n",
       " 'loc_og_t2m_mou_6',\n",
       " 'std_ic_t2m_mou_6',\n",
       " 'std_og_t2f_mou_6',\n",
       " 'loc_og_t2t_mou_6',\n",
       " 'loc_ic_t2m_mou_6',\n",
       " 'roam_og_mou_6',\n",
       " 'loc_og_mou_6',\n",
       " 'isd_og_mou_6',\n",
       " 'spl_ic_mou_6',\n",
       " 'roam_ic_mou_6',\n",
       " 'isd_ic_mou_6',\n",
       " 'og_others_6',\n",
       " 'spl_og_mou_6',\n",
       " 'offnet_mou_6',\n",
       " 'onnet_mou_6',\n",
       " 'std_ic_mou_6',\n",
       " 'loc_ic_t2t_mou_6']"
      ]
     },
     "execution_count": 33,
     "metadata": {},
     "output_type": "execute_result"
    }
   ],
   "source": [
    "missing_6_month_col"
   ]
  },
  {
   "cell_type": "code",
   "execution_count": 34,
   "id": "72974813",
   "metadata": {},
   "outputs": [
    {
     "data": {
      "text/html": [
       "<div>\n",
       "<style scoped>\n",
       "    .dataframe tbody tr th:only-of-type {\n",
       "        vertical-align: middle;\n",
       "    }\n",
       "\n",
       "    .dataframe tbody tr th {\n",
       "        vertical-align: top;\n",
       "    }\n",
       "\n",
       "    .dataframe thead th {\n",
       "        text-align: right;\n",
       "    }\n",
       "</style>\n",
       "<table border=\"1\" class=\"dataframe\">\n",
       "  <thead>\n",
       "    <tr style=\"text-align: right;\">\n",
       "      <th></th>\n",
       "      <th>mobile_number</th>\n",
       "      <th>arpu_6</th>\n",
       "      <th>arpu_7</th>\n",
       "      <th>arpu_8</th>\n",
       "      <th>arpu_9</th>\n",
       "      <th>onnet_mou_6</th>\n",
       "      <th>onnet_mou_7</th>\n",
       "      <th>onnet_mou_8</th>\n",
       "      <th>onnet_mou_9</th>\n",
       "      <th>offnet_mou_6</th>\n",
       "      <th>...</th>\n",
       "      <th>monthly_3g_9</th>\n",
       "      <th>sachet_3g_6</th>\n",
       "      <th>sachet_3g_7</th>\n",
       "      <th>sachet_3g_8</th>\n",
       "      <th>sachet_3g_9</th>\n",
       "      <th>aon</th>\n",
       "      <th>aug_vbc_3g</th>\n",
       "      <th>jul_vbc_3g</th>\n",
       "      <th>jun_vbc_3g</th>\n",
       "      <th>sep_vbc_3g</th>\n",
       "    </tr>\n",
       "  </thead>\n",
       "  <tbody>\n",
       "    <tr>\n",
       "      <th>77</th>\n",
       "      <td>7001328263</td>\n",
       "      <td>30.000</td>\n",
       "      <td>82.378</td>\n",
       "      <td>674.950</td>\n",
       "      <td>158.710</td>\n",
       "      <td>NaN</td>\n",
       "      <td>34.23</td>\n",
       "      <td>149.69</td>\n",
       "      <td>6.31</td>\n",
       "      <td>NaN</td>\n",
       "      <td>...</td>\n",
       "      <td>0</td>\n",
       "      <td>0</td>\n",
       "      <td>0</td>\n",
       "      <td>0</td>\n",
       "      <td>0</td>\n",
       "      <td>1894</td>\n",
       "      <td>0.00</td>\n",
       "      <td>0.00</td>\n",
       "      <td>0.00</td>\n",
       "      <td>0.00</td>\n",
       "    </tr>\n",
       "    <tr>\n",
       "      <th>364</th>\n",
       "      <td>7002168045</td>\n",
       "      <td>0.000</td>\n",
       "      <td>792.112</td>\n",
       "      <td>989.368</td>\n",
       "      <td>923.040</td>\n",
       "      <td>NaN</td>\n",
       "      <td>433.49</td>\n",
       "      <td>198.96</td>\n",
       "      <td>571.99</td>\n",
       "      <td>NaN</td>\n",
       "      <td>...</td>\n",
       "      <td>0</td>\n",
       "      <td>0</td>\n",
       "      <td>0</td>\n",
       "      <td>1</td>\n",
       "      <td>0</td>\n",
       "      <td>424</td>\n",
       "      <td>0.00</td>\n",
       "      <td>0.00</td>\n",
       "      <td>0.00</td>\n",
       "      <td>0.00</td>\n",
       "    </tr>\n",
       "    <tr>\n",
       "      <th>423</th>\n",
       "      <td>7000635248</td>\n",
       "      <td>213.802</td>\n",
       "      <td>304.194</td>\n",
       "      <td>149.710</td>\n",
       "      <td>329.643</td>\n",
       "      <td>NaN</td>\n",
       "      <td>0.00</td>\n",
       "      <td>0.00</td>\n",
       "      <td>0.00</td>\n",
       "      <td>NaN</td>\n",
       "      <td>...</td>\n",
       "      <td>1</td>\n",
       "      <td>0</td>\n",
       "      <td>0</td>\n",
       "      <td>0</td>\n",
       "      <td>0</td>\n",
       "      <td>945</td>\n",
       "      <td>73.55</td>\n",
       "      <td>266.94</td>\n",
       "      <td>63.04</td>\n",
       "      <td>0.00</td>\n",
       "    </tr>\n",
       "    <tr>\n",
       "      <th>934</th>\n",
       "      <td>7002152278</td>\n",
       "      <td>48.000</td>\n",
       "      <td>764.152</td>\n",
       "      <td>500.030</td>\n",
       "      <td>194.400</td>\n",
       "      <td>NaN</td>\n",
       "      <td>14.24</td>\n",
       "      <td>17.48</td>\n",
       "      <td>7.69</td>\n",
       "      <td>NaN</td>\n",
       "      <td>...</td>\n",
       "      <td>0</td>\n",
       "      <td>0</td>\n",
       "      <td>0</td>\n",
       "      <td>2</td>\n",
       "      <td>1</td>\n",
       "      <td>490</td>\n",
       "      <td>188.83</td>\n",
       "      <td>215.00</td>\n",
       "      <td>0.00</td>\n",
       "      <td>24.18</td>\n",
       "    </tr>\n",
       "    <tr>\n",
       "      <th>1187</th>\n",
       "      <td>7000486275</td>\n",
       "      <td>0.000</td>\n",
       "      <td>757.170</td>\n",
       "      <td>995.719</td>\n",
       "      <td>0.000</td>\n",
       "      <td>NaN</td>\n",
       "      <td>1366.71</td>\n",
       "      <td>2268.91</td>\n",
       "      <td>0.00</td>\n",
       "      <td>NaN</td>\n",
       "      <td>...</td>\n",
       "      <td>0</td>\n",
       "      <td>0</td>\n",
       "      <td>0</td>\n",
       "      <td>0</td>\n",
       "      <td>0</td>\n",
       "      <td>737</td>\n",
       "      <td>0.00</td>\n",
       "      <td>0.00</td>\n",
       "      <td>0.00</td>\n",
       "      <td>0.00</td>\n",
       "    </tr>\n",
       "  </tbody>\n",
       "</table>\n",
       "<p>5 rows × 166 columns</p>\n",
       "</div>"
      ],
      "text/plain": [
       "      mobile_number   arpu_6   arpu_7   arpu_8   arpu_9  onnet_mou_6  \\\n",
       "77       7001328263   30.000   82.378  674.950  158.710          NaN   \n",
       "364      7002168045    0.000  792.112  989.368  923.040          NaN   \n",
       "423      7000635248  213.802  304.194  149.710  329.643          NaN   \n",
       "934      7002152278   48.000  764.152  500.030  194.400          NaN   \n",
       "1187     7000486275    0.000  757.170  995.719    0.000          NaN   \n",
       "\n",
       "      onnet_mou_7  onnet_mou_8  onnet_mou_9  offnet_mou_6  ...  monthly_3g_9  \\\n",
       "77          34.23       149.69         6.31           NaN  ...             0   \n",
       "364        433.49       198.96       571.99           NaN  ...             0   \n",
       "423          0.00         0.00         0.00           NaN  ...             1   \n",
       "934         14.24        17.48         7.69           NaN  ...             0   \n",
       "1187      1366.71      2268.91         0.00           NaN  ...             0   \n",
       "\n",
       "      sachet_3g_6  sachet_3g_7  sachet_3g_8  sachet_3g_9   aon  aug_vbc_3g  \\\n",
       "77              0            0            0            0  1894        0.00   \n",
       "364             0            0            1            0   424        0.00   \n",
       "423             0            0            0            0   945       73.55   \n",
       "934             0            0            2            1   490      188.83   \n",
       "1187            0            0            0            0   737        0.00   \n",
       "\n",
       "      jul_vbc_3g  jun_vbc_3g  sep_vbc_3g  \n",
       "77          0.00        0.00        0.00  \n",
       "364         0.00        0.00        0.00  \n",
       "423       266.94       63.04        0.00  \n",
       "934       215.00        0.00       24.18  \n",
       "1187        0.00        0.00        0.00  \n",
       "\n",
       "[5 rows x 166 columns]"
      ]
     },
     "execution_count": 34,
     "metadata": {},
     "output_type": "execute_result"
    }
   ],
   "source": [
    "telecom_6_month_missing = telecom['std_og_mou_6'].isnull()\n",
    "for col in missing_6_month_col:\n",
    "    telecom_6_month_missing = telecom[col].isnull() & telecom_6_month_missing\n",
    "    \n",
    "    \n",
    "telecom[telecom_6_month_missing].head()"
   ]
  },
  {
   "cell_type": "code",
   "execution_count": 35,
   "id": "42bb2c6a",
   "metadata": {},
   "outputs": [],
   "source": [
    "telecom = telecom.drop(telecom[telecom_6_month_missing].index)"
   ]
  },
  {
   "cell_type": "code",
   "execution_count": 36,
   "id": "a301bcb7",
   "metadata": {},
   "outputs": [
    {
     "data": {
      "text/plain": [
       "(28026, 166)"
      ]
     },
     "execution_count": 36,
     "metadata": {},
     "output_type": "execute_result"
    }
   ],
   "source": [
    "telecom.shape"
   ]
  },
  {
   "cell_type": "code",
   "execution_count": 37,
   "id": "51d0eecc",
   "metadata": {},
   "outputs": [
    {
     "data": {
      "text/html": [
       "<div>\n",
       "<style scoped>\n",
       "    .dataframe tbody tr th:only-of-type {\n",
       "        vertical-align: middle;\n",
       "    }\n",
       "\n",
       "    .dataframe tbody tr th {\n",
       "        vertical-align: top;\n",
       "    }\n",
       "\n",
       "    .dataframe thead th {\n",
       "        text-align: right;\n",
       "    }\n",
       "</style>\n",
       "<table border=\"1\" class=\"dataframe\">\n",
       "  <thead>\n",
       "    <tr style=\"text-align: right;\">\n",
       "      <th></th>\n",
       "      <th>%</th>\n",
       "    </tr>\n",
       "  </thead>\n",
       "  <tbody>\n",
       "    <tr>\n",
       "      <th>std_og_t2m_mou_7</th>\n",
       "      <td>0.12</td>\n",
       "    </tr>\n",
       "    <tr>\n",
       "      <th>og_others_7</th>\n",
       "      <td>0.12</td>\n",
       "    </tr>\n",
       "    <tr>\n",
       "      <th>loc_og_t2t_mou_7</th>\n",
       "      <td>0.12</td>\n",
       "    </tr>\n",
       "    <tr>\n",
       "      <th>loc_ic_t2t_mou_7</th>\n",
       "      <td>0.12</td>\n",
       "    </tr>\n",
       "    <tr>\n",
       "      <th>spl_ic_mou_7</th>\n",
       "      <td>0.12</td>\n",
       "    </tr>\n",
       "    <tr>\n",
       "      <th>...</th>\n",
       "      <td>...</td>\n",
       "    </tr>\n",
       "    <tr>\n",
       "      <th>spl_og_mou_9</th>\n",
       "      <td>0.00</td>\n",
       "    </tr>\n",
       "    <tr>\n",
       "      <th>og_others_6</th>\n",
       "      <td>0.00</td>\n",
       "    </tr>\n",
       "    <tr>\n",
       "      <th>og_others_8</th>\n",
       "      <td>0.00</td>\n",
       "    </tr>\n",
       "    <tr>\n",
       "      <th>og_others_9</th>\n",
       "      <td>0.00</td>\n",
       "    </tr>\n",
       "    <tr>\n",
       "      <th>sep_vbc_3g</th>\n",
       "      <td>0.00</td>\n",
       "    </tr>\n",
       "  </tbody>\n",
       "</table>\n",
       "<p>166 rows × 1 columns</p>\n",
       "</div>"
      ],
      "text/plain": [
       "                     %\n",
       "std_og_t2m_mou_7  0.12\n",
       "og_others_7       0.12\n",
       "loc_og_t2t_mou_7  0.12\n",
       "loc_ic_t2t_mou_7  0.12\n",
       "spl_ic_mou_7      0.12\n",
       "...                ...\n",
       "spl_og_mou_9      0.00\n",
       "og_others_6       0.00\n",
       "og_others_8       0.00\n",
       "og_others_9       0.00\n",
       "sep_vbc_3g        0.00\n",
       "\n",
       "[166 rows x 1 columns]"
      ]
     },
     "execution_count": 37,
     "metadata": {},
     "output_type": "execute_result"
    }
   ],
   "source": [
    "telecom_missing_columns = (round(((telecom.isnull().sum()/len(telecom.index))*100),2).to_frame('%')).sort_values('%', ascending=False)\n",
    "telecom_missing_columns"
   ]
  },
  {
   "cell_type": "markdown",
   "id": "3c60bae3",
   "metadata": {},
   "source": [
    "#### month 7"
   ]
  },
  {
   "cell_type": "code",
   "execution_count": 38,
   "id": "a37e5028",
   "metadata": {},
   "outputs": [],
   "source": [
    "missing_7_month_col = telecom_missing_columns[telecom_missing_columns['%'] == 0.12].index.to_list()"
   ]
  },
  {
   "cell_type": "code",
   "execution_count": 39,
   "id": "b5b03ab2",
   "metadata": {},
   "outputs": [
    {
     "data": {
      "text/html": [
       "<div>\n",
       "<style scoped>\n",
       "    .dataframe tbody tr th:only-of-type {\n",
       "        vertical-align: middle;\n",
       "    }\n",
       "\n",
       "    .dataframe tbody tr th {\n",
       "        vertical-align: top;\n",
       "    }\n",
       "\n",
       "    .dataframe thead th {\n",
       "        text-align: right;\n",
       "    }\n",
       "</style>\n",
       "<table border=\"1\" class=\"dataframe\">\n",
       "  <thead>\n",
       "    <tr style=\"text-align: right;\">\n",
       "      <th></th>\n",
       "      <th>mobile_number</th>\n",
       "      <th>arpu_6</th>\n",
       "      <th>arpu_7</th>\n",
       "      <th>arpu_8</th>\n",
       "      <th>arpu_9</th>\n",
       "      <th>onnet_mou_6</th>\n",
       "      <th>onnet_mou_7</th>\n",
       "      <th>onnet_mou_8</th>\n",
       "      <th>onnet_mou_9</th>\n",
       "      <th>offnet_mou_6</th>\n",
       "      <th>...</th>\n",
       "      <th>monthly_3g_9</th>\n",
       "      <th>sachet_3g_6</th>\n",
       "      <th>sachet_3g_7</th>\n",
       "      <th>sachet_3g_8</th>\n",
       "      <th>sachet_3g_9</th>\n",
       "      <th>aon</th>\n",
       "      <th>aug_vbc_3g</th>\n",
       "      <th>jul_vbc_3g</th>\n",
       "      <th>jun_vbc_3g</th>\n",
       "      <th>sep_vbc_3g</th>\n",
       "    </tr>\n",
       "  </thead>\n",
       "  <tbody>\n",
       "    <tr>\n",
       "      <th>5616</th>\n",
       "      <td>7001238202</td>\n",
       "      <td>760.815</td>\n",
       "      <td>531.088</td>\n",
       "      <td>992.818</td>\n",
       "      <td>1144.676</td>\n",
       "      <td>324.91</td>\n",
       "      <td>NaN</td>\n",
       "      <td>386.13</td>\n",
       "      <td>1180.29</td>\n",
       "      <td>350.29</td>\n",
       "      <td>...</td>\n",
       "      <td>0</td>\n",
       "      <td>0</td>\n",
       "      <td>0</td>\n",
       "      <td>0</td>\n",
       "      <td>0</td>\n",
       "      <td>576</td>\n",
       "      <td>63.38</td>\n",
       "      <td>0.0</td>\n",
       "      <td>0.0</td>\n",
       "      <td>163.39</td>\n",
       "    </tr>\n",
       "    <tr>\n",
       "      <th>9451</th>\n",
       "      <td>7001477649</td>\n",
       "      <td>1129.566</td>\n",
       "      <td>0.000</td>\n",
       "      <td>128.252</td>\n",
       "      <td>802.648</td>\n",
       "      <td>11.89</td>\n",
       "      <td>NaN</td>\n",
       "      <td>1.46</td>\n",
       "      <td>33.89</td>\n",
       "      <td>259.18</td>\n",
       "      <td>...</td>\n",
       "      <td>0</td>\n",
       "      <td>0</td>\n",
       "      <td>0</td>\n",
       "      <td>0</td>\n",
       "      <td>0</td>\n",
       "      <td>672</td>\n",
       "      <td>0.00</td>\n",
       "      <td>0.0</td>\n",
       "      <td>0.0</td>\n",
       "      <td>0.00</td>\n",
       "    </tr>\n",
       "    <tr>\n",
       "      <th>9955</th>\n",
       "      <td>7001658068</td>\n",
       "      <td>925.028</td>\n",
       "      <td>189.000</td>\n",
       "      <td>789.761</td>\n",
       "      <td>445.707</td>\n",
       "      <td>46.39</td>\n",
       "      <td>NaN</td>\n",
       "      <td>43.39</td>\n",
       "      <td>56.61</td>\n",
       "      <td>333.78</td>\n",
       "      <td>...</td>\n",
       "      <td>0</td>\n",
       "      <td>0</td>\n",
       "      <td>0</td>\n",
       "      <td>0</td>\n",
       "      <td>0</td>\n",
       "      <td>3107</td>\n",
       "      <td>0.00</td>\n",
       "      <td>0.0</td>\n",
       "      <td>0.0</td>\n",
       "      <td>0.00</td>\n",
       "    </tr>\n",
       "    <tr>\n",
       "      <th>10724</th>\n",
       "      <td>7001391499</td>\n",
       "      <td>894.818</td>\n",
       "      <td>85.000</td>\n",
       "      <td>207.040</td>\n",
       "      <td>363.314</td>\n",
       "      <td>117.21</td>\n",
       "      <td>NaN</td>\n",
       "      <td>97.01</td>\n",
       "      <td>35.43</td>\n",
       "      <td>119.79</td>\n",
       "      <td>...</td>\n",
       "      <td>0</td>\n",
       "      <td>0</td>\n",
       "      <td>0</td>\n",
       "      <td>0</td>\n",
       "      <td>0</td>\n",
       "      <td>2664</td>\n",
       "      <td>0.00</td>\n",
       "      <td>0.0</td>\n",
       "      <td>0.0</td>\n",
       "      <td>0.00</td>\n",
       "    </tr>\n",
       "    <tr>\n",
       "      <th>12107</th>\n",
       "      <td>7000131738</td>\n",
       "      <td>1803.475</td>\n",
       "      <td>0.000</td>\n",
       "      <td>0.600</td>\n",
       "      <td>25.243</td>\n",
       "      <td>1742.61</td>\n",
       "      <td>NaN</td>\n",
       "      <td>0.00</td>\n",
       "      <td>0.00</td>\n",
       "      <td>278.79</td>\n",
       "      <td>...</td>\n",
       "      <td>0</td>\n",
       "      <td>0</td>\n",
       "      <td>0</td>\n",
       "      <td>0</td>\n",
       "      <td>0</td>\n",
       "      <td>219</td>\n",
       "      <td>0.00</td>\n",
       "      <td>0.0</td>\n",
       "      <td>0.0</td>\n",
       "      <td>0.00</td>\n",
       "    </tr>\n",
       "  </tbody>\n",
       "</table>\n",
       "<p>5 rows × 166 columns</p>\n",
       "</div>"
      ],
      "text/plain": [
       "       mobile_number    arpu_6   arpu_7   arpu_8    arpu_9  onnet_mou_6  \\\n",
       "5616      7001238202   760.815  531.088  992.818  1144.676       324.91   \n",
       "9451      7001477649  1129.566    0.000  128.252   802.648        11.89   \n",
       "9955      7001658068   925.028  189.000  789.761   445.707        46.39   \n",
       "10724     7001391499   894.818   85.000  207.040   363.314       117.21   \n",
       "12107     7000131738  1803.475    0.000    0.600    25.243      1742.61   \n",
       "\n",
       "       onnet_mou_7  onnet_mou_8  onnet_mou_9  offnet_mou_6  ...  monthly_3g_9  \\\n",
       "5616           NaN       386.13      1180.29        350.29  ...             0   \n",
       "9451           NaN         1.46        33.89        259.18  ...             0   \n",
       "9955           NaN        43.39        56.61        333.78  ...             0   \n",
       "10724          NaN        97.01        35.43        119.79  ...             0   \n",
       "12107          NaN         0.00         0.00        278.79  ...             0   \n",
       "\n",
       "       sachet_3g_6  sachet_3g_7  sachet_3g_8  sachet_3g_9   aon  aug_vbc_3g  \\\n",
       "5616             0            0            0            0   576       63.38   \n",
       "9451             0            0            0            0   672        0.00   \n",
       "9955             0            0            0            0  3107        0.00   \n",
       "10724            0            0            0            0  2664        0.00   \n",
       "12107            0            0            0            0   219        0.00   \n",
       "\n",
       "       jul_vbc_3g  jun_vbc_3g  sep_vbc_3g  \n",
       "5616          0.0         0.0      163.39  \n",
       "9451          0.0         0.0        0.00  \n",
       "9955          0.0         0.0        0.00  \n",
       "10724         0.0         0.0        0.00  \n",
       "12107         0.0         0.0        0.00  \n",
       "\n",
       "[5 rows x 166 columns]"
      ]
     },
     "execution_count": 39,
     "metadata": {},
     "output_type": "execute_result"
    }
   ],
   "source": [
    "telecom_7_month_missing = telecom['std_og_t2m_mou_7'].isnull()\n",
    "for col in missing_7_month_col:\n",
    "    telecom_7_month_missing = telecom[col].isnull() & telecom_7_month_missing\n",
    "    \n",
    "    \n",
    "telecom[telecom_7_month_missing].head()"
   ]
  },
  {
   "cell_type": "code",
   "execution_count": 40,
   "id": "1ee929e8",
   "metadata": {},
   "outputs": [],
   "source": [
    "telecom.drop(telecom[telecom_7_month_missing].index, inplace=True)"
   ]
  },
  {
   "cell_type": "code",
   "execution_count": 41,
   "id": "193381d8",
   "metadata": {},
   "outputs": [
    {
     "data": {
      "text/html": [
       "<div>\n",
       "<style scoped>\n",
       "    .dataframe tbody tr th:only-of-type {\n",
       "        vertical-align: middle;\n",
       "    }\n",
       "\n",
       "    .dataframe tbody tr th {\n",
       "        vertical-align: top;\n",
       "    }\n",
       "\n",
       "    .dataframe thead th {\n",
       "        text-align: right;\n",
       "    }\n",
       "</style>\n",
       "<table border=\"1\" class=\"dataframe\">\n",
       "  <thead>\n",
       "    <tr style=\"text-align: right;\">\n",
       "      <th></th>\n",
       "      <th>%</th>\n",
       "    </tr>\n",
       "  </thead>\n",
       "  <tbody>\n",
       "    <tr>\n",
       "      <th>mobile_number</th>\n",
       "      <td>0.0</td>\n",
       "    </tr>\n",
       "    <tr>\n",
       "      <th>std_ic_mou_9</th>\n",
       "      <td>0.0</td>\n",
       "    </tr>\n",
       "    <tr>\n",
       "      <th>total_ic_mou_7</th>\n",
       "      <td>0.0</td>\n",
       "    </tr>\n",
       "    <tr>\n",
       "      <th>total_ic_mou_8</th>\n",
       "      <td>0.0</td>\n",
       "    </tr>\n",
       "    <tr>\n",
       "      <th>total_ic_mou_9</th>\n",
       "      <td>0.0</td>\n",
       "    </tr>\n",
       "    <tr>\n",
       "      <th>...</th>\n",
       "      <td>...</td>\n",
       "    </tr>\n",
       "    <tr>\n",
       "      <th>std_og_mou_9</th>\n",
       "      <td>0.0</td>\n",
       "    </tr>\n",
       "    <tr>\n",
       "      <th>isd_og_mou_6</th>\n",
       "      <td>0.0</td>\n",
       "    </tr>\n",
       "    <tr>\n",
       "      <th>isd_og_mou_7</th>\n",
       "      <td>0.0</td>\n",
       "    </tr>\n",
       "    <tr>\n",
       "      <th>isd_og_mou_8</th>\n",
       "      <td>0.0</td>\n",
       "    </tr>\n",
       "    <tr>\n",
       "      <th>sep_vbc_3g</th>\n",
       "      <td>0.0</td>\n",
       "    </tr>\n",
       "  </tbody>\n",
       "</table>\n",
       "<p>166 rows × 1 columns</p>\n",
       "</div>"
      ],
      "text/plain": [
       "                  %\n",
       "mobile_number   0.0\n",
       "std_ic_mou_9    0.0\n",
       "total_ic_mou_7  0.0\n",
       "total_ic_mou_8  0.0\n",
       "total_ic_mou_9  0.0\n",
       "...             ...\n",
       "std_og_mou_9    0.0\n",
       "isd_og_mou_6    0.0\n",
       "isd_og_mou_7    0.0\n",
       "isd_og_mou_8    0.0\n",
       "sep_vbc_3g      0.0\n",
       "\n",
       "[166 rows x 1 columns]"
      ]
     },
     "execution_count": 41,
     "metadata": {},
     "output_type": "execute_result"
    }
   ],
   "source": [
    "telecom_missing_columns = (round(((telecom.isnull().sum()/len(telecom.index))*100),2).to_frame('%')).sort_values('%', ascending=False)\n",
    "telecom_missing_columns"
   ]
  },
  {
   "cell_type": "code",
   "execution_count": 42,
   "id": "6432da3b",
   "metadata": {},
   "outputs": [
    {
     "data": {
      "text/plain": [
       "(27991, 166)"
      ]
     },
     "execution_count": 42,
     "metadata": {},
     "output_type": "execute_result"
    }
   ],
   "source": [
    "telecom.shape"
   ]
  },
  {
   "cell_type": "markdown",
   "id": "7c484133",
   "metadata": {},
   "source": [
    "### Tagging churned custome\n",
    "- churn=1, else = 0<br>\n",
    "Those who have not made any calls (either incoming or outgoing) AND have not used mobile internet even once in the churn phase. The attributes you need to use to tag churners are:\n",
    "\n",
    "    - total_ic_mou_9\n",
    "\n",
    "    - total_og_mou_9\n",
    "\n",
    "    - vol_2g_mb_9\n",
    "\n",
    "    - vol_3g_mb_9"
   ]
  },
  {
   "cell_type": "code",
   "execution_count": 43,
   "id": "cdaec2be",
   "metadata": {},
   "outputs": [],
   "source": [
    "telecom['churn'] = np.where((telecom['total_ic_mou_9']==0) & (telecom['total_og_mou_9']==0) & (telecom['vol_2g_mb_9']==0) & (telecom['vol_3g_mb_9']==0), 1, 0)"
   ]
  },
  {
   "cell_type": "markdown",
   "id": "5f46cc93",
   "metadata": {},
   "source": [
    "#### deleting all column belongs to month 9"
   ]
  },
  {
   "cell_type": "code",
   "execution_count": 44,
   "id": "1a1b86a7",
   "metadata": {},
   "outputs": [
    {
     "name": "stdout",
     "output_type": "stream",
     "text": [
      "['arpu_9', 'onnet_mou_9', 'offnet_mou_9', 'roam_ic_mou_9', 'roam_og_mou_9', 'loc_og_t2t_mou_9', 'loc_og_t2m_mou_9', 'loc_og_t2f_mou_9', 'loc_og_t2c_mou_9', 'loc_og_mou_9', 'std_og_t2t_mou_9', 'std_og_t2m_mou_9', 'std_og_t2f_mou_9', 'std_og_mou_9', 'isd_og_mou_9', 'spl_og_mou_9', 'og_others_9', 'total_og_mou_9', 'loc_ic_t2t_mou_9', 'loc_ic_t2m_mou_9', 'loc_ic_t2f_mou_9', 'loc_ic_mou_9', 'std_ic_t2t_mou_9', 'std_ic_t2m_mou_9', 'std_ic_t2f_mou_9', 'std_ic_mou_9', 'total_ic_mou_9', 'spl_ic_mou_9', 'isd_ic_mou_9', 'ic_others_9', 'total_rech_num_9', 'total_rech_amt_9', 'max_rech_amt_9', 'last_day_rch_amt_9', 'vol_2g_mb_9', 'vol_3g_mb_9', 'monthly_2g_9', 'sachet_2g_9', 'monthly_3g_9', 'sachet_3g_9']\n"
     ]
    }
   ],
   "source": [
    "columns = [col for col in telecom.columns.to_list() if '_9' in col]\n",
    "print(columns)"
   ]
  },
  {
   "cell_type": "code",
   "execution_count": 45,
   "id": "f668fac3",
   "metadata": {},
   "outputs": [],
   "source": [
    "telecom.drop(columns, axis=1, inplace=True)"
   ]
  },
  {
   "cell_type": "code",
   "execution_count": 46,
   "id": "6a4d23f8",
   "metadata": {},
   "outputs": [],
   "source": [
    "not_churned = telecom[telecom['churn'] == 0].shape[0]/telecom.shape[0]"
   ]
  },
  {
   "cell_type": "code",
   "execution_count": 47,
   "id": "94298b56",
   "metadata": {},
   "outputs": [
    {
     "data": {
      "text/plain": [
       "(0.03390375477832164, 0.9660962452216784)"
      ]
     },
     "execution_count": 47,
     "metadata": {},
     "output_type": "execute_result"
    }
   ],
   "source": [
    "1 - not_churned, not_churned"
   ]
  },
  {
   "cell_type": "markdown",
   "id": "4ec827a0",
   "metadata": {},
   "source": [
    "#### There is class Imbalance"
   ]
  },
  {
   "cell_type": "markdown",
   "id": "16f4bcfc",
   "metadata": {},
   "source": [
    "Converting mobile number and churn data to Object"
   ]
  },
  {
   "cell_type": "code",
   "execution_count": 48,
   "id": "35dbcc4b",
   "metadata": {},
   "outputs": [],
   "source": [
    "telecom['mobile_number'] = telecom['mobile_number'].astype(object)\n",
    "telecom['churn'] = telecom['churn'].astype(object)"
   ]
  },
  {
   "cell_type": "code",
   "execution_count": 49,
   "id": "063d817a",
   "metadata": {},
   "outputs": [
    {
     "name": "stdout",
     "output_type": "stream",
     "text": [
      "Index(['arpu_6', 'arpu_7', 'arpu_8', 'onnet_mou_6', 'onnet_mou_7',\n",
      "       'onnet_mou_8', 'offnet_mou_6', 'offnet_mou_7', 'offnet_mou_8',\n",
      "       'roam_ic_mou_6',\n",
      "       ...\n",
      "       'monthly_3g_7', 'monthly_3g_8', 'sachet_3g_6', 'sachet_3g_7',\n",
      "       'sachet_3g_8', 'aon', 'aug_vbc_3g', 'jul_vbc_3g', 'jun_vbc_3g',\n",
      "       'sep_vbc_3g'],\n",
      "      dtype='object', length=125)\n"
     ]
    }
   ],
   "source": [
    "# List only the numeric columns\n",
    "numeric_cols = telecom.select_dtypes(exclude=['object']).columns\n",
    "print(numeric_cols)"
   ]
  },
  {
   "cell_type": "code",
   "execution_count": 50,
   "id": "9ccd28b1",
   "metadata": {},
   "outputs": [
    {
     "data": {
      "text/plain": [
       "(27141, 127)"
      ]
     },
     "execution_count": 50,
     "metadata": {},
     "output_type": "execute_result"
    }
   ],
   "source": [
    "# Removing outliers below 10th and above 90th percentile\n",
    "for col in numeric_cols: \n",
    "    q1 = telecom[col].quantile(0.05)\n",
    "    q3 = telecom[col].quantile(0.95)\n",
    "    iqr = q3-q1\n",
    "    range_low  = q1-1.5*iqr\n",
    "    range_high = q3+1.5*iqr\n",
    "    # Assigning the filtered dataset into data\n",
    "    data = telecom.loc[(telecom[col] > range_low) & (telecom[col] < range_high)]\n",
    "\n",
    "data.shape"
   ]
  },
  {
   "cell_type": "markdown",
   "id": "a0cfad63",
   "metadata": {},
   "source": [
    "### Derive New Features"
   ]
  },
  {
   "cell_type": "code",
   "execution_count": 51,
   "id": "dc0124a2",
   "metadata": {},
   "outputs": [
    {
     "data": {
      "text/plain": [
       "['total_og_mou_6',\n",
       " 'total_og_mou_7',\n",
       " 'total_og_mou_8',\n",
       " 'total_ic_mou_6',\n",
       " 'total_ic_mou_7',\n",
       " 'total_ic_mou_8',\n",
       " 'total_rech_num_6',\n",
       " 'total_rech_num_7',\n",
       " 'total_rech_num_8',\n",
       " 'total_rech_amt_6',\n",
       " 'total_rech_amt_7',\n",
       " 'total_rech_amt_8']"
      ]
     },
     "execution_count": 51,
     "metadata": {},
     "output_type": "execute_result"
    }
   ],
   "source": [
    "# List the columns of total mou, rech_num and rech_amt\n",
    "[total for total in data.columns.to_list() if 'total' in total]"
   ]
  },
  {
   "cell_type": "markdown",
   "id": "ee2fcb5b",
   "metadata": {},
   "source": [
    "#### Deriving new column decrease_mou_action\n",
    "\n",
    "This column indicates whether the minutes of usage of the customer has decreased in the action phase than the good phase."
   ]
  },
  {
   "cell_type": "code",
   "execution_count": 52,
   "id": "3f60c1be",
   "metadata": {},
   "outputs": [
    {
     "data": {
      "text/plain": [
       "(27141, 128)"
      ]
     },
     "execution_count": 52,
     "metadata": {},
     "output_type": "execute_result"
    }
   ],
   "source": [
    "# Total mou at good phase incoming and outgoing\n",
    "data['total_mou_good'] = data['total_og_mou_6'] + data['total_ic_mou_6']\n",
    "data.shape"
   ]
  },
  {
   "cell_type": "code",
   "execution_count": 53,
   "id": "7bb97bcd",
   "metadata": {},
   "outputs": [],
   "source": [
    "# Avg. mou at action phase\n",
    "# We are taking average because there are two months(7 and 8) in action phase\n",
    "data['avg_mou_action'] = (data['total_og_mou_7'] + data['total_og_mou_8'] + data['total_ic_mou_7'] + data['total_ic_mou_8'])/2"
   ]
  },
  {
   "cell_type": "code",
   "execution_count": 54,
   "id": "34bea87c",
   "metadata": {},
   "outputs": [],
   "source": [
    "# Difference avg_mou_good and avg_mou_action\n",
    "data['diff_mou'] = data['avg_mou_action'] - data['total_mou_good']"
   ]
  },
  {
   "cell_type": "code",
   "execution_count": 55,
   "id": "6e0cf938",
   "metadata": {},
   "outputs": [],
   "source": [
    "# Checking whether the mou has decreased in action phase\n",
    "data['decrease_mou_action'] = np.where((data['diff_mou'] < 0), 1, 0)"
   ]
  },
  {
   "cell_type": "code",
   "execution_count": 56,
   "id": "3abf5907",
   "metadata": {},
   "outputs": [
    {
     "data": {
      "text/plain": [
       "(27141, 131)"
      ]
     },
     "execution_count": 56,
     "metadata": {},
     "output_type": "execute_result"
    }
   ],
   "source": [
    "data.shape"
   ]
  },
  {
   "cell_type": "code",
   "execution_count": 57,
   "id": "32f2181b",
   "metadata": {},
   "outputs": [],
   "source": [
    "# Avg rech number at action phase\n",
    "data['avg_rech_num_action'] = (data['total_rech_num_7'] + data['total_rech_num_8'])/2"
   ]
  },
  {
   "cell_type": "code",
   "execution_count": 58,
   "id": "67ba1942",
   "metadata": {},
   "outputs": [],
   "source": [
    "# Difference total_rech_num_6 and avg_rech_action\n",
    "data['diff_rech_num'] = data['avg_rech_num_action'] - data['total_rech_num_6']"
   ]
  },
  {
   "cell_type": "code",
   "execution_count": 59,
   "id": "b2eeef23",
   "metadata": {},
   "outputs": [],
   "source": [
    "# Checking if rech_num has decreased in action phase\n",
    "data['decrease_rech_num_action'] = np.where((data['diff_rech_num'] < 0), 1, 0)"
   ]
  },
  {
   "cell_type": "markdown",
   "id": "68eb2427",
   "metadata": {},
   "source": [
    "#### Deriving new column decrease_rech_amt_action\n",
    "\n",
    "This column indicates whether the amount of recharge of the customer has decreased in the action phase than the good phase.\n"
   ]
  },
  {
   "cell_type": "code",
   "execution_count": 60,
   "id": "f136ac27",
   "metadata": {},
   "outputs": [],
   "source": [
    "# Avg rech_amt in action phase\n",
    "data['avg_rech_amt_action'] = (data['total_rech_amt_7'] + data['total_rech_amt_8'])/2"
   ]
  },
  {
   "cell_type": "code",
   "execution_count": 61,
   "id": "62e7027b",
   "metadata": {},
   "outputs": [],
   "source": [
    "# Difference of action phase rech amt and good phase rech amt\n",
    "data['diff_rech_amt'] = data['avg_rech_amt_action'] - data['total_rech_amt_6']"
   ]
  },
  {
   "cell_type": "code",
   "execution_count": 62,
   "id": "c0238edb",
   "metadata": {},
   "outputs": [],
   "source": [
    "# Checking if rech_amt has decreased in action phase\n",
    "data['decrease_rech_amt_action'] = np.where((data['diff_rech_amt'] < 0), 1, 0) "
   ]
  },
  {
   "cell_type": "markdown",
   "id": "363591f2",
   "metadata": {},
   "source": [
    "#### Deriving new column decrease_arpu_action\n",
    "\n",
    "This column indicates whether the average revenue per customer has decreased in the action phase than the good phase."
   ]
  },
  {
   "cell_type": "code",
   "execution_count": 63,
   "id": "6a07a3d6",
   "metadata": {},
   "outputs": [],
   "source": [
    "# ARUP in action phase\n",
    "data['avg_arpu_action'] = (data['arpu_7'] + data['arpu_8'])/2"
   ]
  },
  {
   "cell_type": "code",
   "execution_count": 64,
   "id": "1e78b99e",
   "metadata": {},
   "outputs": [],
   "source": [
    "# Difference of good and action phase ARPU\n",
    "data['diff_arpu'] = data['avg_arpu_action'] - data['arpu_6']"
   ]
  },
  {
   "cell_type": "code",
   "execution_count": 65,
   "id": "4e3e439e",
   "metadata": {},
   "outputs": [],
   "source": [
    "# Checking whether the arpu has decreased on the action month\n",
    "data['decrease_arpu_action'] = np.where(data['diff_arpu'] < 0, 1, 0)"
   ]
  },
  {
   "cell_type": "code",
   "execution_count": 66,
   "id": "60e297bd",
   "metadata": {},
   "outputs": [
    {
     "data": {
      "text/html": [
       "<div>\n",
       "<style scoped>\n",
       "    .dataframe tbody tr th:only-of-type {\n",
       "        vertical-align: middle;\n",
       "    }\n",
       "\n",
       "    .dataframe tbody tr th {\n",
       "        vertical-align: top;\n",
       "    }\n",
       "\n",
       "    .dataframe thead th {\n",
       "        text-align: right;\n",
       "    }\n",
       "</style>\n",
       "<table border=\"1\" class=\"dataframe\">\n",
       "  <thead>\n",
       "    <tr style=\"text-align: right;\">\n",
       "      <th></th>\n",
       "      <th>mobile_number</th>\n",
       "      <th>arpu_6</th>\n",
       "      <th>arpu_7</th>\n",
       "      <th>arpu_8</th>\n",
       "      <th>onnet_mou_6</th>\n",
       "      <th>onnet_mou_7</th>\n",
       "      <th>onnet_mou_8</th>\n",
       "      <th>offnet_mou_6</th>\n",
       "      <th>offnet_mou_7</th>\n",
       "      <th>offnet_mou_8</th>\n",
       "      <th>...</th>\n",
       "      <th>decrease_mou_action</th>\n",
       "      <th>avg_rech_num_action</th>\n",
       "      <th>diff_rech_num</th>\n",
       "      <th>decrease_rech_num_action</th>\n",
       "      <th>avg_rech_amt_action</th>\n",
       "      <th>diff_rech_amt</th>\n",
       "      <th>decrease_rech_amt_action</th>\n",
       "      <th>avg_arpu_action</th>\n",
       "      <th>diff_arpu</th>\n",
       "      <th>decrease_arpu_action</th>\n",
       "    </tr>\n",
       "  </thead>\n",
       "  <tbody>\n",
       "    <tr>\n",
       "      <th>8</th>\n",
       "      <td>7001524846</td>\n",
       "      <td>378.721</td>\n",
       "      <td>492.223</td>\n",
       "      <td>137.362</td>\n",
       "      <td>413.69</td>\n",
       "      <td>351.03</td>\n",
       "      <td>35.08</td>\n",
       "      <td>94.66</td>\n",
       "      <td>80.63</td>\n",
       "      <td>136.48</td>\n",
       "      <td>...</td>\n",
       "      <td>1</td>\n",
       "      <td>17.5</td>\n",
       "      <td>-1.5</td>\n",
       "      <td>1</td>\n",
       "      <td>360.5</td>\n",
       "      <td>-76.5</td>\n",
       "      <td>1</td>\n",
       "      <td>314.7925</td>\n",
       "      <td>-63.9285</td>\n",
       "      <td>1</td>\n",
       "    </tr>\n",
       "    <tr>\n",
       "      <th>13</th>\n",
       "      <td>7002191713</td>\n",
       "      <td>492.846</td>\n",
       "      <td>205.671</td>\n",
       "      <td>593.260</td>\n",
       "      <td>501.76</td>\n",
       "      <td>108.39</td>\n",
       "      <td>534.24</td>\n",
       "      <td>413.31</td>\n",
       "      <td>119.28</td>\n",
       "      <td>482.46</td>\n",
       "      <td>...</td>\n",
       "      <td>1</td>\n",
       "      <td>7.5</td>\n",
       "      <td>1.5</td>\n",
       "      <td>0</td>\n",
       "      <td>485.0</td>\n",
       "      <td>-22.0</td>\n",
       "      <td>1</td>\n",
       "      <td>399.4655</td>\n",
       "      <td>-93.3805</td>\n",
       "      <td>1</td>\n",
       "    </tr>\n",
       "    <tr>\n",
       "      <th>16</th>\n",
       "      <td>7000875565</td>\n",
       "      <td>430.975</td>\n",
       "      <td>299.869</td>\n",
       "      <td>187.894</td>\n",
       "      <td>50.51</td>\n",
       "      <td>74.01</td>\n",
       "      <td>70.61</td>\n",
       "      <td>296.29</td>\n",
       "      <td>229.74</td>\n",
       "      <td>162.76</td>\n",
       "      <td>...</td>\n",
       "      <td>1</td>\n",
       "      <td>4.0</td>\n",
       "      <td>-6.0</td>\n",
       "      <td>1</td>\n",
       "      <td>254.0</td>\n",
       "      <td>-316.0</td>\n",
       "      <td>1</td>\n",
       "      <td>243.8815</td>\n",
       "      <td>-187.0935</td>\n",
       "      <td>1</td>\n",
       "    </tr>\n",
       "    <tr>\n",
       "      <th>17</th>\n",
       "      <td>7000187447</td>\n",
       "      <td>690.008</td>\n",
       "      <td>18.980</td>\n",
       "      <td>25.499</td>\n",
       "      <td>1185.91</td>\n",
       "      <td>9.28</td>\n",
       "      <td>7.79</td>\n",
       "      <td>61.64</td>\n",
       "      <td>0.00</td>\n",
       "      <td>5.54</td>\n",
       "      <td>...</td>\n",
       "      <td>1</td>\n",
       "      <td>3.0</td>\n",
       "      <td>-16.0</td>\n",
       "      <td>1</td>\n",
       "      <td>15.0</td>\n",
       "      <td>-801.0</td>\n",
       "      <td>1</td>\n",
       "      <td>22.2395</td>\n",
       "      <td>-667.7685</td>\n",
       "      <td>1</td>\n",
       "    </tr>\n",
       "    <tr>\n",
       "      <th>21</th>\n",
       "      <td>7002124215</td>\n",
       "      <td>514.453</td>\n",
       "      <td>597.753</td>\n",
       "      <td>637.760</td>\n",
       "      <td>102.41</td>\n",
       "      <td>132.11</td>\n",
       "      <td>85.14</td>\n",
       "      <td>757.93</td>\n",
       "      <td>896.68</td>\n",
       "      <td>983.39</td>\n",
       "      <td>...</td>\n",
       "      <td>0</td>\n",
       "      <td>26.5</td>\n",
       "      <td>4.5</td>\n",
       "      <td>0</td>\n",
       "      <td>699.0</td>\n",
       "      <td>99.0</td>\n",
       "      <td>0</td>\n",
       "      <td>617.7565</td>\n",
       "      <td>103.3035</td>\n",
       "      <td>0</td>\n",
       "    </tr>\n",
       "  </tbody>\n",
       "</table>\n",
       "<p>5 rows × 140 columns</p>\n",
       "</div>"
      ],
      "text/plain": [
       "   mobile_number   arpu_6   arpu_7   arpu_8  onnet_mou_6  onnet_mou_7  \\\n",
       "8     7001524846  378.721  492.223  137.362       413.69       351.03   \n",
       "13    7002191713  492.846  205.671  593.260       501.76       108.39   \n",
       "16    7000875565  430.975  299.869  187.894        50.51        74.01   \n",
       "17    7000187447  690.008   18.980   25.499      1185.91         9.28   \n",
       "21    7002124215  514.453  597.753  637.760       102.41       132.11   \n",
       "\n",
       "    onnet_mou_8  offnet_mou_6  offnet_mou_7  offnet_mou_8  ...  \\\n",
       "8         35.08         94.66         80.63        136.48  ...   \n",
       "13       534.24        413.31        119.28        482.46  ...   \n",
       "16        70.61        296.29        229.74        162.76  ...   \n",
       "17         7.79         61.64          0.00          5.54  ...   \n",
       "21        85.14        757.93        896.68        983.39  ...   \n",
       "\n",
       "    decrease_mou_action  avg_rech_num_action  diff_rech_num  \\\n",
       "8                     1                 17.5           -1.5   \n",
       "13                    1                  7.5            1.5   \n",
       "16                    1                  4.0           -6.0   \n",
       "17                    1                  3.0          -16.0   \n",
       "21                    0                 26.5            4.5   \n",
       "\n",
       "    decrease_rech_num_action  avg_rech_amt_action  diff_rech_amt  \\\n",
       "8                          1                360.5          -76.5   \n",
       "13                         0                485.0          -22.0   \n",
       "16                         1                254.0         -316.0   \n",
       "17                         1                 15.0         -801.0   \n",
       "21                         0                699.0           99.0   \n",
       "\n",
       "    decrease_rech_amt_action  avg_arpu_action  diff_arpu  decrease_arpu_action  \n",
       "8                          1         314.7925   -63.9285                     1  \n",
       "13                         1         399.4655   -93.3805                     1  \n",
       "16                         1         243.8815  -187.0935                     1  \n",
       "17                         1          22.2395  -667.7685                     1  \n",
       "21                         0         617.7565   103.3035                     0  \n",
       "\n",
       "[5 rows x 140 columns]"
      ]
     },
     "execution_count": 66,
     "metadata": {},
     "output_type": "execute_result"
    }
   ],
   "source": [
    "data.head()"
   ]
  },
  {
   "cell_type": "markdown",
   "id": "6d553a52",
   "metadata": {},
   "source": [
    "#### Deriving new column decrease_vbc_action\n",
    "\n",
    "This column indicates whether the volume based cost of the customer has decreased in the action phase than the good phase."
   ]
  },
  {
   "cell_type": "code",
   "execution_count": 67,
   "id": "ca8e8aeb",
   "metadata": {},
   "outputs": [],
   "source": [
    "# VBC in action phase\n",
    "data['avg_vbc_3g_action'] = (data['jul_vbc_3g'] + data['aug_vbc_3g'])/2"
   ]
  },
  {
   "cell_type": "code",
   "execution_count": 68,
   "id": "6305056c",
   "metadata": {},
   "outputs": [],
   "source": [
    "# Difference of good and action phase VBC\n",
    "data['diff_vbc'] = data['avg_vbc_3g_action'] - data['jun_vbc_3g']"
   ]
  },
  {
   "cell_type": "code",
   "execution_count": 69,
   "id": "499a1ebb",
   "metadata": {},
   "outputs": [],
   "source": [
    "# Checking whether the VBC has decreased on the action month\n",
    "data['decrease_vbc_action'] = np.where(data['diff_vbc'] < 0 , 1, 0)"
   ]
  },
  {
   "cell_type": "markdown",
   "id": "7287cc12",
   "metadata": {},
   "source": [
    "### EDA"
   ]
  },
  {
   "cell_type": "code",
   "execution_count": 70,
   "id": "be0f2bee",
   "metadata": {},
   "outputs": [],
   "source": [
    "# Converting churn column to int in order to do aggfunc in the pivot table\n",
    "data['churn'] = data['churn'].astype('int64')"
   ]
  },
  {
   "cell_type": "code",
   "execution_count": 71,
   "id": "686505c5",
   "metadata": {},
   "outputs": [
    {
     "data": {
      "image/png": "[encoded data removed]",
      "text/plain": [
       "<Figure size 640x480 with 1 Axes>"
      ]
     },
     "metadata": {},
     "output_type": "display_data"
    },
    {
     "data": {
      "image/png": "[encoded data removed]",
      "text/plain": [
       "<Figure size 640x480 with 1 Axes>"
      ]
     },
     "metadata": {},
     "output_type": "display_data"
    },
    {
     "data": {
      "image/png": "[encoded data removed]",
      "text/plain": [
       "<Figure size 640x480 with 1 Axes>"
      ]
     },
     "metadata": {},
     "output_type": "display_data"
    },
    {
     "data": {
      "image/png": "[encoded data removed]",
      "text/plain": [
       "<Figure size 640x480 with 1 Axes>"
      ]
     },
     "metadata": {},
     "output_type": "display_data"
    }
   ],
   "source": [
    "## based on new dervide column where we saw decrease trends\n",
    "columns = ['decrease_mou_action', \"decrease_rech_num_action\", 'decrease_rech_amt_action',\\\n",
    "          'decrease_vbc_action']\n",
    "for col in columns:\n",
    "    data.pivot_table(values='churn', index=col, aggfunc='mean').plot.bar()\n",
    "    plt.ylabel('churn rate')\n",
    "    plt.show()"
   ]
  },
  {
   "cell_type": "markdown",
   "id": "622e4734",
   "metadata": {},
   "source": [
    "#### Analysis\n",
    "\n",
    "We can see that the churn rate is more for the customers, whose minutes of usage(mou) decreased in the action phase than the good phase.\n",
    "\n",
    "#### Churn rate on the basis whether the customer decreased her/his number of recharge in action month, recharge amount, VBC"
   ]
  },
  {
   "cell_type": "code",
   "execution_count": 72,
   "id": "226b750c",
   "metadata": {},
   "outputs": [],
   "source": [
    "# Creating churn dataframe\n",
    "data_churn = data[data['churn'] == 1]\n",
    "# Creating not churn dataframe\n",
    "data_non_churn = data[data['churn'] == 0]"
   ]
  },
  {
   "cell_type": "code",
   "execution_count": 73,
   "id": "faa9b937",
   "metadata": {},
   "outputs": [
    {
     "data": {
      "text/plain": [
       "[Text(0.5, 0, 'Action phase ARPU')]"
      ]
     },
     "execution_count": 73,
     "metadata": {},
     "output_type": "execute_result"
    },
    {
     "data": {
      "image/png": "[encoded data removed]",
      "text/plain": [
       "<Figure size 640x480 with 1 Axes>"
      ]
     },
     "metadata": {},
     "output_type": "display_data"
    }
   ],
   "source": [
    "# Distribution plot\n",
    "ax = sns.distplot(data_churn['avg_arpu_action'],label='churn',hist=False)\n",
    "ax = sns.distplot(data_non_churn['avg_arpu_action'],label='not churn',hist=False)\n",
    "ax.set(xlabel='Action phase ARPU')"
   ]
  },
  {
   "cell_type": "markdown",
   "id": "b86c815c",
   "metadata": {},
   "source": [
    "#### Analysis of the minutes of usage MOU (churn and not churn) in the action phase"
   ]
  },
  {
   "cell_type": "code",
   "execution_count": 74,
   "id": "c169d05d",
   "metadata": {},
   "outputs": [
    {
     "data": {
      "text/plain": [
       "[Text(0.5, 0, 'Action phase MOU')]"
      ]
     },
     "execution_count": 74,
     "metadata": {},
     "output_type": "execute_result"
    },
    {
     "data": {
      "image/png": "[encoded data removed]",
      "text/plain": [
       "<Figure size 640x480 with 1 Axes>"
      ]
     },
     "metadata": {},
     "output_type": "display_data"
    }
   ],
   "source": [
    "# Distribution plot\n",
    "ax = sns.distplot(data_churn['total_mou_good'],label='churn',hist=False)\n",
    "ax = sns.distplot(data_non_churn['total_mou_good'],label='non churn',hist=False)\n",
    "ax.set(xlabel='Action phase MOU')"
   ]
  },
  {
   "cell_type": "markdown",
   "id": "97850383",
   "metadata": {},
   "source": [
    "### BiVariate analysis"
   ]
  },
  {
   "cell_type": "markdown",
   "id": "9e8504df",
   "metadata": {},
   "source": [
    "\n",
    "#### Analysis of churn rate by the decreasing recharge amount and number of recharge in the action phase"
   ]
  },
  {
   "cell_type": "code",
   "execution_count": 75,
   "id": "53a39cf9",
   "metadata": {},
   "outputs": [
    {
     "data": {
      "image/png": "[encoded data removed]",
      "text/plain": [
       "<Figure size 640x480 with 1 Axes>"
      ]
     },
     "metadata": {},
     "output_type": "display_data"
    }
   ],
   "source": [
    "data.pivot_table(values='churn', index='decrease_rech_amt_action', columns='decrease_rech_num_action', aggfunc='mean').plot.bar()\n",
    "plt.ylabel('Churn Rate')\n",
    "plt.show()"
   ]
  },
  {
   "cell_type": "code",
   "execution_count": 76,
   "id": "ae4f6483",
   "metadata": {},
   "outputs": [
    {
     "data": {
      "text/html": [
       "<div>\n",
       "<style scoped>\n",
       "    .dataframe tbody tr th:only-of-type {\n",
       "        vertical-align: middle;\n",
       "    }\n",
       "\n",
       "    .dataframe tbody tr th {\n",
       "        vertical-align: top;\n",
       "    }\n",
       "\n",
       "    .dataframe thead th {\n",
       "        text-align: right;\n",
       "    }\n",
       "</style>\n",
       "<table border=\"1\" class=\"dataframe\">\n",
       "  <thead>\n",
       "    <tr style=\"text-align: right;\">\n",
       "      <th>decrease_rech_num_action</th>\n",
       "      <th>0</th>\n",
       "      <th>1</th>\n",
       "    </tr>\n",
       "    <tr>\n",
       "      <th>decrease_rech_amt_action</th>\n",
       "      <th></th>\n",
       "      <th></th>\n",
       "    </tr>\n",
       "  </thead>\n",
       "  <tbody>\n",
       "    <tr>\n",
       "      <th>0</th>\n",
       "      <td>0.021538</td>\n",
       "      <td>0.016436</td>\n",
       "    </tr>\n",
       "    <tr>\n",
       "      <th>1</th>\n",
       "      <td>0.029270</td>\n",
       "      <td>0.052871</td>\n",
       "    </tr>\n",
       "  </tbody>\n",
       "</table>\n",
       "</div>"
      ],
      "text/plain": [
       "decrease_rech_num_action         0         1\n",
       "decrease_rech_amt_action                    \n",
       "0                         0.021538  0.016436\n",
       "1                         0.029270  0.052871"
      ]
     },
     "execution_count": 76,
     "metadata": {},
     "output_type": "execute_result"
    }
   ],
   "source": [
    "data.pivot_table(values='churn', index='decrease_rech_amt_action', columns='decrease_rech_num_action', aggfunc='mean')"
   ]
  },
  {
   "cell_type": "markdown",
   "id": "d5ac7e32",
   "metadata": {},
   "source": [
    "#### Analysis\n",
    "\n",
    "Whose recharge amount as well as number of recharge are propotionately increased in decrease column\n"
   ]
  },
  {
   "cell_type": "markdown",
   "id": "def2aa81",
   "metadata": {},
   "source": [
    "#### Analysis of recharge amount and number of recharge in action month"
   ]
  },
  {
   "cell_type": "code",
   "execution_count": 77,
   "id": "b5bb8863",
   "metadata": {},
   "outputs": [
    {
     "data": {
      "text/plain": [
       "[(0.0, 5000.0)]"
      ]
     },
     "execution_count": 77,
     "metadata": {},
     "output_type": "execute_result"
    },
    {
     "data": {
      "image/png": "[encoded data removed]",
      "text/plain": [
       "<Figure size 1000x600 with 1 Axes>"
      ]
     },
     "metadata": {},
     "output_type": "display_data"
    }
   ],
   "source": [
    "plt.figure(figsize=(10,6))\n",
    "ax = sns.scatterplot(data=data, x='avg_rech_num_action',y='avg_rech_amt_action', hue='churn')\n",
    "ax.set(ylim=(0,5000))"
   ]
  },
  {
   "cell_type": "markdown",
   "id": "afb9d981",
   "metadata": {},
   "source": [
    "#### Analysis\n",
    "\n",
    "It is not certain but there is pattern that the recharge number and the recharge amount are mostly propotional. More the number of recharge, more the amount of the recharge.\n",
    "\n",
    "#### Dropping few derived columns, which are not required in further analysis"
   ]
  },
  {
   "cell_type": "code",
   "execution_count": 78,
   "id": "e4cd9c0c",
   "metadata": {},
   "outputs": [],
   "source": [
    "data = data.drop(['total_mou_good','avg_mou_action','diff_mou','avg_rech_num_action','diff_rech_num','avg_rech_amt_action',\n",
    "                 'diff_rech_amt','avg_arpu_action','diff_arpu','avg_vbc_3g_action','diff_vbc'], axis=1)"
   ]
  },
  {
   "cell_type": "markdown",
   "id": "2c22bf9a",
   "metadata": {},
   "source": [
    "### Train-Test split"
   ]
  },
  {
   "cell_type": "code",
   "execution_count": 79,
   "id": "3eccfa53",
   "metadata": {},
   "outputs": [],
   "source": [
    "from sklearn.model_selection import train_test_split"
   ]
  },
  {
   "cell_type": "code",
   "execution_count": 80,
   "id": "ef68d64e",
   "metadata": {},
   "outputs": [],
   "source": [
    "X = data.drop(['mobile_number','churn'], axis=1) # feature variable"
   ]
  },
  {
   "cell_type": "code",
   "execution_count": 81,
   "id": "5ce243fc",
   "metadata": {},
   "outputs": [],
   "source": [
    "y = data['churn'] #target variable"
   ]
  },
  {
   "cell_type": "code",
   "execution_count": 82,
   "id": "6ff7ac5b",
   "metadata": {},
   "outputs": [],
   "source": [
    "X_train, X_test, y_train, y_test = train_test_split(X,y,train_size=.7, test_size=.3, random_state=42)"
   ]
  },
  {
   "cell_type": "markdown",
   "id": "4678e1e3",
   "metadata": {},
   "source": [
    "#### Dealing with data imbalance\n",
    "\n",
    "We are creating synthetic samples by doing upsampling using SMOTE(Synthetic Minority Oversampling Technique)."
   ]
  },
  {
   "cell_type": "code",
   "execution_count": 83,
   "id": "66833ddc",
   "metadata": {},
   "outputs": [],
   "source": [
    "# Imporing SMOTE\n",
    "from imblearn.over_sampling import SMOTE"
   ]
  },
  {
   "cell_type": "code",
   "execution_count": 84,
   "id": "36b051e1",
   "metadata": {},
   "outputs": [],
   "source": [
    "# Instantiate SMOTE\n",
    "sm = SMOTE(random_state=27)"
   ]
  },
  {
   "cell_type": "code",
   "execution_count": 85,
   "id": "a045325a",
   "metadata": {},
   "outputs": [],
   "source": [
    "# Fitting SMOTE to the train set\n",
    "X_train, y_train = sm.fit_resample(X_train, y_train)"
   ]
  },
  {
   "cell_type": "markdown",
   "id": "10354670",
   "metadata": {},
   "source": [
    "#### Feature scaling"
   ]
  },
  {
   "cell_type": "code",
   "execution_count": 86,
   "id": "6bbbe8d4",
   "metadata": {},
   "outputs": [],
   "source": [
    "# Standardization method\n",
    "from sklearn.preprocessing import StandardScaler"
   ]
  },
  {
   "cell_type": "code",
   "execution_count": 87,
   "id": "8a81296b",
   "metadata": {},
   "outputs": [],
   "source": [
    "# Instantiate the Scaler\n",
    "scaler = StandardScaler()"
   ]
  },
  {
   "cell_type": "code",
   "execution_count": 88,
   "id": "a8f57822",
   "metadata": {},
   "outputs": [],
   "source": [
    "# List of the numeric columns\n",
    "cols_scale = X_train.columns.to_list()\n",
    "# Removing the derived binary columns \n",
    "cols_scale.remove('decrease_mou_action')\n",
    "cols_scale.remove('decrease_rech_num_action')\n",
    "cols_scale.remove('decrease_rech_amt_action')\n",
    "cols_scale.remove('decrease_arpu_action')\n",
    "cols_scale.remove('decrease_vbc_action')"
   ]
  },
  {
   "cell_type": "code",
   "execution_count": 89,
   "id": "75a02f5b",
   "metadata": {},
   "outputs": [],
   "source": [
    "# Fit the data into scaler and transform\n",
    "X_train[cols_scale] = scaler.fit_transform(X_train[cols_scale])"
   ]
  },
  {
   "cell_type": "code",
   "execution_count": 90,
   "id": "a22a0946",
   "metadata": {},
   "outputs": [
    {
     "data": {
      "text/html": [
       "<div>\n",
       "<style scoped>\n",
       "    .dataframe tbody tr th:only-of-type {\n",
       "        vertical-align: middle;\n",
       "    }\n",
       "\n",
       "    .dataframe tbody tr th {\n",
       "        vertical-align: top;\n",
       "    }\n",
       "\n",
       "    .dataframe thead th {\n",
       "        text-align: right;\n",
       "    }\n",
       "</style>\n",
       "<table border=\"1\" class=\"dataframe\">\n",
       "  <thead>\n",
       "    <tr style=\"text-align: right;\">\n",
       "      <th></th>\n",
       "      <th>arpu_6</th>\n",
       "      <th>arpu_7</th>\n",
       "      <th>arpu_8</th>\n",
       "      <th>onnet_mou_6</th>\n",
       "      <th>onnet_mou_7</th>\n",
       "      <th>onnet_mou_8</th>\n",
       "      <th>offnet_mou_6</th>\n",
       "      <th>offnet_mou_7</th>\n",
       "      <th>offnet_mou_8</th>\n",
       "      <th>roam_ic_mou_6</th>\n",
       "      <th>...</th>\n",
       "      <th>aon</th>\n",
       "      <th>aug_vbc_3g</th>\n",
       "      <th>jul_vbc_3g</th>\n",
       "      <th>jun_vbc_3g</th>\n",
       "      <th>sep_vbc_3g</th>\n",
       "      <th>decrease_mou_action</th>\n",
       "      <th>decrease_rech_num_action</th>\n",
       "      <th>decrease_rech_amt_action</th>\n",
       "      <th>decrease_arpu_action</th>\n",
       "      <th>decrease_vbc_action</th>\n",
       "    </tr>\n",
       "  </thead>\n",
       "  <tbody>\n",
       "    <tr>\n",
       "      <th>0</th>\n",
       "      <td>-0.059046</td>\n",
       "      <td>-0.606116</td>\n",
       "      <td>-0.183108</td>\n",
       "      <td>-0.684770</td>\n",
       "      <td>-0.685464</td>\n",
       "      <td>-0.384302</td>\n",
       "      <td>-0.564989</td>\n",
       "      <td>-0.642512</td>\n",
       "      <td>0.079073</td>\n",
       "      <td>-0.262959</td>\n",
       "      <td>...</td>\n",
       "      <td>0.294872</td>\n",
       "      <td>-0.235658</td>\n",
       "      <td>-0.251004</td>\n",
       "      <td>-0.247759</td>\n",
       "      <td>-0.030676</td>\n",
       "      <td>0</td>\n",
       "      <td>0</td>\n",
       "      <td>1</td>\n",
       "      <td>1</td>\n",
       "      <td>0</td>\n",
       "    </tr>\n",
       "    <tr>\n",
       "      <th>1</th>\n",
       "      <td>-0.496794</td>\n",
       "      <td>-0.457640</td>\n",
       "      <td>-0.419522</td>\n",
       "      <td>-0.747375</td>\n",
       "      <td>-0.672423</td>\n",
       "      <td>-0.532778</td>\n",
       "      <td>-0.431249</td>\n",
       "      <td>-0.443588</td>\n",
       "      <td>-0.438864</td>\n",
       "      <td>-0.262959</td>\n",
       "      <td>...</td>\n",
       "      <td>1.968847</td>\n",
       "      <td>0.788897</td>\n",
       "      <td>-0.251004</td>\n",
       "      <td>-0.247759</td>\n",
       "      <td>-0.141702</td>\n",
       "      <td>1</td>\n",
       "      <td>1</td>\n",
       "      <td>1</td>\n",
       "      <td>1</td>\n",
       "      <td>0</td>\n",
       "    </tr>\n",
       "    <tr>\n",
       "      <th>2</th>\n",
       "      <td>-0.599501</td>\n",
       "      <td>-0.584052</td>\n",
       "      <td>-0.398261</td>\n",
       "      <td>-0.589391</td>\n",
       "      <td>-0.612134</td>\n",
       "      <td>-0.442052</td>\n",
       "      <td>-0.393570</td>\n",
       "      <td>-0.181744</td>\n",
       "      <td>-0.091445</td>\n",
       "      <td>0.079554</td>\n",
       "      <td>...</td>\n",
       "      <td>1.229265</td>\n",
       "      <td>-0.235658</td>\n",
       "      <td>-0.251004</td>\n",
       "      <td>-0.247759</td>\n",
       "      <td>-0.141702</td>\n",
       "      <td>0</td>\n",
       "      <td>1</td>\n",
       "      <td>0</td>\n",
       "      <td>1</td>\n",
       "      <td>0</td>\n",
       "    </tr>\n",
       "    <tr>\n",
       "      <th>3</th>\n",
       "      <td>-0.306213</td>\n",
       "      <td>0.534775</td>\n",
       "      <td>0.914546</td>\n",
       "      <td>-0.468931</td>\n",
       "      <td>-0.358179</td>\n",
       "      <td>-0.066832</td>\n",
       "      <td>0.620896</td>\n",
       "      <td>2.009985</td>\n",
       "      <td>2.562683</td>\n",
       "      <td>-0.240084</td>\n",
       "      <td>...</td>\n",
       "      <td>-0.126246</td>\n",
       "      <td>-0.235658</td>\n",
       "      <td>-0.251004</td>\n",
       "      <td>-0.247759</td>\n",
       "      <td>-0.141702</td>\n",
       "      <td>0</td>\n",
       "      <td>0</td>\n",
       "      <td>0</td>\n",
       "      <td>0</td>\n",
       "      <td>0</td>\n",
       "    </tr>\n",
       "    <tr>\n",
       "      <th>4</th>\n",
       "      <td>-0.742895</td>\n",
       "      <td>2.403858</td>\n",
       "      <td>4.718407</td>\n",
       "      <td>-0.373120</td>\n",
       "      <td>6.360924</td>\n",
       "      <td>15.204583</td>\n",
       "      <td>-0.714124</td>\n",
       "      <td>-0.531214</td>\n",
       "      <td>-0.544373</td>\n",
       "      <td>-0.244028</td>\n",
       "      <td>...</td>\n",
       "      <td>1.373915</td>\n",
       "      <td>-0.235658</td>\n",
       "      <td>-0.251004</td>\n",
       "      <td>-0.247759</td>\n",
       "      <td>-0.141702</td>\n",
       "      <td>0</td>\n",
       "      <td>0</td>\n",
       "      <td>0</td>\n",
       "      <td>0</td>\n",
       "      <td>0</td>\n",
       "    </tr>\n",
       "  </tbody>\n",
       "</table>\n",
       "<p>5 rows × 130 columns</p>\n",
       "</div>"
      ],
      "text/plain": [
       "     arpu_6    arpu_7    arpu_8  onnet_mou_6  onnet_mou_7  onnet_mou_8  \\\n",
       "0 -0.059046 -0.606116 -0.183108    -0.684770    -0.685464    -0.384302   \n",
       "1 -0.496794 -0.457640 -0.419522    -0.747375    -0.672423    -0.532778   \n",
       "2 -0.599501 -0.584052 -0.398261    -0.589391    -0.612134    -0.442052   \n",
       "3 -0.306213  0.534775  0.914546    -0.468931    -0.358179    -0.066832   \n",
       "4 -0.742895  2.403858  4.718407    -0.373120     6.360924    15.204583   \n",
       "\n",
       "   offnet_mou_6  offnet_mou_7  offnet_mou_8  roam_ic_mou_6  ...       aon  \\\n",
       "0     -0.564989     -0.642512      0.079073      -0.262959  ...  0.294872   \n",
       "1     -0.431249     -0.443588     -0.438864      -0.262959  ...  1.968847   \n",
       "2     -0.393570     -0.181744     -0.091445       0.079554  ...  1.229265   \n",
       "3      0.620896      2.009985      2.562683      -0.240084  ... -0.126246   \n",
       "4     -0.714124     -0.531214     -0.544373      -0.244028  ...  1.373915   \n",
       "\n",
       "   aug_vbc_3g  jul_vbc_3g  jun_vbc_3g  sep_vbc_3g  decrease_mou_action  \\\n",
       "0   -0.235658   -0.251004   -0.247759   -0.030676                    0   \n",
       "1    0.788897   -0.251004   -0.247759   -0.141702                    1   \n",
       "2   -0.235658   -0.251004   -0.247759   -0.141702                    0   \n",
       "3   -0.235658   -0.251004   -0.247759   -0.141702                    0   \n",
       "4   -0.235658   -0.251004   -0.247759   -0.141702                    0   \n",
       "\n",
       "   decrease_rech_num_action  decrease_rech_amt_action  decrease_arpu_action  \\\n",
       "0                         0                         1                     1   \n",
       "1                         1                         1                     1   \n",
       "2                         1                         0                     1   \n",
       "3                         0                         0                     0   \n",
       "4                         0                         0                     0   \n",
       "\n",
       "   decrease_vbc_action  \n",
       "0                    0  \n",
       "1                    0  \n",
       "2                    0  \n",
       "3                    0  \n",
       "4                    0  \n",
       "\n",
       "[5 rows x 130 columns]"
      ]
     },
     "execution_count": 90,
     "metadata": {},
     "output_type": "execute_result"
    }
   ],
   "source": [
    "X_train.head()"
   ]
  },
  {
   "cell_type": "markdown",
   "id": "8e4c38ff",
   "metadata": {},
   "source": [
    "#### Scaling the test set\n",
    "\n",
    "We don't fit scaler on the test set. We only transform the test set."
   ]
  },
  {
   "cell_type": "code",
   "execution_count": 91,
   "id": "f7f50887",
   "metadata": {},
   "outputs": [],
   "source": [
    "X_test[cols_scale] = scaler.transform(X_test[cols_scale])"
   ]
  },
  {
   "cell_type": "markdown",
   "id": "a6939bc2",
   "metadata": {},
   "source": [
    "#### Model with PCA\n",
    "We have more than 100+ column, using PCA to reduce features"
   ]
  },
  {
   "cell_type": "code",
   "execution_count": 92,
   "id": "269ccdf9",
   "metadata": {},
   "outputs": [],
   "source": [
    "from sklearn.decomposition import PCA"
   ]
  },
  {
   "cell_type": "code",
   "execution_count": 93,
   "id": "d33b974c",
   "metadata": {},
   "outputs": [],
   "source": [
    "pca = PCA(random_state=42)"
   ]
  },
  {
   "cell_type": "code",
   "execution_count": 94,
   "id": "719866ae",
   "metadata": {},
   "outputs": [
    {
     "data": {
      "text/plain": [
       "PCA(random_state=42)"
      ]
     },
     "execution_count": 94,
     "metadata": {},
     "output_type": "execute_result"
    }
   ],
   "source": [
    "pca.fit(X_train)"
   ]
  },
  {
   "cell_type": "code",
   "execution_count": 95,
   "id": "8638d465",
   "metadata": {},
   "outputs": [
    {
     "name": "stdout",
     "output_type": "stream",
     "text": [
      "[0.10981827 0.19001276 0.24580313 0.29019856 0.33200403 0.369038\n",
      " 0.40291666 0.4333662  0.46093182 0.48626858 0.51096463 0.53286159\n",
      " 0.55447037 0.57531222 0.59488603 0.61308662 0.62927642 0.64493019\n",
      " 0.65910282 0.67271938 0.68609134 0.69898524 0.71076834 0.72108339\n",
      " 0.7308302  0.74037587 0.74977031 0.75886076 0.76754673 0.77603843\n",
      " 0.78414468 0.79186554 0.79952898 0.80697714 0.81421766 0.82133576\n",
      " 0.8280323  0.83451383 0.84089184 0.8471658  0.85325304 0.85930005\n",
      " 0.86499654 0.87054216 0.87596484 0.88113002 0.88614793 0.89057951\n",
      " 0.89491079 0.8988329  0.90252748 0.90618293 0.90977116 0.91322745\n",
      " 0.9166584  0.92004571 0.92337793 0.92648512 0.92955809 0.93252567\n",
      " 0.93546587 0.93824584 0.94095809 0.94362463 0.94619301 0.94862958\n",
      " 0.95100782 0.95336713 0.95568685 0.95793363 0.96013797 0.96224932\n",
      " 0.96426375 0.9662471  0.96819147 0.97007506 0.97194278 0.97375376\n",
      " 0.97544189 0.97710685 0.97873067 0.98031429 0.98188269 0.98343108\n",
      " 0.9849369  0.98639862 0.98776821 0.98901764 0.99015812 0.99122386\n",
      " 0.99228211 0.99316035 0.99399904 0.99482075 0.99560067 0.99634444\n",
      " 0.99698099 0.99758399 0.99814668 0.9985672  0.99885942 0.99910714\n",
      " 0.99934115 0.99952963 0.99970959 0.9998594  0.99995093 0.99998284\n",
      " 0.99999762 0.99999949 0.99999979 1.         1.         1.\n",
      " 1.         1.         1.         1.         1.         1.\n",
      " 1.         1.         1.         1.         1.         1.\n",
      " 1.         1.         1.         1.        ]\n"
     ]
    }
   ],
   "source": [
    "# Cumuliative varinace of the PCs\n",
    "variance_cumu = np.cumsum(pca.explained_variance_ratio_)\n",
    "print(variance_cumu)"
   ]
  },
  {
   "cell_type": "markdown",
   "id": "6c29bdc1",
   "metadata": {},
   "source": [
    "#### around 42 features we get 85% and 54feature: 89% variance"
   ]
  },
  {
   "cell_type": "code",
   "execution_count": 96,
   "id": "10f05eb3",
   "metadata": {},
   "outputs": [
    {
     "data": {
      "text/plain": [
       "Text(0, 0.5, 'Cumulative Variance')"
      ]
     },
     "execution_count": 96,
     "metadata": {},
     "output_type": "execute_result"
    },
    {
     "data": {
      "image/png": "[encoded data removed]",
      "text/plain": [
       "<Figure size 1000x600 with 1 Axes>"
      ]
     },
     "metadata": {},
     "output_type": "display_data"
    }
   ],
   "source": [
    "# Plotting scree plot\n",
    "fig = plt.figure(figsize = (10,6))\n",
    "plt.plot(variance_cumu)\n",
    "plt.xlabel('Number of Components')\n",
    "plt.ylabel('Cumulative Variance')"
   ]
  },
  {
   "cell_type": "markdown",
   "id": "5ebba9fd",
   "metadata": {},
   "source": [
    "We can see that 60 components explain amost more than 90% variance of the data. So, we will perform PCA with 60 components.\n",
    "\n",
    "\n",
    "#### Performing PCA with 60 components"
   ]
  },
  {
   "cell_type": "code",
   "execution_count": 97,
   "id": "c1bc1892",
   "metadata": {},
   "outputs": [],
   "source": [
    "from sklearn.decomposition import IncrementalPCA"
   ]
  },
  {
   "cell_type": "code",
   "execution_count": 98,
   "id": "5875501e",
   "metadata": {},
   "outputs": [],
   "source": [
    "pca_final = IncrementalPCA(n_components=60)"
   ]
  },
  {
   "cell_type": "code",
   "execution_count": 99,
   "id": "6f837c9b",
   "metadata": {},
   "outputs": [],
   "source": [
    "X_train_pca = pca_final.fit_transform(X_train)"
   ]
  },
  {
   "cell_type": "markdown",
   "id": "a6639bf1",
   "metadata": {},
   "source": [
    "#### Applying transformation on the test set\n",
    "\n",
    "We are only doing Transform in the test set not the Fit-Transform. Because the Fitting is already done on the train set. So, we just have to do the transformation with the already fitted data on the train set.\n"
   ]
  },
  {
   "cell_type": "code",
   "execution_count": 100,
   "id": "3f11869f",
   "metadata": {},
   "outputs": [],
   "source": [
    "X_test_pca = pca_final.transform(X_test)"
   ]
  },
  {
   "cell_type": "markdown",
   "id": "19d140d7",
   "metadata": {},
   "source": [
    "The main goal is to reatin the customers, who have the possiblity to churn. There should not be a problem, if we consider few not churn customers as churn customers and provide them some incentives for retaining them. Hence, the sensitivity score is more important here."
   ]
  },
  {
   "cell_type": "markdown",
   "id": "e5acd2e2",
   "metadata": {},
   "source": [
    "#### Logistic regression with PCA"
   ]
  },
  {
   "cell_type": "code",
   "execution_count": 101,
   "id": "f80ed35a",
   "metadata": {},
   "outputs": [],
   "source": [
    "# Importing scikit logistic regression module\n",
    "from sklearn.linear_model import LogisticRegression"
   ]
  },
  {
   "cell_type": "code",
   "execution_count": 102,
   "id": "ec9975b7",
   "metadata": {},
   "outputs": [],
   "source": [
    "# Importing metrics\n",
    "from sklearn import metrics\n",
    "from sklearn.metrics import confusion_matrix"
   ]
  },
  {
   "cell_type": "markdown",
   "id": "63c43771",
   "metadata": {},
   "source": [
    "#### Tuning hyperparameter C\n",
    "\n",
    "C is the the inverse of regularization strength in Logistic Regression. Higher values of C correspond to less regularization."
   ]
  },
  {
   "cell_type": "code",
   "execution_count": 103,
   "id": "6f1eaa3d",
   "metadata": {},
   "outputs": [],
   "source": [
    "# Importing libraries for cross validation\n",
    "from sklearn.model_selection import KFold\n",
    "from sklearn.model_selection import cross_val_score\n",
    "from sklearn.model_selection import GridSearchCV"
   ]
  },
  {
   "cell_type": "code",
   "execution_count": 104,
   "id": "88e6d5c7",
   "metadata": {},
   "outputs": [],
   "source": [
    "folds = KFold(n_splits=5, shuffle=True, random_state=4 )"
   ]
  },
  {
   "cell_type": "code",
   "execution_count": 105,
   "id": "7e55f803",
   "metadata": {},
   "outputs": [],
   "source": [
    "# Specify params\n",
    "params = {\"C\": [0.01, 0.1, 1, 10, 100, 1000]}"
   ]
  },
  {
   "cell_type": "code",
   "execution_count": 106,
   "id": "a92454b6",
   "metadata": {},
   "outputs": [],
   "source": [
    "# Specifing score as recall as we are more focused on acheiving the higher sensitivity than the accuracy\n",
    "model_cv = GridSearchCV(estimator = LogisticRegression(),\n",
    "                        param_grid = params, \n",
    "                        scoring= 'recall', \n",
    "                        cv = folds, \n",
    "                        verbose = 1,\n",
    "                        return_train_score=True,\n",
    "                       n_jobs=-1) "
   ]
  },
  {
   "cell_type": "code",
   "execution_count": 107,
   "id": "07e109d6",
   "metadata": {},
   "outputs": [
    {
     "name": "stdout",
     "output_type": "stream",
     "text": [
      "Fitting 5 folds for each of 6 candidates, totalling 30 fits\n"
     ]
    },
    {
     "data": {
      "text/plain": [
       "GridSearchCV(cv=KFold(n_splits=5, random_state=4, shuffle=True),\n",
       "             estimator=LogisticRegression(), n_jobs=-1,\n",
       "             param_grid={'C': [0.01, 0.1, 1, 10, 100, 1000]},\n",
       "             return_train_score=True, scoring='recall', verbose=1)"
      ]
     },
     "execution_count": 107,
     "metadata": {},
     "output_type": "execute_result"
    }
   ],
   "source": [
    "# Fit the model\n",
    "model_cv.fit(X_train_pca, y_train)"
   ]
  },
  {
   "cell_type": "code",
   "execution_count": 108,
   "id": "9624e42c",
   "metadata": {},
   "outputs": [
    {
     "data": {
      "text/html": [
       "<div>\n",
       "<style scoped>\n",
       "    .dataframe tbody tr th:only-of-type {\n",
       "        vertical-align: middle;\n",
       "    }\n",
       "\n",
       "    .dataframe tbody tr th {\n",
       "        vertical-align: top;\n",
       "    }\n",
       "\n",
       "    .dataframe thead th {\n",
       "        text-align: right;\n",
       "    }\n",
       "</style>\n",
       "<table border=\"1\" class=\"dataframe\">\n",
       "  <thead>\n",
       "    <tr style=\"text-align: right;\">\n",
       "      <th></th>\n",
       "      <th>mean_fit_time</th>\n",
       "      <th>std_fit_time</th>\n",
       "      <th>mean_score_time</th>\n",
       "      <th>std_score_time</th>\n",
       "      <th>param_C</th>\n",
       "      <th>params</th>\n",
       "      <th>split0_test_score</th>\n",
       "      <th>split1_test_score</th>\n",
       "      <th>split2_test_score</th>\n",
       "      <th>split3_test_score</th>\n",
       "      <th>...</th>\n",
       "      <th>mean_test_score</th>\n",
       "      <th>std_test_score</th>\n",
       "      <th>rank_test_score</th>\n",
       "      <th>split0_train_score</th>\n",
       "      <th>split1_train_score</th>\n",
       "      <th>split2_train_score</th>\n",
       "      <th>split3_train_score</th>\n",
       "      <th>split4_train_score</th>\n",
       "      <th>mean_train_score</th>\n",
       "      <th>std_train_score</th>\n",
       "    </tr>\n",
       "  </thead>\n",
       "  <tbody>\n",
       "    <tr>\n",
       "      <th>0</th>\n",
       "      <td>0.940333</td>\n",
       "      <td>0.064218</td>\n",
       "      <td>0.010130</td>\n",
       "      <td>0.002140</td>\n",
       "      <td>0.01</td>\n",
       "      <td>{'C': 0.01}</td>\n",
       "      <td>0.908595</td>\n",
       "      <td>0.903814</td>\n",
       "      <td>0.898166</td>\n",
       "      <td>0.893680</td>\n",
       "      <td>...</td>\n",
       "      <td>0.902140</td>\n",
       "      <td>0.005484</td>\n",
       "      <td>6</td>\n",
       "      <td>0.902434</td>\n",
       "      <td>0.903833</td>\n",
       "      <td>0.903536</td>\n",
       "      <td>0.902970</td>\n",
       "      <td>0.903098</td>\n",
       "      <td>0.903174</td>\n",
       "      <td>0.000482</td>\n",
       "    </tr>\n",
       "    <tr>\n",
       "      <th>1</th>\n",
       "      <td>1.384211</td>\n",
       "      <td>0.144458</td>\n",
       "      <td>0.010638</td>\n",
       "      <td>0.002582</td>\n",
       "      <td>0.1</td>\n",
       "      <td>{'C': 0.1}</td>\n",
       "      <td>0.909413</td>\n",
       "      <td>0.905473</td>\n",
       "      <td>0.900630</td>\n",
       "      <td>0.894765</td>\n",
       "      <td>...</td>\n",
       "      <td>0.903668</td>\n",
       "      <td>0.005368</td>\n",
       "      <td>5</td>\n",
       "      <td>0.904820</td>\n",
       "      <td>0.905396</td>\n",
       "      <td>0.904966</td>\n",
       "      <td>0.904609</td>\n",
       "      <td>0.904329</td>\n",
       "      <td>0.904824</td>\n",
       "      <td>0.000358</td>\n",
       "    </tr>\n",
       "    <tr>\n",
       "      <th>2</th>\n",
       "      <td>1.741253</td>\n",
       "      <td>0.188682</td>\n",
       "      <td>0.012447</td>\n",
       "      <td>0.006860</td>\n",
       "      <td>1</td>\n",
       "      <td>{'C': 1}</td>\n",
       "      <td>0.909413</td>\n",
       "      <td>0.904643</td>\n",
       "      <td>0.901177</td>\n",
       "      <td>0.895308</td>\n",
       "      <td>...</td>\n",
       "      <td>0.903828</td>\n",
       "      <td>0.005182</td>\n",
       "      <td>1</td>\n",
       "      <td>0.904411</td>\n",
       "      <td>0.905192</td>\n",
       "      <td>0.905034</td>\n",
       "      <td>0.904609</td>\n",
       "      <td>0.904124</td>\n",
       "      <td>0.904674</td>\n",
       "      <td>0.000394</td>\n",
       "    </tr>\n",
       "    <tr>\n",
       "      <th>3</th>\n",
       "      <td>1.754485</td>\n",
       "      <td>0.257079</td>\n",
       "      <td>0.011009</td>\n",
       "      <td>0.003038</td>\n",
       "      <td>10</td>\n",
       "      <td>{'C': 10}</td>\n",
       "      <td>0.909413</td>\n",
       "      <td>0.904643</td>\n",
       "      <td>0.901177</td>\n",
       "      <td>0.895308</td>\n",
       "      <td>...</td>\n",
       "      <td>0.903828</td>\n",
       "      <td>0.005182</td>\n",
       "      <td>1</td>\n",
       "      <td>0.904411</td>\n",
       "      <td>0.905124</td>\n",
       "      <td>0.904966</td>\n",
       "      <td>0.904609</td>\n",
       "      <td>0.904192</td>\n",
       "      <td>0.904661</td>\n",
       "      <td>0.000344</td>\n",
       "    </tr>\n",
       "    <tr>\n",
       "      <th>4</th>\n",
       "      <td>1.770481</td>\n",
       "      <td>0.245816</td>\n",
       "      <td>0.011230</td>\n",
       "      <td>0.001596</td>\n",
       "      <td>100</td>\n",
       "      <td>{'C': 100}</td>\n",
       "      <td>0.909413</td>\n",
       "      <td>0.904643</td>\n",
       "      <td>0.901177</td>\n",
       "      <td>0.895308</td>\n",
       "      <td>...</td>\n",
       "      <td>0.903828</td>\n",
       "      <td>0.005182</td>\n",
       "      <td>1</td>\n",
       "      <td>0.904411</td>\n",
       "      <td>0.905124</td>\n",
       "      <td>0.904966</td>\n",
       "      <td>0.904609</td>\n",
       "      <td>0.904192</td>\n",
       "      <td>0.904661</td>\n",
       "      <td>0.000344</td>\n",
       "    </tr>\n",
       "    <tr>\n",
       "      <th>5</th>\n",
       "      <td>1.380358</td>\n",
       "      <td>0.194702</td>\n",
       "      <td>0.006203</td>\n",
       "      <td>0.001754</td>\n",
       "      <td>1000</td>\n",
       "      <td>{'C': 1000}</td>\n",
       "      <td>0.909413</td>\n",
       "      <td>0.904643</td>\n",
       "      <td>0.901177</td>\n",
       "      <td>0.895308</td>\n",
       "      <td>...</td>\n",
       "      <td>0.903828</td>\n",
       "      <td>0.005182</td>\n",
       "      <td>1</td>\n",
       "      <td>0.904411</td>\n",
       "      <td>0.905124</td>\n",
       "      <td>0.904966</td>\n",
       "      <td>0.904609</td>\n",
       "      <td>0.904192</td>\n",
       "      <td>0.904661</td>\n",
       "      <td>0.000344</td>\n",
       "    </tr>\n",
       "  </tbody>\n",
       "</table>\n",
       "<p>6 rows × 21 columns</p>\n",
       "</div>"
      ],
      "text/plain": [
       "   mean_fit_time  std_fit_time  mean_score_time  std_score_time param_C  \\\n",
       "0       0.940333      0.064218         0.010130        0.002140    0.01   \n",
       "1       1.384211      0.144458         0.010638        0.002582     0.1   \n",
       "2       1.741253      0.188682         0.012447        0.006860       1   \n",
       "3       1.754485      0.257079         0.011009        0.003038      10   \n",
       "4       1.770481      0.245816         0.011230        0.001596     100   \n",
       "5       1.380358      0.194702         0.006203        0.001754    1000   \n",
       "\n",
       "        params  split0_test_score  split1_test_score  split2_test_score  \\\n",
       "0  {'C': 0.01}           0.908595           0.903814           0.898166   \n",
       "1   {'C': 0.1}           0.909413           0.905473           0.900630   \n",
       "2     {'C': 1}           0.909413           0.904643           0.901177   \n",
       "3    {'C': 10}           0.909413           0.904643           0.901177   \n",
       "4   {'C': 100}           0.909413           0.904643           0.901177   \n",
       "5  {'C': 1000}           0.909413           0.904643           0.901177   \n",
       "\n",
       "   split3_test_score  ...  mean_test_score  std_test_score  rank_test_score  \\\n",
       "0           0.893680  ...         0.902140        0.005484                6   \n",
       "1           0.894765  ...         0.903668        0.005368                5   \n",
       "2           0.895308  ...         0.903828        0.005182                1   \n",
       "3           0.895308  ...         0.903828        0.005182                1   \n",
       "4           0.895308  ...         0.903828        0.005182                1   \n",
       "5           0.895308  ...         0.903828        0.005182                1   \n",
       "\n",
       "   split0_train_score  split1_train_score  split2_train_score  \\\n",
       "0            0.902434            0.903833            0.903536   \n",
       "1            0.904820            0.905396            0.904966   \n",
       "2            0.904411            0.905192            0.905034   \n",
       "3            0.904411            0.905124            0.904966   \n",
       "4            0.904411            0.905124            0.904966   \n",
       "5            0.904411            0.905124            0.904966   \n",
       "\n",
       "   split3_train_score  split4_train_score  mean_train_score  std_train_score  \n",
       "0            0.902970            0.903098          0.903174         0.000482  \n",
       "1            0.904609            0.904329          0.904824         0.000358  \n",
       "2            0.904609            0.904124          0.904674         0.000394  \n",
       "3            0.904609            0.904192          0.904661         0.000344  \n",
       "4            0.904609            0.904192          0.904661         0.000344  \n",
       "5            0.904609            0.904192          0.904661         0.000344  \n",
       "\n",
       "[6 rows x 21 columns]"
      ]
     },
     "execution_count": 108,
     "metadata": {},
     "output_type": "execute_result"
    }
   ],
   "source": [
    "# results of grid search CV\n",
    "cv_results = pd.DataFrame(model_cv.cv_results_)\n",
    "cv_results"
   ]
  },
  {
   "cell_type": "code",
   "execution_count": 109,
   "id": "77415c18",
   "metadata": {},
   "outputs": [
    {
     "data": {
      "image/png": "[encoded data removed]",
      "text/plain": [
       "<Figure size 800x600 with 1 Axes>"
      ]
     },
     "metadata": {},
     "output_type": "display_data"
    }
   ],
   "source": [
    "# plot of C versus train and validation scores\n",
    "\n",
    "plt.figure(figsize=(8, 6))\n",
    "plt.plot(cv_results['param_C'], cv_results['mean_test_score'])\n",
    "plt.plot(cv_results['param_C'], cv_results['mean_train_score'])\n",
    "plt.xlabel('C')\n",
    "plt.ylabel('sensitivity')\n",
    "plt.legend(['test result', 'train result'], loc='upper left')\n",
    "plt.xscale('log')"
   ]
  },
  {
   "cell_type": "code",
   "execution_count": 110,
   "id": "2645656b",
   "metadata": {},
   "outputs": [
    {
     "name": "stdout",
     "output_type": "stream",
     "text": [
      "sensitivity is 0.9038284946363715 at C = 1\n"
     ]
    }
   ],
   "source": [
    "# Best score with best C\n",
    "best_score = model_cv.best_score_\n",
    "best_C = model_cv.best_params_['C']\n",
    "\n",
    "print(\"sensitivity is {0} at C = {1}\".format(best_score, best_C))"
   ]
  },
  {
   "cell_type": "markdown",
   "id": "1668bce0",
   "metadata": {},
   "source": [
    "#### Logistic regression with optimal C"
   ]
  },
  {
   "cell_type": "code",
   "execution_count": 111,
   "id": "54a1929b",
   "metadata": {},
   "outputs": [],
   "source": [
    "# Instantiate the model with best C\n",
    "logistic_pca = LogisticRegression(C=best_C)"
   ]
  },
  {
   "cell_type": "code",
   "execution_count": 112,
   "id": "7137b20b",
   "metadata": {},
   "outputs": [],
   "source": [
    "# Fit the model on the train set\n",
    "log_pca_model = logistic_pca.fit(X_train_pca, y_train)"
   ]
  },
  {
   "cell_type": "markdown",
   "id": "6e4691a8",
   "metadata": {},
   "source": [
    "#### Prediction on the train set"
   ]
  },
  {
   "cell_type": "code",
   "execution_count": 113,
   "id": "08068c1d",
   "metadata": {},
   "outputs": [],
   "source": [
    "# Predictions on the train set\n",
    "y_train_pred = log_pca_model.predict(X_train_pca)"
   ]
  },
  {
   "cell_type": "code",
   "execution_count": 114,
   "id": "8878875d",
   "metadata": {},
   "outputs": [
    {
     "name": "stdout",
     "output_type": "stream",
     "text": [
      "[[15501  2831]\n",
      " [ 1754 16578]]\n"
     ]
    }
   ],
   "source": [
    "# Confusion matrix\n",
    "confusion = metrics.confusion_matrix(y_train, y_train_pred)\n",
    "print(confusion)"
   ]
  },
  {
   "cell_type": "code",
   "execution_count": 115,
   "id": "573adb63",
   "metadata": {},
   "outputs": [],
   "source": [
    "TP = confusion[1,1] # true positive \n",
    "TN = confusion[0,0] # true negatives\n",
    "FP = confusion[0,1] # false positives\n",
    "FN = confusion[1,0] # false negatives"
   ]
  },
  {
   "cell_type": "code",
   "execution_count": 116,
   "id": "0df01042",
   "metadata": {},
   "outputs": [
    {
     "name": "stdout",
     "output_type": "stream",
     "text": [
      "Accuracy:- 0.8749454505782238\n",
      "Sensitivity:- 0.9043203142046694\n",
      "Specificity:- 0.8455705869517783\n"
     ]
    }
   ],
   "source": [
    "# Accuracy\n",
    "print(\"Accuracy:-\",metrics.accuracy_score(y_train, y_train_pred))\n",
    "\n",
    "# Sensitivity\n",
    "print(\"Sensitivity:-\",TP / float(TP+FN))\n",
    "\n",
    "# Specificity\n",
    "print(\"Specificity:-\", TN / float(TN+FP))"
   ]
  },
  {
   "cell_type": "code",
   "execution_count": 117,
   "id": "3b48bc7d",
   "metadata": {},
   "outputs": [],
   "source": [
    "#### Prediction on the test set"
   ]
  },
  {
   "cell_type": "code",
   "execution_count": 118,
   "id": "cf0a9686",
   "metadata": {},
   "outputs": [],
   "source": [
    "# Prediction on the test set\n",
    "y_test_pred = log_pca_model.predict(X_test_pca)"
   ]
  },
  {
   "cell_type": "code",
   "execution_count": 119,
   "id": "ad16861b",
   "metadata": {},
   "outputs": [
    {
     "name": "stdout",
     "output_type": "stream",
     "text": [
      "[[6588 1275]\n",
      " [  62  218]]\n"
     ]
    }
   ],
   "source": [
    "# Confusion matrix\n",
    "confusion = metrics.confusion_matrix(y_test, y_test_pred)\n",
    "print(confusion)"
   ]
  },
  {
   "cell_type": "code",
   "execution_count": 120,
   "id": "bf99e0d7",
   "metadata": {},
   "outputs": [
    {
     "name": "stdout",
     "output_type": "stream",
     "text": [
      "Accuracy:- 0.8358098980719636\n",
      "Sensitivity:- 0.9043203142046694\n",
      "Specificity:- 0.8455705869517783\n"
     ]
    }
   ],
   "source": [
    "# Accuracy\n",
    "print(\"Accuracy:-\",metrics.accuracy_score(y_test, y_test_pred))\n",
    "\n",
    "# Sensitivity\n",
    "print(\"Sensitivity:-\",TP / float(TP+FN))\n",
    "\n",
    "# Specificity\n",
    "print(\"Specificity:-\", TN / float(TN+FP))"
   ]
  },
  {
   "cell_type": "markdown",
   "id": "6a96e636",
   "metadata": {},
   "source": [
    "#### Model summary\n",
    "\n",
    "    Train set\n",
    "        Accuracy = 0.8749\n",
    "        Sensitivity = 0.9043\n",
    "        Specificity = 0.8455\n",
    "    Test set\n",
    "        Accuracy = 0.835\n",
    "        Sensitivity = 0.904\n",
    "        Specificity = 0.8455\n",
    "\n",
    "Overall, the model is performing well in the test set, what it had learnt from the train set."
   ]
  },
  {
   "cell_type": "markdown",
   "id": "ddd3c1b8",
   "metadata": {},
   "source": [
    "#### Support Vector Machine(SVM) with PCA"
   ]
  },
  {
   "cell_type": "code",
   "execution_count": 121,
   "id": "2b5b4d17",
   "metadata": {},
   "outputs": [],
   "source": [
    "# Importing SVC\n",
    "from sklearn.svm import SVC"
   ]
  },
  {
   "cell_type": "markdown",
   "id": "d0df002c",
   "metadata": {},
   "source": [
    "#### Hyperparameter tuning\n",
    "\n",
    "C:- Regularization parameter.\n",
    "\n",
    "gamma:- Handles non linear classifications."
   ]
  },
  {
   "cell_type": "code",
   "execution_count": 122,
   "id": "04d3e436",
   "metadata": {},
   "outputs": [
    {
     "name": "stdout",
     "output_type": "stream",
     "text": [
      "Fitting 3 folds for each of 12 candidates, totalling 36 fits\n"
     ]
    },
    {
     "data": {
      "text/plain": [
       "GridSearchCV(cv=3, estimator=SVC(), n_jobs=-1,\n",
       "             param_grid=[{'C': [1, 10, 100, 1000],\n",
       "                          'gamma': [0.01, 0.001, 0.0001]}],\n",
       "             return_train_score=True, scoring='accuracy', verbose=1)"
      ]
     },
     "execution_count": 122,
     "metadata": {},
     "output_type": "execute_result"
    }
   ],
   "source": [
    "# specify range of hyperparameters\n",
    "\n",
    "hyper_params = [ {'gamma': [1e-2, 1e-3, 1e-4],\n",
    "                     'C': [1, 10, 100, 1000]}]\n",
    "\n",
    "\n",
    "# specify model with RBF kernel\n",
    "model = SVC(kernel=\"rbf\")\n",
    "\n",
    "# set up GridSearchCV()\n",
    "model_cv = GridSearchCV(estimator = model, \n",
    "                        param_grid = hyper_params, \n",
    "                        scoring= 'accuracy', \n",
    "                        cv = 3, \n",
    "                        verbose = 1,\n",
    "                        return_train_score=True,\n",
    "                       n_jobs=-1)      \n",
    "\n",
    "# fit the model\n",
    "model_cv.fit(X_train_pca, y_train)   "
   ]
  },
  {
   "cell_type": "code",
   "execution_count": 123,
   "id": "9b153be4",
   "metadata": {},
   "outputs": [
    {
     "data": {
      "text/html": [
       "<div>\n",
       "<style scoped>\n",
       "    .dataframe tbody tr th:only-of-type {\n",
       "        vertical-align: middle;\n",
       "    }\n",
       "\n",
       "    .dataframe tbody tr th {\n",
       "        vertical-align: top;\n",
       "    }\n",
       "\n",
       "    .dataframe thead th {\n",
       "        text-align: right;\n",
       "    }\n",
       "</style>\n",
       "<table border=\"1\" class=\"dataframe\">\n",
       "  <thead>\n",
       "    <tr style=\"text-align: right;\">\n",
       "      <th></th>\n",
       "      <th>mean_fit_time</th>\n",
       "      <th>std_fit_time</th>\n",
       "      <th>mean_score_time</th>\n",
       "      <th>std_score_time</th>\n",
       "      <th>param_C</th>\n",
       "      <th>param_gamma</th>\n",
       "      <th>params</th>\n",
       "      <th>split0_test_score</th>\n",
       "      <th>split1_test_score</th>\n",
       "      <th>split2_test_score</th>\n",
       "      <th>mean_test_score</th>\n",
       "      <th>std_test_score</th>\n",
       "      <th>rank_test_score</th>\n",
       "      <th>split0_train_score</th>\n",
       "      <th>split1_train_score</th>\n",
       "      <th>split2_train_score</th>\n",
       "      <th>mean_train_score</th>\n",
       "      <th>std_train_score</th>\n",
       "    </tr>\n",
       "  </thead>\n",
       "  <tbody>\n",
       "    <tr>\n",
       "      <th>0</th>\n",
       "      <td>62.403455</td>\n",
       "      <td>2.958671</td>\n",
       "      <td>29.688075</td>\n",
       "      <td>0.238363</td>\n",
       "      <td>1</td>\n",
       "      <td>0.01</td>\n",
       "      <td>{'C': 1, 'gamma': 0.01}</td>\n",
       "      <td>0.942808</td>\n",
       "      <td>0.946731</td>\n",
       "      <td>0.943949</td>\n",
       "      <td>0.944496</td>\n",
       "      <td>0.001648</td>\n",
       "      <td>5</td>\n",
       "      <td>0.953113</td>\n",
       "      <td>0.948451</td>\n",
       "      <td>0.948861</td>\n",
       "      <td>0.950142</td>\n",
       "      <td>0.002108</td>\n",
       "    </tr>\n",
       "    <tr>\n",
       "      <th>1</th>\n",
       "      <td>79.337435</td>\n",
       "      <td>1.419954</td>\n",
       "      <td>37.935145</td>\n",
       "      <td>0.207707</td>\n",
       "      <td>1</td>\n",
       "      <td>0.001</td>\n",
       "      <td>{'C': 1, 'gamma': 0.001}</td>\n",
       "      <td>0.885943</td>\n",
       "      <td>0.892971</td>\n",
       "      <td>0.883561</td>\n",
       "      <td>0.887492</td>\n",
       "      <td>0.003995</td>\n",
       "      <td>10</td>\n",
       "      <td>0.889125</td>\n",
       "      <td>0.887984</td>\n",
       "      <td>0.890398</td>\n",
       "      <td>0.889169</td>\n",
       "      <td>0.000986</td>\n",
       "    </tr>\n",
       "    <tr>\n",
       "      <th>2</th>\n",
       "      <td>83.928944</td>\n",
       "      <td>14.433905</td>\n",
       "      <td>45.768866</td>\n",
       "      <td>0.496622</td>\n",
       "      <td>1</td>\n",
       "      <td>0.0001</td>\n",
       "      <td>{'C': 1, 'gamma': 0.0001}</td>\n",
       "      <td>0.860007</td>\n",
       "      <td>0.865641</td>\n",
       "      <td>0.857704</td>\n",
       "      <td>0.861117</td>\n",
       "      <td>0.003334</td>\n",
       "      <td>12</td>\n",
       "      <td>0.861754</td>\n",
       "      <td>0.860124</td>\n",
       "      <td>0.863642</td>\n",
       "      <td>0.861840</td>\n",
       "      <td>0.001438</td>\n",
       "    </tr>\n",
       "    <tr>\n",
       "      <th>3</th>\n",
       "      <td>32.216289</td>\n",
       "      <td>1.311665</td>\n",
       "      <td>16.514867</td>\n",
       "      <td>0.456951</td>\n",
       "      <td>10</td>\n",
       "      <td>0.01</td>\n",
       "      <td>{'C': 10, 'gamma': 0.01}</td>\n",
       "      <td>0.962199</td>\n",
       "      <td>0.967188</td>\n",
       "      <td>0.966860</td>\n",
       "      <td>0.965416</td>\n",
       "      <td>0.002278</td>\n",
       "      <td>3</td>\n",
       "      <td>0.976107</td>\n",
       "      <td>0.973612</td>\n",
       "      <td>0.973571</td>\n",
       "      <td>0.974430</td>\n",
       "      <td>0.001186</td>\n",
       "    </tr>\n",
       "    <tr>\n",
       "      <th>4</th>\n",
       "      <td>43.406932</td>\n",
       "      <td>1.181862</td>\n",
       "      <td>29.177514</td>\n",
       "      <td>0.457520</td>\n",
       "      <td>10</td>\n",
       "      <td>0.001</td>\n",
       "      <td>{'C': 10, 'gamma': 0.001}</td>\n",
       "      <td>0.913271</td>\n",
       "      <td>0.919565</td>\n",
       "      <td>0.911464</td>\n",
       "      <td>0.914767</td>\n",
       "      <td>0.003472</td>\n",
       "      <td>7</td>\n",
       "      <td>0.919565</td>\n",
       "      <td>0.916541</td>\n",
       "      <td>0.916991</td>\n",
       "      <td>0.917699</td>\n",
       "      <td>0.001332</td>\n",
       "    </tr>\n",
       "    <tr>\n",
       "      <th>5</th>\n",
       "      <td>55.931181</td>\n",
       "      <td>1.117274</td>\n",
       "      <td>34.016339</td>\n",
       "      <td>0.731652</td>\n",
       "      <td>10</td>\n",
       "      <td>0.0001</td>\n",
       "      <td>{'C': 10, 'gamma': 0.0001}</td>\n",
       "      <td>0.876370</td>\n",
       "      <td>0.881270</td>\n",
       "      <td>0.872433</td>\n",
       "      <td>0.876691</td>\n",
       "      <td>0.003615</td>\n",
       "      <td>11</td>\n",
       "      <td>0.879061</td>\n",
       "      <td>0.877306</td>\n",
       "      <td>0.879475</td>\n",
       "      <td>0.878614</td>\n",
       "      <td>0.000940</td>\n",
       "    </tr>\n",
       "    <tr>\n",
       "      <th>6</th>\n",
       "      <td>37.559147</td>\n",
       "      <td>0.120510</td>\n",
       "      <td>10.336759</td>\n",
       "      <td>0.530704</td>\n",
       "      <td>100</td>\n",
       "      <td>0.01</td>\n",
       "      <td>{'C': 100, 'gamma': 0.01}</td>\n",
       "      <td>0.972099</td>\n",
       "      <td>0.978316</td>\n",
       "      <td>0.976516</td>\n",
       "      <td>0.975644</td>\n",
       "      <td>0.002612</td>\n",
       "      <td>1</td>\n",
       "      <td>0.990795</td>\n",
       "      <td>0.990345</td>\n",
       "      <td>0.990590</td>\n",
       "      <td>0.990577</td>\n",
       "      <td>0.000184</td>\n",
       "    </tr>\n",
       "    <tr>\n",
       "      <th>7</th>\n",
       "      <td>46.530609</td>\n",
       "      <td>2.098847</td>\n",
       "      <td>25.642462</td>\n",
       "      <td>1.063287</td>\n",
       "      <td>100</td>\n",
       "      <td>0.001</td>\n",
       "      <td>{'C': 100, 'gamma': 0.001}</td>\n",
       "      <td>0.937162</td>\n",
       "      <td>0.943622</td>\n",
       "      <td>0.939694</td>\n",
       "      <td>0.940159</td>\n",
       "      <td>0.002657</td>\n",
       "      <td>6</td>\n",
       "      <td>0.949718</td>\n",
       "      <td>0.945383</td>\n",
       "      <td>0.945792</td>\n",
       "      <td>0.946964</td>\n",
       "      <td>0.001954</td>\n",
       "    </tr>\n",
       "    <tr>\n",
       "      <th>8</th>\n",
       "      <td>57.745538</td>\n",
       "      <td>1.917113</td>\n",
       "      <td>30.852257</td>\n",
       "      <td>0.583669</td>\n",
       "      <td>100</td>\n",
       "      <td>0.0001</td>\n",
       "      <td>{'C': 100, 'gamma': 0.0001}</td>\n",
       "      <td>0.889789</td>\n",
       "      <td>0.894362</td>\n",
       "      <td>0.887161</td>\n",
       "      <td>0.890438</td>\n",
       "      <td>0.002975</td>\n",
       "      <td>9</td>\n",
       "      <td>0.893380</td>\n",
       "      <td>0.890194</td>\n",
       "      <td>0.893180</td>\n",
       "      <td>0.892251</td>\n",
       "      <td>0.001457</td>\n",
       "    </tr>\n",
       "    <tr>\n",
       "      <th>9</th>\n",
       "      <td>62.832208</td>\n",
       "      <td>4.969135</td>\n",
       "      <td>7.631636</td>\n",
       "      <td>0.406902</td>\n",
       "      <td>1000</td>\n",
       "      <td>0.01</td>\n",
       "      <td>{'C': 1000, 'gamma': 0.01}</td>\n",
       "      <td>0.971772</td>\n",
       "      <td>0.978480</td>\n",
       "      <td>0.974388</td>\n",
       "      <td>0.974880</td>\n",
       "      <td>0.002760</td>\n",
       "      <td>2</td>\n",
       "      <td>0.997995</td>\n",
       "      <td>0.997709</td>\n",
       "      <td>0.998241</td>\n",
       "      <td>0.997982</td>\n",
       "      <td>0.000217</td>\n",
       "    </tr>\n",
       "    <tr>\n",
       "      <th>10</th>\n",
       "      <td>95.391769</td>\n",
       "      <td>4.532621</td>\n",
       "      <td>14.670060</td>\n",
       "      <td>0.840729</td>\n",
       "      <td>1000</td>\n",
       "      <td>0.001</td>\n",
       "      <td>{'C': 1000, 'gamma': 0.001}</td>\n",
       "      <td>0.952626</td>\n",
       "      <td>0.959905</td>\n",
       "      <td>0.959741</td>\n",
       "      <td>0.957424</td>\n",
       "      <td>0.003393</td>\n",
       "      <td>4</td>\n",
       "      <td>0.970952</td>\n",
       "      <td>0.967394</td>\n",
       "      <td>0.966821</td>\n",
       "      <td>0.968389</td>\n",
       "      <td>0.001827</td>\n",
       "    </tr>\n",
       "    <tr>\n",
       "      <th>11</th>\n",
       "      <td>66.823455</td>\n",
       "      <td>3.153307</td>\n",
       "      <td>19.787634</td>\n",
       "      <td>4.033454</td>\n",
       "      <td>1000</td>\n",
       "      <td>0.0001</td>\n",
       "      <td>{'C': 1000, 'gamma': 0.0001}</td>\n",
       "      <td>0.911798</td>\n",
       "      <td>0.917846</td>\n",
       "      <td>0.910973</td>\n",
       "      <td>0.913539</td>\n",
       "      <td>0.003064</td>\n",
       "      <td>8</td>\n",
       "      <td>0.918378</td>\n",
       "      <td>0.914618</td>\n",
       "      <td>0.914945</td>\n",
       "      <td>0.915980</td>\n",
       "      <td>0.001701</td>\n",
       "    </tr>\n",
       "  </tbody>\n",
       "</table>\n",
       "</div>"
      ],
      "text/plain": [
       "    mean_fit_time  std_fit_time  mean_score_time  std_score_time param_C  \\\n",
       "0       62.403455      2.958671        29.688075        0.238363       1   \n",
       "1       79.337435      1.419954        37.935145        0.207707       1   \n",
       "2       83.928944     14.433905        45.768866        0.496622       1   \n",
       "3       32.216289      1.311665        16.514867        0.456951      10   \n",
       "4       43.406932      1.181862        29.177514        0.457520      10   \n",
       "5       55.931181      1.117274        34.016339        0.731652      10   \n",
       "6       37.559147      0.120510        10.336759        0.530704     100   \n",
       "7       46.530609      2.098847        25.642462        1.063287     100   \n",
       "8       57.745538      1.917113        30.852257        0.583669     100   \n",
       "9       62.832208      4.969135         7.631636        0.406902    1000   \n",
       "10      95.391769      4.532621        14.670060        0.840729    1000   \n",
       "11      66.823455      3.153307        19.787634        4.033454    1000   \n",
       "\n",
       "   param_gamma                        params  split0_test_score  \\\n",
       "0         0.01       {'C': 1, 'gamma': 0.01}           0.942808   \n",
       "1        0.001      {'C': 1, 'gamma': 0.001}           0.885943   \n",
       "2       0.0001     {'C': 1, 'gamma': 0.0001}           0.860007   \n",
       "3         0.01      {'C': 10, 'gamma': 0.01}           0.962199   \n",
       "4        0.001     {'C': 10, 'gamma': 0.001}           0.913271   \n",
       "5       0.0001    {'C': 10, 'gamma': 0.0001}           0.876370   \n",
       "6         0.01     {'C': 100, 'gamma': 0.01}           0.972099   \n",
       "7        0.001    {'C': 100, 'gamma': 0.001}           0.937162   \n",
       "8       0.0001   {'C': 100, 'gamma': 0.0001}           0.889789   \n",
       "9         0.01    {'C': 1000, 'gamma': 0.01}           0.971772   \n",
       "10       0.001   {'C': 1000, 'gamma': 0.001}           0.952626   \n",
       "11      0.0001  {'C': 1000, 'gamma': 0.0001}           0.911798   \n",
       "\n",
       "    split1_test_score  split2_test_score  mean_test_score  std_test_score  \\\n",
       "0            0.946731           0.943949         0.944496        0.001648   \n",
       "1            0.892971           0.883561         0.887492        0.003995   \n",
       "2            0.865641           0.857704         0.861117        0.003334   \n",
       "3            0.967188           0.966860         0.965416        0.002278   \n",
       "4            0.919565           0.911464         0.914767        0.003472   \n",
       "5            0.881270           0.872433         0.876691        0.003615   \n",
       "6            0.978316           0.976516         0.975644        0.002612   \n",
       "7            0.943622           0.939694         0.940159        0.002657   \n",
       "8            0.894362           0.887161         0.890438        0.002975   \n",
       "9            0.978480           0.974388         0.974880        0.002760   \n",
       "10           0.959905           0.959741         0.957424        0.003393   \n",
       "11           0.917846           0.910973         0.913539        0.003064   \n",
       "\n",
       "    rank_test_score  split0_train_score  split1_train_score  \\\n",
       "0                 5            0.953113            0.948451   \n",
       "1                10            0.889125            0.887984   \n",
       "2                12            0.861754            0.860124   \n",
       "3                 3            0.976107            0.973612   \n",
       "4                 7            0.919565            0.916541   \n",
       "5                11            0.879061            0.877306   \n",
       "6                 1            0.990795            0.990345   \n",
       "7                 6            0.949718            0.945383   \n",
       "8                 9            0.893380            0.890194   \n",
       "9                 2            0.997995            0.997709   \n",
       "10                4            0.970952            0.967394   \n",
       "11                8            0.918378            0.914618   \n",
       "\n",
       "    split2_train_score  mean_train_score  std_train_score  \n",
       "0             0.948861          0.950142         0.002108  \n",
       "1             0.890398          0.889169         0.000986  \n",
       "2             0.863642          0.861840         0.001438  \n",
       "3             0.973571          0.974430         0.001186  \n",
       "4             0.916991          0.917699         0.001332  \n",
       "5             0.879475          0.878614         0.000940  \n",
       "6             0.990590          0.990577         0.000184  \n",
       "7             0.945792          0.946964         0.001954  \n",
       "8             0.893180          0.892251         0.001457  \n",
       "9             0.998241          0.997982         0.000217  \n",
       "10            0.966821          0.968389         0.001827  \n",
       "11            0.914945          0.915980         0.001701  "
      ]
     },
     "execution_count": 123,
     "metadata": {},
     "output_type": "execute_result"
    }
   ],
   "source": [
    "# cv results\n",
    "cv_results = pd.DataFrame(model_cv.cv_results_)\n",
    "cv_results"
   ]
  },
  {
   "cell_type": "markdown",
   "id": "fa6c44c5",
   "metadata": {},
   "source": [
    "#### Plotting the accuracy with various C and gamma values"
   ]
  },
  {
   "cell_type": "code",
   "execution_count": 124,
   "id": "b1d53713",
   "metadata": {},
   "outputs": [
    {
     "data": {
      "image/png": "[encoded data removed]",
      "text/plain": [
       "<Figure size 1600x600 with 3 Axes>"
      ]
     },
     "metadata": {},
     "output_type": "display_data"
    }
   ],
   "source": [
    "# converting C to numeric type for plotting on x-axis\n",
    "cv_results['param_C'] = cv_results['param_C'].astype('int')\n",
    "\n",
    "# # plotting\n",
    "plt.figure(figsize=(16,6))\n",
    "\n",
    "# subplot 1/3\n",
    "plt.subplot(131)\n",
    "gamma_01 = cv_results[cv_results['param_gamma']==0.01]\n",
    "\n",
    "plt.plot(gamma_01[\"param_C\"], gamma_01[\"mean_test_score\"])\n",
    "plt.plot(gamma_01[\"param_C\"], gamma_01[\"mean_train_score\"])\n",
    "plt.xlabel('C')\n",
    "plt.ylabel('Accuracy')\n",
    "plt.title(\"Gamma=0.01\")\n",
    "plt.ylim([0.80, 1])\n",
    "plt.legend(['test accuracy', 'train accuracy'], loc='upper left')\n",
    "plt.xscale('log')\n",
    "\n",
    "# subplot 2/3\n",
    "plt.subplot(132)\n",
    "gamma_001 = cv_results[cv_results['param_gamma']==0.001]\n",
    "\n",
    "plt.plot(gamma_001[\"param_C\"], gamma_001[\"mean_test_score\"])\n",
    "plt.plot(gamma_001[\"param_C\"], gamma_001[\"mean_train_score\"])\n",
    "plt.xlabel('C')\n",
    "plt.ylabel('Accuracy')\n",
    "plt.title(\"Gamma=0.001\")\n",
    "plt.ylim([0.80, 1])\n",
    "plt.legend(['test accuracy', 'train accuracy'], loc='upper left')\n",
    "plt.xscale('log')\n",
    "\n",
    "\n",
    "# subplot 3/3\n",
    "plt.subplot(133)\n",
    "gamma_0001 = cv_results[cv_results['param_gamma']==0.0001]\n",
    "\n",
    "plt.plot(gamma_0001[\"param_C\"], gamma_0001[\"mean_test_score\"])\n",
    "plt.plot(gamma_0001[\"param_C\"], gamma_0001[\"mean_train_score\"])\n",
    "plt.xlabel('C')\n",
    "plt.ylabel('Accuracy')\n",
    "plt.title(\"Gamma=0.0001\")\n",
    "plt.ylim([0.80, 1])\n",
    "plt.legend(['test accuracy', 'train accuracy'], loc='upper left')\n",
    "plt.xscale('log')"
   ]
  },
  {
   "cell_type": "code",
   "execution_count": 125,
   "id": "4498f931",
   "metadata": {},
   "outputs": [
    {
     "name": "stdout",
     "output_type": "stream",
     "text": [
      "The best test score is 0.9756437798463651 corresponding to hyperparameters {'C': 100, 'gamma': 0.01}\n"
     ]
    }
   ],
   "source": [
    "# Printing the best score \n",
    "best_score = model_cv.best_score_\n",
    "best_hyperparams = model_cv.best_params_\n",
    "\n",
    "print(\"The best test score is {0} corresponding to hyperparameters {1}\".format(best_score, best_hyperparams))"
   ]
  },
  {
   "cell_type": "markdown",
   "id": "bf1daeee",
   "metadata": {},
   "source": [
    "#### From the above plot, we can see that higher value of gamma leads to overfitting the model. With the lowest value of gamma (0.0001) we have train and test accuracy almost same.\n",
    "\n",
    "Also, at C=100 we have a good accuracy and the train and test scores are comparable.\n",
    "\n",
    "Though sklearn suggests the optimal scores mentioned above (gamma=0.01, C=1000), one could argue that it is better to choose a simpler, more non-linear model with gamma=0.0001. This is because the optimal values mentioned here are calculated based on the average test accuracy (but not considering subjective parameters such as model complexity).\n",
    "\n",
    "We can achieve comparable average test accuracy (~90%) with gamma=0.0001 as well, though we'll have to increase the cost C for that. So to achieve high accuracy, there's a tradeoff between:\n",
    "\n",
    "    High gamma (i.e. high non-linearity) and average value of C\n",
    "    Low gamma (i.e. less non-linearity) and high value of C\n",
    "\n"
   ]
  },
  {
   "cell_type": "markdown",
   "id": "3249eac4",
   "metadata": {},
   "source": [
    "#### Build the model with optimal hyperparameters\n",
    "We argue that the model will be simpler if it has as less non-linearity as possible, so we choose gamma=0.0001 and a high C=100."
   ]
  },
  {
   "cell_type": "code",
   "execution_count": 126,
   "id": "cc1bf392",
   "metadata": {},
   "outputs": [
    {
     "data": {
      "text/plain": [
       "SVC(C=100, gamma=0.0001)"
      ]
     },
     "execution_count": 126,
     "metadata": {},
     "output_type": "execute_result"
    }
   ],
   "source": [
    "# Building the model with optimal hyperparameters\n",
    "svm_pca_model = SVC(C=100, gamma=0.0001, kernel=\"rbf\")\n",
    "\n",
    "svm_pca_model.fit(X_train_pca, y_train)"
   ]
  },
  {
   "cell_type": "code",
   "execution_count": 127,
   "id": "a0f9cf43",
   "metadata": {},
   "outputs": [],
   "source": [
    "# Predictions on the train set\n",
    "y_train_pred = svm_pca_model.predict(X_train_pca)"
   ]
  },
  {
   "cell_type": "code",
   "execution_count": 128,
   "id": "daa706e4",
   "metadata": {},
   "outputs": [
    {
     "name": "stdout",
     "output_type": "stream",
     "text": [
      "[[15958  2374]\n",
      " [ 1474 16858]]\n"
     ]
    }
   ],
   "source": [
    "# Confusion matrix\n",
    "confusion = metrics.confusion_matrix(y_train, y_train_pred)\n",
    "print(confusion)"
   ]
  },
  {
   "cell_type": "code",
   "execution_count": 129,
   "id": "20296f81",
   "metadata": {},
   "outputs": [],
   "source": [
    "TP = confusion[1,1] # true positive \n",
    "TN = confusion[0,0] # true negatives\n",
    "FP = confusion[0,1] # false positives\n",
    "FN = confusion[1,0] # false negatives"
   ]
  },
  {
   "cell_type": "code",
   "execution_count": 130,
   "id": "92776f51",
   "metadata": {},
   "outputs": [
    {
     "name": "stdout",
     "output_type": "stream",
     "text": [
      "Accuracy:- 0.8950469125027275\n",
      "Sensitivity:- 0.9195941523019856\n",
      "Specificity:- 0.8704996727034694\n"
     ]
    }
   ],
   "source": [
    "# Accuracy\n",
    "print(\"Accuracy:-\",metrics.accuracy_score(y_train, y_train_pred))\n",
    "\n",
    "# Sensitivity\n",
    "print(\"Sensitivity:-\",TP / float(TP+FN))\n",
    "\n",
    "# Specificity\n",
    "print(\"Specificity:-\", TN / float(TN+FP))"
   ]
  },
  {
   "cell_type": "markdown",
   "id": "7a306ea7",
   "metadata": {},
   "source": [
    "#### Prediction on the test set"
   ]
  },
  {
   "cell_type": "code",
   "execution_count": 131,
   "id": "3a103ff9",
   "metadata": {},
   "outputs": [],
   "source": [
    "# Prediction on the test set\n",
    "y_test_pred = svm_pca_model.predict(X_test_pca)"
   ]
  },
  {
   "cell_type": "code",
   "execution_count": 132,
   "id": "1ae2b7b1",
   "metadata": {},
   "outputs": [
    {
     "name": "stdout",
     "output_type": "stream",
     "text": [
      "[[6820 1043]\n",
      " [  68  212]]\n"
     ]
    }
   ],
   "source": [
    "confusion_metrics = metrics.confusion_matrix(y_test, y_test_pred)\n",
    "print(confusion_metrics)"
   ]
  },
  {
   "cell_type": "code",
   "execution_count": 133,
   "id": "c3fc8219",
   "metadata": {},
   "outputs": [
    {
     "name": "stdout",
     "output_type": "stream",
     "text": [
      "Accuracy:- 0.8635637971263662\n",
      "Sensitivity:- 0.9195941523019856\n",
      "Specificity:- 0.8704996727034694\n"
     ]
    }
   ],
   "source": [
    "TP = confusion[1,1] # true positive \n",
    "TN = confusion[0,0] # true negatives\n",
    "FP = confusion[0,1] # false positives\n",
    "FN = confusion[1,0] # false negatives\n",
    "# Accuracy\n",
    "print(\"Accuracy:-\",metrics.accuracy_score(y_test, y_test_pred))\n",
    "\n",
    "# Sensitivity\n",
    "print(\"Sensitivity:-\",TP / float(TP+FN))\n",
    "\n",
    "# Specificity\n",
    "print(\"Specificity:-\", TN / float(TN+FP))"
   ]
  },
  {
   "cell_type": "markdown",
   "id": "8a2b147a",
   "metadata": {},
   "source": [
    "#### Model summary\n",
    "\n",
    "    Train set\n",
    "        Accuracy = 0.89\n",
    "        Sensitivity = 0.92\n",
    "        Specificity = 0.87\n",
    "    Test set\n",
    "        Accuracy = 0.86\n",
    "        Sensitivity = 0.91\n",
    "        Specificity = 0.87"
   ]
  },
  {
   "cell_type": "markdown",
   "id": "0853f880",
   "metadata": {},
   "source": [
    "#### Decision tree with PCA"
   ]
  },
  {
   "cell_type": "code",
   "execution_count": 134,
   "id": "72e4a12e",
   "metadata": {},
   "outputs": [],
   "source": [
    "from sklearn.tree import DecisionTreeClassifier"
   ]
  },
  {
   "cell_type": "markdown",
   "id": "57f8d93b",
   "metadata": {},
   "source": [
    "#### hyper parameter Tuning"
   ]
  },
  {
   "cell_type": "code",
   "execution_count": 135,
   "id": "564b4d07",
   "metadata": {},
   "outputs": [],
   "source": [
    "param_grid = {\n",
    "    'max_depth': range(5, 15, 5),\n",
    "    \n",
    "    'min_samples_leaf': range(50, 150, 50),\n",
    "    'min_samples_split': range(50, 150, 50),\n",
    "}"
   ]
  },
  {
   "cell_type": "code",
   "execution_count": 136,
   "id": "309f12e8",
   "metadata": {},
   "outputs": [],
   "source": [
    "tree = DecisionTreeClassifier()"
   ]
  },
  {
   "cell_type": "code",
   "execution_count": 137,
   "id": "a6a5c587",
   "metadata": {},
   "outputs": [
    {
     "name": "stdout",
     "output_type": "stream",
     "text": [
      "Fitting 5 folds for each of 8 candidates, totalling 40 fits\n"
     ]
    },
    {
     "data": {
      "text/plain": [
       "GridSearchCV(cv=5, estimator=DecisionTreeClassifier(), n_jobs=-1,\n",
       "             param_grid={'max_depth': range(5, 15, 5),\n",
       "                         'min_samples_leaf': range(50, 150, 50),\n",
       "                         'min_samples_split': range(50, 150, 50)},\n",
       "             scoring='recall', verbose=1)"
      ]
     },
     "execution_count": 137,
     "metadata": {},
     "output_type": "execute_result"
    }
   ],
   "source": [
    "gridSearch = GridSearchCV(estimator = tree,\n",
    "                         param_grid=param_grid,\n",
    "                         scoring='recall',\n",
    "                         cv=5,\n",
    "                         verbose=1,\n",
    "                         n_jobs=-1)\n",
    "gridSearch.fit(X_train_pca,y_train)"
   ]
  },
  {
   "cell_type": "code",
   "execution_count": 138,
   "id": "bfb6f7ee",
   "metadata": {},
   "outputs": [
    {
     "name": "stdout",
     "output_type": "stream",
     "text": [
      "Best sensitivity:- 0.9024103894140854\n",
      "DecisionTreeClassifier(max_depth=10, min_samples_leaf=50, min_samples_split=50)\n"
     ]
    }
   ],
   "source": [
    "# Printing the optimal sensitivity score and hyperparameters\n",
    "print(\"Best sensitivity:-\", gridSearch.best_score_)\n",
    "print(gridSearch.best_estimator_)"
   ]
  },
  {
   "cell_type": "markdown",
   "id": "c4a01c08",
   "metadata": {},
   "source": [
    "#### Model with optimal hyperparameters\n"
   ]
  },
  {
   "cell_type": "code",
   "execution_count": 139,
   "id": "5a7d3b25",
   "metadata": {},
   "outputs": [
    {
     "data": {
      "text/plain": [
       "DecisionTreeClassifier(max_depth=10, min_samples_leaf=50, min_samples_split=100,\n",
       "                       random_state=100)"
      ]
     },
     "execution_count": 139,
     "metadata": {},
     "output_type": "execute_result"
    }
   ],
   "source": [
    "dt_pca_model = DecisionTreeClassifier(criterion = \"gini\", \n",
    "                                  random_state = 100,\n",
    "                                  max_depth=10, \n",
    "                                  min_samples_leaf=50,\n",
    "                                  min_samples_split=100)\n",
    "\n",
    "dt_pca_model.fit(X_train_pca, y_train)"
   ]
  },
  {
   "cell_type": "markdown",
   "id": "725716b8",
   "metadata": {},
   "source": [
    "#### prediction"
   ]
  },
  {
   "cell_type": "code",
   "execution_count": 140,
   "id": "faf71260",
   "metadata": {},
   "outputs": [
    {
     "name": "stdout",
     "output_type": "stream",
     "text": [
      "[[16486  1846]\n",
      " [ 1511 16821]]\n"
     ]
    }
   ],
   "source": [
    "# Predictions on the train set\n",
    "y_train_pred = dt_pca_model.predict(X_train_pca)\n",
    "\n",
    "# Confusion matrix\n",
    "confusion = metrics.confusion_matrix(y_train, y_train_pred)\n",
    "print(confusion)"
   ]
  },
  {
   "cell_type": "code",
   "execution_count": 141,
   "id": "d7c1d30f",
   "metadata": {},
   "outputs": [
    {
     "name": "stdout",
     "output_type": "stream",
     "text": [
      "Accuracy:- 0.9084387955487672\n",
      "Sensitivity:- 0.9175758236962688\n",
      "Specificity:- 0.8993017674012656\n"
     ]
    }
   ],
   "source": [
    "TP = confusion[1,1] # true positive \n",
    "TN = confusion[0,0] # true negatives\n",
    "FP = confusion[0,1] # false positives\n",
    "FN = confusion[1,0] # false negatives\n",
    "\n",
    "# Accuracy\n",
    "print(\"Accuracy:-\",metrics.accuracy_score(y_train, y_train_pred))\n",
    "\n",
    "# Sensitivity\n",
    "print(\"Sensitivity:-\",TP / float(TP+FN))\n",
    "\n",
    "# Specificity\n",
    "print(\"Specificity:-\", TN / float(TN+FP))"
   ]
  },
  {
   "cell_type": "code",
   "execution_count": 142,
   "id": "8e96ca1a",
   "metadata": {},
   "outputs": [],
   "source": [
    "#### Prediction on the test set"
   ]
  },
  {
   "cell_type": "code",
   "execution_count": 143,
   "id": "baa20745",
   "metadata": {},
   "outputs": [
    {
     "name": "stdout",
     "output_type": "stream",
     "text": [
      "[[6919  944]\n",
      " [ 123  157]]\n"
     ]
    }
   ],
   "source": [
    "# Prediction on the test set\n",
    "y_test_pred = dt_pca_model.predict(X_test_pca)\n",
    "\n",
    "# Confusion matrix\n",
    "confusion = metrics.confusion_matrix(y_test, y_test_pred)\n",
    "print(confusion)"
   ]
  },
  {
   "cell_type": "code",
   "execution_count": 144,
   "id": "a148bdfb",
   "metadata": {},
   "outputs": [
    {
     "name": "stdout",
     "output_type": "stream",
     "text": [
      "Accuracy:- 0.8689672111015596\n",
      "Sensitivity:- 0.5607142857142857\n",
      "Specificity:- 0.8799440417143584\n"
     ]
    }
   ],
   "source": [
    "TP = confusion[1,1] # true positive \n",
    "TN = confusion[0,0] # true negatives\n",
    "FP = confusion[0,1] # false positives\n",
    "FN = confusion[1,0] # false negatives\n",
    "\n",
    "# Accuracy\n",
    "print(\"Accuracy:-\",metrics.accuracy_score(y_test, y_test_pred))\n",
    "\n",
    "# Sensitivity\n",
    "print(\"Sensitivity:-\",TP / float(TP+FN))\n",
    "\n",
    "# Specificity\n",
    "print(\"Specificity:-\", TN / float(TN+FP))"
   ]
  },
  {
   "cell_type": "markdown",
   "id": "bd773907",
   "metadata": {},
   "source": [
    "#### Model summary\n",
    "\n",
    "    Train set\n",
    "        Accuracy = 0.91\n",
    "        Sensitivity = 0.92\n",
    "        Specificity = 0.90\n",
    "    Test set\n",
    "        Accuracy = 0.87\n",
    "        Sensitivity = 0.56\n",
    "        Specificity = 0.88"
   ]
  },
  {
   "cell_type": "markdown",
   "id": "614d11a6",
   "metadata": {},
   "source": [
    "##### We can see from the model performance that the Sesitivity has been decreased while evaluating the model on the test set. However, the accuracy and specificity is quite good in the test set."
   ]
  },
  {
   "cell_type": "markdown",
   "id": "2587bda0",
   "metadata": {},
   "source": [
    "### Random forest with PCA"
   ]
  },
  {
   "cell_type": "code",
   "execution_count": 145,
   "id": "82c955f0",
   "metadata": {},
   "outputs": [],
   "source": [
    "from sklearn.ensemble import RandomForestClassifier"
   ]
  },
  {
   "cell_type": "markdown",
   "id": "41e24ebb",
   "metadata": {},
   "source": [
    "#### Hyperparameter Tuning"
   ]
  },
  {
   "cell_type": "code",
   "execution_count": 146,
   "id": "b424f322",
   "metadata": {},
   "outputs": [
    {
     "name": "stdout",
     "output_type": "stream",
     "text": [
      "Fitting 3 folds for each of 24 candidates, totalling 72 fits\n"
     ]
    },
    {
     "data": {
      "text/plain": [
       "GridSearchCV(cv=3, estimator=RandomForestClassifier(), n_jobs=-1,\n",
       "             param_grid={'max_depth': range(5, 10, 5), 'max_features': [10, 20],\n",
       "                         'min_samples_leaf': range(50, 150, 50),\n",
       "                         'min_samples_split': range(50, 150, 50),\n",
       "                         'n_estimators': [100, 200, 300]},\n",
       "             return_train_score=True, verbose=1)"
      ]
     },
     "execution_count": 146,
     "metadata": {},
     "output_type": "execute_result"
    }
   ],
   "source": [
    "param_grid = {\n",
    "    'max_depth': range(5,10,5),\n",
    "    'min_samples_leaf': range(50, 150, 50),\n",
    "    'min_samples_split': range(50, 150, 50),\n",
    "    'n_estimators': [100,200,300], \n",
    "    'max_features': [10, 20]\n",
    "}\n",
    "# Create a based model\n",
    "rf = RandomForestClassifier()\n",
    "# Instantiate the grid search model\n",
    "grid_search = GridSearchCV(estimator = rf, \n",
    "                           param_grid = param_grid, \n",
    "                           cv = 3,\n",
    "                           n_jobs = -1,\n",
    "                           verbose = 1, \n",
    "                           return_train_score=True)\n",
    "\n",
    "# Fit the model\n",
    "grid_search.fit(X_train_pca, y_train)"
   ]
  },
  {
   "cell_type": "code",
   "execution_count": 147,
   "id": "42a54601",
   "metadata": {},
   "outputs": [
    {
     "name": "stdout",
     "output_type": "stream",
     "text": [
      "We can get accuracy of 0.8530167226567794 using {'max_depth': 5, 'max_features': 10, 'min_samples_leaf': 50, 'min_samples_split': 50, 'n_estimators': 200}\n"
     ]
    }
   ],
   "source": [
    "# printing the optimal accuracy score and hyperparameters\n",
    "print('We can get accuracy of',grid_search.best_score_,'using',grid_search.best_params_)"
   ]
  },
  {
   "cell_type": "markdown",
   "id": "051dc93c",
   "metadata": {},
   "source": [
    "#### Model with optimal Hyperparameter"
   ]
  },
  {
   "cell_type": "code",
   "execution_count": 148,
   "id": "bf18e2dd",
   "metadata": {},
   "outputs": [],
   "source": [
    "# model with the best hyperparameters\n",
    "\n",
    "rfc_model = RandomForestClassifier(bootstrap=True,\n",
    "                             max_depth=5,\n",
    "                             min_samples_leaf=50, \n",
    "                             min_samples_split=100,\n",
    "                             max_features=10,\n",
    "                             n_estimators=100)"
   ]
  },
  {
   "cell_type": "code",
   "execution_count": 149,
   "id": "9c9071ce",
   "metadata": {},
   "outputs": [
    {
     "data": {
      "text/plain": [
       "RandomForestClassifier(max_depth=5, max_features=10, min_samples_leaf=50,\n",
       "                       min_samples_split=100)"
      ]
     },
     "execution_count": 149,
     "metadata": {},
     "output_type": "execute_result"
    }
   ],
   "source": [
    "# Fit the model\n",
    "rfc_model.fit(X_train_pca, y_train)"
   ]
  },
  {
   "cell_type": "markdown",
   "id": "1a615153",
   "metadata": {},
   "source": [
    "#### Prediction on the train set"
   ]
  },
  {
   "cell_type": "code",
   "execution_count": 150,
   "id": "26832361",
   "metadata": {},
   "outputs": [
    {
     "name": "stdout",
     "output_type": "stream",
     "text": [
      "[[15390  2942]\n",
      " [ 2489 15843]]\n"
     ]
    }
   ],
   "source": [
    "# Predictions on the train set\n",
    "y_train_pred = rfc_model.predict(X_train_pca)\n",
    "\n",
    "# Confusion matrix\n",
    "confusion = metrics.confusion_matrix(y_train, y_train_pred)\n",
    "print(confusion)"
   ]
  },
  {
   "cell_type": "code",
   "execution_count": 151,
   "id": "6900e65e",
   "metadata": {},
   "outputs": [
    {
     "name": "stdout",
     "output_type": "stream",
     "text": [
      "Accuracy:- 0.8518710451669212\n",
      "Sensitivity:- 0.8642264891992145\n",
      "Specificity:- 0.839515601134628\n"
     ]
    }
   ],
   "source": [
    "TP = confusion[1,1] # true positive \n",
    "TN = confusion[0,0] # true negatives\n",
    "FP = confusion[0,1] # false positives\n",
    "FN = confusion[1,0] # false negatives\n",
    "\n",
    "# Accuracy\n",
    "print(\"Accuracy:-\",metrics.accuracy_score(y_train, y_train_pred))\n",
    "\n",
    "# Sensitivity\n",
    "print(\"Sensitivity:-\",TP / float(TP+FN))\n",
    "\n",
    "# Specificity\n",
    "print(\"Specificity:-\", TN / float(TN+FP))"
   ]
  },
  {
   "cell_type": "markdown",
   "id": "a95213a2",
   "metadata": {},
   "source": [
    "#### Prediction on the test set"
   ]
  },
  {
   "cell_type": "code",
   "execution_count": 152,
   "id": "e43db4e6",
   "metadata": {},
   "outputs": [
    {
     "name": "stdout",
     "output_type": "stream",
     "text": [
      "[[6522 1341]\n",
      " [  89  191]]\n"
     ]
    }
   ],
   "source": [
    "# Prediction on the test set\n",
    "y_test_pred = rfc_model.predict(X_test_pca)\n",
    "\n",
    "# Confusion matrix\n",
    "confusion = metrics.confusion_matrix(y_test, y_test_pred)\n",
    "print(confusion)"
   ]
  },
  {
   "cell_type": "code",
   "execution_count": 153,
   "id": "c4dc3612",
   "metadata": {},
   "outputs": [
    {
     "name": "stdout",
     "output_type": "stream",
     "text": [
      "Accuracy:- 0.824389045806214\n",
      "Sensitivity:- 0.6821428571428572\n",
      "Specificity:- 0.8294544067149943\n"
     ]
    }
   ],
   "source": [
    "TP = confusion[1,1] # true positive \n",
    "TN = confusion[0,0] # true negatives\n",
    "FP = confusion[0,1] # false positives\n",
    "FN = confusion[1,0] # false negatives\n",
    "\n",
    "# Accuracy\n",
    "print(\"Accuracy:-\",metrics.accuracy_score(y_test, y_test_pred))\n",
    "\n",
    "# Sensitivity\n",
    "print(\"Sensitivity:-\",TP / float(TP+FN))\n",
    "\n",
    "# Specificity\n",
    "print(\"Specificity:-\", TN / float(TN+FP))"
   ]
  },
  {
   "cell_type": "markdown",
   "id": "6fa19ab9",
   "metadata": {},
   "source": [
    "#### Model summary\n",
    "\n",
    "    Train set\n",
    "        Accuracy = 0.85\n",
    "        Sensitivity = 0.87\n",
    "        Specificity = 0.83\n",
    "    Test set\n",
    "        Accuracy = 0.82\n",
    "        Sensitivity = 0.68\n",
    "        Specificity = 0.83\n",
    "\n",
    "We can see from the model performance that the Sesitivity has been decreased while evaluating the model on the test set. However, the accuracy and specificity is quite good in the test set."
   ]
  },
  {
   "cell_type": "markdown",
   "id": "b7a3cfee",
   "metadata": {},
   "source": [
    "#### Final conclusion with PCA\n",
    "\n",
    "After trying several models we can see that for achieving the best sensitivity, which was our ultimate goal, the classic Logistic regression or the SVM models preforms well. For both the models the sensitivity was approx 91%. Also we have good accuracy of approx 85%."
   ]
  },
  {
   "cell_type": "markdown",
   "id": "d56fb3b1",
   "metadata": {},
   "source": [
    "#### Without PCA\n",
    "Logistic regression with No PCA"
   ]
  },
  {
   "cell_type": "code",
   "execution_count": 154,
   "id": "30b1c62f",
   "metadata": {},
   "outputs": [],
   "source": [
    "#importing statsmodel for adding constant\n",
    "import statsmodels.api as sm"
   ]
  },
  {
   "cell_type": "code",
   "execution_count": 155,
   "id": "d655c12e",
   "metadata": {},
   "outputs": [],
   "source": [
    "# adding constant\n",
    "log_no_pca = sm.GLM(y_train, (sm.add_constant(X_train)), family=sm.families.Binomial())\n"
   ]
  },
  {
   "cell_type": "code",
   "execution_count": 156,
   "id": "0e667d77",
   "metadata": {},
   "outputs": [],
   "source": [
    "# Fit the model\n",
    "log_no_pca = log_no_pca.fit().summary()"
   ]
  },
  {
   "cell_type": "code",
   "execution_count": 157,
   "id": "90ca81de",
   "metadata": {},
   "outputs": [
    {
     "data": {
      "text/html": [
       "<table class=\"simpletable\">\n",
       "<caption>Generalized Linear Model Regression Results</caption>\n",
       "<tr>\n",
       "  <th>Dep. Variable:</th>         <td>churn</td>      <th>  No. Observations:  </th>  <td> 36664</td> \n",
       "</tr>\n",
       "<tr>\n",
       "  <th>Model:</th>                  <td>GLM</td>       <th>  Df Residuals:      </th>  <td> 36533</td> \n",
       "</tr>\n",
       "<tr>\n",
       "  <th>Model Family:</th>        <td>Binomial</td>     <th>  Df Model:          </th>  <td>   130</td> \n",
       "</tr>\n",
       "<tr>\n",
       "  <th>Link Function:</th>         <td>Logit</td>      <th>  Scale:             </th> <td>  1.0000</td>\n",
       "</tr>\n",
       "<tr>\n",
       "  <th>Method:</th>                <td>IRLS</td>       <th>  Log-Likelihood:    </th> <td>     nan</td>\n",
       "</tr>\n",
       "<tr>\n",
       "  <th>Date:</th>            <td>Sun, 25 Jun 2023</td> <th>  Deviance:          </th> <td>  20053.</td>\n",
       "</tr>\n",
       "<tr>\n",
       "  <th>Time:</th>                <td>11:56:46</td>     <th>  Pearson chi2:      </th> <td>4.03e+07</td>\n",
       "</tr>\n",
       "<tr>\n",
       "  <th>No. Iterations:</th>         <td>39</td>        <th>  Pseudo R-squ. (CS):</th>  <td>   nan</td> \n",
       "</tr>\n",
       "<tr>\n",
       "  <th>Covariance Type:</th>     <td>nonrobust</td>    <th>                     </th>     <td> </td>   \n",
       "</tr>\n",
       "</table>\n",
       "<table class=\"simpletable\">\n",
       "<tr>\n",
       "              <td></td>                <th>coef</th>     <th>std err</th>      <th>z</th>      <th>P>|z|</th>  <th>[0.025</th>    <th>0.975]</th>  \n",
       "</tr>\n",
       "<tr>\n",
       "  <th>const</th>                    <td>  -50.8284</td> <td> 4462.094</td> <td>   -0.011</td> <td> 0.991</td> <td>-8796.372</td> <td> 8694.715</td>\n",
       "</tr>\n",
       "<tr>\n",
       "  <th>arpu_6</th>                   <td>    0.2698</td> <td>    0.109</td> <td>    2.476</td> <td> 0.013</td> <td>    0.056</td> <td>    0.483</td>\n",
       "</tr>\n",
       "<tr>\n",
       "  <th>arpu_7</th>                   <td>    0.4292</td> <td>    0.123</td> <td>    3.485</td> <td> 0.000</td> <td>    0.188</td> <td>    0.671</td>\n",
       "</tr>\n",
       "<tr>\n",
       "  <th>arpu_8</th>                   <td>    0.5057</td> <td>    0.143</td> <td>    3.526</td> <td> 0.000</td> <td>    0.225</td> <td>    0.787</td>\n",
       "</tr>\n",
       "<tr>\n",
       "  <th>onnet_mou_6</th>              <td>    9.2021</td> <td>    3.449</td> <td>    2.668</td> <td> 0.008</td> <td>    2.443</td> <td>   15.962</td>\n",
       "</tr>\n",
       "<tr>\n",
       "  <th>onnet_mou_7</th>              <td>    1.0589</td> <td>    1.935</td> <td>    0.547</td> <td> 0.584</td> <td>   -2.734</td> <td>    4.852</td>\n",
       "</tr>\n",
       "<tr>\n",
       "  <th>onnet_mou_8</th>              <td>   -1.0079</td> <td>    1.789</td> <td>   -0.564</td> <td> 0.573</td> <td>   -4.513</td> <td>    2.498</td>\n",
       "</tr>\n",
       "<tr>\n",
       "  <th>offnet_mou_6</th>             <td>   10.0595</td> <td>    3.763</td> <td>    2.673</td> <td> 0.008</td> <td>    2.683</td> <td>   17.436</td>\n",
       "</tr>\n",
       "<tr>\n",
       "  <th>offnet_mou_7</th>             <td>    2.7282</td> <td>    2.056</td> <td>    1.327</td> <td> 0.184</td> <td>   -1.301</td> <td>    6.757</td>\n",
       "</tr>\n",
       "<tr>\n",
       "  <th>offnet_mou_8</th>             <td>   -4.2902</td> <td>    1.872</td> <td>   -2.292</td> <td> 0.022</td> <td>   -7.959</td> <td>   -0.621</td>\n",
       "</tr>\n",
       "<tr>\n",
       "  <th>roam_ic_mou_6</th>            <td>    0.3344</td> <td>    0.044</td> <td>    7.642</td> <td> 0.000</td> <td>    0.249</td> <td>    0.420</td>\n",
       "</tr>\n",
       "<tr>\n",
       "  <th>roam_ic_mou_7</th>            <td>    0.1664</td> <td>    0.065</td> <td>    2.576</td> <td> 0.010</td> <td>    0.040</td> <td>    0.293</td>\n",
       "</tr>\n",
       "<tr>\n",
       "  <th>roam_ic_mou_8</th>            <td>    0.2330</td> <td>    0.054</td> <td>    4.340</td> <td> 0.000</td> <td>    0.128</td> <td>    0.338</td>\n",
       "</tr>\n",
       "<tr>\n",
       "  <th>roam_og_mou_6</th>            <td>   -3.4588</td> <td>    1.205</td> <td>   -2.872</td> <td> 0.004</td> <td>   -5.820</td> <td>   -1.098</td>\n",
       "</tr>\n",
       "<tr>\n",
       "  <th>roam_og_mou_7</th>            <td>   -0.5691</td> <td>    0.560</td> <td>   -1.016</td> <td> 0.309</td> <td>   -1.666</td> <td>    0.528</td>\n",
       "</tr>\n",
       "<tr>\n",
       "  <th>roam_og_mou_8</th>            <td>    1.2619</td> <td>    0.562</td> <td>    2.247</td> <td> 0.025</td> <td>    0.161</td> <td>    2.363</td>\n",
       "</tr>\n",
       "<tr>\n",
       "  <th>loc_og_t2t_mou_6</th>         <td>  376.4100</td> <td>  693.176</td> <td>    0.543</td> <td> 0.587</td> <td> -982.190</td> <td> 1735.010</td>\n",
       "</tr>\n",
       "<tr>\n",
       "  <th>loc_og_t2t_mou_7</th>         <td>-2632.0509</td> <td>  729.656</td> <td>   -3.607</td> <td> 0.000</td> <td>-4062.150</td> <td>-1201.951</td>\n",
       "</tr>\n",
       "<tr>\n",
       "  <th>loc_og_t2t_mou_8</th>         <td> 7505.9318</td> <td>  712.313</td> <td>   10.537</td> <td> 0.000</td> <td> 6109.825</td> <td> 8902.039</td>\n",
       "</tr>\n",
       "<tr>\n",
       "  <th>loc_og_t2m_mou_6</th>         <td>  414.3484</td> <td>  763.499</td> <td>    0.543</td> <td> 0.587</td> <td>-1082.083</td> <td> 1910.779</td>\n",
       "</tr>\n",
       "<tr>\n",
       "  <th>loc_og_t2m_mou_7</th>         <td>-2633.3514</td> <td>  729.783</td> <td>   -3.608</td> <td> 0.000</td> <td>-4063.699</td> <td>-1203.003</td>\n",
       "</tr>\n",
       "<tr>\n",
       "  <th>loc_og_t2m_mou_8</th>         <td> 7872.7167</td> <td>  747.026</td> <td>   10.539</td> <td> 0.000</td> <td> 6408.573</td> <td> 9336.860</td>\n",
       "</tr>\n",
       "<tr>\n",
       "  <th>loc_og_t2f_mou_6</th>         <td>   35.8587</td> <td>   65.727</td> <td>    0.546</td> <td> 0.585</td> <td>  -92.964</td> <td>  164.682</td>\n",
       "</tr>\n",
       "<tr>\n",
       "  <th>loc_og_t2f_mou_7</th>         <td> -235.6911</td> <td>   65.307</td> <td>   -3.609</td> <td> 0.000</td> <td> -363.691</td> <td> -107.691</td>\n",
       "</tr>\n",
       "<tr>\n",
       "  <th>loc_og_t2f_mou_8</th>         <td>  651.7199</td> <td>   61.860</td> <td>   10.535</td> <td> 0.000</td> <td>  530.476</td> <td>  772.964</td>\n",
       "</tr>\n",
       "<tr>\n",
       "  <th>loc_og_t2c_mou_6</th>         <td>   -0.0090</td> <td>    0.026</td> <td>   -0.346</td> <td> 0.729</td> <td>   -0.060</td> <td>    0.042</td>\n",
       "</tr>\n",
       "<tr>\n",
       "  <th>loc_og_t2c_mou_7</th>         <td>   -0.0254</td> <td>    0.029</td> <td>   -0.865</td> <td> 0.387</td> <td>   -0.083</td> <td>    0.032</td>\n",
       "</tr>\n",
       "<tr>\n",
       "  <th>loc_og_t2c_mou_8</th>         <td>    0.0739</td> <td>    0.025</td> <td>    2.984</td> <td> 0.003</td> <td>    0.025</td> <td>    0.122</td>\n",
       "</tr>\n",
       "<tr>\n",
       "  <th>loc_og_mou_6</th>             <td>-1629.7072</td> <td> 1408.461</td> <td>   -1.157</td> <td> 0.247</td> <td>-4390.241</td> <td> 1130.827</td>\n",
       "</tr>\n",
       "<tr>\n",
       "  <th>loc_og_mou_7</th>             <td> 3603.0343</td> <td> 1469.795</td> <td>    2.451</td> <td> 0.014</td> <td>  722.289</td> <td> 6483.779</td>\n",
       "</tr>\n",
       "<tr>\n",
       "  <th>loc_og_mou_8</th>             <td>-1813.4194</td> <td> 1505.971</td> <td>   -1.204</td> <td> 0.229</td> <td>-4765.067</td> <td> 1138.229</td>\n",
       "</tr>\n",
       "<tr>\n",
       "  <th>std_og_t2t_mou_6</th>         <td>-1.462e+04</td> <td> 2062.380</td> <td>   -7.089</td> <td> 0.000</td> <td>-1.87e+04</td> <td>-1.06e+04</td>\n",
       "</tr>\n",
       "<tr>\n",
       "  <th>std_og_t2t_mou_7</th>         <td>-1.465e+04</td> <td> 1947.300</td> <td>   -7.523</td> <td> 0.000</td> <td>-1.85e+04</td> <td>-1.08e+04</td>\n",
       "</tr>\n",
       "<tr>\n",
       "  <th>std_og_t2t_mou_8</th>         <td> 5414.3890</td> <td> 1688.255</td> <td>    3.207</td> <td> 0.001</td> <td> 2105.471</td> <td> 8723.307</td>\n",
       "</tr>\n",
       "<tr>\n",
       "  <th>std_og_t2m_mou_6</th>         <td>-1.586e+04</td> <td> 2236.671</td> <td>   -7.089</td> <td> 0.000</td> <td>-2.02e+04</td> <td>-1.15e+04</td>\n",
       "</tr>\n",
       "<tr>\n",
       "  <th>std_og_t2m_mou_7</th>         <td>-1.607e+04</td> <td> 2136.458</td> <td>   -7.524</td> <td> 0.000</td> <td>-2.03e+04</td> <td>-1.19e+04</td>\n",
       "</tr>\n",
       "<tr>\n",
       "  <th>std_og_t2m_mou_8</th>         <td> 5601.2375</td> <td> 1745.643</td> <td>    3.209</td> <td> 0.001</td> <td> 2179.840</td> <td> 9022.635</td>\n",
       "</tr>\n",
       "<tr>\n",
       "  <th>std_og_t2f_mou_6</th>         <td> -266.3976</td> <td>   37.554</td> <td>   -7.094</td> <td> 0.000</td> <td> -340.002</td> <td> -192.793</td>\n",
       "</tr>\n",
       "<tr>\n",
       "  <th>std_og_t2f_mou_7</th>         <td> -336.3639</td> <td>   44.727</td> <td>   -7.520</td> <td> 0.000</td> <td> -424.027</td> <td> -248.701</td>\n",
       "</tr>\n",
       "<tr>\n",
       "  <th>std_og_t2f_mou_8</th>         <td>  141.3741</td> <td>   44.097</td> <td>    3.206</td> <td> 0.001</td> <td>   54.945</td> <td>  227.803</td>\n",
       "</tr>\n",
       "<tr>\n",
       "  <th>std_og_mou_6</th>             <td> 1.895e+04</td> <td> 3476.326</td> <td>    5.452</td> <td> 0.000</td> <td> 1.21e+04</td> <td> 2.58e+04</td>\n",
       "</tr>\n",
       "<tr>\n",
       "  <th>std_og_mou_7</th>             <td> 2.055e+04</td> <td> 3609.035</td> <td>    5.695</td> <td> 0.000</td> <td> 1.35e+04</td> <td> 2.76e+04</td>\n",
       "</tr>\n",
       "<tr>\n",
       "  <th>std_og_mou_8</th>             <td> 1.138e+04</td> <td> 3140.177</td> <td>    3.624</td> <td> 0.000</td> <td> 5226.375</td> <td> 1.75e+04</td>\n",
       "</tr>\n",
       "<tr>\n",
       "  <th>isd_og_mou_6</th>             <td> -124.7908</td> <td>  124.329</td> <td>   -1.004</td> <td> 0.316</td> <td> -368.472</td> <td>  118.890</td>\n",
       "</tr>\n",
       "<tr>\n",
       "  <th>isd_og_mou_7</th>             <td>  -66.5788</td> <td>  138.932</td> <td>   -0.479</td> <td> 0.632</td> <td> -338.881</td> <td>  205.724</td>\n",
       "</tr>\n",
       "<tr>\n",
       "  <th>isd_og_mou_8</th>             <td> 1355.5990</td> <td>  137.992</td> <td>    9.824</td> <td> 0.000</td> <td> 1085.140</td> <td> 1626.058</td>\n",
       "</tr>\n",
       "<tr>\n",
       "  <th>spl_og_mou_6</th>             <td>  -50.6650</td> <td>   50.501</td> <td>   -1.003</td> <td> 0.316</td> <td> -149.646</td> <td>   48.316</td>\n",
       "</tr>\n",
       "<tr>\n",
       "  <th>spl_og_mou_7</th>             <td>  -35.8475</td> <td>   74.262</td> <td>   -0.483</td> <td> 0.629</td> <td> -181.398</td> <td>  109.703</td>\n",
       "</tr>\n",
       "<tr>\n",
       "  <th>spl_og_mou_8</th>             <td>  612.0467</td> <td>   62.238</td> <td>    9.834</td> <td> 0.000</td> <td>  490.062</td> <td>  734.031</td>\n",
       "</tr>\n",
       "<tr>\n",
       "  <th>og_others_6</th>              <td>   -6.8290</td> <td>    6.922</td> <td>   -0.987</td> <td> 0.324</td> <td>  -20.396</td> <td>    6.738</td>\n",
       "</tr>\n",
       "<tr>\n",
       "  <th>og_others_7</th>              <td>   -3.0296</td> <td>    5.547</td> <td>   -0.546</td> <td> 0.585</td> <td>  -13.901</td> <td>    7.842</td>\n",
       "</tr>\n",
       "<tr>\n",
       "  <th>og_others_8</th>              <td>-3697.2840</td> <td>  3.3e+05</td> <td>   -0.011</td> <td> 0.991</td> <td>-6.51e+05</td> <td> 6.44e+05</td>\n",
       "</tr>\n",
       "<tr>\n",
       "  <th>total_og_mou_6</th>           <td> 2351.9422</td> <td> 2361.586</td> <td>    0.996</td> <td> 0.319</td> <td>-2276.681</td> <td> 6980.565</td>\n",
       "</tr>\n",
       "<tr>\n",
       "  <th>total_og_mou_7</th>           <td> 1270.1617</td> <td> 2637.441</td> <td>    0.482</td> <td> 0.630</td> <td>-3899.128</td> <td> 6439.452</td>\n",
       "</tr>\n",
       "<tr>\n",
       "  <th>total_og_mou_8</th>           <td>-2.252e+04</td> <td> 2289.766</td> <td>   -9.833</td> <td> 0.000</td> <td> -2.7e+04</td> <td> -1.8e+04</td>\n",
       "</tr>\n",
       "<tr>\n",
       "  <th>loc_ic_t2t_mou_6</th>         <td>-1758.0034</td> <td>  424.271</td> <td>   -4.144</td> <td> 0.000</td> <td>-2589.559</td> <td> -926.447</td>\n",
       "</tr>\n",
       "<tr>\n",
       "  <th>loc_ic_t2t_mou_7</th>         <td> 3150.1861</td> <td>  473.228</td> <td>    6.657</td> <td> 0.000</td> <td> 2222.677</td> <td> 4077.696</td>\n",
       "</tr>\n",
       "<tr>\n",
       "  <th>loc_ic_t2t_mou_8</th>         <td> 6240.2934</td> <td>  449.817</td> <td>   13.873</td> <td> 0.000</td> <td> 5358.669</td> <td> 7121.918</td>\n",
       "</tr>\n",
       "<tr>\n",
       "  <th>loc_ic_t2m_mou_6</th>         <td>-2579.0014</td> <td>  622.457</td> <td>   -4.143</td> <td> 0.000</td> <td>-3798.994</td> <td>-1359.009</td>\n",
       "</tr>\n",
       "<tr>\n",
       "  <th>loc_ic_t2m_mou_7</th>         <td> 4316.5439</td> <td>  648.429</td> <td>    6.657</td> <td> 0.000</td> <td> 3045.646</td> <td> 5587.442</td>\n",
       "</tr>\n",
       "<tr>\n",
       "  <th>loc_ic_t2m_mou_8</th>         <td> 9104.9823</td> <td>  656.264</td> <td>   13.874</td> <td> 0.000</td> <td> 7818.728</td> <td> 1.04e+04</td>\n",
       "</tr>\n",
       "<tr>\n",
       "  <th>loc_ic_t2f_mou_6</th>         <td> -527.3719</td> <td>  127.301</td> <td>   -4.143</td> <td> 0.000</td> <td> -776.878</td> <td> -277.866</td>\n",
       "</tr>\n",
       "<tr>\n",
       "  <th>loc_ic_t2f_mou_7</th>         <td>  920.7422</td> <td>  138.344</td> <td>    6.655</td> <td> 0.000</td> <td>  649.593</td> <td> 1191.891</td>\n",
       "</tr>\n",
       "<tr>\n",
       "  <th>loc_ic_t2f_mou_8</th>         <td> 1708.9746</td> <td>  123.228</td> <td>   13.868</td> <td> 0.000</td> <td> 1467.452</td> <td> 1950.497</td>\n",
       "</tr>\n",
       "<tr>\n",
       "  <th>loc_ic_mou_6</th>             <td>-3697.2770</td> <td> 1149.748</td> <td>   -3.216</td> <td> 0.001</td> <td>-5950.742</td> <td>-1443.812</td>\n",
       "</tr>\n",
       "<tr>\n",
       "  <th>loc_ic_mou_7</th>             <td>-5309.3173</td> <td> 1207.876</td> <td>   -4.396</td> <td> 0.000</td> <td>-7676.711</td> <td>-2941.923</td>\n",
       "</tr>\n",
       "<tr>\n",
       "  <th>loc_ic_mou_8</th>             <td>  538.3105</td> <td> 1246.912</td> <td>    0.432</td> <td> 0.666</td> <td>-1905.592</td> <td> 2982.213</td>\n",
       "</tr>\n",
       "<tr>\n",
       "  <th>std_ic_t2t_mou_6</th>         <td>-5426.1187</td> <td>  382.530</td> <td>  -14.185</td> <td> 0.000</td> <td>-6175.864</td> <td>-4676.373</td>\n",
       "</tr>\n",
       "<tr>\n",
       "  <th>std_ic_t2t_mou_7</th>         <td>  866.0711</td> <td>  394.278</td> <td>    2.197</td> <td> 0.028</td> <td>   93.301</td> <td> 1638.841</td>\n",
       "</tr>\n",
       "<tr>\n",
       "  <th>std_ic_t2t_mou_8</th>         <td> 1292.8080</td> <td>  256.669</td> <td>    5.037</td> <td> 0.000</td> <td>  789.746</td> <td> 1795.870</td>\n",
       "</tr>\n",
       "<tr>\n",
       "  <th>std_ic_t2m_mou_6</th>         <td>-4747.2716</td> <td>  334.669</td> <td>  -14.185</td> <td> 0.000</td> <td>-5403.211</td> <td>-4091.332</td>\n",
       "</tr>\n",
       "<tr>\n",
       "  <th>std_ic_t2m_mou_7</th>         <td>  890.5855</td> <td>  405.500</td> <td>    2.196</td> <td> 0.028</td> <td>   95.820</td> <td> 1685.350</td>\n",
       "</tr>\n",
       "<tr>\n",
       "  <th>std_ic_t2m_mou_8</th>         <td> 1853.0173</td> <td>  367.804</td> <td>    5.038</td> <td> 0.000</td> <td> 1132.134</td> <td> 2573.901</td>\n",
       "</tr>\n",
       "<tr>\n",
       "  <th>std_ic_t2f_mou_6</th>         <td> -825.6288</td> <td>   58.204</td> <td>  -14.185</td> <td> 0.000</td> <td> -939.707</td> <td> -711.550</td>\n",
       "</tr>\n",
       "<tr>\n",
       "  <th>std_ic_t2f_mou_7</th>         <td>  138.0640</td> <td>   62.849</td> <td>    2.197</td> <td> 0.028</td> <td>   14.883</td> <td>  261.245</td>\n",
       "</tr>\n",
       "<tr>\n",
       "  <th>std_ic_t2f_mou_8</th>         <td>  335.3774</td> <td>   66.585</td> <td>    5.037</td> <td> 0.000</td> <td>  204.873</td> <td>  465.882</td>\n",
       "</tr>\n",
       "<tr>\n",
       "  <th>std_ic_mou_6</th>             <td> 3873.5728</td> <td>  681.067</td> <td>    5.688</td> <td> 0.000</td> <td> 2538.705</td> <td> 5208.440</td>\n",
       "</tr>\n",
       "<tr>\n",
       "  <th>std_ic_mou_7</th>             <td> -846.7766</td> <td>  762.548</td> <td>   -1.110</td> <td> 0.267</td> <td>-2341.342</td> <td>  647.789</td>\n",
       "</tr>\n",
       "<tr>\n",
       "  <th>std_ic_mou_8</th>             <td> 3303.1322</td> <td>  616.895</td> <td>    5.354</td> <td> 0.000</td> <td> 2094.041</td> <td> 4512.224</td>\n",
       "</tr>\n",
       "<tr>\n",
       "  <th>total_ic_mou_6</th>           <td> 8851.2649</td> <td> 1043.581</td> <td>    8.482</td> <td> 0.000</td> <td> 6805.885</td> <td> 1.09e+04</td>\n",
       "</tr>\n",
       "<tr>\n",
       "  <th>total_ic_mou_7</th>           <td>-1140.0371</td> <td> 1139.077</td> <td>   -1.001</td> <td> 0.317</td> <td>-3372.588</td> <td> 1092.513</td>\n",
       "</tr>\n",
       "<tr>\n",
       "  <th>total_ic_mou_8</th>           <td> -1.62e+04</td> <td> 1137.657</td> <td>  -14.240</td> <td> 0.000</td> <td>-1.84e+04</td> <td> -1.4e+04</td>\n",
       "</tr>\n",
       "<tr>\n",
       "  <th>spl_ic_mou_6</th>             <td>   -4.2138</td> <td>    0.505</td> <td>   -8.348</td> <td> 0.000</td> <td>   -5.203</td> <td>   -3.225</td>\n",
       "</tr>\n",
       "<tr>\n",
       "  <th>spl_ic_mou_7</th>             <td>    0.4509</td> <td>    0.512</td> <td>    0.881</td> <td> 0.379</td> <td>   -0.553</td> <td>    1.454</td>\n",
       "</tr>\n",
       "<tr>\n",
       "  <th>spl_ic_mou_8</th>             <td>    4.2314</td> <td>    0.328</td> <td>   12.899</td> <td> 0.000</td> <td>    3.588</td> <td>    4.874</td>\n",
       "</tr>\n",
       "<tr>\n",
       "  <th>isd_ic_mou_6</th>             <td>-1571.0126</td> <td>  185.240</td> <td>   -8.481</td> <td> 0.000</td> <td>-1934.075</td> <td>-1207.950</td>\n",
       "</tr>\n",
       "<tr>\n",
       "  <th>isd_ic_mou_7</th>             <td>  223.8750</td> <td>  224.258</td> <td>    0.998</td> <td> 0.318</td> <td> -215.663</td> <td>  663.413</td>\n",
       "</tr>\n",
       "<tr>\n",
       "  <th>isd_ic_mou_8</th>             <td> 3279.9599</td> <td>  230.352</td> <td>   14.239</td> <td> 0.000</td> <td> 2828.478</td> <td> 3731.442</td>\n",
       "</tr>\n",
       "<tr>\n",
       "  <th>ic_others_6</th>              <td> -304.9559</td> <td>   35.956</td> <td>   -8.481</td> <td> 0.000</td> <td> -375.428</td> <td> -234.483</td>\n",
       "</tr>\n",
       "<tr>\n",
       "  <th>ic_others_7</th>              <td>   45.3944</td> <td>   45.165</td> <td>    1.005</td> <td> 0.315</td> <td>  -43.127</td> <td>  133.916</td>\n",
       "</tr>\n",
       "<tr>\n",
       "  <th>ic_others_8</th>              <td>  528.2455</td> <td>   37.210</td> <td>   14.196</td> <td> 0.000</td> <td>  455.316</td> <td>  601.175</td>\n",
       "</tr>\n",
       "<tr>\n",
       "  <th>total_rech_num_6</th>         <td>   -0.0876</td> <td>    0.035</td> <td>   -2.504</td> <td> 0.012</td> <td>   -0.156</td> <td>   -0.019</td>\n",
       "</tr>\n",
       "<tr>\n",
       "  <th>total_rech_num_7</th>         <td>    0.1937</td> <td>    0.042</td> <td>    4.650</td> <td> 0.000</td> <td>    0.112</td> <td>    0.275</td>\n",
       "</tr>\n",
       "<tr>\n",
       "  <th>total_rech_num_8</th>         <td>   -0.6926</td> <td>    0.043</td> <td>  -16.011</td> <td> 0.000</td> <td>   -0.777</td> <td>   -0.608</td>\n",
       "</tr>\n",
       "<tr>\n",
       "  <th>total_rech_amt_6</th>         <td>    0.4679</td> <td>    0.113</td> <td>    4.141</td> <td> 0.000</td> <td>    0.246</td> <td>    0.689</td>\n",
       "</tr>\n",
       "<tr>\n",
       "  <th>total_rech_amt_7</th>         <td>   -0.6080</td> <td>    0.117</td> <td>   -5.181</td> <td> 0.000</td> <td>   -0.838</td> <td>   -0.378</td>\n",
       "</tr>\n",
       "<tr>\n",
       "  <th>total_rech_amt_8</th>         <td>   -0.0572</td> <td>    0.147</td> <td>   -0.390</td> <td> 0.696</td> <td>   -0.345</td> <td>    0.230</td>\n",
       "</tr>\n",
       "<tr>\n",
       "  <th>max_rech_amt_6</th>           <td>   -0.2336</td> <td>    0.046</td> <td>   -5.097</td> <td> 0.000</td> <td>   -0.323</td> <td>   -0.144</td>\n",
       "</tr>\n",
       "<tr>\n",
       "  <th>max_rech_amt_7</th>           <td>    0.1081</td> <td>    0.038</td> <td>    2.860</td> <td> 0.004</td> <td>    0.034</td> <td>    0.182</td>\n",
       "</tr>\n",
       "<tr>\n",
       "  <th>max_rech_amt_8</th>           <td>    0.1636</td> <td>    0.049</td> <td>    3.313</td> <td> 0.001</td> <td>    0.067</td> <td>    0.260</td>\n",
       "</tr>\n",
       "<tr>\n",
       "  <th>last_day_rch_amt_6</th>       <td>   -0.0952</td> <td>    0.036</td> <td>   -2.673</td> <td> 0.008</td> <td>   -0.165</td> <td>   -0.025</td>\n",
       "</tr>\n",
       "<tr>\n",
       "  <th>last_day_rch_amt_7</th>       <td>   -0.1039</td> <td>    0.030</td> <td>   -3.495</td> <td> 0.000</td> <td>   -0.162</td> <td>   -0.046</td>\n",
       "</tr>\n",
       "<tr>\n",
       "  <th>last_day_rch_amt_8</th>       <td>   -0.6525</td> <td>    0.040</td> <td>  -16.459</td> <td> 0.000</td> <td>   -0.730</td> <td>   -0.575</td>\n",
       "</tr>\n",
       "<tr>\n",
       "  <th>vol_2g_mb_6</th>              <td>    0.2856</td> <td>    0.035</td> <td>    8.168</td> <td> 0.000</td> <td>    0.217</td> <td>    0.354</td>\n",
       "</tr>\n",
       "<tr>\n",
       "  <th>vol_2g_mb_7</th>              <td>    0.0352</td> <td>    0.037</td> <td>    0.950</td> <td> 0.342</td> <td>   -0.037</td> <td>    0.108</td>\n",
       "</tr>\n",
       "<tr>\n",
       "  <th>vol_2g_mb_8</th>              <td>   -0.0204</td> <td>    0.044</td> <td>   -0.466</td> <td> 0.641</td> <td>   -0.106</td> <td>    0.066</td>\n",
       "</tr>\n",
       "<tr>\n",
       "  <th>vol_3g_mb_6</th>              <td>    0.1845</td> <td>    0.061</td> <td>    3.013</td> <td> 0.003</td> <td>    0.064</td> <td>    0.304</td>\n",
       "</tr>\n",
       "<tr>\n",
       "  <th>vol_3g_mb_7</th>              <td>    0.2274</td> <td>    0.068</td> <td>    3.330</td> <td> 0.001</td> <td>    0.094</td> <td>    0.361</td>\n",
       "</tr>\n",
       "<tr>\n",
       "  <th>vol_3g_mb_8</th>              <td>   -0.2911</td> <td>    0.069</td> <td>   -4.226</td> <td> 0.000</td> <td>   -0.426</td> <td>   -0.156</td>\n",
       "</tr>\n",
       "<tr>\n",
       "  <th>monthly_2g_6</th>             <td>   -0.5988</td> <td>    0.049</td> <td>  -12.285</td> <td> 0.000</td> <td>   -0.694</td> <td>   -0.503</td>\n",
       "</tr>\n",
       "<tr>\n",
       "  <th>monthly_2g_7</th>             <td>   -0.4514</td> <td>    0.048</td> <td>   -9.464</td> <td> 0.000</td> <td>   -0.545</td> <td>   -0.358</td>\n",
       "</tr>\n",
       "<tr>\n",
       "  <th>monthly_2g_8</th>             <td>   -0.8375</td> <td>    0.084</td> <td>  -10.005</td> <td> 0.000</td> <td>   -1.002</td> <td>   -0.673</td>\n",
       "</tr>\n",
       "<tr>\n",
       "  <th>sachet_2g_6</th>              <td>   -0.0457</td> <td>    0.033</td> <td>   -1.377</td> <td> 0.169</td> <td>   -0.111</td> <td>    0.019</td>\n",
       "</tr>\n",
       "<tr>\n",
       "  <th>sachet_2g_7</th>              <td>   -0.1052</td> <td>    0.034</td> <td>   -3.069</td> <td> 0.002</td> <td>   -0.172</td> <td>   -0.038</td>\n",
       "</tr>\n",
       "<tr>\n",
       "  <th>sachet_2g_8</th>              <td>   -0.3424</td> <td>    0.037</td> <td>   -9.234</td> <td> 0.000</td> <td>   -0.415</td> <td>   -0.270</td>\n",
       "</tr>\n",
       "<tr>\n",
       "  <th>monthly_3g_6</th>             <td>   -0.4997</td> <td>    0.059</td> <td>   -8.483</td> <td> 0.000</td> <td>   -0.615</td> <td>   -0.384</td>\n",
       "</tr>\n",
       "<tr>\n",
       "  <th>monthly_3g_7</th>             <td>   -0.5776</td> <td>    0.069</td> <td>   -8.332</td> <td> 0.000</td> <td>   -0.714</td> <td>   -0.442</td>\n",
       "</tr>\n",
       "<tr>\n",
       "  <th>monthly_3g_8</th>             <td>   -0.8493</td> <td>    0.095</td> <td>   -8.973</td> <td> 0.000</td> <td>   -1.035</td> <td>   -0.664</td>\n",
       "</tr>\n",
       "<tr>\n",
       "  <th>sachet_3g_6</th>              <td>   -0.1996</td> <td>    0.046</td> <td>   -4.338</td> <td> 0.000</td> <td>   -0.290</td> <td>   -0.109</td>\n",
       "</tr>\n",
       "<tr>\n",
       "  <th>sachet_3g_7</th>              <td>    0.1078</td> <td>    0.043</td> <td>    2.501</td> <td> 0.012</td> <td>    0.023</td> <td>    0.192</td>\n",
       "</tr>\n",
       "<tr>\n",
       "  <th>sachet_3g_8</th>              <td>    0.0013</td> <td>    0.047</td> <td>    0.026</td> <td> 0.979</td> <td>   -0.091</td> <td>    0.094</td>\n",
       "</tr>\n",
       "<tr>\n",
       "  <th>aon</th>                      <td>   -0.1150</td> <td>    0.023</td> <td>   -5.013</td> <td> 0.000</td> <td>   -0.160</td> <td>   -0.070</td>\n",
       "</tr>\n",
       "<tr>\n",
       "  <th>aug_vbc_3g</th>               <td>   -0.0734</td> <td>    0.070</td> <td>   -1.054</td> <td> 0.292</td> <td>   -0.210</td> <td>    0.063</td>\n",
       "</tr>\n",
       "<tr>\n",
       "  <th>jul_vbc_3g</th>               <td>   -0.0452</td> <td>    0.060</td> <td>   -0.751</td> <td> 0.453</td> <td>   -0.163</td> <td>    0.073</td>\n",
       "</tr>\n",
       "<tr>\n",
       "  <th>jun_vbc_3g</th>               <td>    0.3459</td> <td>    0.066</td> <td>    5.276</td> <td> 0.000</td> <td>    0.217</td> <td>    0.474</td>\n",
       "</tr>\n",
       "<tr>\n",
       "  <th>sep_vbc_3g</th>               <td>   -0.6228</td> <td>    0.100</td> <td>   -6.201</td> <td> 0.000</td> <td>   -0.820</td> <td>   -0.426</td>\n",
       "</tr>\n",
       "<tr>\n",
       "  <th>decrease_mou_action</th>      <td>   -0.2862</td> <td>    0.059</td> <td>   -4.865</td> <td> 0.000</td> <td>   -0.401</td> <td>   -0.171</td>\n",
       "</tr>\n",
       "<tr>\n",
       "  <th>decrease_rech_num_action</th> <td>   -0.9301</td> <td>    0.053</td> <td>  -17.669</td> <td> 0.000</td> <td>   -1.033</td> <td>   -0.827</td>\n",
       "</tr>\n",
       "<tr>\n",
       "  <th>decrease_rech_amt_action</th> <td>   -0.4897</td> <td>    0.070</td> <td>   -6.977</td> <td> 0.000</td> <td>   -0.627</td> <td>   -0.352</td>\n",
       "</tr>\n",
       "<tr>\n",
       "  <th>decrease_arpu_action</th>     <td>   -0.3808</td> <td>    0.072</td> <td>   -5.296</td> <td> 0.000</td> <td>   -0.522</td> <td>   -0.240</td>\n",
       "</tr>\n",
       "<tr>\n",
       "  <th>decrease_vbc_action</th>      <td>   -1.3761</td> <td>    0.143</td> <td>   -9.639</td> <td> 0.000</td> <td>   -1.656</td> <td>   -1.096</td>\n",
       "</tr>\n",
       "</table>"
      ],
      "text/plain": [
       "<class 'statsmodels.iolib.summary.Summary'>\n",
       "\"\"\"\n",
       "                 Generalized Linear Model Regression Results                  \n",
       "==============================================================================\n",
       "Dep. Variable:                  churn   No. Observations:                36664\n",
       "Model:                            GLM   Df Residuals:                    36533\n",
       "Model Family:                Binomial   Df Model:                          130\n",
       "Link Function:                  Logit   Scale:                          1.0000\n",
       "Method:                          IRLS   Log-Likelihood:                    nan\n",
       "Date:                Sun, 25 Jun 2023   Deviance:                       20053.\n",
       "Time:                        11:56:46   Pearson chi2:                 4.03e+07\n",
       "No. Iterations:                    39   Pseudo R-squ. (CS):                nan\n",
       "Covariance Type:            nonrobust                                         \n",
       "============================================================================================\n",
       "                               coef    std err          z      P>|z|      [0.025      0.975]\n",
       "--------------------------------------------------------------------------------------------\n",
       "const                      -50.8284   4462.094     -0.011      0.991   -8796.372    8694.715\n",
       "arpu_6                       0.2698      0.109      2.476      0.013       0.056       0.483\n",
       "arpu_7                       0.4292      0.123      3.485      0.000       0.188       0.671\n",
       "arpu_8                       0.5057      0.143      3.526      0.000       0.225       0.787\n",
       "onnet_mou_6                  9.2021      3.449      2.668      0.008       2.443      15.962\n",
       "onnet_mou_7                  1.0589      1.935      0.547      0.584      -2.734       4.852\n",
       "onnet_mou_8                 -1.0079      1.789     -0.564      0.573      -4.513       2.498\n",
       "offnet_mou_6                10.0595      3.763      2.673      0.008       2.683      17.436\n",
       "offnet_mou_7                 2.7282      2.056      1.327      0.184      -1.301       6.757\n",
       "offnet_mou_8                -4.2902      1.872     -2.292      0.022      -7.959      -0.621\n",
       "roam_ic_mou_6                0.3344      0.044      7.642      0.000       0.249       0.420\n",
       "roam_ic_mou_7                0.1664      0.065      2.576      0.010       0.040       0.293\n",
       "roam_ic_mou_8                0.2330      0.054      4.340      0.000       0.128       0.338\n",
       "roam_og_mou_6               -3.4588      1.205     -2.872      0.004      -5.820      -1.098\n",
       "roam_og_mou_7               -0.5691      0.560     -1.016      0.309      -1.666       0.528\n",
       "roam_og_mou_8                1.2619      0.562      2.247      0.025       0.161       2.363\n",
       "loc_og_t2t_mou_6           376.4100    693.176      0.543      0.587    -982.190    1735.010\n",
       "loc_og_t2t_mou_7         -2632.0509    729.656     -3.607      0.000   -4062.150   -1201.951\n",
       "loc_og_t2t_mou_8          7505.9318    712.313     10.537      0.000    6109.825    8902.039\n",
       "loc_og_t2m_mou_6           414.3484    763.499      0.543      0.587   -1082.083    1910.779\n",
       "loc_og_t2m_mou_7         -2633.3514    729.783     -3.608      0.000   -4063.699   -1203.003\n",
       "loc_og_t2m_mou_8          7872.7167    747.026     10.539      0.000    6408.573    9336.860\n",
       "loc_og_t2f_mou_6            35.8587     65.727      0.546      0.585     -92.964     164.682\n",
       "loc_og_t2f_mou_7          -235.6911     65.307     -3.609      0.000    -363.691    -107.691\n",
       "loc_og_t2f_mou_8           651.7199     61.860     10.535      0.000     530.476     772.964\n",
       "loc_og_t2c_mou_6            -0.0090      0.026     -0.346      0.729      -0.060       0.042\n",
       "loc_og_t2c_mou_7            -0.0254      0.029     -0.865      0.387      -0.083       0.032\n",
       "loc_og_t2c_mou_8             0.0739      0.025      2.984      0.003       0.025       0.122\n",
       "loc_og_mou_6             -1629.7072   1408.461     -1.157      0.247   -4390.241    1130.827\n",
       "loc_og_mou_7              3603.0343   1469.795      2.451      0.014     722.289    6483.779\n",
       "loc_og_mou_8             -1813.4194   1505.971     -1.204      0.229   -4765.067    1138.229\n",
       "std_og_t2t_mou_6         -1.462e+04   2062.380     -7.089      0.000   -1.87e+04   -1.06e+04\n",
       "std_og_t2t_mou_7         -1.465e+04   1947.300     -7.523      0.000   -1.85e+04   -1.08e+04\n",
       "std_og_t2t_mou_8          5414.3890   1688.255      3.207      0.001    2105.471    8723.307\n",
       "std_og_t2m_mou_6         -1.586e+04   2236.671     -7.089      0.000   -2.02e+04   -1.15e+04\n",
       "std_og_t2m_mou_7         -1.607e+04   2136.458     -7.524      0.000   -2.03e+04   -1.19e+04\n",
       "std_og_t2m_mou_8          5601.2375   1745.643      3.209      0.001    2179.840    9022.635\n",
       "std_og_t2f_mou_6          -266.3976     37.554     -7.094      0.000    -340.002    -192.793\n",
       "std_og_t2f_mou_7          -336.3639     44.727     -7.520      0.000    -424.027    -248.701\n",
       "std_og_t2f_mou_8           141.3741     44.097      3.206      0.001      54.945     227.803\n",
       "std_og_mou_6              1.895e+04   3476.326      5.452      0.000    1.21e+04    2.58e+04\n",
       "std_og_mou_7              2.055e+04   3609.035      5.695      0.000    1.35e+04    2.76e+04\n",
       "std_og_mou_8              1.138e+04   3140.177      3.624      0.000    5226.375    1.75e+04\n",
       "isd_og_mou_6              -124.7908    124.329     -1.004      0.316    -368.472     118.890\n",
       "isd_og_mou_7               -66.5788    138.932     -0.479      0.632    -338.881     205.724\n",
       "isd_og_mou_8              1355.5990    137.992      9.824      0.000    1085.140    1626.058\n",
       "spl_og_mou_6               -50.6650     50.501     -1.003      0.316    -149.646      48.316\n",
       "spl_og_mou_7               -35.8475     74.262     -0.483      0.629    -181.398     109.703\n",
       "spl_og_mou_8               612.0467     62.238      9.834      0.000     490.062     734.031\n",
       "og_others_6                 -6.8290      6.922     -0.987      0.324     -20.396       6.738\n",
       "og_others_7                 -3.0296      5.547     -0.546      0.585     -13.901       7.842\n",
       "og_others_8              -3697.2840    3.3e+05     -0.011      0.991   -6.51e+05    6.44e+05\n",
       "total_og_mou_6            2351.9422   2361.586      0.996      0.319   -2276.681    6980.565\n",
       "total_og_mou_7            1270.1617   2637.441      0.482      0.630   -3899.128    6439.452\n",
       "total_og_mou_8           -2.252e+04   2289.766     -9.833      0.000    -2.7e+04    -1.8e+04\n",
       "loc_ic_t2t_mou_6         -1758.0034    424.271     -4.144      0.000   -2589.559    -926.447\n",
       "loc_ic_t2t_mou_7          3150.1861    473.228      6.657      0.000    2222.677    4077.696\n",
       "loc_ic_t2t_mou_8          6240.2934    449.817     13.873      0.000    5358.669    7121.918\n",
       "loc_ic_t2m_mou_6         -2579.0014    622.457     -4.143      0.000   -3798.994   -1359.009\n",
       "loc_ic_t2m_mou_7          4316.5439    648.429      6.657      0.000    3045.646    5587.442\n",
       "loc_ic_t2m_mou_8          9104.9823    656.264     13.874      0.000    7818.728    1.04e+04\n",
       "loc_ic_t2f_mou_6          -527.3719    127.301     -4.143      0.000    -776.878    -277.866\n",
       "loc_ic_t2f_mou_7           920.7422    138.344      6.655      0.000     649.593    1191.891\n",
       "loc_ic_t2f_mou_8          1708.9746    123.228     13.868      0.000    1467.452    1950.497\n",
       "loc_ic_mou_6             -3697.2770   1149.748     -3.216      0.001   -5950.742   -1443.812\n",
       "loc_ic_mou_7             -5309.3173   1207.876     -4.396      0.000   -7676.711   -2941.923\n",
       "loc_ic_mou_8               538.3105   1246.912      0.432      0.666   -1905.592    2982.213\n",
       "std_ic_t2t_mou_6         -5426.1187    382.530    -14.185      0.000   -6175.864   -4676.373\n",
       "std_ic_t2t_mou_7           866.0711    394.278      2.197      0.028      93.301    1638.841\n",
       "std_ic_t2t_mou_8          1292.8080    256.669      5.037      0.000     789.746    1795.870\n",
       "std_ic_t2m_mou_6         -4747.2716    334.669    -14.185      0.000   -5403.211   -4091.332\n",
       "std_ic_t2m_mou_7           890.5855    405.500      2.196      0.028      95.820    1685.350\n",
       "std_ic_t2m_mou_8          1853.0173    367.804      5.038      0.000    1132.134    2573.901\n",
       "std_ic_t2f_mou_6          -825.6288     58.204    -14.185      0.000    -939.707    -711.550\n",
       "std_ic_t2f_mou_7           138.0640     62.849      2.197      0.028      14.883     261.245\n",
       "std_ic_t2f_mou_8           335.3774     66.585      5.037      0.000     204.873     465.882\n",
       "std_ic_mou_6              3873.5728    681.067      5.688      0.000    2538.705    5208.440\n",
       "std_ic_mou_7              -846.7766    762.548     -1.110      0.267   -2341.342     647.789\n",
       "std_ic_mou_8              3303.1322    616.895      5.354      0.000    2094.041    4512.224\n",
       "total_ic_mou_6            8851.2649   1043.581      8.482      0.000    6805.885    1.09e+04\n",
       "total_ic_mou_7           -1140.0371   1139.077     -1.001      0.317   -3372.588    1092.513\n",
       "total_ic_mou_8            -1.62e+04   1137.657    -14.240      0.000   -1.84e+04    -1.4e+04\n",
       "spl_ic_mou_6                -4.2138      0.505     -8.348      0.000      -5.203      -3.225\n",
       "spl_ic_mou_7                 0.4509      0.512      0.881      0.379      -0.553       1.454\n",
       "spl_ic_mou_8                 4.2314      0.328     12.899      0.000       3.588       4.874\n",
       "isd_ic_mou_6             -1571.0126    185.240     -8.481      0.000   -1934.075   -1207.950\n",
       "isd_ic_mou_7               223.8750    224.258      0.998      0.318    -215.663     663.413\n",
       "isd_ic_mou_8              3279.9599    230.352     14.239      0.000    2828.478    3731.442\n",
       "ic_others_6               -304.9559     35.956     -8.481      0.000    -375.428    -234.483\n",
       "ic_others_7                 45.3944     45.165      1.005      0.315     -43.127     133.916\n",
       "ic_others_8                528.2455     37.210     14.196      0.000     455.316     601.175\n",
       "total_rech_num_6            -0.0876      0.035     -2.504      0.012      -0.156      -0.019\n",
       "total_rech_num_7             0.1937      0.042      4.650      0.000       0.112       0.275\n",
       "total_rech_num_8            -0.6926      0.043    -16.011      0.000      -0.777      -0.608\n",
       "total_rech_amt_6             0.4679      0.113      4.141      0.000       0.246       0.689\n",
       "total_rech_amt_7            -0.6080      0.117     -5.181      0.000      -0.838      -0.378\n",
       "total_rech_amt_8            -0.0572      0.147     -0.390      0.696      -0.345       0.230\n",
       "max_rech_amt_6              -0.2336      0.046     -5.097      0.000      -0.323      -0.144\n",
       "max_rech_amt_7               0.1081      0.038      2.860      0.004       0.034       0.182\n",
       "max_rech_amt_8               0.1636      0.049      3.313      0.001       0.067       0.260\n",
       "last_day_rch_amt_6          -0.0952      0.036     -2.673      0.008      -0.165      -0.025\n",
       "last_day_rch_amt_7          -0.1039      0.030     -3.495      0.000      -0.162      -0.046\n",
       "last_day_rch_amt_8          -0.6525      0.040    -16.459      0.000      -0.730      -0.575\n",
       "vol_2g_mb_6                  0.2856      0.035      8.168      0.000       0.217       0.354\n",
       "vol_2g_mb_7                  0.0352      0.037      0.950      0.342      -0.037       0.108\n",
       "vol_2g_mb_8                 -0.0204      0.044     -0.466      0.641      -0.106       0.066\n",
       "vol_3g_mb_6                  0.1845      0.061      3.013      0.003       0.064       0.304\n",
       "vol_3g_mb_7                  0.2274      0.068      3.330      0.001       0.094       0.361\n",
       "vol_3g_mb_8                 -0.2911      0.069     -4.226      0.000      -0.426      -0.156\n",
       "monthly_2g_6                -0.5988      0.049    -12.285      0.000      -0.694      -0.503\n",
       "monthly_2g_7                -0.4514      0.048     -9.464      0.000      -0.545      -0.358\n",
       "monthly_2g_8                -0.8375      0.084    -10.005      0.000      -1.002      -0.673\n",
       "sachet_2g_6                 -0.0457      0.033     -1.377      0.169      -0.111       0.019\n",
       "sachet_2g_7                 -0.1052      0.034     -3.069      0.002      -0.172      -0.038\n",
       "sachet_2g_8                 -0.3424      0.037     -9.234      0.000      -0.415      -0.270\n",
       "monthly_3g_6                -0.4997      0.059     -8.483      0.000      -0.615      -0.384\n",
       "monthly_3g_7                -0.5776      0.069     -8.332      0.000      -0.714      -0.442\n",
       "monthly_3g_8                -0.8493      0.095     -8.973      0.000      -1.035      -0.664\n",
       "sachet_3g_6                 -0.1996      0.046     -4.338      0.000      -0.290      -0.109\n",
       "sachet_3g_7                  0.1078      0.043      2.501      0.012       0.023       0.192\n",
       "sachet_3g_8                  0.0013      0.047      0.026      0.979      -0.091       0.094\n",
       "aon                         -0.1150      0.023     -5.013      0.000      -0.160      -0.070\n",
       "aug_vbc_3g                  -0.0734      0.070     -1.054      0.292      -0.210       0.063\n",
       "jul_vbc_3g                  -0.0452      0.060     -0.751      0.453      -0.163       0.073\n",
       "jun_vbc_3g                   0.3459      0.066      5.276      0.000       0.217       0.474\n",
       "sep_vbc_3g                  -0.6228      0.100     -6.201      0.000      -0.820      -0.426\n",
       "decrease_mou_action         -0.2862      0.059     -4.865      0.000      -0.401      -0.171\n",
       "decrease_rech_num_action    -0.9301      0.053    -17.669      0.000      -1.033      -0.827\n",
       "decrease_rech_amt_action    -0.4897      0.070     -6.977      0.000      -0.627      -0.352\n",
       "decrease_arpu_action        -0.3808      0.072     -5.296      0.000      -0.522      -0.240\n",
       "decrease_vbc_action         -1.3761      0.143     -9.639      0.000      -1.656      -1.096\n",
       "============================================================================================\n",
       "\"\"\""
      ]
     },
     "execution_count": 157,
     "metadata": {},
     "output_type": "execute_result"
    }
   ],
   "source": [
    "# Summary\n",
    "log_no_pca"
   ]
  },
  {
   "cell_type": "markdown",
   "id": "03301859",
   "metadata": {},
   "source": [
    "#### Model analysis\n",
    "\n",
    "    We can see that there are few features have positive coefficients and few have negative.\n",
    "    Many features have higher p-values and hence became insignificant in the model.\n",
    "\n",
    "#### Coarse tuning (Auto+Manual)\n",
    "\n",
    "We'll first eliminate a few features using Recursive Feature Elimination (RFE), and once we have reached a small set of variables to work with, we can then use manual feature elimination (i.e. manually eliminating features based on observing the p-values and VIFs).\n"
   ]
  },
  {
   "cell_type": "code",
   "execution_count": 158,
   "id": "e3c8f453",
   "metadata": {},
   "outputs": [],
   "source": [
    "from sklearn.linear_model import LogisticRegression\n",
    "\n",
    "logreg = LogisticRegression()"
   ]
  },
  {
   "cell_type": "markdown",
   "id": "71655542",
   "metadata": {},
   "source": [
    "### RFE with `15 columns"
   ]
  },
  {
   "cell_type": "code",
   "execution_count": 159,
   "id": "e9cb25d2",
   "metadata": {},
   "outputs": [],
   "source": [
    "# Importing RFE\n",
    "from sklearn.feature_selection import RFE\n",
    "\n",
    "# Intantiate RFE with 15 columns\n",
    "rfe = RFE(logreg, n_features_to_select=15)\n",
    "\n",
    "# Fit the rfe model with train set\n",
    "rfe = rfe.fit(X_train, y_train)"
   ]
  },
  {
   "cell_type": "code",
   "execution_count": 160,
   "id": "8b68702d",
   "metadata": {},
   "outputs": [
    {
     "name": "stdout",
     "output_type": "stream",
     "text": [
      "Index(['offnet_mou_8', 'roam_og_mou_8', 'std_og_t2m_mou_8', 'std_og_mou_6',\n",
      "       'og_others_8', 'total_og_mou_8', 'loc_ic_t2f_mou_8', 'total_ic_mou_8',\n",
      "       'ic_others_8', 'monthly_2g_8', 'monthly_3g_8', 'sep_vbc_3g',\n",
      "       'decrease_rech_num_action', 'decrease_rech_amt_action',\n",
      "       'decrease_vbc_action'],\n",
      "      dtype='object')\n"
     ]
    }
   ],
   "source": [
    "# RFE selected columns\n",
    "rfe_cols = X_train.columns[rfe.support_]\n",
    "print(rfe_cols)"
   ]
  },
  {
   "cell_type": "markdown",
   "id": "7e7809b6",
   "metadata": {},
   "source": [
    "#### iteration-1 with RFE selected columns"
   ]
  },
  {
   "cell_type": "code",
   "execution_count": 161,
   "id": "815e1c66",
   "metadata": {},
   "outputs": [
    {
     "data": {
      "text/html": [
       "<table class=\"simpletable\">\n",
       "<caption>Generalized Linear Model Regression Results</caption>\n",
       "<tr>\n",
       "  <th>Dep. Variable:</th>         <td>churn</td>      <th>  No. Observations:  </th>  <td> 36664</td> \n",
       "</tr>\n",
       "<tr>\n",
       "  <th>Model:</th>                  <td>GLM</td>       <th>  Df Residuals:      </th>  <td> 36648</td> \n",
       "</tr>\n",
       "<tr>\n",
       "  <th>Model Family:</th>        <td>Binomial</td>     <th>  Df Model:          </th>  <td>    15</td> \n",
       "</tr>\n",
       "<tr>\n",
       "  <th>Link Function:</th>         <td>Logit</td>      <th>  Scale:             </th> <td>  1.0000</td>\n",
       "</tr>\n",
       "<tr>\n",
       "  <th>Method:</th>                <td>IRLS</td>       <th>  Log-Likelihood:    </th> <td>     nan</td>\n",
       "</tr>\n",
       "<tr>\n",
       "  <th>Date:</th>            <td>Sun, 25 Jun 2023</td> <th>  Deviance:          </th> <td>  25459.</td>\n",
       "</tr>\n",
       "<tr>\n",
       "  <th>Time:</th>                <td>11:57:44</td>     <th>  Pearson chi2:      </th> <td>5.92e+06</td>\n",
       "</tr>\n",
       "<tr>\n",
       "  <th>No. Iterations:</th>         <td>40</td>        <th>  Pseudo R-squ. (CS):</th>  <td>   nan</td> \n",
       "</tr>\n",
       "<tr>\n",
       "  <th>Covariance Type:</th>     <td>nonrobust</td>    <th>                     </th>     <td> </td>   \n",
       "</tr>\n",
       "</table>\n",
       "<table class=\"simpletable\">\n",
       "<tr>\n",
       "              <td></td>                <th>coef</th>     <th>std err</th>      <th>z</th>      <th>P>|z|</th>  <th>[0.025</th>    <th>0.975]</th>  \n",
       "</tr>\n",
       "<tr>\n",
       "  <th>const</th>                    <td>  -53.5828</td> <td> 4487.921</td> <td>   -0.012</td> <td> 0.990</td> <td>-8849.746</td> <td> 8742.580</td>\n",
       "</tr>\n",
       "<tr>\n",
       "  <th>offnet_mou_8</th>             <td>   -1.9533</td> <td>    0.104</td> <td>  -18.775</td> <td> 0.000</td> <td>   -2.157</td> <td>   -1.749</td>\n",
       "</tr>\n",
       "<tr>\n",
       "  <th>roam_og_mou_8</th>            <td>    1.1709</td> <td>    0.036</td> <td>   32.748</td> <td> 0.000</td> <td>    1.101</td> <td>    1.241</td>\n",
       "</tr>\n",
       "<tr>\n",
       "  <th>std_og_t2m_mou_8</th>         <td>    1.8618</td> <td>    0.093</td> <td>   20.089</td> <td> 0.000</td> <td>    1.680</td> <td>    2.043</td>\n",
       "</tr>\n",
       "<tr>\n",
       "  <th>std_og_mou_6</th>             <td>    0.8985</td> <td>    0.026</td> <td>   34.441</td> <td> 0.000</td> <td>    0.847</td> <td>    0.950</td>\n",
       "</tr>\n",
       "<tr>\n",
       "  <th>og_others_8</th>              <td>-3942.2163</td> <td> 3.32e+05</td> <td>   -0.012</td> <td> 0.991</td> <td>-6.55e+05</td> <td> 6.47e+05</td>\n",
       "</tr>\n",
       "<tr>\n",
       "  <th>total_og_mou_8</th>           <td>   -0.9968</td> <td>    0.032</td> <td>  -31.043</td> <td> 0.000</td> <td>   -1.060</td> <td>   -0.934</td>\n",
       "</tr>\n",
       "<tr>\n",
       "  <th>loc_ic_t2f_mou_8</th>         <td>   -0.7248</td> <td>    0.072</td> <td>  -10.008</td> <td> 0.000</td> <td>   -0.867</td> <td>   -0.583</td>\n",
       "</tr>\n",
       "<tr>\n",
       "  <th>total_ic_mou_8</th>           <td>   -1.6870</td> <td>    0.061</td> <td>  -27.869</td> <td> 0.000</td> <td>   -1.806</td> <td>   -1.568</td>\n",
       "</tr>\n",
       "<tr>\n",
       "  <th>ic_others_8</th>              <td>   -1.7836</td> <td>    0.184</td> <td>   -9.713</td> <td> 0.000</td> <td>   -2.143</td> <td>   -1.424</td>\n",
       "</tr>\n",
       "<tr>\n",
       "  <th>monthly_2g_8</th>             <td>   -1.0749</td> <td>    0.066</td> <td>  -16.215</td> <td> 0.000</td> <td>   -1.205</td> <td>   -0.945</td>\n",
       "</tr>\n",
       "<tr>\n",
       "  <th>monthly_3g_8</th>             <td>   -1.2758</td> <td>    0.068</td> <td>  -18.877</td> <td> 0.000</td> <td>   -1.408</td> <td>   -1.143</td>\n",
       "</tr>\n",
       "<tr>\n",
       "  <th>sep_vbc_3g</th>               <td>   -0.6800</td> <td>    0.084</td> <td>   -8.066</td> <td> 0.000</td> <td>   -0.845</td> <td>   -0.515</td>\n",
       "</tr>\n",
       "<tr>\n",
       "  <th>decrease_rech_num_action</th> <td>   -0.5384</td> <td>    0.040</td> <td>  -13.319</td> <td> 0.000</td> <td>   -0.618</td> <td>   -0.459</td>\n",
       "</tr>\n",
       "<tr>\n",
       "  <th>decrease_rech_amt_action</th> <td>   -0.6301</td> <td>    0.044</td> <td>  -14.395</td> <td> 0.000</td> <td>   -0.716</td> <td>   -0.544</td>\n",
       "</tr>\n",
       "<tr>\n",
       "  <th>decrease_vbc_action</th>      <td>   -0.9330</td> <td>    0.085</td> <td>  -10.945</td> <td> 0.000</td> <td>   -1.100</td> <td>   -0.766</td>\n",
       "</tr>\n",
       "</table>"
      ],
      "text/plain": [
       "<class 'statsmodels.iolib.summary.Summary'>\n",
       "\"\"\"\n",
       "                 Generalized Linear Model Regression Results                  \n",
       "==============================================================================\n",
       "Dep. Variable:                  churn   No. Observations:                36664\n",
       "Model:                            GLM   Df Residuals:                    36648\n",
       "Model Family:                Binomial   Df Model:                           15\n",
       "Link Function:                  Logit   Scale:                          1.0000\n",
       "Method:                          IRLS   Log-Likelihood:                    nan\n",
       "Date:                Sun, 25 Jun 2023   Deviance:                       25459.\n",
       "Time:                        11:57:44   Pearson chi2:                 5.92e+06\n",
       "No. Iterations:                    40   Pseudo R-squ. (CS):                nan\n",
       "Covariance Type:            nonrobust                                         \n",
       "============================================================================================\n",
       "                               coef    std err          z      P>|z|      [0.025      0.975]\n",
       "--------------------------------------------------------------------------------------------\n",
       "const                      -53.5828   4487.921     -0.012      0.990   -8849.746    8742.580\n",
       "offnet_mou_8                -1.9533      0.104    -18.775      0.000      -2.157      -1.749\n",
       "roam_og_mou_8                1.1709      0.036     32.748      0.000       1.101       1.241\n",
       "std_og_t2m_mou_8             1.8618      0.093     20.089      0.000       1.680       2.043\n",
       "std_og_mou_6                 0.8985      0.026     34.441      0.000       0.847       0.950\n",
       "og_others_8              -3942.2163   3.32e+05     -0.012      0.991   -6.55e+05    6.47e+05\n",
       "total_og_mou_8              -0.9968      0.032    -31.043      0.000      -1.060      -0.934\n",
       "loc_ic_t2f_mou_8            -0.7248      0.072    -10.008      0.000      -0.867      -0.583\n",
       "total_ic_mou_8              -1.6870      0.061    -27.869      0.000      -1.806      -1.568\n",
       "ic_others_8                 -1.7836      0.184     -9.713      0.000      -2.143      -1.424\n",
       "monthly_2g_8                -1.0749      0.066    -16.215      0.000      -1.205      -0.945\n",
       "monthly_3g_8                -1.2758      0.068    -18.877      0.000      -1.408      -1.143\n",
       "sep_vbc_3g                  -0.6800      0.084     -8.066      0.000      -0.845      -0.515\n",
       "decrease_rech_num_action    -0.5384      0.040    -13.319      0.000      -0.618      -0.459\n",
       "decrease_rech_amt_action    -0.6301      0.044    -14.395      0.000      -0.716      -0.544\n",
       "decrease_vbc_action         -0.9330      0.085    -10.945      0.000      -1.100      -0.766\n",
       "============================================================================================\n",
       "\"\"\""
      ]
     },
     "execution_count": 161,
     "metadata": {},
     "output_type": "execute_result"
    }
   ],
   "source": [
    "# Adding constant to X_train\n",
    "X_train_sm_1 = sm.add_constant(X_train[rfe_cols])\n",
    "\n",
    "#Instantiate the model\n",
    "log_no_pca_1 = sm.GLM(y_train, X_train_sm_1, family=sm.families.Binomial())\n",
    "\n",
    "# Fit the model\n",
    "log_no_pca_1 = log_no_pca_1.fit()\n",
    "\n",
    "log_no_pca_1.summary()"
   ]
  },
  {
   "cell_type": "markdown",
   "id": "7285c5cd",
   "metadata": {},
   "source": [
    "#### Checking VIF"
   ]
  },
  {
   "cell_type": "code",
   "execution_count": 162,
   "id": "c2e52ab5",
   "metadata": {},
   "outputs": [],
   "source": [
    "from statsmodels.stats.outliers_influence import variance_inflation_factor"
   ]
  },
  {
   "cell_type": "code",
   "execution_count": 163,
   "id": "d41bcbc9",
   "metadata": {},
   "outputs": [
    {
     "data": {
      "text/html": [
       "<div>\n",
       "<style scoped>\n",
       "    .dataframe tbody tr th:only-of-type {\n",
       "        vertical-align: middle;\n",
       "    }\n",
       "\n",
       "    .dataframe tbody tr th {\n",
       "        vertical-align: top;\n",
       "    }\n",
       "\n",
       "    .dataframe thead th {\n",
       "        text-align: right;\n",
       "    }\n",
       "</style>\n",
       "<table border=\"1\" class=\"dataframe\">\n",
       "  <thead>\n",
       "    <tr style=\"text-align: right;\">\n",
       "      <th></th>\n",
       "      <th>Features</th>\n",
       "      <th>VIF</th>\n",
       "    </tr>\n",
       "  </thead>\n",
       "  <tbody>\n",
       "    <tr>\n",
       "      <th>0</th>\n",
       "      <td>offnet_mou_8</td>\n",
       "      <td>7.64</td>\n",
       "    </tr>\n",
       "    <tr>\n",
       "      <th>2</th>\n",
       "      <td>std_og_t2m_mou_8</td>\n",
       "      <td>6.06</td>\n",
       "    </tr>\n",
       "    <tr>\n",
       "      <th>13</th>\n",
       "      <td>decrease_rech_amt_action</td>\n",
       "      <td>3.29</td>\n",
       "    </tr>\n",
       "    <tr>\n",
       "      <th>12</th>\n",
       "      <td>decrease_rech_num_action</td>\n",
       "      <td>3.19</td>\n",
       "    </tr>\n",
       "    <tr>\n",
       "      <th>5</th>\n",
       "      <td>total_og_mou_8</td>\n",
       "      <td>2.64</td>\n",
       "    </tr>\n",
       "    <tr>\n",
       "      <th>7</th>\n",
       "      <td>total_ic_mou_8</td>\n",
       "      <td>1.60</td>\n",
       "    </tr>\n",
       "    <tr>\n",
       "      <th>3</th>\n",
       "      <td>std_og_mou_6</td>\n",
       "      <td>1.32</td>\n",
       "    </tr>\n",
       "    <tr>\n",
       "      <th>1</th>\n",
       "      <td>roam_og_mou_8</td>\n",
       "      <td>1.29</td>\n",
       "    </tr>\n",
       "    <tr>\n",
       "      <th>6</th>\n",
       "      <td>loc_ic_t2f_mou_8</td>\n",
       "      <td>1.18</td>\n",
       "    </tr>\n",
       "    <tr>\n",
       "      <th>14</th>\n",
       "      <td>decrease_vbc_action</td>\n",
       "      <td>1.18</td>\n",
       "    </tr>\n",
       "    <tr>\n",
       "      <th>10</th>\n",
       "      <td>monthly_3g_8</td>\n",
       "      <td>1.08</td>\n",
       "    </tr>\n",
       "    <tr>\n",
       "      <th>9</th>\n",
       "      <td>monthly_2g_8</td>\n",
       "      <td>1.07</td>\n",
       "    </tr>\n",
       "    <tr>\n",
       "      <th>11</th>\n",
       "      <td>sep_vbc_3g</td>\n",
       "      <td>1.05</td>\n",
       "    </tr>\n",
       "    <tr>\n",
       "      <th>8</th>\n",
       "      <td>ic_others_8</td>\n",
       "      <td>1.02</td>\n",
       "    </tr>\n",
       "    <tr>\n",
       "      <th>4</th>\n",
       "      <td>og_others_8</td>\n",
       "      <td>1.01</td>\n",
       "    </tr>\n",
       "  </tbody>\n",
       "</table>\n",
       "</div>"
      ],
      "text/plain": [
       "                    Features   VIF\n",
       "0               offnet_mou_8  7.64\n",
       "2           std_og_t2m_mou_8  6.06\n",
       "13  decrease_rech_amt_action  3.29\n",
       "12  decrease_rech_num_action  3.19\n",
       "5             total_og_mou_8  2.64\n",
       "7             total_ic_mou_8  1.60\n",
       "3               std_og_mou_6  1.32\n",
       "1              roam_og_mou_8  1.29\n",
       "6           loc_ic_t2f_mou_8  1.18\n",
       "14       decrease_vbc_action  1.18\n",
       "10              monthly_3g_8  1.08\n",
       "9               monthly_2g_8  1.07\n",
       "11                sep_vbc_3g  1.05\n",
       "8                ic_others_8  1.02\n",
       "4                og_others_8  1.01"
      ]
     },
     "execution_count": 163,
     "metadata": {},
     "output_type": "execute_result"
    }
   ],
   "source": [
    "# Create a dataframe that will contain the names of all the feature variables and their respective VIFs\n",
    "vif = pd.DataFrame()\n",
    "vif['Features'] = X_train[rfe_cols].columns\n",
    "vif['VIF'] = [variance_inflation_factor(X_train[rfe_cols].values, i) for i in range(X_train[rfe_cols].shape[1])]\n",
    "vif['VIF'] = round(vif['VIF'], 2)\n",
    "vif = vif.sort_values(by = \"VIF\", ascending = False)\n",
    "vif"
   ]
  },
  {
   "cell_type": "markdown",
   "id": "299daa76",
   "metadata": {},
   "source": [
    "#### VIF for offnet_mou_8 not below 5\n",
    "#### Removing column og_others_8, which is insignificatnt as it has the highest p-value 0.99"
   ]
  },
  {
   "cell_type": "code",
   "execution_count": 164,
   "id": "1e94c6c6",
   "metadata": {},
   "outputs": [
    {
     "name": "stdout",
     "output_type": "stream",
     "text": [
      "['offnet_mou_8', 'roam_og_mou_8', 'std_og_t2m_mou_8', 'std_og_mou_6', 'total_og_mou_8', 'loc_ic_t2f_mou_8', 'total_ic_mou_8', 'ic_others_8', 'monthly_2g_8', 'monthly_3g_8', 'sep_vbc_3g', 'decrease_rech_num_action', 'decrease_rech_amt_action', 'decrease_vbc_action']\n"
     ]
    }
   ],
   "source": [
    "# Removing og_others_8 column \n",
    "log_cols = rfe_cols.to_list()\n",
    "log_cols.remove('og_others_8')\n",
    "print(log_cols)"
   ]
  },
  {
   "cell_type": "markdown",
   "id": "c5b40f90",
   "metadata": {},
   "source": [
    "#### iteration -2"
   ]
  },
  {
   "cell_type": "code",
   "execution_count": 165,
   "id": "c20abdfc",
   "metadata": {},
   "outputs": [
    {
     "data": {
      "text/html": [
       "<table class=\"simpletable\">\n",
       "<caption>Generalized Linear Model Regression Results</caption>\n",
       "<tr>\n",
       "  <th>Dep. Variable:</th>         <td>churn</td>      <th>  No. Observations:  </th>  <td> 36664</td> \n",
       "</tr>\n",
       "<tr>\n",
       "  <th>Model:</th>                  <td>GLM</td>       <th>  Df Residuals:      </th>  <td> 36649</td> \n",
       "</tr>\n",
       "<tr>\n",
       "  <th>Model Family:</th>        <td>Binomial</td>     <th>  Df Model:          </th>  <td>    14</td> \n",
       "</tr>\n",
       "<tr>\n",
       "  <th>Link Function:</th>         <td>Logit</td>      <th>  Scale:             </th> <td>  1.0000</td>\n",
       "</tr>\n",
       "<tr>\n",
       "  <th>Method:</th>                <td>IRLS</td>       <th>  Log-Likelihood:    </th> <td> -12764.</td>\n",
       "</tr>\n",
       "<tr>\n",
       "  <th>Date:</th>            <td>Sun, 25 Jun 2023</td> <th>  Deviance:          </th> <td>  25528.</td>\n",
       "</tr>\n",
       "<tr>\n",
       "  <th>Time:</th>                <td>11:57:45</td>     <th>  Pearson chi2:      </th> <td>5.57e+06</td>\n",
       "</tr>\n",
       "<tr>\n",
       "  <th>No. Iterations:</th>          <td>9</td>        <th>  Pseudo R-squ. (CS):</th>  <td>0.4984</td> \n",
       "</tr>\n",
       "<tr>\n",
       "  <th>Covariance Type:</th>     <td>nonrobust</td>    <th>                     </th>     <td> </td>   \n",
       "</tr>\n",
       "</table>\n",
       "<table class=\"simpletable\">\n",
       "<tr>\n",
       "              <td></td>                <th>coef</th>     <th>std err</th>      <th>z</th>      <th>P>|z|</th>  <th>[0.025</th>    <th>0.975]</th>  \n",
       "</tr>\n",
       "<tr>\n",
       "  <th>const</th>                    <td>   -0.3444</td> <td>    0.040</td> <td>   -8.542</td> <td> 0.000</td> <td>   -0.423</td> <td>   -0.265</td>\n",
       "</tr>\n",
       "<tr>\n",
       "  <th>offnet_mou_8</th>             <td>   -1.9541</td> <td>    0.104</td> <td>  -18.800</td> <td> 0.000</td> <td>   -2.158</td> <td>   -1.750</td>\n",
       "</tr>\n",
       "<tr>\n",
       "  <th>roam_og_mou_8</th>            <td>    1.1680</td> <td>    0.036</td> <td>   32.801</td> <td> 0.000</td> <td>    1.098</td> <td>    1.238</td>\n",
       "</tr>\n",
       "<tr>\n",
       "  <th>std_og_t2m_mou_8</th>         <td>    1.8616</td> <td>    0.093</td> <td>   20.107</td> <td> 0.000</td> <td>    1.680</td> <td>    2.043</td>\n",
       "</tr>\n",
       "<tr>\n",
       "  <th>std_og_mou_6</th>             <td>    0.8948</td> <td>    0.026</td> <td>   34.378</td> <td> 0.000</td> <td>    0.844</td> <td>    0.946</td>\n",
       "</tr>\n",
       "<tr>\n",
       "  <th>total_og_mou_8</th>           <td>   -0.9935</td> <td>    0.032</td> <td>  -30.980</td> <td> 0.000</td> <td>   -1.056</td> <td>   -0.931</td>\n",
       "</tr>\n",
       "<tr>\n",
       "  <th>loc_ic_t2f_mou_8</th>         <td>   -0.7214</td> <td>    0.072</td> <td>   -9.968</td> <td> 0.000</td> <td>   -0.863</td> <td>   -0.580</td>\n",
       "</tr>\n",
       "<tr>\n",
       "  <th>total_ic_mou_8</th>           <td>   -1.6931</td> <td>    0.061</td> <td>  -27.962</td> <td> 0.000</td> <td>   -1.812</td> <td>   -1.574</td>\n",
       "</tr>\n",
       "<tr>\n",
       "  <th>ic_others_8</th>              <td>   -1.7857</td> <td>    0.183</td> <td>   -9.733</td> <td> 0.000</td> <td>   -2.145</td> <td>   -1.426</td>\n",
       "</tr>\n",
       "<tr>\n",
       "  <th>monthly_2g_8</th>             <td>   -1.0886</td> <td>    0.068</td> <td>  -16.120</td> <td> 0.000</td> <td>   -1.221</td> <td>   -0.956</td>\n",
       "</tr>\n",
       "<tr>\n",
       "  <th>monthly_3g_8</th>             <td>   -1.2732</td> <td>    0.067</td> <td>  -18.863</td> <td> 0.000</td> <td>   -1.406</td> <td>   -1.141</td>\n",
       "</tr>\n",
       "<tr>\n",
       "  <th>sep_vbc_3g</th>               <td>   -0.6799</td> <td>    0.084</td> <td>   -8.081</td> <td> 0.000</td> <td>   -0.845</td> <td>   -0.515</td>\n",
       "</tr>\n",
       "<tr>\n",
       "  <th>decrease_rech_num_action</th> <td>   -0.5369</td> <td>    0.040</td> <td>  -13.301</td> <td> 0.000</td> <td>   -0.616</td> <td>   -0.458</td>\n",
       "</tr>\n",
       "<tr>\n",
       "  <th>decrease_rech_amt_action</th> <td>   -0.6256</td> <td>    0.044</td> <td>  -14.318</td> <td> 0.000</td> <td>   -0.711</td> <td>   -0.540</td>\n",
       "</tr>\n",
       "<tr>\n",
       "  <th>decrease_vbc_action</th>      <td>   -0.9361</td> <td>    0.085</td> <td>  -11.001</td> <td> 0.000</td> <td>   -1.103</td> <td>   -0.769</td>\n",
       "</tr>\n",
       "</table>"
      ],
      "text/plain": [
       "<class 'statsmodels.iolib.summary.Summary'>\n",
       "\"\"\"\n",
       "                 Generalized Linear Model Regression Results                  \n",
       "==============================================================================\n",
       "Dep. Variable:                  churn   No. Observations:                36664\n",
       "Model:                            GLM   Df Residuals:                    36649\n",
       "Model Family:                Binomial   Df Model:                           14\n",
       "Link Function:                  Logit   Scale:                          1.0000\n",
       "Method:                          IRLS   Log-Likelihood:                -12764.\n",
       "Date:                Sun, 25 Jun 2023   Deviance:                       25528.\n",
       "Time:                        11:57:45   Pearson chi2:                 5.57e+06\n",
       "No. Iterations:                     9   Pseudo R-squ. (CS):             0.4984\n",
       "Covariance Type:            nonrobust                                         \n",
       "============================================================================================\n",
       "                               coef    std err          z      P>|z|      [0.025      0.975]\n",
       "--------------------------------------------------------------------------------------------\n",
       "const                       -0.3444      0.040     -8.542      0.000      -0.423      -0.265\n",
       "offnet_mou_8                -1.9541      0.104    -18.800      0.000      -2.158      -1.750\n",
       "roam_og_mou_8                1.1680      0.036     32.801      0.000       1.098       1.238\n",
       "std_og_t2m_mou_8             1.8616      0.093     20.107      0.000       1.680       2.043\n",
       "std_og_mou_6                 0.8948      0.026     34.378      0.000       0.844       0.946\n",
       "total_og_mou_8              -0.9935      0.032    -30.980      0.000      -1.056      -0.931\n",
       "loc_ic_t2f_mou_8            -0.7214      0.072     -9.968      0.000      -0.863      -0.580\n",
       "total_ic_mou_8              -1.6931      0.061    -27.962      0.000      -1.812      -1.574\n",
       "ic_others_8                 -1.7857      0.183     -9.733      0.000      -2.145      -1.426\n",
       "monthly_2g_8                -1.0886      0.068    -16.120      0.000      -1.221      -0.956\n",
       "monthly_3g_8                -1.2732      0.067    -18.863      0.000      -1.406      -1.141\n",
       "sep_vbc_3g                  -0.6799      0.084     -8.081      0.000      -0.845      -0.515\n",
       "decrease_rech_num_action    -0.5369      0.040    -13.301      0.000      -0.616      -0.458\n",
       "decrease_rech_amt_action    -0.6256      0.044    -14.318      0.000      -0.711      -0.540\n",
       "decrease_vbc_action         -0.9361      0.085    -11.001      0.000      -1.103      -0.769\n",
       "============================================================================================\n",
       "\"\"\""
      ]
     },
     "execution_count": 165,
     "metadata": {},
     "output_type": "execute_result"
    }
   ],
   "source": [
    "# Adding constant to X_train\n",
    "X_train_sm_2 = sm.add_constant(X_train[log_cols])\n",
    "\n",
    "#Instantiate the model\n",
    "log_no_pca_2 = sm.GLM(y_train, X_train_sm_2, family=sm.families.Binomial())\n",
    "\n",
    "# Fit the model\n",
    "log_no_pca_2 = log_no_pca_2.fit()\n",
    "\n",
    "log_no_pca_2.summary()"
   ]
  },
  {
   "cell_type": "code",
   "execution_count": 166,
   "id": "bd3dfd87",
   "metadata": {},
   "outputs": [
    {
     "data": {
      "text/html": [
       "<div>\n",
       "<style scoped>\n",
       "    .dataframe tbody tr th:only-of-type {\n",
       "        vertical-align: middle;\n",
       "    }\n",
       "\n",
       "    .dataframe tbody tr th {\n",
       "        vertical-align: top;\n",
       "    }\n",
       "\n",
       "    .dataframe thead th {\n",
       "        text-align: right;\n",
       "    }\n",
       "</style>\n",
       "<table border=\"1\" class=\"dataframe\">\n",
       "  <thead>\n",
       "    <tr style=\"text-align: right;\">\n",
       "      <th></th>\n",
       "      <th>Features</th>\n",
       "      <th>VIF</th>\n",
       "    </tr>\n",
       "  </thead>\n",
       "  <tbody>\n",
       "    <tr>\n",
       "      <th>0</th>\n",
       "      <td>offnet_mou_8</td>\n",
       "      <td>7.64</td>\n",
       "    </tr>\n",
       "    <tr>\n",
       "      <th>2</th>\n",
       "      <td>std_og_t2m_mou_8</td>\n",
       "      <td>6.06</td>\n",
       "    </tr>\n",
       "    <tr>\n",
       "      <th>12</th>\n",
       "      <td>decrease_rech_amt_action</td>\n",
       "      <td>3.29</td>\n",
       "    </tr>\n",
       "    <tr>\n",
       "      <th>11</th>\n",
       "      <td>decrease_rech_num_action</td>\n",
       "      <td>3.19</td>\n",
       "    </tr>\n",
       "    <tr>\n",
       "      <th>4</th>\n",
       "      <td>total_og_mou_8</td>\n",
       "      <td>2.64</td>\n",
       "    </tr>\n",
       "    <tr>\n",
       "      <th>6</th>\n",
       "      <td>total_ic_mou_8</td>\n",
       "      <td>1.60</td>\n",
       "    </tr>\n",
       "    <tr>\n",
       "      <th>3</th>\n",
       "      <td>std_og_mou_6</td>\n",
       "      <td>1.32</td>\n",
       "    </tr>\n",
       "    <tr>\n",
       "      <th>1</th>\n",
       "      <td>roam_og_mou_8</td>\n",
       "      <td>1.29</td>\n",
       "    </tr>\n",
       "    <tr>\n",
       "      <th>5</th>\n",
       "      <td>loc_ic_t2f_mou_8</td>\n",
       "      <td>1.18</td>\n",
       "    </tr>\n",
       "    <tr>\n",
       "      <th>13</th>\n",
       "      <td>decrease_vbc_action</td>\n",
       "      <td>1.18</td>\n",
       "    </tr>\n",
       "    <tr>\n",
       "      <th>9</th>\n",
       "      <td>monthly_3g_8</td>\n",
       "      <td>1.08</td>\n",
       "    </tr>\n",
       "    <tr>\n",
       "      <th>8</th>\n",
       "      <td>monthly_2g_8</td>\n",
       "      <td>1.07</td>\n",
       "    </tr>\n",
       "    <tr>\n",
       "      <th>10</th>\n",
       "      <td>sep_vbc_3g</td>\n",
       "      <td>1.05</td>\n",
       "    </tr>\n",
       "    <tr>\n",
       "      <th>7</th>\n",
       "      <td>ic_others_8</td>\n",
       "      <td>1.02</td>\n",
       "    </tr>\n",
       "  </tbody>\n",
       "</table>\n",
       "</div>"
      ],
      "text/plain": [
       "                    Features   VIF\n",
       "0               offnet_mou_8  7.64\n",
       "2           std_og_t2m_mou_8  6.06\n",
       "12  decrease_rech_amt_action  3.29\n",
       "11  decrease_rech_num_action  3.19\n",
       "4             total_og_mou_8  2.64\n",
       "6             total_ic_mou_8  1.60\n",
       "3               std_og_mou_6  1.32\n",
       "1              roam_og_mou_8  1.29\n",
       "5           loc_ic_t2f_mou_8  1.18\n",
       "13       decrease_vbc_action  1.18\n",
       "9               monthly_3g_8  1.08\n",
       "8               monthly_2g_8  1.07\n",
       "10                sep_vbc_3g  1.05\n",
       "7                ic_others_8  1.02"
      ]
     },
     "execution_count": 166,
     "metadata": {},
     "output_type": "execute_result"
    }
   ],
   "source": [
    "# Create a dataframe that will contain the names of all the feature variables and their respective VIFs\n",
    "vif = pd.DataFrame()\n",
    "vif['Features'] = X_train[log_cols].columns\n",
    "vif['VIF'] = [variance_inflation_factor(X_train[log_cols].values, i) for i in range(X_train[log_cols].shape[1])]\n",
    "vif['VIF'] = round(vif['VIF'], 2)\n",
    "vif = vif.sort_values(by = \"VIF\", ascending = False)\n",
    "vif"
   ]
  },
  {
   "cell_type": "markdown",
   "id": "09c2b4fe",
   "metadata": {},
   "source": [
    "##### As we can see from the model summary that all the variables p-values are significant and offnet_mou_8 column has the highest VIF 7.45. Hence, deleting offnet_mou_8 column."
   ]
  },
  {
   "cell_type": "code",
   "execution_count": 167,
   "id": "fff66730",
   "metadata": {},
   "outputs": [],
   "source": [
    "# Removing offnet_mou_8 column\n",
    "log_cols.remove('offnet_mou_8')"
   ]
  },
  {
   "cell_type": "markdown",
   "id": "b12dcdf8",
   "metadata": {},
   "source": [
    "#### iteration-3"
   ]
  },
  {
   "cell_type": "code",
   "execution_count": 168,
   "id": "6b3dcb46",
   "metadata": {},
   "outputs": [
    {
     "data": {
      "text/html": [
       "<table class=\"simpletable\">\n",
       "<caption>Generalized Linear Model Regression Results</caption>\n",
       "<tr>\n",
       "  <th>Dep. Variable:</th>         <td>churn</td>      <th>  No. Observations:  </th>  <td> 36664</td> \n",
       "</tr>\n",
       "<tr>\n",
       "  <th>Model:</th>                  <td>GLM</td>       <th>  Df Residuals:      </th>  <td> 36650</td> \n",
       "</tr>\n",
       "<tr>\n",
       "  <th>Model Family:</th>        <td>Binomial</td>     <th>  Df Model:          </th>  <td>    13</td> \n",
       "</tr>\n",
       "<tr>\n",
       "  <th>Link Function:</th>         <td>Logit</td>      <th>  Scale:             </th> <td>  1.0000</td>\n",
       "</tr>\n",
       "<tr>\n",
       "  <th>Method:</th>                <td>IRLS</td>       <th>  Log-Likelihood:    </th> <td> -12983.</td>\n",
       "</tr>\n",
       "<tr>\n",
       "  <th>Date:</th>            <td>Sun, 25 Jun 2023</td> <th>  Deviance:          </th> <td>  25966.</td>\n",
       "</tr>\n",
       "<tr>\n",
       "  <th>Time:</th>                <td>11:57:45</td>     <th>  Pearson chi2:      </th> <td>2.75e+07</td>\n",
       "</tr>\n",
       "<tr>\n",
       "  <th>No. Iterations:</th>          <td>9</td>        <th>  Pseudo R-squ. (CS):</th>  <td>0.4924</td> \n",
       "</tr>\n",
       "<tr>\n",
       "  <th>Covariance Type:</th>     <td>nonrobust</td>    <th>                     </th>     <td> </td>   \n",
       "</tr>\n",
       "</table>\n",
       "<table class=\"simpletable\">\n",
       "<tr>\n",
       "              <td></td>                <th>coef</th>     <th>std err</th>      <th>z</th>      <th>P>|z|</th>  <th>[0.025</th>    <th>0.975]</th>  \n",
       "</tr>\n",
       "<tr>\n",
       "  <th>const</th>                    <td>   -0.2860</td> <td>    0.040</td> <td>   -7.091</td> <td> 0.000</td> <td>   -0.365</td> <td>   -0.207</td>\n",
       "</tr>\n",
       "<tr>\n",
       "  <th>roam_og_mou_8</th>            <td>    0.7880</td> <td>    0.028</td> <td>   27.950</td> <td> 0.000</td> <td>    0.733</td> <td>    0.843</td>\n",
       "</tr>\n",
       "<tr>\n",
       "  <th>std_og_t2m_mou_8</th>         <td>    0.1978</td> <td>    0.023</td> <td>    8.550</td> <td> 0.000</td> <td>    0.152</td> <td>    0.243</td>\n",
       "</tr>\n",
       "<tr>\n",
       "  <th>std_og_mou_6</th>             <td>    1.0115</td> <td>    0.026</td> <td>   38.836</td> <td> 0.000</td> <td>    0.960</td> <td>    1.063</td>\n",
       "</tr>\n",
       "<tr>\n",
       "  <th>total_og_mou_8</th>           <td>   -1.1252</td> <td>    0.032</td> <td>  -35.255</td> <td> 0.000</td> <td>   -1.188</td> <td>   -1.063</td>\n",
       "</tr>\n",
       "<tr>\n",
       "  <th>loc_ic_t2f_mou_8</th>         <td>   -0.7632</td> <td>    0.074</td> <td>  -10.263</td> <td> 0.000</td> <td>   -0.909</td> <td>   -0.617</td>\n",
       "</tr>\n",
       "<tr>\n",
       "  <th>total_ic_mou_8</th>           <td>   -2.2416</td> <td>    0.057</td> <td>  -39.562</td> <td> 0.000</td> <td>   -2.353</td> <td>   -2.131</td>\n",
       "</tr>\n",
       "<tr>\n",
       "  <th>ic_others_8</th>              <td>   -1.7616</td> <td>    0.183</td> <td>   -9.604</td> <td> 0.000</td> <td>   -2.121</td> <td>   -1.402</td>\n",
       "</tr>\n",
       "<tr>\n",
       "  <th>monthly_2g_8</th>             <td>   -1.0882</td> <td>    0.067</td> <td>  -16.191</td> <td> 0.000</td> <td>   -1.220</td> <td>   -0.956</td>\n",
       "</tr>\n",
       "<tr>\n",
       "  <th>monthly_3g_8</th>             <td>   -1.3405</td> <td>    0.070</td> <td>  -19.191</td> <td> 0.000</td> <td>   -1.477</td> <td>   -1.204</td>\n",
       "</tr>\n",
       "<tr>\n",
       "  <th>sep_vbc_3g</th>               <td>   -0.7031</td> <td>    0.085</td> <td>   -8.241</td> <td> 0.000</td> <td>   -0.870</td> <td>   -0.536</td>\n",
       "</tr>\n",
       "<tr>\n",
       "  <th>decrease_rech_num_action</th> <td>   -0.5657</td> <td>    0.040</td> <td>  -14.222</td> <td> 0.000</td> <td>   -0.644</td> <td>   -0.488</td>\n",
       "</tr>\n",
       "<tr>\n",
       "  <th>decrease_rech_amt_action</th> <td>   -0.6388</td> <td>    0.043</td> <td>  -14.826</td> <td> 0.000</td> <td>   -0.723</td> <td>   -0.554</td>\n",
       "</tr>\n",
       "<tr>\n",
       "  <th>decrease_vbc_action</th>      <td>   -0.8836</td> <td>    0.084</td> <td>  -10.467</td> <td> 0.000</td> <td>   -1.049</td> <td>   -0.718</td>\n",
       "</tr>\n",
       "</table>"
      ],
      "text/plain": [
       "<class 'statsmodels.iolib.summary.Summary'>\n",
       "\"\"\"\n",
       "                 Generalized Linear Model Regression Results                  \n",
       "==============================================================================\n",
       "Dep. Variable:                  churn   No. Observations:                36664\n",
       "Model:                            GLM   Df Residuals:                    36650\n",
       "Model Family:                Binomial   Df Model:                           13\n",
       "Link Function:                  Logit   Scale:                          1.0000\n",
       "Method:                          IRLS   Log-Likelihood:                -12983.\n",
       "Date:                Sun, 25 Jun 2023   Deviance:                       25966.\n",
       "Time:                        11:57:45   Pearson chi2:                 2.75e+07\n",
       "No. Iterations:                     9   Pseudo R-squ. (CS):             0.4924\n",
       "Covariance Type:            nonrobust                                         \n",
       "============================================================================================\n",
       "                               coef    std err          z      P>|z|      [0.025      0.975]\n",
       "--------------------------------------------------------------------------------------------\n",
       "const                       -0.2860      0.040     -7.091      0.000      -0.365      -0.207\n",
       "roam_og_mou_8                0.7880      0.028     27.950      0.000       0.733       0.843\n",
       "std_og_t2m_mou_8             0.1978      0.023      8.550      0.000       0.152       0.243\n",
       "std_og_mou_6                 1.0115      0.026     38.836      0.000       0.960       1.063\n",
       "total_og_mou_8              -1.1252      0.032    -35.255      0.000      -1.188      -1.063\n",
       "loc_ic_t2f_mou_8            -0.7632      0.074    -10.263      0.000      -0.909      -0.617\n",
       "total_ic_mou_8              -2.2416      0.057    -39.562      0.000      -2.353      -2.131\n",
       "ic_others_8                 -1.7616      0.183     -9.604      0.000      -2.121      -1.402\n",
       "monthly_2g_8                -1.0882      0.067    -16.191      0.000      -1.220      -0.956\n",
       "monthly_3g_8                -1.3405      0.070    -19.191      0.000      -1.477      -1.204\n",
       "sep_vbc_3g                  -0.7031      0.085     -8.241      0.000      -0.870      -0.536\n",
       "decrease_rech_num_action    -0.5657      0.040    -14.222      0.000      -0.644      -0.488\n",
       "decrease_rech_amt_action    -0.6388      0.043    -14.826      0.000      -0.723      -0.554\n",
       "decrease_vbc_action         -0.8836      0.084    -10.467      0.000      -1.049      -0.718\n",
       "============================================================================================\n",
       "\"\"\""
      ]
     },
     "execution_count": 168,
     "metadata": {},
     "output_type": "execute_result"
    }
   ],
   "source": [
    "# Adding constant to X_train\n",
    "X_train_sm_3 = sm.add_constant(X_train[log_cols])\n",
    "\n",
    "#Instantiate the model\n",
    "log_no_pca_3 = sm.GLM(y_train, X_train_sm_3, family=sm.families.Binomial())\n",
    "\n",
    "# Fit the model\n",
    "log_no_pca_3 = log_no_pca_3.fit()\n",
    "\n",
    "log_no_pca_3.summary()"
   ]
  },
  {
   "cell_type": "code",
   "execution_count": 169,
   "id": "c2dbd784",
   "metadata": {},
   "outputs": [
    {
     "data": {
      "text/html": [
       "<div>\n",
       "<style scoped>\n",
       "    .dataframe tbody tr th:only-of-type {\n",
       "        vertical-align: middle;\n",
       "    }\n",
       "\n",
       "    .dataframe tbody tr th {\n",
       "        vertical-align: top;\n",
       "    }\n",
       "\n",
       "    .dataframe thead th {\n",
       "        text-align: right;\n",
       "    }\n",
       "</style>\n",
       "<table border=\"1\" class=\"dataframe\">\n",
       "  <thead>\n",
       "    <tr style=\"text-align: right;\">\n",
       "      <th></th>\n",
       "      <th>Features</th>\n",
       "      <th>VIF</th>\n",
       "    </tr>\n",
       "  </thead>\n",
       "  <tbody>\n",
       "    <tr>\n",
       "      <th>11</th>\n",
       "      <td>decrease_rech_amt_action</td>\n",
       "      <td>3.29</td>\n",
       "    </tr>\n",
       "    <tr>\n",
       "      <th>10</th>\n",
       "      <td>decrease_rech_num_action</td>\n",
       "      <td>3.18</td>\n",
       "    </tr>\n",
       "    <tr>\n",
       "      <th>3</th>\n",
       "      <td>total_og_mou_8</td>\n",
       "      <td>2.17</td>\n",
       "    </tr>\n",
       "    <tr>\n",
       "      <th>1</th>\n",
       "      <td>std_og_t2m_mou_8</td>\n",
       "      <td>1.94</td>\n",
       "    </tr>\n",
       "    <tr>\n",
       "      <th>5</th>\n",
       "      <td>total_ic_mou_8</td>\n",
       "      <td>1.45</td>\n",
       "    </tr>\n",
       "    <tr>\n",
       "      <th>2</th>\n",
       "      <td>std_og_mou_6</td>\n",
       "      <td>1.27</td>\n",
       "    </tr>\n",
       "    <tr>\n",
       "      <th>12</th>\n",
       "      <td>decrease_vbc_action</td>\n",
       "      <td>1.18</td>\n",
       "    </tr>\n",
       "    <tr>\n",
       "      <th>4</th>\n",
       "      <td>loc_ic_t2f_mou_8</td>\n",
       "      <td>1.17</td>\n",
       "    </tr>\n",
       "    <tr>\n",
       "      <th>8</th>\n",
       "      <td>monthly_3g_8</td>\n",
       "      <td>1.08</td>\n",
       "    </tr>\n",
       "    <tr>\n",
       "      <th>7</th>\n",
       "      <td>monthly_2g_8</td>\n",
       "      <td>1.07</td>\n",
       "    </tr>\n",
       "    <tr>\n",
       "      <th>0</th>\n",
       "      <td>roam_og_mou_8</td>\n",
       "      <td>1.05</td>\n",
       "    </tr>\n",
       "    <tr>\n",
       "      <th>9</th>\n",
       "      <td>sep_vbc_3g</td>\n",
       "      <td>1.05</td>\n",
       "    </tr>\n",
       "    <tr>\n",
       "      <th>6</th>\n",
       "      <td>ic_others_8</td>\n",
       "      <td>1.02</td>\n",
       "    </tr>\n",
       "  </tbody>\n",
       "</table>\n",
       "</div>"
      ],
      "text/plain": [
       "                    Features   VIF\n",
       "11  decrease_rech_amt_action  3.29\n",
       "10  decrease_rech_num_action  3.18\n",
       "3             total_og_mou_8  2.17\n",
       "1           std_og_t2m_mou_8  1.94\n",
       "5             total_ic_mou_8  1.45\n",
       "2               std_og_mou_6  1.27\n",
       "12       decrease_vbc_action  1.18\n",
       "4           loc_ic_t2f_mou_8  1.17\n",
       "8               monthly_3g_8  1.08\n",
       "7               monthly_2g_8  1.07\n",
       "0              roam_og_mou_8  1.05\n",
       "9                 sep_vbc_3g  1.05\n",
       "6                ic_others_8  1.02"
      ]
     },
     "execution_count": 169,
     "metadata": {},
     "output_type": "execute_result"
    }
   ],
   "source": [
    "vif = pd.DataFrame()\n",
    "vif['Features'] = X_train[log_cols].columns\n",
    "vif['VIF'] = [variance_inflation_factor(X_train[log_cols].values, i) for i in range(X_train[log_cols].shape[1])]\n",
    "vif['VIF'] = round(vif['VIF'], 2)\n",
    "vif = vif.sort_values(by = \"VIF\", ascending = False)\n",
    "vif"
   ]
  },
  {
   "cell_type": "markdown",
   "id": "3b9a3a7e",
   "metadata": {},
   "source": [
    "#### Now from the model summary and the VIF list we can see that all the variables are significant and there is no multicollinearity among the variables.\n",
    "\n",
    "Hence, we can conclused that Model-3 log_no_pca_3 will be the final model."
   ]
  },
  {
   "cell_type": "code",
   "execution_count": 170,
   "id": "c84b6aa5",
   "metadata": {},
   "outputs": [
    {
     "data": {
      "text/plain": [
       "0    0.464740\n",
       "1    0.065458\n",
       "2    0.165532\n",
       "3    0.726868\n",
       "4    0.000027\n",
       "dtype: float64"
      ]
     },
     "execution_count": 170,
     "metadata": {},
     "output_type": "execute_result"
    }
   ],
   "source": [
    "# Getting the predicted value on the train set\n",
    "y_train_pred_no_pca = log_no_pca_3.predict(X_train_sm_3)\n",
    "y_train_pred_no_pca.head()"
   ]
  },
  {
   "cell_type": "markdown",
   "id": "2b4321d0",
   "metadata": {},
   "source": [
    "#### Creating a dataframe with the actual churn and the predicted probabilities"
   ]
  },
  {
   "cell_type": "code",
   "execution_count": 171,
   "id": "bb8e1edf",
   "metadata": {},
   "outputs": [
    {
     "data": {
      "text/html": [
       "<div>\n",
       "<style scoped>\n",
       "    .dataframe tbody tr th:only-of-type {\n",
       "        vertical-align: middle;\n",
       "    }\n",
       "\n",
       "    .dataframe tbody tr th {\n",
       "        vertical-align: top;\n",
       "    }\n",
       "\n",
       "    .dataframe thead th {\n",
       "        text-align: right;\n",
       "    }\n",
       "</style>\n",
       "<table border=\"1\" class=\"dataframe\">\n",
       "  <thead>\n",
       "    <tr style=\"text-align: right;\">\n",
       "      <th></th>\n",
       "      <th>churn</th>\n",
       "      <th>churn_prob</th>\n",
       "      <th>CustID</th>\n",
       "    </tr>\n",
       "  </thead>\n",
       "  <tbody>\n",
       "    <tr>\n",
       "      <th>0</th>\n",
       "      <td>0</td>\n",
       "      <td>0.464740</td>\n",
       "      <td>0</td>\n",
       "    </tr>\n",
       "    <tr>\n",
       "      <th>1</th>\n",
       "      <td>0</td>\n",
       "      <td>0.065458</td>\n",
       "      <td>1</td>\n",
       "    </tr>\n",
       "    <tr>\n",
       "      <th>2</th>\n",
       "      <td>0</td>\n",
       "      <td>0.165532</td>\n",
       "      <td>2</td>\n",
       "    </tr>\n",
       "    <tr>\n",
       "      <th>3</th>\n",
       "      <td>0</td>\n",
       "      <td>0.726868</td>\n",
       "      <td>3</td>\n",
       "    </tr>\n",
       "    <tr>\n",
       "      <th>4</th>\n",
       "      <td>0</td>\n",
       "      <td>0.000027</td>\n",
       "      <td>4</td>\n",
       "    </tr>\n",
       "  </tbody>\n",
       "</table>\n",
       "</div>"
      ],
      "text/plain": [
       "   churn  churn_prob  CustID\n",
       "0      0    0.464740       0\n",
       "1      0    0.065458       1\n",
       "2      0    0.165532       2\n",
       "3      0    0.726868       3\n",
       "4      0    0.000027       4"
      ]
     },
     "execution_count": 171,
     "metadata": {},
     "output_type": "execute_result"
    }
   ],
   "source": [
    "y_train_pred_final = pd.DataFrame({'churn':y_train.values, 'churn_prob':y_train_pred_no_pca.values})\n",
    "\n",
    "#Assigning Customer ID for each record for better readblity\n",
    "#CustID is the index of each record.\n",
    "y_train_pred_final['CustID'] = y_train_pred_final.index\n",
    "\n",
    "y_train_pred_final.head()"
   ]
  },
  {
   "cell_type": "code",
   "execution_count": null,
   "id": "a2358119",
   "metadata": {},
   "outputs": [],
   "source": []
  },
  {
   "cell_type": "code",
   "execution_count": 173,
   "id": "47258af0",
   "metadata": {},
   "outputs": [
    {
     "data": {
      "text/html": [
       "<div>\n",
       "<style scoped>\n",
       "    .dataframe tbody tr th:only-of-type {\n",
       "        vertical-align: middle;\n",
       "    }\n",
       "\n",
       "    .dataframe tbody tr th {\n",
       "        vertical-align: top;\n",
       "    }\n",
       "\n",
       "    .dataframe thead th {\n",
       "        text-align: right;\n",
       "    }\n",
       "</style>\n",
       "<table border=\"1\" class=\"dataframe\">\n",
       "  <thead>\n",
       "    <tr style=\"text-align: right;\">\n",
       "      <th></th>\n",
       "      <th>churn</th>\n",
       "      <th>churn_prob</th>\n",
       "      <th>CustID</th>\n",
       "      <th>0.0</th>\n",
       "      <th>0.1</th>\n",
       "      <th>0.2</th>\n",
       "      <th>0.3</th>\n",
       "      <th>0.4</th>\n",
       "      <th>0.5</th>\n",
       "      <th>0.6</th>\n",
       "      <th>0.7</th>\n",
       "      <th>0.8</th>\n",
       "      <th>0.9</th>\n",
       "    </tr>\n",
       "  </thead>\n",
       "  <tbody>\n",
       "    <tr>\n",
       "      <th>0</th>\n",
       "      <td>0</td>\n",
       "      <td>0.464740</td>\n",
       "      <td>0</td>\n",
       "      <td>1</td>\n",
       "      <td>1</td>\n",
       "      <td>1</td>\n",
       "      <td>1</td>\n",
       "      <td>1</td>\n",
       "      <td>0</td>\n",
       "      <td>0</td>\n",
       "      <td>0</td>\n",
       "      <td>0</td>\n",
       "      <td>0</td>\n",
       "    </tr>\n",
       "    <tr>\n",
       "      <th>1</th>\n",
       "      <td>0</td>\n",
       "      <td>0.065458</td>\n",
       "      <td>1</td>\n",
       "      <td>1</td>\n",
       "      <td>0</td>\n",
       "      <td>0</td>\n",
       "      <td>0</td>\n",
       "      <td>0</td>\n",
       "      <td>0</td>\n",
       "      <td>0</td>\n",
       "      <td>0</td>\n",
       "      <td>0</td>\n",
       "      <td>0</td>\n",
       "    </tr>\n",
       "    <tr>\n",
       "      <th>2</th>\n",
       "      <td>0</td>\n",
       "      <td>0.165532</td>\n",
       "      <td>2</td>\n",
       "      <td>1</td>\n",
       "      <td>1</td>\n",
       "      <td>0</td>\n",
       "      <td>0</td>\n",
       "      <td>0</td>\n",
       "      <td>0</td>\n",
       "      <td>0</td>\n",
       "      <td>0</td>\n",
       "      <td>0</td>\n",
       "      <td>0</td>\n",
       "    </tr>\n",
       "    <tr>\n",
       "      <th>3</th>\n",
       "      <td>0</td>\n",
       "      <td>0.726868</td>\n",
       "      <td>3</td>\n",
       "      <td>1</td>\n",
       "      <td>1</td>\n",
       "      <td>1</td>\n",
       "      <td>1</td>\n",
       "      <td>1</td>\n",
       "      <td>1</td>\n",
       "      <td>1</td>\n",
       "      <td>1</td>\n",
       "      <td>0</td>\n",
       "      <td>0</td>\n",
       "    </tr>\n",
       "    <tr>\n",
       "      <th>4</th>\n",
       "      <td>0</td>\n",
       "      <td>0.000027</td>\n",
       "      <td>4</td>\n",
       "      <td>1</td>\n",
       "      <td>0</td>\n",
       "      <td>0</td>\n",
       "      <td>0</td>\n",
       "      <td>0</td>\n",
       "      <td>0</td>\n",
       "      <td>0</td>\n",
       "      <td>0</td>\n",
       "      <td>0</td>\n",
       "      <td>0</td>\n",
       "    </tr>\n",
       "  </tbody>\n",
       "</table>\n",
       "</div>"
      ],
      "text/plain": [
       "   churn  churn_prob  CustID  0.0  0.1  0.2  0.3  0.4  0.5  0.6  0.7  0.8  0.9\n",
       "0      0    0.464740       0    1    1    1    1    1    0    0    0    0    0\n",
       "1      0    0.065458       1    1    0    0    0    0    0    0    0    0    0\n",
       "2      0    0.165532       2    1    1    0    0    0    0    0    0    0    0\n",
       "3      0    0.726868       3    1    1    1    1    1    1    1    1    0    0\n",
       "4      0    0.000027       4    1    0    0    0    0    0    0    0    0    0"
      ]
     },
     "execution_count": 173,
     "metadata": {},
     "output_type": "execute_result"
    }
   ],
   "source": [
    "# Creating columns for different probablity cutoffs\n",
    "prob_cutoff = [float(p/10) for p in range(10)]\n",
    "\n",
    "for i in prob_cutoff:\n",
    "    y_train_pred_final[i] = y_train_pred_final['churn_prob'].map(lambda x : 1 if x > i else 0)\n",
    "    \n",
    "y_train_pred_final.head()"
   ]
  },
  {
   "cell_type": "code",
   "execution_count": 174,
   "id": "41624ab9",
   "metadata": {},
   "outputs": [
    {
     "name": "stdout",
     "output_type": "stream",
     "text": [
      "     probability  accuracy  sensitivity  specificity\n",
      "0.0          0.0  0.500000     1.000000     0.000000\n",
      "0.1          0.1  0.752237     0.982162     0.522311\n",
      "0.2          0.2  0.795194     0.968798     0.621591\n",
      "0.3          0.3  0.826069     0.955651     0.696487\n",
      "0.4          0.4  0.850071     0.936832     0.763310\n",
      "0.5          0.5  0.862481     0.904702     0.820260\n",
      "0.6          0.6  0.866108     0.858499     0.873718\n",
      "0.7          0.7  0.845161     0.769801     0.920521\n",
      "0.8          0.8  0.772283     0.588970     0.955597\n",
      "0.9          0.9  0.655630     0.333133     0.978126\n"
     ]
    }
   ],
   "source": [
    "# Creating a dataframe\n",
    "cutoff_df = pd.DataFrame(columns=['probability', 'accuracy', 'sensitivity', 'specificity'])\n",
    "\n",
    "for i in prob_cutoff:\n",
    "    cm1 = metrics.confusion_matrix(y_train_pred_final['churn'], y_train_pred_final[i] )\n",
    "    total1=sum(sum(cm1))\n",
    "    accuracy = (cm1[0,0]+cm1[1,1])/total1\n",
    "    \n",
    "    speci = cm1[0,0]/(cm1[0,0]+cm1[0,1])\n",
    "    sensi = cm1[1,1]/(cm1[1,0]+cm1[1,1])\n",
    "    cutoff_df.loc[i] =[ i ,accuracy,sensi,speci]\n",
    "print(cutoff_df)"
   ]
  },
  {
   "cell_type": "code",
   "execution_count": 175,
   "id": "b4ea1f93",
   "metadata": {},
   "outputs": [
    {
     "data": {
      "image/png": "[encoded data removed]",
      "text/plain": [
       "<Figure size 640x480 with 1 Axes>"
      ]
     },
     "metadata": {},
     "output_type": "display_data"
    }
   ],
   "source": [
    "# Plotting accuracy, sensitivity and specificity for different probabilities.\n",
    "cutoff_df.plot('probability', ['accuracy','sensitivity','specificity'])\n",
    "plt.show()"
   ]
  },
  {
   "cell_type": "markdown",
   "id": "a117102c",
   "metadata": {},
   "source": [
    "#### Analysis of the above curve\n",
    "\n",
    "Accuracy - Becomes stable around 0.55\n",
    "\n",
    "Sensitivity - Decreases with the increased probablity.\n",
    "\n",
    "Specificity - Increases with the increasing probablity.\n",
    "\n",
    "At point 0.55 where the three parameters cut each other, we can see that there is a balance bethween sensitivity and specificity with a good accuracy.\n",
    "\n",
    "Here we are intended to acheive better sensitivity than accuracy and specificity. Though as per the above curve, we should take 0.55 as the optimum probability cutoff, we are taking 0.55 for acheiving higher sensitivity, which is our main goal."
   ]
  },
  {
   "cell_type": "code",
   "execution_count": null,
   "id": "cd15429c",
   "metadata": {},
   "outputs": [],
   "source": []
  },
  {
   "cell_type": "code",
   "execution_count": 176,
   "id": "dd533d8b",
   "metadata": {},
   "outputs": [
    {
     "data": {
      "text/html": [
       "<div>\n",
       "<style scoped>\n",
       "    .dataframe tbody tr th:only-of-type {\n",
       "        vertical-align: middle;\n",
       "    }\n",
       "\n",
       "    .dataframe tbody tr th {\n",
       "        vertical-align: top;\n",
       "    }\n",
       "\n",
       "    .dataframe thead th {\n",
       "        text-align: right;\n",
       "    }\n",
       "</style>\n",
       "<table border=\"1\" class=\"dataframe\">\n",
       "  <thead>\n",
       "    <tr style=\"text-align: right;\">\n",
       "      <th></th>\n",
       "      <th>churn</th>\n",
       "      <th>churn_prob</th>\n",
       "      <th>CustID</th>\n",
       "      <th>0.0</th>\n",
       "      <th>0.1</th>\n",
       "      <th>0.2</th>\n",
       "      <th>0.3</th>\n",
       "      <th>0.4</th>\n",
       "      <th>0.5</th>\n",
       "      <th>0.6</th>\n",
       "      <th>0.7</th>\n",
       "      <th>0.8</th>\n",
       "      <th>0.9</th>\n",
       "      <th>predicted</th>\n",
       "    </tr>\n",
       "  </thead>\n",
       "  <tbody>\n",
       "    <tr>\n",
       "      <th>0</th>\n",
       "      <td>0</td>\n",
       "      <td>0.464740</td>\n",
       "      <td>0</td>\n",
       "      <td>1</td>\n",
       "      <td>1</td>\n",
       "      <td>1</td>\n",
       "      <td>1</td>\n",
       "      <td>1</td>\n",
       "      <td>0</td>\n",
       "      <td>0</td>\n",
       "      <td>0</td>\n",
       "      <td>0</td>\n",
       "      <td>0</td>\n",
       "      <td>0</td>\n",
       "    </tr>\n",
       "    <tr>\n",
       "      <th>1</th>\n",
       "      <td>0</td>\n",
       "      <td>0.065458</td>\n",
       "      <td>1</td>\n",
       "      <td>1</td>\n",
       "      <td>0</td>\n",
       "      <td>0</td>\n",
       "      <td>0</td>\n",
       "      <td>0</td>\n",
       "      <td>0</td>\n",
       "      <td>0</td>\n",
       "      <td>0</td>\n",
       "      <td>0</td>\n",
       "      <td>0</td>\n",
       "      <td>0</td>\n",
       "    </tr>\n",
       "    <tr>\n",
       "      <th>2</th>\n",
       "      <td>0</td>\n",
       "      <td>0.165532</td>\n",
       "      <td>2</td>\n",
       "      <td>1</td>\n",
       "      <td>1</td>\n",
       "      <td>0</td>\n",
       "      <td>0</td>\n",
       "      <td>0</td>\n",
       "      <td>0</td>\n",
       "      <td>0</td>\n",
       "      <td>0</td>\n",
       "      <td>0</td>\n",
       "      <td>0</td>\n",
       "      <td>0</td>\n",
       "    </tr>\n",
       "    <tr>\n",
       "      <th>3</th>\n",
       "      <td>0</td>\n",
       "      <td>0.726868</td>\n",
       "      <td>3</td>\n",
       "      <td>1</td>\n",
       "      <td>1</td>\n",
       "      <td>1</td>\n",
       "      <td>1</td>\n",
       "      <td>1</td>\n",
       "      <td>1</td>\n",
       "      <td>1</td>\n",
       "      <td>1</td>\n",
       "      <td>0</td>\n",
       "      <td>0</td>\n",
       "      <td>1</td>\n",
       "    </tr>\n",
       "    <tr>\n",
       "      <th>4</th>\n",
       "      <td>0</td>\n",
       "      <td>0.000027</td>\n",
       "      <td>4</td>\n",
       "      <td>1</td>\n",
       "      <td>0</td>\n",
       "      <td>0</td>\n",
       "      <td>0</td>\n",
       "      <td>0</td>\n",
       "      <td>0</td>\n",
       "      <td>0</td>\n",
       "      <td>0</td>\n",
       "      <td>0</td>\n",
       "      <td>0</td>\n",
       "      <td>0</td>\n",
       "    </tr>\n",
       "  </tbody>\n",
       "</table>\n",
       "</div>"
      ],
      "text/plain": [
       "   churn  churn_prob  CustID  0.0  0.1  0.2  0.3  0.4  0.5  0.6  0.7  0.8  \\\n",
       "0      0    0.464740       0    1    1    1    1    1    0    0    0    0   \n",
       "1      0    0.065458       1    1    0    0    0    0    0    0    0    0   \n",
       "2      0    0.165532       2    1    1    0    0    0    0    0    0    0   \n",
       "3      0    0.726868       3    1    1    1    1    1    1    1    1    0   \n",
       "4      0    0.000027       4    1    0    0    0    0    0    0    0    0   \n",
       "\n",
       "   0.9  predicted  \n",
       "0    0          0  \n",
       "1    0          0  \n",
       "2    0          0  \n",
       "3    0          1  \n",
       "4    0          0  "
      ]
     },
     "execution_count": 176,
     "metadata": {},
     "output_type": "execute_result"
    }
   ],
   "source": [
    "# Creating a column with name \"predicted\", which is the predicted value for 0.5 cutoff \n",
    "y_train_pred_final['predicted'] = y_train_pred_final['churn_prob'].map(lambda x: 1 if x > 0.55 else 0)\n",
    "y_train_pred_final.head()"
   ]
  },
  {
   "cell_type": "markdown",
   "id": "693d3f41",
   "metadata": {},
   "source": [
    "#### model evaluation : Metrics"
   ]
  },
  {
   "cell_type": "code",
   "execution_count": 177,
   "id": "46bc132e",
   "metadata": {},
   "outputs": [
    {
     "name": "stdout",
     "output_type": "stream",
     "text": [
      "[[15516  2816]\n",
      " [ 2137 16195]]\n"
     ]
    }
   ],
   "source": [
    "# Confusion metrics\n",
    "confusion = metrics.confusion_matrix(y_train_pred_final['churn'], y_train_pred_final['predicted'])\n",
    "print(confusion)"
   ]
  },
  {
   "cell_type": "code",
   "execution_count": 178,
   "id": "179c27ac",
   "metadata": {},
   "outputs": [],
   "source": [
    "TP = confusion[1,1] # true positive \n",
    "TN = confusion[0,0] # true negatives\n",
    "FP = confusion[0,1] # false positives\n",
    "FN = confusion[1,0] # false negatives"
   ]
  },
  {
   "cell_type": "code",
   "execution_count": 179,
   "id": "c33079de",
   "metadata": {},
   "outputs": [
    {
     "name": "stdout",
     "output_type": "stream",
     "text": [
      "Accuracy:- 0.8649083569714161\n",
      "Sensitivity:- 0.883427885664412\n",
      "Specificity:- 0.8463888282784202\n"
     ]
    }
   ],
   "source": [
    "# Accuracy\n",
    "print(\"Accuracy:-\",metrics.accuracy_score(y_train_pred_final['churn'], y_train_pred_final['predicted']))\n",
    "\n",
    "# Sensitivity\n",
    "print(\"Sensitivity:-\",TP / float(TP+FN))\n",
    "\n",
    "# Specificity\n",
    "print(\"Specificity:-\", TN / float(TN+FP))"
   ]
  },
  {
   "cell_type": "markdown",
   "id": "22da81ff",
   "metadata": {},
   "source": [
    "#### ROC  curve"
   ]
  },
  {
   "cell_type": "code",
   "execution_count": 182,
   "id": "f00f0bab",
   "metadata": {},
   "outputs": [],
   "source": [
    "# ROC Curve function\n",
    "\n",
    "def draw_roc( actual, probs ):\n",
    "    fpr, tpr, thresholds = metrics.roc_curve( actual, probs,\n",
    "                                              drop_intermediate = False )\n",
    "    print(f\"threshold: {list(thresholds)}\")\n",
    "    auc_score = metrics.roc_auc_score( actual, probs )\n",
    "    plt.figure(figsize=(5, 5))\n",
    "    plt.plot( fpr, tpr, label='ROC curve (area = %0.2f)' % auc_score)\n",
    "    plt.plot([0, 1], [0, 1], 'k--')\n",
    "    plt.xlim([0.0, 1.0])\n",
    "    plt.ylim([0.0, 1.05])\n",
    "    plt.xlabel('False Positive Rate or [1 - True Negative Rate]')\n",
    "    plt.ylabel('True Positive Rate')\n",
    "    plt.title('Receiver operating characteristic example')\n",
    "    plt.legend(loc=\"lower right\")\n",
    "    plt.show()\n",
    "\n",
    "    return None"
   ]
  },
  {
   "cell_type": "code",
   "execution_count": 183,
   "id": "f6ddf85d",
   "metadata": {},
   "outputs": [
    {
     "name": "stdout",
     "output_type": "stream",
     "text": [
      "threshold: [1.99999996e+000 9.99999962e-001 9.99998244e-001 ... 4.77304750e-047\n",
      " 3.79751343e-058 1.52273603e-101]\n"
     ]
    },
    {
     "data": {
      "image/png": "[encoded data removed]",
      "text/plain": [
       "<Figure size 500x500 with 1 Axes>"
      ]
     },
     "metadata": {},
     "output_type": "display_data"
    }
   ],
   "source": [
    "draw_roc(y_train_pred_final['churn'], y_train_pred_final['churn_prob'])"
   ]
  },
  {
   "cell_type": "markdown",
   "id": "518d5ea4",
   "metadata": {},
   "source": [
    "#### Testing the model on the test set"
   ]
  },
  {
   "cell_type": "code",
   "execution_count": null,
   "id": "522017fd",
   "metadata": {},
   "outputs": [],
   "source": [
    "# Taking a copy of the test set\n",
    "X_test_log = X_test.copy()"
   ]
  },
  {
   "cell_type": "code",
   "execution_count": null,
   "id": "42249810",
   "metadata": {},
   "outputs": [],
   "source": [
    "# Taking only the columns, which are selected in the train set after removing insignificant and multicollinear variables\n",
    "X_test_log = X_test_log[log_cols]"
   ]
  },
  {
   "cell_type": "code",
   "execution_count": null,
   "id": "28d5763e",
   "metadata": {},
   "outputs": [],
   "source": [
    "# Adding constant on the test set\n",
    "X_test_sm = sm.add_constant(X_test_log)"
   ]
  },
  {
   "cell_type": "markdown",
   "id": "de32bbf6",
   "metadata": {},
   "source": [
    "#### Predictions on the test set with final model"
   ]
  },
  {
   "cell_type": "code",
   "execution_count": null,
   "id": "5d4e9594",
   "metadata": {},
   "outputs": [],
   "source": [
    "# Predict on the test set\n",
    "y_test_pred = log_no_pca_3.predict(X_test_sm)"
   ]
  },
  {
   "cell_type": "code",
   "execution_count": null,
   "id": "7045083a",
   "metadata": {},
   "outputs": [],
   "source": [
    "y_test_pred.head()"
   ]
  },
  {
   "cell_type": "code",
   "execution_count": null,
   "id": "557c8e2b",
   "metadata": {},
   "outputs": [],
   "source": [
    "# Converting y_test_pred to a dataframe because y_test_pred is an array\n",
    "y_pred_1 = pd.DataFrame(y_test_pred)\n",
    "y_pred_1.head()"
   ]
  },
  {
   "cell_type": "code",
   "execution_count": null,
   "id": "9644ca85",
   "metadata": {},
   "outputs": [],
   "source": [
    "# Convetting y_test to a dataframe\n",
    "y_test_df = pd.DataFrame(y_test)\n",
    "y_test_df.head()"
   ]
  },
  {
   "cell_type": "code",
   "execution_count": null,
   "id": "1a9874c0",
   "metadata": {},
   "outputs": [],
   "source": [
    "# Putting index to Customer ID \n",
    "y_test_df['CustID'] = y_test_df.index"
   ]
  },
  {
   "cell_type": "code",
   "execution_count": null,
   "id": "31d985a6",
   "metadata": {},
   "outputs": [],
   "source": [
    "# Removing index form the both dataframes for merging them side by side\n",
    "y_pred_1.reset_index(drop=True, inplace=True)\n",
    "y_test_df.reset_index(drop=True, inplace=True)"
   ]
  },
  {
   "cell_type": "code",
   "execution_count": null,
   "id": "9d6c4bca",
   "metadata": {},
   "outputs": [],
   "source": [
    "# Appending y_pred_1 and y_test_df\n",
    "y_test_pred_final = pd.concat([y_test_df, y_pred_1], axis=1)"
   ]
  },
  {
   "cell_type": "code",
   "execution_count": null,
   "id": "fc051fc0",
   "metadata": {},
   "outputs": [],
   "source": [
    "y_test_pred_final.head()"
   ]
  },
  {
   "cell_type": "code",
   "execution_count": null,
   "id": "4a102be3",
   "metadata": {},
   "outputs": [],
   "source": [
    "# Renaming the '0' column as churn probablity\n",
    "y_test_pred_final = y_test_pred_final.rename(columns={0:'churn_prob'})"
   ]
  },
  {
   "cell_type": "code",
   "execution_count": null,
   "id": "9958a27e",
   "metadata": {},
   "outputs": [],
   "source": [
    "# Rearranging the columns\n",
    "y_test_pred_final = y_test_pred_final.reindex(['CustID','churn','churn_prob'], axis=1)"
   ]
  },
  {
   "cell_type": "code",
   "execution_count": null,
   "id": "f74e29b9",
   "metadata": {},
   "outputs": [],
   "source": [
    "y_test_pred_final.head()"
   ]
  },
  {
   "cell_type": "code",
   "execution_count": null,
   "id": "28dd770a",
   "metadata": {},
   "outputs": [],
   "source": [
    "# In the test set using probablity cutoff 0.5, what we got in the train set \n",
    "y_test_pred_final['test_predicted'] = y_test_pred_final['churn_prob'].map(lambda x: 1 if x > 0.5 else 0)"
   ]
  },
  {
   "cell_type": "code",
   "execution_count": null,
   "id": "357edd04",
   "metadata": {},
   "outputs": [],
   "source": [
    "y_test_pred_final.head()"
   ]
  },
  {
   "cell_type": "markdown",
   "id": "d8d1bfee",
   "metadata": {},
   "source": [
    "### Metrics"
   ]
  },
  {
   "cell_type": "code",
   "execution_count": null,
   "id": "ee1799c2",
   "metadata": {},
   "outputs": [],
   "source": [
    "# Confusion matrix\n",
    "confusion = metrics.confusion_matrix(y_test_pred_final['churn'], y_test_pred_final['test_predicted'])\n",
    "print(confusion)\n",
    "\n",
    "TP = confusion[1,1] # true positive \n",
    "TN = confusion[0,0] # true negatives\n",
    "FP = confusion[0,1] # false positives\n",
    "FN = confusion[1,0] # false negatives"
   ]
  },
  {
   "cell_type": "code",
   "execution_count": null,
   "id": "2987c14d",
   "metadata": {},
   "outputs": [],
   "source": [
    "# Accuracy\n",
    "print(\"Accuracy:-\",metrics.accuracy_score(y_test_pred_final['churn'], y_test_pred_final['test_predicted']))\n",
    "\n",
    "# Sensitivity\n",
    "print(\"Sensitivity:-\",TP / float(TP+FN))\n",
    "\n",
    "# Specificity\n",
    "print(\"Specificity:-\", TN / float(TN+FP))"
   ]
  },
  {
   "cell_type": "markdown",
   "id": "c6c1e192",
   "metadata": {},
   "source": [
    "#### Model summary\n",
    "\n",
    "    Train set\n",
    "        Accuracy = 0.86\n",
    "        Sensitivity = 0.88\n",
    "        Specificity = 0.85\n",
    "    Test set\n",
    "        Accuracy = 0.82\n",
    "        Sensitivity = 0.77\n",
    "        Specificity = 0.82"
   ]
  },
  {
   "cell_type": "markdown",
   "id": "b22b700e",
   "metadata": {},
   "source": [
    "#### Overall, the model is performing well in the test set, what it had learnt from the train set.\n"
   ]
  },
  {
   "cell_type": "markdown",
   "id": "525f271d",
   "metadata": {},
   "source": [
    "#### Final conclusion with no PCA\n",
    "\n",
    "We can see that the logistic model with no PCA has good Sensitivity, Specificity and accuracy, which are comparable to the models with PCA. So, we can go for the more simplistic model such as logistic regression with PCA as it expliains the important predictor variables as well as the significance of each variable. The model also helps us to identify the variables which should be act upon for making the decision of the to be churned customers. Hence, the model is more relevant in terms of explaining to the business.\n"
   ]
  },
  {
   "cell_type": "markdown",
   "id": "07f6d041",
   "metadata": {},
   "source": [
    "#### prectior coef\n",
    "total_ic_mou_8\t-2.2416<br>\n",
    "ic_others_8\t-1.7616<br>\n",
    "std_og_mou_6\t1.0115<br>\n",
    "total_og_mou_8\t-1.1252<br>\n",
    "monthly_2g_8\t-1.0882<br>\n",
    "monthly_3g_8\t-1.3405<br>"
   ]
  },
  {
   "cell_type": "markdown",
   "id": "34ba5586",
   "metadata": {},
   "source": [
    "We can see most of the top variables have negative coefficients. That means, the variables are inversely correlated with the churn probablity.\n",
    "\n",
    "E.g.:-\n",
    "\n",
    "If the total incoming minutes of usage (total_ic_mou_8) is lesser in the month of August than any other month, then there is a higher chance that the customer is likely to churn."
   ]
  },
  {
   "cell_type": "code",
   "execution_count": null,
   "id": "777159c5",
   "metadata": {},
   "outputs": [],
   "source": [
    "# Plotting loc_ic_mou_8 predictor for churn and not churn customers\n",
    "fig = plt.figure(figsize=(10,6))\n",
    "sns.distplot(data_churn['total_ic_mou_8'],label='churn',hist=False)\n",
    "sns.distplot(data_non_churn['total_ic_mou_8'],label='not churn',hist=False)\n",
    "plt.show()"
   ]
  },
  {
   "cell_type": "markdown",
   "id": "607be836",
   "metadata": {},
   "source": [
    "#### We can see that for the churn customers the minutes of usage for the month of August is mostly populated on the lower side than the non churn customers."
   ]
  },
  {
   "cell_type": "code",
   "execution_count": null,
   "id": "3b62f72a",
   "metadata": {},
   "outputs": [],
   "source": [
    "# Plotting isd_og_mou_8 predictor for churn and not churn customers\n",
    "fig = plt.figure(figsize=(10,6))\n",
    "sns.distplot(data_churn['ic_others_8'],label='churn',hist=False)\n",
    "sns.distplot(data_non_churn['ic_others_8'],label='not churn',hist=False)\n",
    "plt.show()"
   ]
  },
  {
   "cell_type": "markdown",
   "id": "86599ca1",
   "metadata": {},
   "source": [
    "#### We can see that the incoming others minutes of usage for the month of August for churn customers is densed approximately to zero. On the onther hand for the non churn customers it is more than the churn customers."
   ]
  },
  {
   "cell_type": "code",
   "execution_count": null,
   "id": "c022ad63",
   "metadata": {},
   "outputs": [],
   "source": [
    "# Plotting monthly_3g_8 predictor for churn and not churn customers\n",
    "fig = plt.figure(figsize=(10,6))\n",
    "sns.distplot(data_churn['monthly_3g_8'],label='churn',hist=False)\n",
    "sns.distplot(data_non_churn['monthly_3g_8'],label='not churn',hist=False)\n",
    "plt.show()"
   ]
  },
  {
   "cell_type": "markdown",
   "id": "3f2a5b96",
   "metadata": {},
   "source": [
    "#### The number of mothly 3g data for August for the churn customers are very much populated aroud 1, whereas of non churn customers it spreaded accross various numbers.\n",
    "\n",
    "Similarly we can plot each variables, which have higher coefficients, churn distribution."
   ]
  },
  {
   "cell_type": "markdown",
   "id": "6e8c7ad2",
   "metadata": {},
   "source": [
    "#### Recomendations\n",
    "\n",
    "1.Target the customers, whose minutes of usage of the total incoming calls and incoming others calls are less in the action phase (mostly in the month of August).\n",
    "\n",
    "2.The customers having value based cost in the action phase increased are more likely to churn than the other customers. Hence, these customers may be a good target to provide offer. Customers, whose monthly 3G recharge in August is more, are likely to be churned.\n",
    "\n",
    "3.Customers having decreasing STD outgoing minutes of usage for operators T to fixed lines of T for the month of August are more likely to churn.\n",
    "\n",
    "4.Cutomers decreasing monthly 2g usage for August are most probable to churn.\n"
   ]
  },
  {
   "cell_type": "code",
   "execution_count": null,
   "id": "5556bb09",
   "metadata": {},
   "outputs": [],
   "source": []
  }
 ],
 "metadata": {
  "kernelspec": {
   "display_name": "Python 3 (ipykernel)",
   "language": "python",
   "name": "python3"
  },
  "language_info": {
   "codemirror_mode": {
    "name": "ipython",
    "version": 3
   },
   "file_extension": ".py",
   "mimetype": "text/x-python",
   "name": "python",
   "nbconvert_exporter": "python",
   "pygments_lexer": "ipython3",
   "version": "3.9.13"
  }
 },
 "nbformat": 4,
 "nbformat_minor": 5
}
