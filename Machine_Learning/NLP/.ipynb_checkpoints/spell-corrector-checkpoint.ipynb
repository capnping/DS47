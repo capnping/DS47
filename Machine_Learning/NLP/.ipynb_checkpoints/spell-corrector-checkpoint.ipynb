{
 "cells": [
  {
   "cell_type": "code",
   "execution_count": 1,
   "metadata": {},
   "outputs": [],
   "source": [
    "import re\n",
    "from collections import Counter"
   ]
  },
  {
   "cell_type": "code",
   "execution_count": 2,
   "metadata": {},
   "outputs": [],
   "source": [
    "# function to tokenise words\n",
    "def words(document):\n",
    "    \"Convert text to lower case and tokenise the document\"\n",
    "    return re.findall(r'\\w+', document.lower())"
   ]
  },
  {
   "cell_type": "code",
   "execution_count": 4,
   "metadata": {},
   "outputs": [],
   "source": [
    "# create a frequency table of all the words of the document\n",
    "all_words = Counter(words(open('spell_corrector.txt').read()))"
   ]
  },
  {
   "cell_type": "code",
   "execution_count": null,
   "metadata": {},
   "outputs": [],
   "source": [
    "# check frequency of a random word, say, 'chair'\n",
    "all_words['chair']"
   ]
  },
  {
   "cell_type": "code",
   "execution_count": null,
   "metadata": {},
   "outputs": [],
   "source": [
    "# look at top 10 frequent words\n",
    "all_words.most_common(10)"
   ]
  },
  {
   "cell_type": "code",
   "execution_count": 6,
   "metadata": {},
   "outputs": [],
   "source": [
    "def edits_one(word):\n",
    "    \"Create all edits that are one edit away from `word`.\"\n",
    "    alphabets    = 'abcdefghijklmnopqrstuvwxyz'\n",
    "    splits     = [(word[:i], word[i:])                   for i in range(len(word) + 1)]\n",
    "    deletes    = [left + right[1:]                       for left, right in splits if right]\n",
    "    inserts    = [left + c + right                       for left, right in splits for c in alphabets]\n",
    "    replaces   = [left + c + right[1:]                   for left, right in splits if right for c in alphabets]\n",
    "    transposes = [left + right[1] + right[0] + right[2:] for left, right in splits if len(right)>1]\n",
    "    return set(deletes + inserts + replaces + transposes)"
   ]
  },
  {
   "cell_type": "code",
   "execution_count": 7,
   "metadata": {},
   "outputs": [],
   "source": [
    "def edits_two(word):\n",
    "    \"Create all edits that are two edits away from `word`.\"\n",
    "    return (e2 for e1 in edits_one(word) for e2 in edits_one(e1))"
   ]
  },
  {
   "cell_type": "code",
   "execution_count": 8,
   "metadata": {},
   "outputs": [],
   "source": [
    "def known(words):\n",
    "    \"The subset of `words` that appear in the `all_words`.\"\n",
    "    return set(word for word in words if word in all_words)"
   ]
  },
  {
   "cell_type": "code",
   "execution_count": 9,
   "metadata": {},
   "outputs": [],
   "source": [
    "def possible_corrections(word):\n",
    "    \"Generate possible spelling corrections for word.\"\n",
    "    return (known([word]) or known(edits_one(word)) or known(edits_two(word)) or [word])"
   ]
  },
  {
   "cell_type": "code",
   "execution_count": 10,
   "metadata": {},
   "outputs": [],
   "source": [
    "def prob(word, N=sum(all_words.values())): \n",
    "    \"Probability of `word`: Number of appearances of 'word' / total number of tokens\"\n",
    "    return all_words[word] / N"
   ]
  },
  {
   "cell_type": "code",
   "execution_count": 11,
   "metadata": {},
   "outputs": [
    {
     "name": "stdout",
     "output_type": "stream",
     "text": [
      "336\n",
      "{'dmonney', 'mxonney', 'vonney', 'monnpey', 'monpney', 'amonney', 'monndey', 'qmonney', 'mosney', 'monnevy', 'fmonney', 'bmonney', 'mounney', 'monqey', 'monuey', 'mznney', 'mozney', 'mowney', 'moxney', 'monnesy', 'monnery', 'oonney', 'smonney', 'moneey', 'mondney', 'mmnney', 'monrney', 'molnney', 'mosnney', 'movnney', 'monyey', 'monneyl', 'umonney', 'monneay', 'monnky', 'mojnney', 'movney', 'mhonney', 'monmney', 'gonney', 'monnjy', 'monneiy', 'monzey', 'myonney', 'munney', 'molney', 'onney', 'monyney', 'mfnney', 'monjney', 'monneyq', 'mkonney', 'msonney', 'monrey', 'jonney', 'monnes', 'monnly', 'wmonney', 'pmonney', 'monsney', 'monnny', 'moanney', 'xmonney', 'monneyp', 'monnmy', 'monneys', 'mongey', 'tmonney', 'lonney', 'monnye', 'moneny', 'monnen', 'mconney', 'uonney', 'monhey', 'monnety', 'mionney', 'monnedy', 'moznney', 'mtnney', 'qonney', 'mqnney', 'monnley', 'monnev', 'monvney', 'mwnney', 'mxnney', 'monnyey', 'monneyv', 'monntey', 'monngey', 'monneyf', 'monvey', 'mobney', 'moniney', 'monneyi', 'mnney', 'mokney', 'monndy', 'hmonney', 'monnsey', 'mnoney', 'monneye', 'monnegy', 'monhney', 'monnhey', 'mofnney', 'yonney', 'monmey', 'monnejy', 'ionney', 'monnely', 'honney', 'nonney', 'monneyd', 'monaey', 'monbey', 'mlnney', 'moyney', 'momnney', 'moeney', 'monneyu', 'monnezy', 'zonney', 'mronney', 'monxey', 'imonney', 'monnrey', 'konney', 'ponney', 'mvonney', 'mbnney', 'monnew', 'zmonney', 'monfey', 'monnwey', 'monnexy', 'mhnney', 'montey', 'rmonney', 'monnoey', 'sonney', 'tonney', 'monneyc', 'monnay', 'mcnney', 'monnecy', 'monsey', 'monneyx', 'monnemy', 'moynney', 'motney', 'mmonney', 'monbney', 'moncey', 'monneym', 'monneyz', 'monuney', 'mjnney', 'mognney', 'monnefy', 'money', 'mjonney', 'monnsy', 'mzonney', 'moaney', 'monnex', 'mdonney', 'mohnney', 'bonney', 'modnney', 'monneyb', 'monnee', 'monnney', 'mgnney', 'mqonney', 'motnney', 'monzney', 'monnmey', 'monny', 'monneyj', 'mooney', 'monneg', 'omonney', 'moknney', 'muonney', 'minney', 'monneoy', 'monniey', 'monneny', 'monnvy', 'monnoy', 'mpnney', 'mknney', 'monneqy', 'montney', 'monnei', 'monnzy', 'momney', 'jmonney', 'monwney', 'monneq', 'monnwy', 'monnel', 'monngy', 'xonney', 'mtonney', 'mojney', 'mgonney', 'monnea', 'maonney', 'mnnney', 'ronney', 'monnep', 'monnec', 'monneyg', 'moneney', 'mohney', 'gmonney', 'monneyy', 'mlonney', 'moniey', 'monniy', 'mogney', 'monneyo', 'mnonney', 'msnney', 'monned', 'monneh', 'monnuy', 'moenney', 'monneyn', 'moqney', 'mondey', 'monnek', 'mongney', 'eonney', 'monnxey', 'aonney', 'moinney', 'conney', 'mwonney', 'cmonney', 'monneya', 'monneyt', 'lmonney', 'monoey', 'monkey', 'monnfey', 'monney', 'morney', 'monnkey', 'mononey', 'monkney', 'mocney', 'fonney', 'monncy', 'monxney', 'monncey', 'kmonney', 'emonney', 'mponney', 'donney', 'wonney', 'mouney', 'monnpy', 'monqney', 'monneey', 'monnewy', 'monner', 'omnney', 'moonney', 'monnzey', 'mopney', 'monlney', 'mornney', 'monnaey', 'monnej', 'mynney', 'monnqy', 'moxnney', 'monnjey', 'vmonney', 'monnem', 'monnehy', 'monneu', 'mownney', 'monne', 'monnry', 'moncney', 'monnfy', 'monnxy', 'monnty', 'monnef', 'mdnney', 'manney', 'monnhy', 'mfonney', 'monnet', 'monneyr', 'monnyy', 'monneyh', 'mvnney', 'mocnney', 'monneyk', 'monnby', 'moqnney', 'mobnney', 'monley', 'monneuy', 'nmonney', 'monpey', 'meonney', 'mopnney', 'monnqey', 'monneky', 'moiney', 'monnuey', 'monnbey', 'monneyw', 'monaney', 'menney', 'monneby', 'monnepy', 'monnvey', 'ymonney', 'monjey', 'modney', 'monneb', 'monwey', 'monnez', 'monfney', 'mrnney', 'mbonney', 'monneo', 'mofney'}\n"
     ]
    }
   ],
   "source": [
    "print(len(set(edits_one(\"monney\"))))\n",
    "print(edits_one(\"monney\"))"
   ]
  },
  {
   "cell_type": "code",
   "execution_count": null,
   "metadata": {},
   "outputs": [],
   "source": [
    "print(known(edits_one(\"monney\")))"
   ]
  },
  {
   "cell_type": "code",
   "execution_count": null,
   "metadata": {},
   "outputs": [],
   "source": []
  },
  {
   "cell_type": "code",
   "execution_count": null,
   "metadata": {},
   "outputs": [],
   "source": [
    "# Let's look at words that are two edits away\n",
    "print(len(set(edits_two(\"monney\"))))\n",
    "print(known(edits_one(\"monney\")))"
   ]
  },
  {
   "cell_type": "code",
   "execution_count": null,
   "metadata": {},
   "outputs": [],
   "source": [
    "# Let's look at possible corrections of a word\n",
    "print(possible_corrections(\"monney\"))"
   ]
  },
  {
   "cell_type": "code",
   "execution_count": null,
   "metadata": {},
   "outputs": [],
   "source": [
    "# Let's look at probability of a word\n",
    "print(prob(\"money\"))\n",
    "print(prob(\"monkey\"))"
   ]
  },
  {
   "cell_type": "code",
   "execution_count": null,
   "metadata": {},
   "outputs": [],
   "source": [
    "def spell_check(word):\n",
    "    \"Print the most probable spelling correction for `word` out of all the `possible_corrections`\"\n",
    "    correct_word = max(possible_corrections(word), key=prob)\n",
    "    if correct_word != word:\n",
    "        return \"Did you mean \" + correct_word + \"?\"\n",
    "    else:\n",
    "        return \"Correct spelling.\""
   ]
  },
  {
   "cell_type": "code",
   "execution_count": null,
   "metadata": {},
   "outputs": [],
   "source": [
    "# test spell check\n",
    "print(spell_check(\"monney\"))"
   ]
  }
 ],
 "metadata": {
  "kernelspec": {
   "display_name": "Python 3 (ipykernel)",
   "language": "python",
   "name": "python3"
  },
  "language_info": {
   "codemirror_mode": {
    "name": "ipython",
    "version": 3
   },
   "file_extension": ".py",
   "mimetype": "text/x-python",
   "name": "python",
   "nbconvert_exporter": "python",
   "pygments_lexer": "ipython3",
   "version": "3.9.13"
  }
 },
 "nbformat": 4,
 "nbformat_minor": 2
}
