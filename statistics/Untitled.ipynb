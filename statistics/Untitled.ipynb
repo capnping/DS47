{
 "cells": [
  {
   "cell_type": "code",
   "execution_count": 1,
   "id": "630f1700",
   "metadata": {},
   "outputs": [],
   "source": [
    "import pandas as pd"
   ]
  },
  {
   "cell_type": "code",
   "execution_count": 31,
   "id": "9fe70a26",
   "metadata": {},
   "outputs": [],
   "source": [
    "infer = pd.read_csv('Inferential Statistics - Student Loan.csv')"
   ]
  },
  {
   "cell_type": "code",
   "execution_count": 32,
   "id": "7e655ecd",
   "metadata": {},
   "outputs": [
    {
     "name": "stdout",
     "output_type": "stream",
     "text": [
      "<class 'pandas.core.frame.DataFrame'>\n",
      "RangeIndex: 10000 entries, 0 to 9999\n",
      "Data columns (total 6 columns):\n",
      " #   Column                             Non-Null Count  Dtype  \n",
      "---  ------                             --------------  -----  \n",
      " 0   Customer No.                       10000 non-null  int64  \n",
      " 1   Exposure at Default (in lakh Rs.)  10000 non-null  float64\n",
      " 2   Recovery (%)                       10000 non-null  object \n",
      " 3   Probability of Default             10000 non-null  float64\n",
      " 4   Unnamed: 4                         0 non-null      float64\n",
      " 5   Unnamed: 5                         0 non-null      float64\n",
      "dtypes: float64(4), int64(1), object(1)\n",
      "memory usage: 468.9+ KB\n"
     ]
    }
   ],
   "source": [
    "infer.info()"
   ]
  },
  {
   "cell_type": "code",
   "execution_count": 33,
   "id": "a79e2672",
   "metadata": {},
   "outputs": [],
   "source": [
    "infer['Recovery'] = infer['Recovery (%)'].apply(lambda x: float(x[:-1])/100)"
   ]
  },
  {
   "cell_type": "code",
   "execution_count": 35,
   "id": "758bfc7d",
   "metadata": {},
   "outputs": [
    {
     "data": {
      "text/plain": [
       "493.39131440620133"
      ]
     },
     "execution_count": 35,
     "metadata": {},
     "output_type": "execute_result"
    }
   ],
   "source": [
    "sum((infer['Exposure at Default (in lakh Rs.)'] - infer['Exposure at Default (in lakh Rs.)'] * infer['Recovery']) *infer['Probability of Default'])"
   ]
  },
  {
   "cell_type": "code",
   "execution_count": 2,
   "id": "3b4af46e",
   "metadata": {},
   "outputs": [],
   "source": [
    "ug_sample = pd.read_csv(\"Inferntial Statistics - UpGrad Samples.csv\")"
   ]
  },
  {
   "cell_type": "code",
   "execution_count": 4,
   "id": "0986d700",
   "metadata": {},
   "outputs": [
    {
     "data": {
      "text/plain": [
       "2.3480000000000003"
      ]
     },
     "execution_count": 4,
     "metadata": {},
     "output_type": "execute_result"
    }
   ],
   "source": [
    "ug_sample['Sample Mean'].mean()"
   ]
  },
  {
   "cell_type": "code",
   "execution_count": 5,
   "id": "5c4b0890",
   "metadata": {},
   "outputs": [
    {
     "data": {
      "text/plain": [
       "0.42698851497340273"
      ]
     },
     "execution_count": 5,
     "metadata": {},
     "output_type": "execute_result"
    }
   ],
   "source": [
    "ug_sample['Sample Mean'].std()"
   ]
  },
  {
   "cell_type": "code",
   "execution_count": 3,
   "id": "5db35a53",
   "metadata": {},
   "outputs": [],
   "source": [
    "hotstar = pd.read_excel('Hotstar+Data.xlsx')"
   ]
  },
  {
   "cell_type": "code",
   "execution_count": 8,
   "id": "93c82656",
   "metadata": {},
   "outputs": [
    {
     "data": {
      "text/plain": [
       "(121, 2)"
      ]
     },
     "execution_count": 8,
     "metadata": {},
     "output_type": "execute_result"
    }
   ],
   "source": [
    "hotstar.shape"
   ]
  },
  {
   "cell_type": "code",
   "execution_count": 5,
   "id": "abf5decc",
   "metadata": {},
   "outputs": [
    {
     "data": {
      "text/plain": [
       "Index(['Customer ID', 'Why did you purchase Hotstar Premium?'], dtype='object')"
      ]
     },
     "execution_count": 5,
     "metadata": {},
     "output_type": "execute_result"
    }
   ],
   "source": [
    "hotstar.columns"
   ]
  },
  {
   "cell_type": "code",
   "execution_count": 6,
   "id": "2fd9c40b",
   "metadata": {},
   "outputs": [
    {
     "data": {
      "text/plain": [
       "0.5206611570247934"
      ]
     },
     "execution_count": 6,
     "metadata": {},
     "output_type": "execute_result"
    }
   ],
   "source": [
    "hotstar['Why did you purchase Hotstar Premium?'].mean()"
   ]
  },
  {
   "cell_type": "code",
   "execution_count": 10,
   "id": "04d4ccd4",
   "metadata": {},
   "outputs": [
    {
     "data": {
      "text/plain": [
       "0.5016501695025959"
      ]
     },
     "execution_count": 10,
     "metadata": {},
     "output_type": "execute_result"
    }
   ],
   "source": [
    "hotstar['Why did you purchase Hotstar Premium?'].std(ddof=1)"
   ]
  },
  {
   "cell_type": "code",
   "execution_count": null,
   "id": "4bd6cc89",
   "metadata": {},
   "outputs": [],
   "source": []
  },
  {
   "cell_type": "code",
   "execution_count": null,
   "id": "6babd788",
   "metadata": {},
   "outputs": [],
   "source": []
  }
 ],
 "metadata": {
  "kernelspec": {
   "display_name": "Python 3 (ipykernel)",
   "language": "python",
   "name": "python3"
  },
  "language_info": {
   "codemirror_mode": {
    "name": "ipython",
    "version": 3
   },
   "file_extension": ".py",
   "mimetype": "text/x-python",
   "name": "python",
   "nbconvert_exporter": "python",
   "pygments_lexer": "ipython3",
   "version": "3.9.13"
  }
 },
 "nbformat": 4,
 "nbformat_minor": 5
}
