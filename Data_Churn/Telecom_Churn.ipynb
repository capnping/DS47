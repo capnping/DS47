{
 "cells": [
  {
   "cell_type": "markdown",
   "id": "729c2d80",
   "metadata": {},
   "source": [
    "You can take the following suggestive steps to build the model:\n",
    "\n",
    "    Preprocess data (convert columns to appropriate formats, handle missing values, etc.)\n",
    "\n",
    "    Conduct appropriate exploratory analysis to extract useful insights (whether directly useful for business or for eventual modelling/feature engineering).\n",
    "\n",
    "    Derive new features.\n",
    "\n",
    "    Reduce the number of variables using PCA.\n",
    "\n",
    "    Train a variety of models, tune model hyperparameters, etc. (handle class imbalance using appropriate techniques).\n",
    "\n",
    "    Evaluate the models using appropriate evaluation metrics. Note that it is more important to identify churners than the non-churners accurately - choose an appropriate evaluation metric which reflects this business goal.\n",
    "\n",
    "    Finally, choose a model based on some evaluation metric\n",
    "    \n",
    "    \n",
    "    \n",
    "    The above model will only be able to achieve one of the two goals - to predict customers who will churn. You can’t use the above model to identify the important features for churn. That’s because PCA usually creates components which are not easy to interpret.\n",
    "\n",
    " \n",
    "\n",
    "Therefore, build another model with the main objective of identifying important predictor attributes which help the business understand indicators of churn. A good choice to identify important variables is a logistic regression model or a model from the tree family. In case of logistic regression, make sure to handle multi-collinearity."
   ]
  },
  {
   "cell_type": "code",
   "execution_count": null,
   "id": "f2dc6434",
   "metadata": {},
   "outputs": [],
   "source": []
  }
 ],
 "metadata": {
  "kernelspec": {
   "display_name": "Python 3 (ipykernel)",
   "language": "python",
   "name": "python3"
  },
  "language_info": {
   "codemirror_mode": {
    "name": "ipython",
    "version": 3
   },
   "file_extension": ".py",
   "mimetype": "text/x-python",
   "name": "python",
   "nbconvert_exporter": "python",
   "pygments_lexer": "ipython3",
   "version": "3.9.13"
  }
 },
 "nbformat": 4,
 "nbformat_minor": 5
}
